{
 "cells": [
  {
   "cell_type": "code",
   "execution_count": 23,
   "id": "1d841128-719a-4d79-b52f-9625d060a7c5",
   "metadata": {},
   "outputs": [],
   "source": [
    "from pyspark.sql import SparkSession  # Spark SQL 작업을 위한 SparkSession 임포트\n",
    "from pyspark.sql.functions import  # Spark SQL 함수들 임포트 col, max, count, min, approx_count_distinct\n",
    "from pyspark.sql.types import  # Spark SQL 데이터 타입 임포트 StructType, StructField, StringType, IntegerType, DateType\n",
    "\n",
    "spark = (SparkSession.builder  # SparkSession 빌더 패턴 시작\n",
    "         .appName(\"perform-aagregations\")  # 애플리케이션 이름 설정\n",
    "         .master(\"spark://spark-master:7077\")  # Spark 마스터 URL 설정\n",
    "         .config(\"spark.executor.memory\", \"512m\")  # Spark 설정 옵션\n",
    "         .getOrCreate()  # SparkSession 생성 또는 기존 세션 반환)\n",
    "\n",
    "spark.sparkContext.setLogLevel(\"ERROR\")  # 로그 레벨을 ERROR로 설정"
   ]
  },
  {
   "cell_type": "code",
   "execution_count": 24,
   "id": "4490d08e-4226-43b8-85f9-811cfc3fa627",
   "metadata": {
    "tags": []
   },
   "outputs": [
    {
     "name": "stderr",
     "output_type": "stream",
     "text": [
      "                                                                                \r"
     ]
    }
   ],
   "source": [
    "df = (spark.read.format(\"csv\")  # CSV 형식으로 데이터 읽기\n",
    "      .option(\"header\", \"true\")  # 첫 번째 행을 헤더로 사용\n",
    "      .option(\"nullValue\", \"null\")\n",
    "      .option(\"dateFormat\",  # 날짜 형식 지정 \"LLLL d, y\")\n",
    "      .load(  # 파일 로드\"../data/netflix_titles.csv\"))"
   ]
  },
  {
   "cell_type": "code",
   "execution_count": 25,
   "id": "23e2f8fb-5ce0-49c5-a613-8552c089116d",
   "metadata": {
    "tags": []
   },
   "outputs": [],
   "source": [
    "# 그룹화 the data by a column\n",
    "grouped_df = df.groupBy(  # 그룹화\"country\")"
   ]
  },
  {
   "cell_type": "code",
   "execution_count": 26,
   "id": "18aa9485-5114-4d35-95f9-05c7a5bf02ab",
   "metadata": {
    "tags": []
   },
   "outputs": [
    {
     "name": "stderr",
     "output_type": "stream",
     "text": [
      "[Stage 1:>                                                          (0 + 1) / 1]\r"
     ]
    },
    {
     "name": "stdout",
     "output_type": "stream",
     "text": [
      "+--------------------+-----+\n",
      "|             country|count|\n",
      "+--------------------+-----+\n",
      "|Peru, United Stat...|    1|\n",
      "|India, United Kin...|    1|\n",
      "|Japan, Canada, Un...|    1|\n",
      "|United Kingdom, C...|    1|\n",
      "|      India, Germany|    2|\n",
      "|South Africa, Uni...|    1|\n",
      "|              Russia|   15|\n",
      "|United Kingdom, G...|    1|\n",
      "|Chile, United Sta...|    1|\n",
      "|South Africa, Angola|    1|\n",
      "|United States, Po...|    1|\n",
      "|  Philippines, Qatar|    1|\n",
      "|Hong Kong, China,...|    1|\n",
      "|  Germany, Sri Lanka|    1|\n",
      "|Denmark, France, ...|    1|\n",
      "|United States, Fr...|    1|\n",
      "|United Kingdom, N...|    2|\n",
      "|Australia, United...|    2|\n",
      "|Brazil, France, G...|    1|\n",
      "|United States, Ir...|    3|\n",
      "+--------------------+-----+\n",
      "only showing top 20 rows\n",
      "\n"
     ]
    },
    {
     "name": "stderr",
     "output_type": "stream",
     "text": [
      "                                                                                \r"
     ]
    }
   ],
   "source": [
    "# Count the number of rows in each group\n",
    "count_df = grouped_df.count()  # 행 개수 계산\n",
    "count_df.show()  # DataFrame 내용 출력"
   ]
  },
  {
   "cell_type": "code",
   "execution_count": 27,
   "id": "fdd37bdd-ec7f-462c-844a-bb041cbd208d",
   "metadata": {
    "tags": []
   },
   "outputs": [
    {
     "name": "stderr",
     "output_type": "stream",
     "text": [
      "[Stage 4:>                                                          (0 + 1) / 1]\r"
     ]
    },
    {
     "name": "stdout",
     "output_type": "stream",
     "text": [
      "+--------------------+--------------------+\n",
      "|             country|     max(date_added)|\n",
      "+--------------------+--------------------+\n",
      "|                null|   September 9, 2021|\n",
      "|     Ama K. Abebrese|  Kobina Amissah Sam|\n",
      "|         Aziz Ansari|         Carla Gallo|\n",
      "|            Chuck D.|     Desiree Densiti|\n",
      "|       Dominic Costa|        Nick Ferraro|\n",
      "|          Doug Plaut|    Cheyenne Jackson|\n",
      "|     Francesc Orella|        Imanol Arias|\n",
      "|  Henri-Noël Tabary\"|              France|\n",
      "|       James Toback\"|       United States|\n",
      "| Justin \"\"Alyssa ...|         Molly Ryman|\n",
      "|  Lachion Buckingham|       Chasity Moore|\n",
      "|  Leonardo Sbaraglia|     Francesc Orella|\n",
      "|   Michael Cavalieri|     Walton Goggins\"|\n",
      "| Remilekun \"\"Remi...| Charles  \"\"Charl...|\n",
      "|          Rob Morgan|     Shakira Barrera|\n",
      "|       Sophia Loren\"|       United States|\n",
      "|     Tantoo Cardinal|   Robert Pastorelli|\n",
      "|      Theo Campbell\"|       United States|\n",
      "| Tobechukwu \"\"iLL...|          Toni Tones|\n",
      "| plus Whitney Cum...|                null|\n",
      "+--------------------+--------------------+\n",
      "only showing top 20 rows\n",
      "\n"
     ]
    },
    {
     "name": "stderr",
     "output_type": "stream",
     "text": [
      "                                                                                \r"
     ]
    }
   ],
   "source": [
    "# 적용 custom aggregation using max\n",
    "max_release_df = grouped_df.agg(max(col(  # 컬럼 참조\"date_added\")))\n",
    "max_release_df.show()  # DataFrame 내용 출력"
   ]
  },
  {
   "cell_type": "code",
   "execution_count": 28,
   "id": "73ca2ae8-7fbb-4c8c-9ce3-4f3b0875439c",
   "metadata": {
    "tags": []
   },
   "outputs": [
    {
     "name": "stderr",
     "output_type": "stream",
     "text": [
      "[Stage 7:>                                                          (0 + 1) / 1]\r"
     ]
    },
    {
     "name": "stdout",
     "output_type": "stream",
     "text": [
      "+----------------+----------------+-------------------+-------------------+\n",
      "|         country|NumberOfReleases|    LastReleaseDate|   FirstReleaseDate|\n",
      "+----------------+----------------+-------------------+-------------------+\n",
      "|            null|             830|  September 9, 2021|  December 14, 2018|\n",
      "| Ama K. Abebrese|               1| Kobina Amissah Sam| Kobina Amissah Sam|\n",
      "|     Aziz Ansari|               1|        Carla Gallo|        Carla Gallo|\n",
      "+----------------+----------------+-------------------+-------------------+\n",
      "only showing top 3 rows\n",
      "\n"
     ]
    },
    {
     "name": "stderr",
     "output_type": "stream",
     "text": [
      "                                                                                \r"
     ]
    }
   ],
   "source": [
    "release_date_gouped_df = (\n",
    "    df.groupBy(  # 그룹화\"country\")\n",
    "    .agg(  # 집계 함수 적용\n",
    "        count(\"show_id\").alias(  # 컬럼 별칭 설정\"NumberOfReleases\")\n",
    "        ,max(\"date_added\").alias(  # 컬럼 별칭 설정\"LastReleaseDate\")\n",
    "        ,min(\"date_added\").alias(  # 컬럼 별칭 설정\"FirstReleaseDate\")))\n",
    "\n",
    "release_date_gouped_df.show(3)"
   ]
  },
  {
   "cell_type": "markdown",
   "id": "0555937b-89eb-460c-8382-99870978d8f5",
   "metadata": {},
   "source": [
    "### Pivot Tables"
   ]
  },
  {
   "cell_type": "code",
   "execution_count": 29,
   "id": "db65d376-bccd-40b4-ba18-cd1ecaa71962",
   "metadata": {
    "tags": []
   },
   "outputs": [
    {
     "name": "stdout",
     "output_type": "stream",
     "text": [
      "+--------------------+-----+-------+\n",
      "|             country|Movie|TV Show|\n",
      "+--------------------+-----+-------+\n",
      "|Peru, United Stat...|    1|   null|\n",
      "|United Kingdom, C...| null|      1|\n",
      "|India, United Kin...|    1|   null|\n",
      "|      India, Germany|    2|   null|\n",
      "|Japan, Canada, Un...| null|      1|\n",
      "|South Africa, Uni...|    1|   null|\n",
      "|              Russia|    1|     14|\n",
      "|United Kingdom, G...| null|      1|\n",
      "|Chile, United Sta...|    1|   null|\n",
      "|  Philippines, Qatar|    1|   null|\n",
      "|United States, Fr...| null|      1|\n",
      "|Hong Kong, China,...|    1|   null|\n",
      "|Denmark, France, ...|    1|   null|\n",
      "|South Africa, Angola|    1|   null|\n",
      "|United States, Po...| null|      1|\n",
      "|  Germany, Sri Lanka|    1|   null|\n",
      "|United Kingdom, N...|    2|   null|\n",
      "|Australia, United...|    2|   null|\n",
      "|United States, Ir...|    2|      1|\n",
      "|Brazil, France, G...|    1|   null|\n",
      "+--------------------+-----+-------+\n",
      "only showing top 20 rows\n",
      "\n"
     ]
    }
   ],
   "source": [
    "pivot_table = (df.groupBy(  # 그룹화\"country\").pivot(\"type\").agg(count(\"show_id\")))\n",
    "pivot_table.show()  # DataFrame 내용 출력"
   ]
  },
  {
   "cell_type": "markdown",
   "id": "20a1282f-3374-4d5e-9cab-91fe1b259eb8",
   "metadata": {},
   "source": [
    "### Approximate Aggregations"
   ]
  },
  {
   "cell_type": "code",
   "execution_count": 30,
   "id": "f65a03c4-5876-4de3-addc-c5d16387334e",
   "metadata": {
    "tags": []
   },
   "outputs": [],
   "source": [
    "# Define a Schema\n",
    "schema = StructType  # 구조체 타입([\n",
    "    StructField  # 구조체 필드(\"Id\", IntegerType(), True),\n",
    "    StructField  # 구조체 필드(\"ProductId\", StringType(), True),\n",
    "    StructField  # 구조체 필드(\"UserId\", StringType(), True),\n",
    "    StructField  # 구조체 필드(\"ProfileName\", StringType(), True),\n",
    "    StructField  # 구조체 필드(\"HelpfulnessNumerator\", StringType(), True),\n",
    "    StructField  # 구조체 필드(\"HelpfulnessDenominator\", StringType(), True),\n",
    "    StructField  # 구조체 필드(\"Score\", IntegerType(), True),\n",
    "    StructField  # 구조체 필드(\"Time\", StringType(), True),\n",
    "    StructField  # 구조체 필드(\"Summary\", StringType(), True),\n",
    "    StructField  # 구조체 필드(\"Text\", StringType(), True)])\n",
    "\n",
    "\n",
    "review_df = (spark.read.format(\"csv\")  # CSV 형식으로 데이터 읽기\n",
    "      .option(\"header\",True)\n",
    "      .schema(schema)\n",
    "      .load(  # 파일 로드\"../data/Reviews.csv\"))"
   ]
  },
  {
   "cell_type": "code",
   "execution_count": 31,
   "id": "b6f0c282-d37f-4e4f-b7e7-b71da7fa0bff",
   "metadata": {
    "tags": []
   },
   "outputs": [
    {
     "name": "stderr",
     "output_type": "stream",
     "text": [
      "                                                                                \r"
     ]
    },
    {
     "name": "stdout",
     "output_type": "stream",
     "text": [
      "Approximate Quantiles: [4.0, 5.0, 5.0]\n"
     ]
    }
   ],
   "source": [
    "# Approximate quantile calculation\n",
    "quantiles = review_df.approxQuantile(\"Score\", [0.25, 0.5, 0.75], 0.1)\n",
    "print(\"Approximate Quantiles:\", quantiles)"
   ]
  },
  {
   "cell_type": "code",
   "execution_count": 32,
   "id": "841b849e-c962-4256-9e1e-fd7e4843bd91",
   "metadata": {
    "tags": []
   },
   "outputs": [
    {
     "name": "stdout",
     "output_type": "stream",
     "text": [
      "+---------------------+\n",
      "|approx_distinct_count|\n",
      "+---------------------+\n",
      "|                 3780|\n",
      "+---------------------+\n",
      "\n"
     ]
    }
   ],
   "source": [
    "# Approximate distinct count calculation\n",
    "approx_distinct_count = review_df.select(  # 컬럼 선택approx_count_distinct(\"ProductId\", rsd=0.1).alias(\"approx_distinct_count\"))\n",
    "approx_distinct_count.show()  # DataFrame 내용 출력"
   ]
  },
  {
   "cell_type": "code",
   "execution_count": 33,
   "id": "24880ec4-56ea-49b8-8938-121a1f1efea5",
   "metadata": {
    "tags": []
   },
   "outputs": [],
   "source": [
    "spark.stop()  # Spark 세션 종료 - 리소스 정리"
   ]
  },
  {
   "cell_type": "code",
   "execution_count": null,
   "id": "eee24c0b-d098-40f1-a2c0-ca1ec49c8b94",
   "metadata": {},
   "outputs": [],
   "source": []
  }
 ],
 "metadata": {
  "kernelspec": {
   "display_name": "Python 3 (ipykernel)",
   "language": "python",
   "name": "python3"
  },
  "language_info": {
   "codemirror_mode": {
    "name": "ipython",
    "version": 3
   },
   "file_extension": ".py",
   "mimetype": "text/x-python",
   "name": "python",
   "nbconvert_exporter": "python",
   "pygments_lexer": "ipython3",
   "version": "3.10.12"
  }
 },
 "nbformat": 4,
 "nbformat_minor": 5
}