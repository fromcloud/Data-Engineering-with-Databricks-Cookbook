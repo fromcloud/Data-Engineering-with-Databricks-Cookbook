{
 "cells": [
  {
   "cell_type": "code",
   "execution_count": 1,
   "id": "1d841128-719a-4d79-b52f-9625d060a7c5",
   "metadata": {},
   "outputs": [
    {
     "name": "stderr",
     "output_type": "stream",
     "text": [
      "Setting default log level to \"WARN\".\n",
      "To adjust logging level use sc.setLogLevel(newLevel). For SparkR, use setLogLevel(newLevel).\n",
      "24/02/04 16:28:53 WARN NativeCodeLoader: Unable to load native-hadoop library for your platform... using builtin-java classes where applicable\n"
     ]
    }
   ],
   "source": [
    "from pyspark.sql import SparkSession  # Spark SQL 작업을 위한 SparkSession 임포트\n",
    "from pyspark.sql.functions import  # Spark SQL 함수들 임포트 transform, col, concat, lit\n",
    "\n",
    "# 기본 데이터 변환 작업을 위한 SparkSession 생성\n",
    "spark = (SparkSession.builder  # SparkSession 빌더 패턴 시작\n",
    "         .appName(\"basic-transformations\")  # 기본 변환 애플리케이션\n",
    "         .master(\"spark://spark-master:7077\")  # Spark 마스터 연결\n",
    "         .config(\"spark.executor.memory\", \"512m\")  # 실행자 메모리 설정\n",
    "         .getOrCreate())  # 세션 생성 또는 기존 세션 사용\n",
    "\n",
    "# 로그 레벨을 ERROR로 설정\n",
    "spark.sparkContext.setLogLevel(\"ERROR\")  # 로그 레벨을 ERROR로 설정"
   ]
  },
  {
   "cell_type": "code",
   "execution_count": 2,
   "id": "4490d08e-4226-43b8-85f9-811cfc3fa627",
   "metadata": {
    "tags": []
   },
   "outputs": [
    {
     "name": "stderr",
     "output_type": "stream",
     "text": [
      "                                                                                \r"
     ]
    }
   ],
   "source": [
    "# 노벨상 데이터 JSON 파일 로드\n",
    "df = (spark.read.format(\"json\")  # JSON 형식 지정\n",
    "      .option(\"multiLine\", \"true\")  # 여러 줄 JSON 처리\n",
    "      .load(\"../data/nobel_prizes.json\"))  # 노벨상 데이터 파일 로드"
   ]
  },
  {
   "cell_type": "code",
   "execution_count": 3,
   "id": "e3592800-a634-402e-857b-dbab34732281",
   "metadata": {
    "tags": []
   },
   "outputs": [
    {
     "name": "stderr",
     "output_type": "stream",
     "text": [
      "                                                                                \r"
     ]
    },
    {
     "name": "stdout",
     "output_type": "stream",
     "text": [
      "+----------+--------------------+----+--------------------+--------------------+\n",
      "|  category|   overallMotivation|year|           laureates| laureates_full_name|\n",
      "+----------+--------------------+----+--------------------+--------------------+\n",
      "| chemistry|                null|2022|[{Carolyn, 1015, ...|[Carolyn Bertozzi...|\n",
      "| economics|                null|2022|[{Ben, 1021, \"for...|[Ben Bernanke, Do...|\n",
      "|literature|                null|2022|[{Annie, 1017, \"f...|      [Annie Ernaux]|\n",
      "|     peace|                null|2022|[{Ales, 1018, \"Th...|[Ales Bialiatski ...|\n",
      "|   physics|                null|2022|[{Alain, 1012, \"f...|[Alain Aspect, nu...|\n",
      "|  medicine|                null|2022|[{Svante, 1011, \"...|      [Svante Pääbo]|\n",
      "| chemistry|                null|2021|[{Benjamin, 1002,...|[Benjamin List, D...|\n",
      "| economics|                null|2021|[{David, 1007, \"f...|[David Card, Josh...|\n",
      "|literature|                null|2021|[{Abdulrazak, 100...| [Abdulrazak Gurnah]|\n",
      "|     peace|                null|2021|[{Maria, 1005, \"f...|[Maria Ressa, Dmi...|\n",
      "|   physics|\"for groundbreaki...|2021|[{Syukuro, 999, \"...|[Syukuro Manabe, ...|\n",
      "|  medicine|                null|2021|[{David, 997, \"fo...|[David Julius, Ar...|\n",
      "| chemistry|                null|2020|[{Emmanuelle, 991...|[Emmanuelle Charp...|\n",
      "| economics|                null|2020|[{Paul, 995, \"for...|[Paul Milgrom, Ro...|\n",
      "|literature|                null|2020|[{Louise, 993, \"f...|      [Louise Glück]|\n",
      "|     peace|                null|2020|[{World Food Prog...|              [null]|\n",
      "|   physics|                null|2020|[{Roger, 988, \"fo...|[Roger Penrose, R...|\n",
      "|  medicine|                null|2020|[{Harvey, 985, \"f...|[Harvey Alter, Mi...|\n",
      "| chemistry|                null|2019|[{John, 976, \"for...|[John Goodenough,...|\n",
      "| economics|                null|2019|[{Abhijit, 982, \"...|[Abhijit Banerjee...|\n",
      "+----------+--------------------+----+--------------------+--------------------+\n",
      "only showing top 20 rows\n",
      "\n"
     ]
    }
   ],
   "source": [
    "# transform 함수를 사용하여 배열 데이터 변환 - 수상자 이름 결합\n",
    "df_transformed = (\n",
    "    df.select(\"category\"  # 카테고리 선택\n",
    "              , \"overallMotivation\"  # 전체 동기 선택\n",
    "              , \"year\"  # 연도 선택\n",
    "              , \"laureates\"  # 수상자 배열 선택\n",
    "              , transform(col(\"laureates\"), lambda x: concat(x.firstname,lit(\" \"), x.surname))  # 배열의 각 요소에 대해 이름+성 결합\n",
    "              .alias(\"laureates_full_name\")))  # 새 컴럼 이름 지정\n",
    "\n",
    "# 변환된 DataFrame 출력\n",
    "df_transformed.show()  # DataFrame 내용 출력"
   ]
  },
  {
   "cell_type": "code",
   "execution_count": 4,
   "id": "f6519f53-1977-4d68-9582-b8a4f4d56fea",
   "metadata": {
    "tags": []
   },
   "outputs": [
    {
     "name": "stderr",
     "output_type": "stream",
     "text": [
      "[Stage 2:>                                                          (0 + 1) / 1]\r"
     ]
    },
    {
     "name": "stdout",
     "output_type": "stream",
     "text": [
      "+---------+--------------------+-----------------+----+\n",
      "| category|           laureates|overallMotivation|year|\n",
      "+---------+--------------------+-----------------+----+\n",
      "|chemistry|[{Jacobus H., 160...|             null|1901|\n",
      "|chemistry|[{Emil, 161, \"in ...|             null|1902|\n",
      "|chemistry|[{Svante, 162, \"i...|             null|1903|\n",
      "|chemistry|[{Sir William, 16...|             null|1904|\n",
      "|chemistry|[{Adolf, 164, \"in...|             null|1905|\n",
      "|chemistry|[{Henri, 165, \"in...|             null|1906|\n",
      "|chemistry|[{Eduard, 166, \"f...|             null|1907|\n",
      "|chemistry|[{Ernest, 167, \"f...|             null|1908|\n",
      "|chemistry|[{Wilhelm, 168, \"...|             null|1909|\n",
      "|chemistry|[{Otto, 169, \"in ...|             null|1910|\n",
      "|chemistry|[{Marie, 6, \"in r...|             null|1911|\n",
      "|chemistry|[{Victor, 172, \"f...|             null|1912|\n",
      "|chemistry|[{Alfred, 174, \"i...|             null|1913|\n",
      "|chemistry|[{Theodore W., 17...|             null|1914|\n",
      "|chemistry|[{Richard, 176, \"...|             null|1915|\n",
      "|chemistry|[{Fritz, 177, \"fo...|             null|1918|\n",
      "|chemistry|[{Walther, 178, \"...|             null|1920|\n",
      "|chemistry|[{Frederick, 179,...|             null|1921|\n",
      "|chemistry|[{Francis W., 180...|             null|1922|\n",
      "|chemistry|[{Fritz, 181, \"fo...|             null|1923|\n",
      "+---------+--------------------+-----------------+----+\n",
      "only showing top 20 rows\n",
      "\n"
     ]
    },
    {
     "name": "stderr",
     "output_type": "stream",
     "text": [
      "                                                                                \r"
     ]
    }
   ],
   "source": [
    "# 중복 데이터 제거 - 지정된 컴럼들을 기준으로 중복 행 삭제\n",
    "df_deduped = df.dropDuplicates(  # 중복 데이터 제거[\"category\",\"overallMotivation\", \"year\"])\n",
    "\n",
    "# 중복 제거된 DataFrame 출력\n",
    "df_deduped.show()  # DataFrame 내용 출력"
   ]
  },
  {
   "cell_type": "code",
   "execution_count": 5,
   "id": "59d214ae-4f88-4639-a5bc-fb2df36274ed",
   "metadata": {
    "tags": []
   },
   "outputs": [
    {
     "name": "stderr",
     "output_type": "stream",
     "text": [
      "[Stage 5:>                                                          (0 + 1) / 1]\r"
     ]
    },
    {
     "name": "stdout",
     "output_type": "stream",
     "text": [
      "+----------+--------------------+-----------------+----+\n",
      "|  category|           laureates|overallMotivation|year|\n",
      "+----------+--------------------+-----------------+----+\n",
      "| chemistry|[{Jacobus H., 160...|             null|1901|\n",
      "|literature|[{Sully, 569, \"in...|             null|1901|\n",
      "|     peace|[{Henry, 462, \"fo...|             null|1901|\n",
      "|   physics|[{Wilhelm Conrad,...|             null|1901|\n",
      "|  medicine|[{Emil, 293, \"for...|             null|1901|\n",
      "| chemistry|[{Emil, 161, \"in ...|             null|1902|\n",
      "|literature|[{Theodor, 571, \"...|             null|1902|\n",
      "|     peace|[{Élie, 464, \"for...|             null|1902|\n",
      "|   physics|[{Hendrik A., 2, ...|             null|1902|\n",
      "|  medicine|[{Ronald, 294, \"f...|             null|1902|\n",
      "|literature|[{Bjørnstjerne, 5...|             null|1903|\n",
      "| chemistry|[{Svante, 162, \"i...|             null|1903|\n",
      "|     peace|[{Randal, 466, \"f...|             null|1903|\n",
      "|   physics|[{Henri, 4, \"in r...|             null|1903|\n",
      "|  medicine|[{Niels Ryberg, 2...|             null|1903|\n",
      "| chemistry|[{Sir William, 16...|             null|1904|\n",
      "|literature|[{Frédéric, 573, ...|             null|1904|\n",
      "|     peace|[{Institute of In...|             null|1904|\n",
      "|   physics|[{Lord, 8, \"for h...|             null|1904|\n",
      "|  medicine|[{Ivan, 296, \"in ...|             null|1904|\n",
      "+----------+--------------------+-----------------+----+\n",
      "only showing top 20 rows\n",
      "\n"
     ]
    },
    {
     "name": "stderr",
     "output_type": "stream",
     "text": [
      "                                                                                \r"
     ]
    }
   ],
   "source": [
    "# 연도를 기준으로 오름차순 정렬\n",
    "df_sorted = df.orderBy(  # 정렬\"year\")\n",
    "\n",
    "# 정렬된 DataFrame 출력\n",
    "df_sorted.show()  # DataFrame 내용 출력"
   ]
  },
  {
   "cell_type": "code",
   "execution_count": 6,
   "id": "8cdd7897-ec2a-4b2b-b482-89471b5cf305",
   "metadata": {
    "tags": []
   },
   "outputs": [
    {
     "name": "stdout",
     "output_type": "stream",
     "text": [
      "+----------+--------------------+--------------------+----+\n",
      "|  category|           laureates|   overallMotivation|year|\n",
      "+----------+--------------------+--------------------+----+\n",
      "| chemistry|[{Carolyn, 1015, ...|                null|2022|\n",
      "| economics|[{Ben, 1021, \"for...|                null|2022|\n",
      "|literature|[{Annie, 1017, \"f...|                null|2022|\n",
      "|  medicine|[{Svante, 1011, \"...|                null|2022|\n",
      "|     peace|[{Ales, 1018, \"Th...|                null|2022|\n",
      "|   physics|[{Alain, 1012, \"f...|                null|2022|\n",
      "| chemistry|[{Benjamin, 1002,...|                null|2021|\n",
      "| economics|[{David, 1007, \"f...|                null|2021|\n",
      "|literature|[{Abdulrazak, 100...|                null|2021|\n",
      "|  medicine|[{David, 997, \"fo...|                null|2021|\n",
      "|     peace|[{Maria, 1005, \"f...|                null|2021|\n",
      "|   physics|[{Syukuro, 999, \"...|\"for groundbreaki...|2021|\n",
      "| chemistry|[{Emmanuelle, 991...|                null|2020|\n",
      "| economics|[{Paul, 995, \"for...|                null|2020|\n",
      "|literature|[{Louise, 993, \"f...|                null|2020|\n",
      "|  medicine|[{Harvey, 985, \"f...|                null|2020|\n",
      "|     peace|[{World Food Prog...|                null|2020|\n",
      "|   physics|[{Roger, 988, \"fo...|                null|2020|\n",
      "| chemistry|[{John, 976, \"for...|                null|2019|\n",
      "| economics|[{Abhijit, 982, \"...|                null|2019|\n",
      "+----------+--------------------+--------------------+----+\n",
      "only showing top 20 rows\n",
      "\n"
     ]
    }
   ],
   "source": [
    "# 다중 컴럼 정렬 - 연도는 내림차순, 카테고리는 오름차순\n",
    "df_sorted = df.orderBy(  # 정렬[\"year\", \"category\"], ascending=[False, True])\n",
    "\n",
    "# 다중 정렬된 DataFrame 출력\n",
    "df_sorted.show()  # DataFrame 내용 출력"
   ]
  },
  {
   "cell_type": "code",
   "execution_count": 7,
   "id": "0205634c-ac3b-4d26-945e-488fb0943da4",
   "metadata": {
    "tags": []
   },
   "outputs": [
    {
     "name": "stdout",
     "output_type": "stream",
     "text": [
      "+----------+--------------------+--------------------+----+\n",
      "|  category|           laureates|   overallMotivation|year|\n",
      "+----------+--------------------+--------------------+----+\n",
      "| chemistry|[{Carolyn, 1015, ...|                null|2022|\n",
      "| economics|[{Ben, 1021, \"for...|                null|2022|\n",
      "|literature|[{Annie, 1017, \"f...|                null|2022|\n",
      "|  medicine|[{Svante, 1011, \"...|                null|2022|\n",
      "|     peace|[{Ales, 1018, \"Th...|                null|2022|\n",
      "|   physics|[{Alain, 1012, \"f...|                null|2022|\n",
      "| chemistry|[{Benjamin, 1002,...|                null|2021|\n",
      "| economics|[{David, 1007, \"f...|                null|2021|\n",
      "|literature|[{Abdulrazak, 100...|                null|2021|\n",
      "|  medicine|[{David, 997, \"fo...|                null|2021|\n",
      "|     peace|[{Maria, 1005, \"f...|                null|2021|\n",
      "|   physics|[{Syukuro, 999, \"...|\"for groundbreaki...|2021|\n",
      "| chemistry|[{Emmanuelle, 991...|                null|2020|\n",
      "| economics|[{Paul, 995, \"for...|                null|2020|\n",
      "|literature|[{Louise, 993, \"f...|                null|2020|\n",
      "|  medicine|[{Harvey, 985, \"f...|                null|2020|\n",
      "|     peace|[{World Food Prog...|                null|2020|\n",
      "|   physics|[{Roger, 988, \"fo...|                null|2020|\n",
      "| chemistry|[{John, 976, \"for...|                null|2019|\n",
      "| economics|[{Abhijit, 982, \"...|                null|2019|\n",
      "+----------+--------------------+--------------------+----+\n",
      "only showing top 20 rows\n",
      "\n"
     ]
    }
   ],
   "source": [
    "# sort() 함수를 사용한 정렬 - orderBy()와 동일한 기능\n",
    "df_sorted = df.sort(  # 정렬 (orderBy와 동일)[\"year\", \"category\"], ascending=[False, True])\n",
    "\n",
    "# sort() 함수로 정렬된 DataFrame 출력\n",
    "df_sorted.show()  # DataFrame 내용 출력"
   ]
  },
  {
   "cell_type": "code",
   "execution_count": 8,
   "id": "3aca54b9-51d9-423b-9dc8-3c62379555db",
   "metadata": {
    "tags": []
   },
   "outputs": [
    {
     "name": "stdout",
     "output_type": "stream",
     "text": [
      "+----------+--------------------+--------------------+----+\n",
      "|     Topic|           laureates|   overallMotivation|year|\n",
      "+----------+--------------------+--------------------+----+\n",
      "| chemistry|[{Carolyn, 1015, ...|                null|2022|\n",
      "| economics|[{Ben, 1021, \"for...|                null|2022|\n",
      "|literature|[{Annie, 1017, \"f...|                null|2022|\n",
      "|     peace|[{Ales, 1018, \"Th...|                null|2022|\n",
      "|   physics|[{Alain, 1012, \"f...|                null|2022|\n",
      "|  medicine|[{Svante, 1011, \"...|                null|2022|\n",
      "| chemistry|[{Benjamin, 1002,...|                null|2021|\n",
      "| economics|[{David, 1007, \"f...|                null|2021|\n",
      "|literature|[{Abdulrazak, 100...|                null|2021|\n",
      "|     peace|[{Maria, 1005, \"f...|                null|2021|\n",
      "|   physics|[{Syukuro, 999, \"...|\"for groundbreaki...|2021|\n",
      "|  medicine|[{David, 997, \"fo...|                null|2021|\n",
      "| chemistry|[{Emmanuelle, 991...|                null|2020|\n",
      "| economics|[{Paul, 995, \"for...|                null|2020|\n",
      "|literature|[{Louise, 993, \"f...|                null|2020|\n",
      "|     peace|[{World Food Prog...|                null|2020|\n",
      "|   physics|[{Roger, 988, \"fo...|                null|2020|\n",
      "|  medicine|[{Harvey, 985, \"f...|                null|2020|\n",
      "| chemistry|[{John, 976, \"for...|                null|2019|\n",
      "| economics|[{Abhijit, 982, \"...|                null|2019|\n",
      "+----------+--------------------+--------------------+----+\n",
      "only showing top 20 rows\n",
      "\n"
     ]
    }
   ],
   "source": [
    "# 컴럼 이름 변경 - withColumnRenamed() 함수 사용\n",
    "df_renamed = df.withColumnRenamed(  # 컬럼 이름 변경\"category\", \"Topic\")\n",
    "\n",
    "# 컴럼 이름이 변경된 DataFrame 출력\n",
    "df_renamed.show()  # DataFrame 내용 출력"
   ]
  },
  {
   "cell_type": "code",
   "execution_count": 9,
   "id": "b5612996-f41e-4374-ab00-d425305a4559",
   "metadata": {
    "tags": []
   },
   "outputs": [
    {
     "name": "stdout",
     "output_type": "stream",
     "text": [
      "+----------+----+--------------------+\n",
      "|     Topic|Year|          Motivation|\n",
      "+----------+----+--------------------+\n",
      "| chemistry|2022|                null|\n",
      "| economics|2022|                null|\n",
      "|literature|2022|                null|\n",
      "|     peace|2022|                null|\n",
      "|   physics|2022|                null|\n",
      "|  medicine|2022|                null|\n",
      "| chemistry|2021|                null|\n",
      "| economics|2021|                null|\n",
      "|literature|2021|                null|\n",
      "|     peace|2021|                null|\n",
      "|   physics|2021|\"for groundbreaki...|\n",
      "|  medicine|2021|                null|\n",
      "| chemistry|2020|                null|\n",
      "| economics|2020|                null|\n",
      "|literature|2020|                null|\n",
      "|     peace|2020|                null|\n",
      "|   physics|2020|                null|\n",
      "|  medicine|2020|                null|\n",
      "| chemistry|2019|                null|\n",
      "| economics|2019|                null|\n",
      "+----------+----+--------------------+\n",
      "only showing top 20 rows\n",
      "\n"
     ]
    }
   ],
   "source": [
    "# selectExpr()을 사용한 컴럼 선택 및 이름 변경 - SQL 표현식 사용 가능\n",
    "df_renamed = (\n",
    "    df.selectExpr(\"category as Topic\"  # category를 Topic으로 이름 변경\n",
    "                  , \"year as Year\"  # year를 Year로 이름 변경\n",
    "                  , \"overallMotivation as Motivation\"))  # overallMotivation을 Motivation으로 이름 변경\n",
    "\n",
    "# selectExpr()로 변경된 DataFrame 출력\n",
    "df_renamed.show()  # DataFrame 내용 출력"
   ]
  },
  {
   "cell_type": "code",
   "execution_count": 10,
   "id": "5bdf12f7-7a18-40dd-b3db-8c1aa9dffd13",
   "metadata": {},
   "outputs": [],
   "source": [
    "# Spark 세션 종료 - 리소스 정리\n",
    "spark.stop()  # Spark 세션 종료 - 리소스 정리"
   ]
  },
  {
   "cell_type": "code",
   "execution_count": null,
   "id": "66fd5afe-8b82-4e80-88d7-31c04a9a1288",
   "metadata": {},
   "outputs": [],
   "source": []
  }
 ],
 "metadata": {
  "kernelspec": {
   "display_name": "Python 3 (ipykernel)",
   "language": "python",
   "name": "python3"
  },
  "language_info": {
   "codemirror_mode": {
    "name": "ipython",
    "version": 3
   },
   "file_extension": ".py",
   "mimetype": "text/x-python",
   "name": "python",
   "nbconvert_exporter": "python",
   "pygments_lexer": "ipython3",
   "version": "3.10.12"
  }
 },
 "nbformat": 4,
 "nbformat_minor": 5
}