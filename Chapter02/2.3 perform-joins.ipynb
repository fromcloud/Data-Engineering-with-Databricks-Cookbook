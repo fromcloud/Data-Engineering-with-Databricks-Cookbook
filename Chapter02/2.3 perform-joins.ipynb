{
 "cells": [
  {
   "cell_type": "code",
   "execution_count": 16,
   "id": "1d841128-719a-4d79-b52f-9625d060a7c5",
   "metadata": {},
   "outputs": [],
   "source": [
    "from pyspark.sql import SparkSession  # Spark SQL 작업을 위한 SparkSession 임포트\n",
    "from pyspark.sql.functions import  # Spark SQL 함수들 임포트 broadcast\n",
    "\n",
    "spark = (SparkSession.builder  # SparkSession 빌더 패턴 시작\n",
    "         .appName(\"perfomr-joins\")  # 애플리케이션 이름 설정\n",
    "         .master(\"spark://spark-master:7077\")  # Spark 마스터 URL 설정\n",
    "         .config(\"spark.executor.memory\", \"512m\")  # Spark 설정 옵션\n",
    "         .getOrCreate()  # SparkSession 생성 또는 기존 세션 반환)\n",
    "\n",
    "spark.sparkContext.setLogLevel(\"ERROR\")  # 로그 레벨을 ERROR로 설정"
   ]
  },
  {
   "cell_type": "code",
   "execution_count": 17,
   "id": "4490d08e-4226-43b8-85f9-811cfc3fa627",
   "metadata": {
    "tags": []
   },
   "outputs": [
    {
     "name": "stderr",
     "output_type": "stream",
     "text": [
      "                                                                                \r"
     ]
    }
   ],
   "source": [
    "cards_df = (spark.read.format(\"csv\")  # CSV 형식으로 데이터 읽기\n",
    "      .option(\"header\", \"true\")  # 첫 번째 행을 헤더로 사용\n",
    "      .option(\"nullValue\", \"null\")\n",
    "      .load(  # 파일 로드\"../data/Credit Card/CardBase.csv\"))\n",
    "\n",
    "\n",
    "customers_df = (spark.read.format(\"csv\")  # CSV 형식으로 데이터 읽기\n",
    "      .option(\"header\", \"true\")  # 첫 번째 행을 헤더로 사용\n",
    "      .option(\"nullValue\", \"null\")\n",
    "      .load(  # 파일 로드\"../data/Credit Card/CustomerBase.csv\"))\n",
    "\n",
    "\n",
    "transactions_df = (spark.read.format(\"csv\")  # CSV 형식으로 데이터 읽기\n",
    "      .option(\"header\", \"true\")  # 첫 번째 행을 헤더로 사용\n",
    "      .option(\"nullValue\", \"null\")\n",
    "      .load(  # 파일 로드\"../data/Credit Card/TransactionBase.csv\"))\n",
    "\n",
    "\n",
    "fraud_df = (spark.read.format(\"csv\")  # CSV 형식으로 데이터 읽기\n",
    "      .option(\"header\", \"true\")  # 첫 번째 행을 헤더로 사용\n",
    "      .option(\"nullValue\", \"null\")\n",
    "      .load(  # 파일 로드\"../data/Credit Card/FraudBase.csv\"))"
   ]
  },
  {
   "cell_type": "code",
   "execution_count": 18,
   "id": "e3592800-a634-402e-857b-dbab34732281",
   "metadata": {
    "tags": []
   },
   "outputs": [
    {
     "name": "stderr",
     "output_type": "stream",
     "text": [
      "                                                                                \r"
     ]
    },
    {
     "name": "stdout",
     "output_type": "stream",
     "text": [
      "+-------+-------------------+-----------+------------+---+----------------+----------------------+\n",
      "|Cust_ID|        Card_Number|Card_Family|Credit_Limit|Age|Customer_Segment|Customer_Vintage_Group|\n",
      "+-------+-------------------+-----------+------------+---+----------------+----------------------+\n",
      "|CC55858|2868-5606-5152-5706|       Gold|       27000| 30|         Diamond|                   VG1|\n",
      "|CC46077|6876-7378-4945-3251|       Gold|       44000| 49|         Diamond|                   VG1|\n",
      "|CC46484|5556-4557-4566-1540|       Gold|       45000| 49|         Diamond|                   VG1|\n",
      "|CC59340|5618-9718-9367-2102|       Gold|       14000| 25|         Diamond|                   VG1|\n",
      "|CC62994|1652-7516-1273-1992|   Platinum|      180000| 48|         Diamond|                   VG1|\n",
      "|CC43841|7212-8665-7734-5918|   Platinum|       55000| 30|         Diamond|                   VG1|\n",
      "|CC21312|7837-4036-5999-1672|       Gold|       24000| 45|         Diamond|                   VG1|\n",
      "|CC90510|6262-7793-5307-8561|    Premium|      542000| 33|         Diamond|                   VG1|\n",
      "|CC91701|6071-3874-2856-8755|       Gold|       22000| 45|         Diamond|                   VG1|\n",
      "|CC36447|4973-1293-1664-2086|       Gold|       23000| 43|         Diamond|                   VG1|\n",
      "|CC66746|4864-7119-5608-7611|    Premium|      781000| 44|         Diamond|                   VG1|\n",
      "|CC57048|6547-1222-2350-2503|       Gold|       28000| 47|         Diamond|                   VG1|\n",
      "|CC66044|5583-9751-6086-5673|    Premium|      160000| 37|         Diamond|                   VG1|\n",
      "|CC35402|9386-8854-6115-4075|       Gold|       20000| 26|         Diamond|                   VG1|\n",
      "|CC95631|3001-2844-6540-3608|       Gold|       28000| 39|         Diamond|                   VG1|\n",
      "|CC42497|3573-2839-9869-7747|   Platinum|      167000| 23|         Diamond|                   VG1|\n",
      "|CC42497|6045-2636-8278-8875|   Platinum|       88000| 23|         Diamond|                   VG1|\n",
      "|CC18336|6750-4821-2334-9977|       Gold|       30000| 28|         Diamond|                   VG1|\n",
      "|CC78973|3440-1978-8156-5313|    Premium|      749000| 27|         Diamond|                   VG1|\n",
      "|CC41731|9930-4634-8565-6716|    Premium|      492000| 35|         Diamond|                   VG1|\n",
      "+-------+-------------------+-----------+------------+---+----------------+----------------------+\n",
      "only showing top 20 rows\n",
      "\n"
     ]
    }
   ],
   "source": [
    "customer_cards_df = (\n",
    "    cards_df.join(  # 데이터프레임 조인customers_df\n",
    "                  , on='Cust_ID'\n",
    "                  , how='inner  # 내부 조인'))\n",
    "\n",
    "customer_cards_df.show()  # DataFrame 내용 출력"
   ]
  },
  {
   "cell_type": "code",
   "execution_count": 19,
   "id": "c17d833d-0121-4530-b391-b264af51b2fb",
   "metadata": {},
   "outputs": [
    {
     "name": "stdout",
     "output_type": "stream",
     "text": [
      "+--------------+----------------+-------------------+-----------------+-------------------+----------+\n",
      "|Transaction_ID|Transaction_Date|     Credit_Card_ID|Transaction_Value|Transaction_Segment|Fraud_Flag|\n",
      "+--------------+----------------+-------------------+-----------------+-------------------+----------+\n",
      "|  CTID28830551|       24-Apr-16|1629-9566-3285-2123|            23649|              SEG25|      null|\n",
      "|  CTID45504917|       11-Feb-16|3697-6001-4909-5350|            26726|              SEG16|      null|\n",
      "|  CTID47312290|        1-Nov-16|5864-4475-3659-1440|            22012|              SEG14|      null|\n",
      "|  CTID25637718|       28-Jan-16|5991-4421-8476-3804|            37637|              SEG17|      null|\n",
      "|  CTID66743960|       17-Mar-16|1893-8853-9900-8478|             5113|              SEG14|      null|\n",
      "|  CTID22308010|       15-May-16|5206-5979-9383-4538|             9551|              SEG13|      null|\n",
      "|  CTID41917614|       11-Jul-16|5129-6974-6371-2964|            29511|              SEG13|      null|\n",
      "|  CTID24523483|       26-Jul-16|9930-4634-8565-6716|            27830|              SEG21|      null|\n",
      "|  CTID59109135|       16-Jan-16|4092-8604-7363-3393|            35328|              SEG18|      null|\n",
      "|  CTID62465865|        6-Nov-16|3594-2190-6052-1265|             9567|              SEG21|      null|\n",
      "|  CTID17879551|       25-Oct-16|5349-1963-8417-8327|            40606|              SEG17|      null|\n",
      "|  CTID24250639|       30-Apr-16|5689-2440-9593-1931|            35617|              SEG17|      null|\n",
      "|  CTID14284190|       31-Jul-16|1616-5911-1676-5466|             5014|              SEG18|      null|\n",
      "|  CTID65086055|       20-Nov-16|8177-5533-1183-4063|            47634|              SEG12|      null|\n",
      "|  CTID83907454|        3-Nov-16|2056-7091-8023-1914|            12061|              SEG22|      null|\n",
      "|  CTID50406334|       27-Dec-16|4971-8219-1133-6753|             8073|              SEG18|      null|\n",
      "|  CTID99443343|        1-Dec-16|8691-3939-1859-5937|            10138|              SEG25|      null|\n",
      "|  CTID18591064|        5-Jun-16|8706-3809-5167-3899|            46113|              SEG19|      null|\n",
      "|  CTID64008410|        2-Jul-16|2495-1344-4998-6045|            39195|              SEG23|      null|\n",
      "|  CTID99000301|       31-Oct-16|7047-9622-9693-9968|            18604|              SEG11|      null|\n",
      "+--------------+----------------+-------------------+-----------------+-------------------+----------+\n",
      "only showing top 20 rows\n",
      "\n"
     ]
    }
   ],
   "source": [
    "joined_transactions_df = (\n",
    "    transactions_df.join(  # 데이터프레임 조인fraud_df\n",
    "                         , on='Transaction_ID'\n",
    "                         , how='left  # 왼쪽 조인_outer'))\n",
    "\n",
    "joined_transactions_df.show()  # DataFrame 내용 출력"
   ]
  },
  {
   "cell_type": "code",
   "execution_count": 20,
   "id": "d2926ba4-e73e-4894-a9fb-186df71bbaf1",
   "metadata": {
    "tags": []
   },
   "outputs": [
    {
     "name": "stderr",
     "output_type": "stream",
     "text": [
      "                                                                                \r"
     ]
    },
    {
     "name": "stdout",
     "output_type": "stream",
     "text": [
      "+-------+-------------------+-----------+------------+---+----------------+----------------------+--------------+----------------+-------------------+-----------------+-------------------+----------+\n",
      "|Cust_ID|        Card_Number|Card_Family|Credit_Limit|Age|Customer_Segment|Customer_Vintage_Group|Transaction_ID|Transaction_Date|     Credit_Card_ID|Transaction_Value|Transaction_Segment|Fraud_Flag|\n",
      "+-------+-------------------+-----------+------------+---+----------------+----------------------+--------------+----------------+-------------------+-----------------+-------------------+----------+\n",
      "|CC87306|5734-5619-8469-4044|       Gold|       36000| 30|         Diamond|                   VG1|  CTID26555772|       11-Jan-16|5734-5619-8469-4044|              683|              SEG22|         1|\n",
      "|CC87034|6722-7299-6082-7974|       Gold|       34000| 36|        Platinum|                   VG2|  CTID30763806|       17-Dec-16|6722-7299-6082-7974|            40751|              SEG21|         1|\n",
      "|CC26034|1947-8602-1695-7503|       Gold|       10000| 42|        Platinum|                   VG2|  CTID29266043|       12-Oct-16|1947-8602-1695-7503|            21713|              SEG14|         1|\n",
      "|CC68010|7199-6959-4688-2302|       Gold|       49000| 47|            Gold|                   VG3|  CTID13865418|       17-Feb-16|7199-6959-4688-2302|            33073|              SEG23|         1|\n",
      "|CC14547|4265-2692-1676-5635|    Premium|      683000| 42|        Platinum|                   VG2|  CTID26134025|       25-Aug-16|4265-2692-1676-5635|            37279|              SEG24|         1|\n",
      "|CC56879|5145-7864-6575-8768|   Platinum|      100000| 30|        Platinum|                   VG2|  CTID42582298|       24-Jul-16|5145-7864-6575-8768|            34619|              SEG11|         1|\n",
      "|CC11486|4703-4800-3443-6825|    Premium|      121000| 21|            Gold|                   VG3|  CTID66265146|       22-Sep-16|4703-4800-3443-6825|            23258|              SEG19|         1|\n",
      "|CC89243|9161-8723-1217-5269|    Premium|      866000| 42|         Diamond|                   VG1|  CTID55853142|       21-Feb-16|9161-8723-1217-5269|            34840|              SEG21|         1|\n",
      "|CC88046|1519-5130-5810-8539|    Premium|      742000| 41|         Diamond|                   VG1|  CTID89585938|        3-Jan-16|1519-5130-5810-8539|            36219|              SEG11|         1|\n",
      "|CC52705|8135-1903-7706-2260|    Premium|      307000| 29|            Gold|                   VG3|  CTID12270763|        6-Jul-16|8135-1903-7706-2260|            37204|              SEG23|         1|\n",
      "|CC11887|7843-4724-2851-6218|       Gold|        4000| 27|         Diamond|                   VG1|  CTID23350804|       31-Jan-16|7843-4724-2851-6218|            38505|              SEG11|         1|\n",
      "|CC42937|7633-7985-2079-2990|   Platinum|      196000| 30|        Platinum|                   VG2|  CTID84579664|       27-Jun-16|7633-7985-2079-2990|            29746|              SEG24|         1|\n",
      "|CC37292|6815-5139-5546-1802|    Premium|      742000| 45|            Gold|                   VG3|  CTID99066676|       30-May-16|6815-5139-5546-1802|            27204|              SEG16|         1|\n",
      "|CC28847|7296-3224-2880-5747|       Gold|       36000| 29|            Gold|                   VG3|  CTID69594649|       14-Aug-16|7296-3224-2880-5747|            13450|              SEG11|         1|\n",
      "|CC50434|3467-4873-4196-4795|    Premium|      432000| 46|            Gold|                   VG3|  CTID98722314|        5-Jun-16|3467-4873-4196-4795|            36505|              SEG14|         1|\n",
      "|CC16420|1336-9200-1264-2551|    Premium|      280000| 22|            Gold|                   VG3|  CTID55936882|       29-Nov-16|1336-9200-1264-2551|            34367|              SEG21|         1|\n",
      "|CC35596|6770-4547-6958-5035|   Platinum|      161000| 39|         Diamond|                   VG1|  CTID94511089|        9-Jun-16|6770-4547-6958-5035|            28851|              SEG13|         1|\n",
      "|CC60926|1466-1600-9312-7604|    Premium|      249000| 24|         Diamond|                   VG1|  CTID25962688|       18-Aug-16|1466-1600-9312-7604|            45807|              SEG20|         1|\n",
      "|CC81396|3594-2190-6052-1265|   Platinum|      162000| 31|        Platinum|                   VG2|  CTID97760025|       25-May-16|3594-2190-6052-1265|            32239|              SEG22|         1|\n",
      "|CC89895|6697-9358-9213-4896|       Gold|       13000| 24|         Diamond|                   VG1|  CTID57993591|        2-Apr-16|6697-9358-9213-4896|            31486|              SEG24|         1|\n",
      "+-------+-------------------+-----------+------------+---+----------------+----------------------+--------------+----------------+-------------------+-----------------+-------------------+----------+\n",
      "only showing top 20 rows\n",
      "\n"
     ]
    }
   ],
   "source": [
    "joinExpr = (\n",
    "            (customer_cards_df[\"Card_Number\"] == joined_transactions_df[\"Credit_Card_ID\"]) \n",
    "            & (joined_transactions_df[\"Fraud_Flag\"].isNotNull()  # null이 아닌 값 확인))\n",
    "\n",
    "customer_with_fraud_df = (\n",
    "    customer_cards_df.join(  # 데이터프레임 조인joined_transactions_df\n",
    "                           , on=joinExpr\n",
    "                           , how='inner  # 내부 조인'))\n",
    "customer_with_fraud_df.show()  # DataFrame 내용 출력\n"
   ]
  },
  {
   "cell_type": "markdown",
   "id": "0555937b-89eb-460c-8382-99870978d8f5",
   "metadata": {},
   "source": [
    "### Right Outer Join"
   ]
  },
  {
   "cell_type": "code",
   "execution_count": 21,
   "id": "389ec165-4304-44a7-89cc-43be25fd669d",
   "metadata": {
    "tags": []
   },
   "outputs": [],
   "source": [
    "data1 = [(\"Alice\", \"F\", 25), (\"Bob\", \"M\", 30), (\"Charlie\", \"M\", 35), (\"Dave\", \"M\", 40)]\n",
    "df1 = spark.createDataFrame(data1, [\"Name\", \"Gender\", \"Age\"])\n",
    "\n",
    "data2 = [(\"Charlie\", \"M\"), (\"Dave\", \"M\"), (\"Eve\", \"F\")]\n",
    "df2 = spark.createDataFrame(data2, [\"Name\", \"Gender\"])"
   ]
  },
  {
   "cell_type": "code",
   "execution_count": 22,
   "id": "c1367ce9-1aad-4287-9de5-5b6d1af13020",
   "metadata": {
    "tags": []
   },
   "outputs": [
    {
     "name": "stderr",
     "output_type": "stream",
     "text": [
      "[Stage 17:>                                                         (0 + 2) / 2]\r"
     ]
    },
    {
     "name": "stdout",
     "output_type": "stream",
     "text": [
      "+-------+------+----+------+\n",
      "|   Name|Gender| Age|Gender|\n",
      "+-------+------+----+------+\n",
      "|Charlie|     M|  35|     M|\n",
      "|   Dave|     M|  40|     M|\n",
      "|    Eve|  null|null|     F|\n",
      "+-------+------+----+------+\n",
      "\n"
     ]
    },
    {
     "name": "stderr",
     "output_type": "stream",
     "text": [
      "                                                                                \r"
     ]
    }
   ],
   "source": [
    "right_join = df1.join(  # 데이터프레임 조인df2, on='Name', how='right_outer')\n",
    "right_join.show()  # DataFrame 내용 출력"
   ]
  },
  {
   "cell_type": "markdown",
   "id": "20a1282f-3374-4d5e-9cab-91fe1b259eb8",
   "metadata": {},
   "source": [
    "### Full outer join"
   ]
  },
  {
   "cell_type": "code",
   "execution_count": 23,
   "id": "11f0b134-4889-458f-b372-1d68cac69306",
   "metadata": {
    "tags": []
   },
   "outputs": [
    {
     "name": "stdout",
     "output_type": "stream",
     "text": [
      "+-------+------+----+------+\n",
      "|   Name|Gender| Age|Gender|\n",
      "+-------+------+----+------+\n",
      "|  Alice|     F|  25|  null|\n",
      "|    Bob|     M|  30|  null|\n",
      "|Charlie|     M|  35|     M|\n",
      "|   Dave|     M|  40|     M|\n",
      "|    Eve|  null|null|     F|\n",
      "+-------+------+----+------+\n",
      "\n"
     ]
    }
   ],
   "source": [
    "full_join = df1.join(  # 데이터프레임 조인df2, on='Name', how='outer')\n",
    "full_join.show()  # DataFrame 내용 출력"
   ]
  },
  {
   "cell_type": "markdown",
   "id": "ac4c2033-fb0b-4203-bdf6-a62ec8d1df04",
   "metadata": {},
   "source": [
    "### Cross join"
   ]
  },
  {
   "cell_type": "code",
   "execution_count": 24,
   "id": "98adebe4-7230-44de-a8a3-fbe43aa1d1e9",
   "metadata": {
    "tags": []
   },
   "outputs": [
    {
     "name": "stdout",
     "output_type": "stream",
     "text": [
      "+-------+------+---+-------+------+\n",
      "|   Name|Gender|Age|   Name|Gender|\n",
      "+-------+------+---+-------+------+\n",
      "|  Alice|     F| 25|Charlie|     M|\n",
      "|    Bob|     M| 30|Charlie|     M|\n",
      "|  Alice|     F| 25|   Dave|     M|\n",
      "|  Alice|     F| 25|    Eve|     F|\n",
      "|    Bob|     M| 30|   Dave|     M|\n",
      "|    Bob|     M| 30|    Eve|     F|\n",
      "|Charlie|     M| 35|Charlie|     M|\n",
      "|   Dave|     M| 40|Charlie|     M|\n",
      "|Charlie|     M| 35|   Dave|     M|\n",
      "|Charlie|     M| 35|    Eve|     F|\n",
      "|   Dave|     M| 40|   Dave|     M|\n",
      "|   Dave|     M| 40|    Eve|     F|\n",
      "+-------+------+---+-------+------+\n",
      "\n"
     ]
    },
    {
     "name": "stderr",
     "output_type": "stream",
     "text": [
      "                                                                                \r"
     ]
    }
   ],
   "source": [
    "cross_join = df1.crossJoin(  # 크로스 조인df2)\n",
    "cross_join.show()  # DataFrame 내용 출력"
   ]
  },
  {
   "cell_type": "markdown",
   "id": "21c93a6e-1812-49a4-907c-17b4540e4485",
   "metadata": {},
   "source": [
    "### Broadcast join"
   ]
  },
  {
   "cell_type": "code",
   "execution_count": 25,
   "id": "2c5c3226-2fb1-4e90-bed7-2a0e95f194e4",
   "metadata": {
    "tags": []
   },
   "outputs": [
    {
     "name": "stdout",
     "output_type": "stream",
     "text": [
      "+-------+------+---+\n",
      "|   Name|Gender|Age|\n",
      "+-------+------+---+\n",
      "|Charlie|     M| 35|\n",
      "|   Dave|     M| 40|\n",
      "+-------+------+---+\n",
      "\n"
     ]
    }
   ],
   "source": [
    "broadcast_join = df1.join(  # 데이터프레임 조인broadcast(df2), [\"Name\", \"Gender\"], \"inner\")\n",
    "broadcast_join.show()  # DataFrame 내용 출력"
   ]
  },
  {
   "cell_type": "markdown",
   "id": "2ac3a744-7aab-4fd8-a49b-b7fdfeefb077",
   "metadata": {},
   "source": [
    "### Multiple Join Conditions"
   ]
  },
  {
   "cell_type": "code",
   "execution_count": 26,
   "id": "4c853de7-b198-447d-a560-c1c21d173169",
   "metadata": {
    "tags": []
   },
   "outputs": [
    {
     "name": "stdout",
     "output_type": "stream",
     "text": [
      "+-------+------+---+\n",
      "|   Name|Gender|Age|\n",
      "+-------+------+---+\n",
      "|Charlie|     M| 35|\n",
      "|   Dave|     M| 40|\n",
      "+-------+------+---+\n",
      "\n"
     ]
    }
   ],
   "source": [
    "multi_join = df1.join(  # 데이터프레임 조인df2, on=['Name', 'Gender'], how='inner')\n",
    "multi_join.show()  # DataFrame 내용 출력"
   ]
  },
  {
   "cell_type": "code",
   "execution_count": 27,
   "id": "3baa15be-a4b8-4701-8abf-e84de0bf2e15",
   "metadata": {
    "tags": []
   },
   "outputs": [],
   "source": [
    "spark.stop()  # Spark 세션 종료 - 리소스 정리"
   ]
  },
  {
   "cell_type": "code",
   "execution_count": null,
   "id": "2b98ec93-b26f-4157-a4b6-dca88f8524e4",
   "metadata": {},
   "outputs": [],
   "source": []
  }
 ],
 "metadata": {
  "kernelspec": {
   "display_name": "Python 3 (ipykernel)",
   "language": "python",
   "name": "python3"
  },
  "language_info": {
   "codemirror_mode": {
    "name": "ipython",
    "version": 3
   },
   "file_extension": ".py",
   "mimetype": "text/x-python",
   "name": "python",
   "nbconvert_exporter": "python",
   "pygments_lexer": "ipython3",
   "version": "3.10.12"
  }
 },
 "nbformat": 4,
 "nbformat_minor": 5
}