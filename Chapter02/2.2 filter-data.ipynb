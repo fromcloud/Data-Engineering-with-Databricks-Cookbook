{
 "cells": [
  {
   "cell_type": "code",
   "execution_count": 1,
   "id": "1d841128-719a-4d79-b52f-9625d060a7c5",
   "metadata": {},
   "outputs": [
    {
     "name": "stderr",
     "output_type": "stream",
     "text": [
      "Setting default log level to \"WARN\".\n",
      "To adjust logging level use sc.setLogLevel(newLevel). For SparkR, use setLogLevel(newLevel).\n",
      "24/02/04 16:28:19 WARN NativeCodeLoader: Unable to load native-hadoop library for your platform... using builtin-java classes where applicable\n"
     ]
    }
   ],
   "source": [
    "from pyspark.sql import SparkSession  # Spark SQL 작업을 위한 SparkSession 임포트\n",
    "from pyspark.sql.functions import  # Spark SQL 함수들 임포트 array_contains, col, explode\n",
    "\n",
    "spark = (SparkSession.builder  # SparkSession 빌더 패턴 시작\n",
    "         .appName(\"filter-data\")  # 애플리케이션 이름 설정\n",
    "         .master(\"spark://spark-master:7077\")  # Spark 마스터 URL 설정\n",
    "         .config(\"spark.executor.memory\", \"512m\")  # Spark 설정 옵션\n",
    "         .getOrCreate()  # SparkSession 생성 또는 기존 세션 반환)\n",
    "\n",
    "spark.sparkContext.setLogLevel(\"ERROR\")  # 로그 레벨을 ERROR로 설정"
   ]
  },
  {
   "cell_type": "code",
   "execution_count": 2,
   "id": "4490d08e-4226-43b8-85f9-811cfc3fa627",
   "metadata": {
    "tags": []
   },
   "outputs": [
    {
     "name": "stderr",
     "output_type": "stream",
     "text": [
      "                                                                                \r"
     ]
    }
   ],
   "source": [
    "df = (spark.read.format(\"csv\")  # CSV 형식으로 데이터 읽기\n",
    "      .option(\"header\", \"true\")  # 첫 번째 행을 헤더로 사용\n",
    "      .option(\"nullValue\", \"null\")\n",
    "      .option(\"dateFormat\",  # 날짜 형식 지정 \"LLLL d, y\")\n",
    "      .load(  # 파일 로드\"../data/netflix_titles.csv\"))"
   ]
  },
  {
   "cell_type": "code",
   "execution_count": 3,
   "id": "e3592800-a634-402e-857b-dbab34732281",
   "metadata": {
    "tags": []
   },
   "outputs": [
    {
     "name": "stdout",
     "output_type": "stream",
     "text": [
      "+-------+-------+--------------------+--------------------+--------------------+--------------------+------------------+------------+------+---------+--------------------+--------------------+\n",
      "|show_id|   type|               title|            director|                cast|             country|        date_added|release_year|rating| duration|           listed_in|         description|\n",
      "+-------+-------+--------------------+--------------------+--------------------+--------------------+------------------+------------+------+---------+--------------------+--------------------+\n",
      "|     s2|TV Show|       Blood & Water|                null|Ama Qamata, Khosi...|        South Africa|September 24, 2021|        2021| TV-MA|2 Seasons|International TV ...|After crossing pa...|\n",
      "|     s3|TV Show|           Ganglands|     Julien Leclercq|Sami Bouajila, Tr...|                null|September 24, 2021|        2021| TV-MA| 1 Season|Crime TV Shows, I...|To protect his fa...|\n",
      "|     s4|TV Show|Jailbirds New Orl...|                null|                null|                null|September 24, 2021|        2021| TV-MA| 1 Season|Docuseries, Reali...|Feuds, flirtation...|\n",
      "|     s5|TV Show|        Kota Factory|                null|Mayur More, Jiten...|               India|September 24, 2021|        2021| TV-MA|2 Seasons|International TV ...|In a city of coac...|\n",
      "|     s6|TV Show|       Midnight Mass|       Mike Flanagan|Kate Siegel, Zach...|                null|September 24, 2021|        2021| TV-MA| 1 Season|TV Dramas, TV Hor...|The arrival of a ...|\n",
      "|     s7|  Movie|My Little Pony: A...|Robert Cullen, Jo...|Vanessa Hudgens, ...|                null|September 24, 2021|        2021|    PG|   91 min|Children & Family...|Equestria's divid...|\n",
      "|     s9|TV Show|The Great British...|     Andy Devonshire|Mel Giedroyc, Sue...|      United Kingdom|September 24, 2021|        2021| TV-14|9 Seasons|British TV Shows,...|A talented batch ...|\n",
      "|    s10|  Movie|        The Starling|      Theodore Melfi|Melissa McCarthy,...|       United States|September 24, 2021|        2021| PG-13|  104 min|    Comedies, Dramas|A woman adjusting...|\n",
      "|    s11|TV Show|Vendetta: Truth, ...|                null|                null|                null|September 24, 2021|        2021| TV-MA| 1 Season|Crime TV Shows, D...|\"Sicily boasts a ...|\n",
      "|    s12|TV Show|    Bangkok Breaking|   Kongkiat Komesiri|Sukollawat Kanaro...|                null|September 23, 2021|        2021| TV-MA| 1 Season|Crime TV Shows, I...|Struggling to ear...|\n",
      "|    s13|  Movie|        Je Suis Karl| Christian Schwochow|Luna Wedler, Jann...|Germany, Czech Re...|September 23, 2021|        2021| TV-MA|  127 min|Dramas, Internati...|After most of her...|\n",
      "|    s14|  Movie|Confessions of an...|       Bruno Garotti|Klara Castanho, L...|                null|September 22, 2021|        2021| TV-PG|   91 min|Children & Family...|When the clever b...|\n",
      "|    s15|TV Show|Crime Stories: In...|                null|                null|                null|September 22, 2021|        2021| TV-MA| 1 Season|British TV Shows,...|Cameras following...|\n",
      "|    s16|TV Show|   Dear White People|                null|Logan Browning, B...|       United States|September 22, 2021|        2021| TV-MA|4 Seasons|TV Comedies, TV D...|\"Students of colo...|\n",
      "|    s19|  Movie|           Intrusion|          Adam Salky|Freida Pinto, Log...|                null|September 22, 2021|        2021| TV-14|   94 min|           Thrillers|After a deadly ho...|\n",
      "|    s20|TV Show|              Jaguar|                null|Blanca Suárez, Iv...|                null|September 22, 2021|        2021| TV-MA| 1 Season|International TV ...|In the 1960s, a H...|\n",
      "|    s21|TV Show|Monsters Inside: ...|     Olivier Megaton|                null|                null|September 22, 2021|        2021| TV-14| 1 Season|Crime TV Shows, D...|In the late 1970s...|\n",
      "|    s24|  Movie|Go! Go! Cory Cars...|Alex Woo, Stanley...|Maisie Benson, Pa...|                null|September 21, 2021|        2021|  TV-Y|   61 min|Children & Family...|From arcade games...|\n",
      "|    s26|TV Show|Love on the Spectrum|                null|    Brooke Satchwell|           Australia|September 21, 2021|        2021| TV-14|2 Seasons|Docuseries, Inter...|Finding love can ...|\n",
      "|    s31|  Movie|     Ankahi Kahaniya|Ashwiny Iyer Tiwa...|Abhishek Banerjee...|                null|September 17, 2021|        2021| TV-14|  111 min|Dramas, Independe...|As big city life ...|\n",
      "+-------+-------+--------------------+--------------------+--------------------+--------------------+------------------+------------+------+---------+--------------------+--------------------+\n",
      "only showing top 20 rows\n",
      "\n"
     ]
    }
   ],
   "source": [
    "filtered_df = df.filter(  # 데이터 필터링col(\"release_year\") > 2020)\n",
    "filtered_df.show()  # DataFrame 내용 출력"
   ]
  },
  {
   "cell_type": "code",
   "execution_count": 4,
   "id": "f6519f53-1977-4d68-9582-b8a4f4d56fea",
   "metadata": {
    "tags": []
   },
   "outputs": [
    {
     "name": "stderr",
     "output_type": "stream",
     "text": [
      "[Stage 2:>                                                          (0 + 1) / 1]\r"
     ]
    },
    {
     "name": "stdout",
     "output_type": "stream",
     "text": [
      "+-------+-------+--------------------+--------------------+--------------------+-------------+------------------+------------+------+---------+--------------------+--------------------+\n",
      "|show_id|   type|               title|            director|                cast|      country|        date_added|release_year|rating| duration|           listed_in|         description|\n",
      "+-------+-------+--------------------+--------------------+--------------------+-------------+------------------+------------+------+---------+--------------------+--------------------+\n",
      "|    s10|  Movie|        The Starling|      Theodore Melfi|Melissa McCarthy,...|United States|September 24, 2021|        2021| PG-13|  104 min|    Comedies, Dramas|A woman adjusting...|\n",
      "|    s16|TV Show|   Dear White People|                null|Logan Browning, B...|United States|September 22, 2021|        2021| TV-MA|4 Seasons|TV Comedies, TV D...|\"Students of colo...|\n",
      "|    s41|TV Show|He-Man and the Ma...|                null|Yuri Lowenthal, K...|United States|September 16, 2021|        2021| TV-Y7| 1 Season|Kids' TV, TV Sci-...|Mighty teen Adam ...|\n",
      "|    s56|TV Show|           Nailed It|                null|Nicole Byer, Jacq...|United States|September 15, 2021|        2021| TV-PG|6 Seasons|          Reality TV|Home bakers with ...|\n",
      "|    s82|  Movie|                Kate|Cedric Nicolas-Tr...|Mary Elizabeth Wi...|United States|September 10, 2021|        2021|     R|  106 min|  Action & Adventure|Slipped a fatal p...|\n",
      "|    s83|TV Show|             Lucifer|                null|Tom Ellis, Lauren...|United States|September 10, 2021|        2021| TV-14|6 Seasons|Crime TV Shows, T...|Bored with being ...|\n",
      "|    s98|TV Show|          Kid Cosmic|                null|Jack Fisher, Tom ...|United States| September 7, 2021|        2021| TV-Y7|2 Seasons|Kids' TV, TV Come...|A boy's superhero...|\n",
      "|   s102|  Movie|Untold: Breaking ...|Chapman Way, Macl...|                null|United States| September 7, 2021|        2021| TV-MA|   80 min|Documentaries, Sp...|Under pressure to...|\n",
      "|   s107|TV Show|              Bunk'd|                null|Peyton List, Kara...|United States| September 5, 2021|        2021|  TV-G|5 Seasons|Kids' TV, TV Come...|\"The Ross sibling...|\n",
      "|   s126|TV Show|             Q-Force|                null|Sean Hayes, Wanda...|United States| September 2, 2021|        2021| TV-MA| 1 Season|Crime TV Shows, T...|A gay superspy an...|\n",
      "|   s185|TV Show|        Sparking Joy|                null|         Marie Kondo|United States|   August 31, 2021|        2021| TV-PG| 1 Season|          Reality TV|In this reality s...|\n",
      "|   s221|TV Show|      Family Reunion|                null|Loretta Devine, T...|United States|   August 26, 2021|        2021| TV-PG|4 Seasons|Kids' TV, TV Come...|When the McKellan...|\n",
      "|   s232|  Movie|       The Water Man|       David Oyelowo|David Oyelowo, Ro...|United States|   August 25, 2021|        2021|    PG|   92 min|Children & Family...|Desperate to save...|\n",
      "|   s242|TV Show|            Manifest|                null|Melissa Roxburgh,...|United States|   August 21, 2021|        2021| TV-14|3 Seasons|TV Dramas, TV Mys...|When a plane myst...|\n",
      "|   s248|  Movie|          Sweet Girl|Brian Andrew Mendoza|Jason Momoa, Isab...|United States|   August 20, 2021|        2021|     R|  110 min|Action & Adventur...|He lost the love ...|\n",
      "|   s255|TV Show| Go! Go! Cory Carson|                null|Alan C. Lim, Paul...|United States|   August 18, 2021|        2021|  TV-Y|5 Seasons|            Kids' TV|Beep, beep – go, ...|\n",
      "|   s272|TV Show|Brand New Cherry ...|                null|Rosa Salazar, Eri...|United States|   August 13, 2021|        2021| TV-MA| 1 Season|TV Dramas, TV Hor...|A filmmaker heads...|\n",
      "|   s273|TV Show|Fast & Furious Sp...|                null|Tyler Posey, Char...|United States|   August 13, 2021|        2021| TV-Y7|5 Seasons|            Kids' TV|A government agen...|\n",
      "|   s275|TV Show|   Grace and Frankie|                null|Jane Fonda, Lily ...|United States|   August 13, 2021|        2021| TV-MA|7 Seasons|TV Comedies, TV D...|They’re not frien...|\n",
      "|   s281|TV Show|          Bake Squad|                null|                null|United States|   August 11, 2021|        2021| TV-PG| 1 Season|          Reality TV|Expert bakers ele...|\n",
      "+-------+-------+--------------------+--------------------+--------------------+-------------+------------------+------------+------+---------+--------------------+--------------------+\n",
      "only showing top 20 rows\n",
      "\n"
     ]
    },
    {
     "name": "stderr",
     "output_type": "stream",
     "text": [
      "                                                                                \r"
     ]
    }
   ],
   "source": [
    "filtered_df = (\n",
    "    df.filter(  # 데이터 필터링\n",
    "        (col(  # 컬럼 참조\"country\") == \"United States\")\n",
    "        & (col(  # 컬럼 참조\"release_year\") > 2020)))\n",
    "\n",
    "filtered_df.show()  # DataFrame 내용 출력"
   ]
  },
  {
   "cell_type": "code",
   "execution_count": 5,
   "id": "59d214ae-4f88-4639-a5bc-fb2df36274ed",
   "metadata": {
    "tags": []
   },
   "outputs": [
    {
     "name": "stdout",
     "output_type": "stream",
     "text": [
      "+-------+-------+--------------------+---------------+--------------------+--------------+------------------+------------+------+---------+--------------------+--------------------+\n",
      "|show_id|   type|               title|       director|                cast|       country|        date_added|release_year|rating| duration|           listed_in|         description|\n",
      "+-------+-------+--------------------+---------------+--------------------+--------------+------------------+------------+------+---------+--------------------+--------------------+\n",
      "|     s1|  Movie|Dick Johnson Is Dead|Kirsten Johnson|                null| United States|September 25, 2021|        2020| PG-13|   90 min|       Documentaries|As her father nea...|\n",
      "|     s5|TV Show|        Kota Factory|           null|Mayur More, Jiten...|         India|September 24, 2021|        2021| TV-MA|2 Seasons|International TV ...|In a city of coac...|\n",
      "|     s9|TV Show|The Great British...|Andy Devonshire|Mel Giedroyc, Sue...|United Kingdom|September 24, 2021|        2021| TV-14|9 Seasons|British TV Shows,...|A talented batch ...|\n",
      "+-------+-------+--------------------+---------------+--------------------+--------------+------------------+------------+------+---------+--------------------+--------------------+\n",
      "only showing top 3 rows\n",
      "\n"
     ]
    }
   ],
   "source": [
    "filtered_df = (\n",
    "    df.filter(  # 데이터 필터링\n",
    "        col(  # 컬럼 참조\"country\")\n",
    "        .isin([\"United States\", \"United Kingdom\",  \"India\"])))\n",
    "filtered_df.show(3)"
   ]
  },
  {
   "cell_type": "markdown",
   "id": "6ca93a78-108a-459a-b3c6-f3d0f2767363",
   "metadata": {},
   "source": [
    "### Filtering on string"
   ]
  },
  {
   "cell_type": "code",
   "execution_count": 6,
   "id": "63ae3268-2695-4b61-8f64-22da8469694c",
   "metadata": {
    "tags": []
   },
   "outputs": [
    {
     "name": "stdout",
     "output_type": "stream",
     "text": [
      "+-------+-------+--------------------+--------------------+--------------------+-------------+------------------+------------+------+---------+--------------------+--------------------+\n",
      "|show_id|   type|               title|            director|                cast|      country|        date_added|release_year|rating| duration|           listed_in|         description|\n",
      "+-------+-------+--------------------+--------------------+--------------------+-------------+------------------+------------+------+---------+--------------------+--------------------+\n",
      "|     s3|TV Show|           Ganglands|     Julien Leclercq|Sami Bouajila, Tr...|         null|September 24, 2021|        2021| TV-MA| 1 Season|Crime TV Shows, I...|To protect his fa...|\n",
      "|    s11|TV Show|Vendetta: Truth, ...|                null|                null|         null|September 24, 2021|        2021| TV-MA| 1 Season|Crime TV Shows, D...|\"Sicily boasts a ...|\n",
      "|    s12|TV Show|    Bangkok Breaking|   Kongkiat Komesiri|Sukollawat Kanaro...|         null|September 23, 2021|        2021| TV-MA| 1 Season|Crime TV Shows, I...|Struggling to ear...|\n",
      "|    s15|TV Show|Crime Stories: In...|                null|                null|         null|September 22, 2021|        2021| TV-MA| 1 Season|British TV Shows,...|Cameras following...|\n",
      "|    s18|TV Show|     Falsa identidad|                null|Luis Ernesto Fran...|       Mexico|September 22, 2021|        2020| TV-MA|2 Seasons|Crime TV Shows, S...|Strangers Diego a...|\n",
      "|    s21|TV Show|Monsters Inside: ...|     Olivier Megaton|                null|         null|September 22, 2021|        2021| TV-14| 1 Season|Crime TV Shows, D...|In the late 1970s...|\n",
      "|    s83|TV Show|             Lucifer|                null|Tom Ellis, Lauren...|United States|September 10, 2021|        2021| TV-14|6 Seasons|Crime TV Shows, T...|Bored with being ...|\n",
      "|   s110|TV Show|    La casa de papel|                null|Úrsula Corberó, I...|        Spain| September 3, 2021|        2021| TV-MA|5 Seasons|Crime TV Shows, I...|Eight thieves tak...|\n",
      "|   s126|TV Show|             Q-Force|                null|Sean Hayes, Wanda...|United States| September 2, 2021|        2021| TV-MA| 1 Season|Crime TV Shows, T...|A gay superspy an...|\n",
      "|   s166|TV Show|            Oldsters|                null|Patricio Contrera...|         null| September 1, 2021|        2019| TV-MA| 1 Season|Crime TV Shows, I...|Three friends in ...|\n",
      "|   s223|TV Show|           Clickbait|       Brad Anderson|Zoe Kazan, Betty ...|         null|   August 25, 2021|        2021| TV-MA| 1 Season|Crime TV Shows, T...|When family man N...|\n",
      "|   s224|TV Show|John of God: The ...|Mauricio Dias, Ta...|                null|         null|   August 25, 2021|        2021| TV-MA| 1 Season|Crime TV Shows, D...|Idolized medium J...|\n",
      "|   s261|TV Show|        The Defeated|                null|Taylor Kitsch, Ni...|         null|   August 18, 2021|        2020| TV-MA| 1 Season|Crime TV Shows, I...|In 1946 Berlin, a...|\n",
      "|   s274|TV Show|       Gone for Good|  Juan Carlos Medina|Finnegan Oldfield...|       France|   August 13, 2021|        2021| TV-MA| 1 Season|Crime TV Shows, I...|Ten years after l...|\n",
      "|   s276|TV Show|         The Kingdom|                null|Chino Darín, Nanc...|    Argentina|   August 13, 2021|        2021| TV-MA| 1 Season|Crime TV Shows, I...|After his running...|\n",
      "|   s289|TV Show|Las muñecas de la...|                null|Amparo Grisales, ...|     Colombia|   August 10, 2021|        2018| TV-MA| 1 Season|Crime TV Shows, I...|\"Based on the boo...|\n",
      "|   s311|TV Show|Cocaine Cowboys: ...|        Billy Corben|                null|United States|    August 4, 2021|        2021| TV-MA| 1 Season|Crime TV Shows, D...|Two childhood fri...|\n",
      "|   s370|TV Show|Myth & Mogul: Joh...|                null|                null|         null|     July 30, 2021|        2021| TV-14| 1 Season|British TV Shows,...|In the automotive...|\n",
      "|   s381|TV Show|           The Flash|         Glen Winter|Grant Gustin, Can...|United States|     July 28, 2021|        2021| TV-14|7 Seasons|Crime TV Shows, T...|A forensics exper...|\n",
      "|   s382|TV Show|The Snitch Cartel...|                null|Juan Pablo Urrego...|         null|     July 28, 2021|        2021| TV-MA| 1 Season|Crime TV Shows, I...|Over four decades...|\n",
      "+-------+-------+--------------------+--------------------+--------------------+-------------+------------------+------------+------+---------+--------------------+--------------------+\n",
      "only showing top 20 rows\n",
      "\n"
     ]
    }
   ],
   "source": [
    "# filter the DataFrame based on a substring match\n",
    "filtered_df = df.filter(  # 데이터 필터링col(\"listed_in\").like(\"%Crime%\"))\n",
    "\n",
    "# display the filtered DataFrame\n",
    "filtered_df.show()  # DataFrame 내용 출력"
   ]
  },
  {
   "cell_type": "code",
   "execution_count": 7,
   "id": "15533248-795b-4ef9-8225-e796a73c7130",
   "metadata": {
    "tags": []
   },
   "outputs": [
    {
     "name": "stdout",
     "output_type": "stream",
     "text": [
      "+-------+-------+--------------------+-----------------+--------------------+--------------------+------------------+------------+------+---------+--------------------+--------------------+\n",
      "|show_id|   type|               title|         director|                cast|             country|        date_added|release_year|rating| duration|           listed_in|         description|\n",
      "+-------+-------+--------------------+-----------------+--------------------+--------------------+------------------+------------+------+---------+--------------------+--------------------+\n",
      "|     s3|TV Show|           Ganglands|  Julien Leclercq|Sami Bouajila, Tr...|                null|September 24, 2021|        2021| TV-MA| 1 Season|Crime TV Shows, I...|To protect his fa...|\n",
      "|    s11|TV Show|Vendetta: Truth, ...|             null|                null|                null|September 24, 2021|        2021| TV-MA| 1 Season|Crime TV Shows, D...|\"Sicily boasts a ...|\n",
      "|    s12|TV Show|    Bangkok Breaking|Kongkiat Komesiri|Sukollawat Kanaro...|                null|September 23, 2021|        2021| TV-MA| 1 Season|Crime TV Shows, I...|Struggling to ear...|\n",
      "|    s15|TV Show|Crime Stories: In...|             null|                null|                null|September 22, 2021|        2021| TV-MA| 1 Season|British TV Shows,...|Cameras following...|\n",
      "|    s18|TV Show|     Falsa identidad|             null|Luis Ernesto Fran...|              Mexico|September 22, 2021|        2020| TV-MA|2 Seasons|Crime TV Shows, S...|Strangers Diego a...|\n",
      "|    s19|  Movie|           Intrusion|       Adam Salky|Freida Pinto, Log...|                null|September 22, 2021|        2021| TV-14|   94 min|           Thrillers|After a deadly ho...|\n",
      "|    s21|TV Show|Monsters Inside: ...|  Olivier Megaton|                null|                null|September 22, 2021|        2021| TV-14| 1 Season|Crime TV Shows, D...|In the late 1970s...|\n",
      "|    s30|  Movie|            Paranoia|   Robert Luketic|Liam Hemsworth, G...|United States, In...|September 19, 2021|        2013| PG-13|  106 min|           Thrillers|Blackmailed by hi...|\n",
      "|    s34|TV Show|          Squid Game|             null|Lee Jung-jae, Par...|                null|September 17, 2021|        2021| TV-MA| 1 Season|International TV ...|Hundreds of cash-...|\n",
      "|    s36|  Movie|The Father Who Mo...|     Daniel Sandu|Adrian Titieni, E...|                null|September 17, 2021|        2021| TV-MA|  110 min|Dramas, Internati...|When his son goes...|\n",
      "|    s43|  Movie|              Jaws 2|   Jeannot Szwarc|Roy Scheider, Lor...|       United States|September 16, 2021|        1978|    PG|  116 min|Dramas, Horror Mo...|Four years after ...|\n",
      "|    s44|  Movie|              Jaws 3|        Joe Alves|Dennis Quaid, Bes...|       United States|September 16, 2021|        1983|    PG|   98 min|Action & Adventur...|After the staff o...|\n",
      "|    s45|  Movie|   Jaws: The Revenge|   Joseph Sargent|Lorraine Gary, La...|       United States|September 16, 2021|        1987| PG-13|   91 min|Action & Adventur...|After another dea...|\n",
      "|    s49|  Movie|        Training Day|    Antoine Fuqua|Denzel Washington...|       United States|September 16, 2021|        2001|     R|  122 min|   Dramas, Thrillers|A rookie cop with...|\n",
      "|    s83|TV Show|             Lucifer|             null|Tom Ellis, Lauren...|       United States|September 10, 2021|        2021| TV-14|6 Seasons|Crime TV Shows, T...|Bored with being ...|\n",
      "|    s87|  Movie|                Prey|    Thomas Sieben|David Kross, Hann...|                null|September 10, 2021|        2021| TV-MA|   87 min|International Mov...|A hiking trip int...|\n",
      "|    s91|  Movie|      Paradise Hills| Alice Waddington|Emma Roberts, Dan...|Spain, United States| September 9, 2021|        2019| TV-MA|   95 min|Sci-Fi & Fantasy,...|Uma wakes up in a...|\n",
      "|   s104|  Movie|      Shadow Parties|       Yemi Amodu|Jide Kosoko, Omot...|                null| September 6, 2021|        2020| TV-MA|  117 min|Dramas, Internati...|A family faces de...|\n",
      "|   s110|TV Show|    La casa de papel|             null|Úrsula Corberó, I...|               Spain| September 3, 2021|        2021| TV-MA|5 Seasons|Crime TV Shows, I...|Eight thieves tak...|\n",
      "|   s115|  Movie|              Anjaam|     Rahul Rawail|Madhuri Dixit, Sh...|               India| September 2, 2021|        1994| TV-14|  143 min|Dramas, Internati...|A wealthy industr...|\n",
      "+-------+-------+--------------------+-----------------+--------------------+--------------------+------------------+------------+------+---------+--------------------+--------------------+\n",
      "only showing top 20 rows\n",
      "\n"
     ]
    }
   ],
   "source": [
    "# filter the DataFrame based on a regular expression match\n",
    "filtered_df = df.filter(  # 데이터 필터링col(\"listed_in\").rlike(\"(Crime|Thrillers)\"))\n",
    "\n",
    "# display the filtered DataFrame\n",
    "filtered_df.show()  # DataFrame 내용 출력"
   ]
  },
  {
   "cell_type": "markdown",
   "id": "0555937b-89eb-460c-8382-99870978d8f5",
   "metadata": {},
   "source": [
    "### Filtering on Data Ranges"
   ]
  },
  {
   "cell_type": "code",
   "execution_count": 8,
   "id": "ce1ff907-3afb-4b95-ab80-8fc5e61948fb",
   "metadata": {
    "tags": []
   },
   "outputs": [
    {
     "name": "stdout",
     "output_type": "stream",
     "text": [
      "+-------+----+-----+--------+----+-------+----------+------------+------+--------+---------+-----------+\n",
      "|show_id|type|title|director|cast|country|date_added|release_year|rating|duration|listed_in|description|\n",
      "+-------+----+-----+--------+----+-------+----------+------------+------+--------+---------+-----------+\n",
      "+-------+----+-----+--------+----+-------+----------+------------+------+--------+---------+-----------+\n",
      "\n"
     ]
    }
   ],
   "source": [
    "# filter the DataFrame based on a date range\n",
    "filtered_df = df.filter(  # 데이터 필터링(col(\"date_added\") >= \"2021-09-05\") & (col(\"date_added\") <= \"2021-09-01\"))\n",
    "\n",
    "# display the filtered DataFrame\n",
    "filtered_df.show()  # DataFrame 내용 출력"
   ]
  },
  {
   "cell_type": "code",
   "execution_count": 9,
   "id": "1b99f90e-5afa-41c0-bb99-6a26bef3000b",
   "metadata": {
    "tags": []
   },
   "outputs": [
    {
     "name": "stdout",
     "output_type": "stream",
     "text": [
      "+-------+----+-----+--------+----+-------+----------+------------+------+--------+---------+-----------+\n",
      "|show_id|type|title|director|cast|country|date_added|release_year|rating|duration|listed_in|description|\n",
      "+-------+----+-----+--------+----+-------+----------+------------+------+--------+---------+-----------+\n",
      "+-------+----+-----+--------+----+-------+----------+------------+------+--------+---------+-----------+\n",
      "\n"
     ]
    }
   ],
   "source": [
    "# filter the DataFrame based on a date range\n",
    "filtered_df = df.filter(  # 데이터 필터링(col(\"date_added\").between(\"2021-02-01\",\"2021-03-01\")))\n",
    "\n",
    "# display the filtered DataFrame\n",
    "filtered_df.show()  # DataFrame 내용 출력"
   ]
  },
  {
   "cell_type": "markdown",
   "id": "20a1282f-3374-4d5e-9cab-91fe1b259eb8",
   "metadata": {},
   "source": [
    "### Filter on Arrays"
   ]
  },
  {
   "cell_type": "code",
   "execution_count": 10,
   "id": "7b2a982a-5ada-4a91-a5b0-92df832379a8",
   "metadata": {
    "tags": []
   },
   "outputs": [
    {
     "name": "stderr",
     "output_type": "stream",
     "text": [
      "[Stage 9:>                                                          (0 + 1) / 1]\r"
     ]
    },
    {
     "name": "stdout",
     "output_type": "stream",
     "text": [
      "+--------+--------------------+----------+-----------------+--------+--------+---------+--------------------+--------------+--------------------+--------------------------+---------------------+----------------+-----------+--------+----------+-------------------+------------------+-------------+-------------------+------------+------------+--------------+--------------+-----------+--------------------+--------------------+-------------+\n",
      "|RecipeId|                Name|  AuthorId|       AuthorName|CookTime|PrepTime|TotalTime|         Description|RecipeCategory|            Keywords|RecipeIngredientQuantities|RecipeIngredientParts|AggregatedRating|ReviewCount|Calories|FatContent|SaturatedFatContent|CholesterolContent|SodiumContent|CarbohydrateContent|FiberContent|SugarContent|ProteinContent|RecipeServings|RecipeYield|  RecipeInstructions|              Images|DatePublished|\n",
      "+--------+--------------------+----------+-----------------+--------+--------+---------+--------------------+--------------+--------------------+--------------------------+---------------------+----------------+-----------+--------+----------+-------------------+------------------+-------------+-------------------+------------+------------+--------------+--------------+-----------+--------------------+--------------------+-------------+\n",
      "|540557.0|Bubbly Champagne ...|2002766352|     winosity.app|    null|   PT20M|    PT20M|A refreshing and ...|     Beverages|         [< 30 Mins]|      [1, 1, 1, 1, 16, ...| [orange, apple, p...|            null|       null|    67.2|       0.2|                0.0|               0.0|         20.6|               17.7|         2.8|        12.8|           0.6|             8|       null|[Cut the orange a...|                  []|   2020-06-26|\n",
      "|540296.0|Healthy Sweet Pot...|    126440|adopt a greyhound|   PT15M|   PT15M|    PT30M|Make and share th...|   Low Protein|[Low Cholesterol,...|      [1, 1, 1⁄4, 1⁄8, ...| [sweet potato, ap...|            null|       null|   254.0|       2.2|                1.3|               5.0|         62.3|               58.5|         3.9|        38.9|           2.1|             2|       null|[Preheat oven 350...|                  []|   2020-05-14|\n",
      "|541317.0|Gluten Free Apple...|   1367384|   cookinalaskana|   PT15M|   PT15M|    PT30M|This is one of ou...|     Breakfast|[Healthy, Free Of...|      [3⁄4, 3⁄4, 1, 1 1...| [baking powder, b...|            null|       null|   345.9|      10.5|                2.2|              50.8|        574.7|               55.3|         5.1|        15.1|          10.3|             4|16 pancakes|[Set griddle to 3...|[https://img.sndi...|   2020-12-07|\n",
      "|538029.0|Oatmeal Apple Bre...|    227974|         Tammy F.|   PT15M|   PT10M|    PT25M|Make and share th...|     Breakfast|[Dessert, Cookie ...|      [1, 3⁄4, 1 1⁄2, 1...| [whole wheat flou...|            null|       null|   128.7|       4.5|                3.2|              15.5|         78.8|               20.9|         1.9|        10.1|           2.5|            12| 12 Cookies|[Whisk together t...|                null|   2019-01-24|\n",
      "|541179.0|SHEET PAN ROOT VE...|2002441290|   SPARROWNOMERCY|   PT40M|   PT15M|    PT55M|Make and share th...|   Low Protein|         [< 60 Mins]|      [1, 1 -2, 1 -2, 1...| [kielbasa, sweet ...|            null|       null|   249.9|      18.9|                3.6|              12.4|        214.7|               17.7|         3.6|         8.0|           4.2|             4|     6 CUPS|[Cut kielbasa int...|                  []|   2020-11-06|\n",
      "|539862.0|No-Flour Apple Oa...|   1920835|        Wynne2005|   PT25M|   PT10M|    PT35M|Make and share th...|  Quick Breads|[Breads, Healthy,...|      [3, 1, 1 1⁄2, 1⁄4...| [old fashioned oa...|            null|       null|   874.2|      17.4|                5.7|             203.1|        621.0|              156.1|        15.5|        58.8|          26.6|             2| 12 muffins|[Mix dry ingredie...|                  []|   2020-02-18|\n",
      "|538009.0|48 H Hollywood Fa...|1802649943|             Laka|    PT2M|   PT10M|    PT12M|Make and share th...|     < 15 Mins|              [null]|      [1, 1, 4, 2, 2, 1...| [banana, apple, o...|            null|       null|   375.6|       1.6|                0.3|               0.0|          8.7|               94.5|         8.4|        64.7|           4.5|             1|10 portions|[Cut banana and a...|                null|   2019-01-21|\n",
      "|538000.0|    RED VELVET BOOST|2001004241|        CLUBFOODY|    null|   PT10M|    PT10M|This is a very he...|     Beverages|[Vegetable, < 15 ...|      [2, 1, 1, 1, 1 1⁄...| [carrots, beet, a...|            null|       null|    77.7|       0.5|                0.1|               0.0|         64.8|               18.9|         4.7|        12.2|           1.6|          null|     3 cups|[In a juicer, com...|                null|   2019-01-19|\n",
      "+--------+--------------------+----------+-----------------+--------+--------+---------+--------------------+--------------+--------------------+--------------------------+---------------------+----------------+-----------+--------+----------+-------------------+------------------+-------------+-------------------+------------+------------+--------------+--------------+-----------+--------------------+--------------------+-------------+\n",
      "\n"
     ]
    },
    {
     "name": "stderr",
     "output_type": "stream",
     "text": [
      "                                                                                \r"
     ]
    }
   ],
   "source": [
    "# 읽기 parquet file into a DataFrame\n",
    "df_recipes = (spark.read\n",
    "      .format(\"parquet\")\n",
    "      .load(  # 파일 로드\"../data/recipes.parquet\"))\n",
    "\n",
    "# filter the DataFrame based on a value in the array column\n",
    "filtered_df = df_recipes.filter(  # 데이터 필터링array_contains(col(\"RecipeIngredientParts\"), \"apple\"))\n",
    "\n",
    "# display the filtered DataFrame\n",
    "filtered_df.show()  # DataFrame 내용 출력\n"
   ]
  },
  {
   "cell_type": "markdown",
   "id": "ac4c2033-fb0b-4203-bdf6-a62ec8d1df04",
   "metadata": {},
   "source": [
    "### Filtering on map columns"
   ]
  },
  {
   "cell_type": "code",
   "execution_count": 11,
   "id": "28beb690-6c9f-4451-b9ff-da228d725fb2",
   "metadata": {
    "tags": []
   },
   "outputs": [
    {
     "name": "stdout",
     "output_type": "stream",
     "text": [
      "+--------+----+-----------------+---------------------------------------------------------------------------------------------------------------------------------------------+\n",
      "|category|year|overallMotivation|laureates                                                                                                                                    |\n",
      "+--------+----+-----------------+---------------------------------------------------------------------------------------------------------------------------------------------+\n",
      "|physics |1921|null             |{Albert, 26, \"for his services to Theoretical Physics, and especially for his discovery of the law of the photoelectric effect\", 1, Einstein}|\n",
      "+--------+----+-----------------+---------------------------------------------------------------------------------------------------------------------------------------------+\n",
      "\n"
     ]
    }
   ],
   "source": [
    "# 읽기 JSON file into a DataFrame\n",
    "df_nobel_prizes = (spark.read\n",
    "      .format(\"json\")\n",
    "      .option(\"multiLine\", \"true\")  # 여러 줄 JSON 처리\n",
    "      .load(  # 파일 로드\"../data/nobel_prizes.json\"))\n",
    "\n",
    "df_nobel_prizes_exploded = (\n",
    "    df_nobel_prizes\n",
    "    .withColumn(  # 새 컬럼 추가 또는 기존 컬럼 수정\"laureates\",explode(col(\"laureates\"))) # Explode the laureates array column into rows\n",
    "    .select(  # 컬럼 선택col(\"category\")\n",
    "            , col(  # 컬럼 참조\"year\")\n",
    "            , col(  # 컬럼 참조\"overallMotivation\")\n",
    "            , col(  # 컬럼 참조\"laureates\"))) # Use dot notion for columns in the STRUCT field\n",
    "\n",
    "filtered_df = (\n",
    "    df_nobel_prizes_exploded\n",
    "    .filter(  # 데이터 필터링\n",
    "        (col(  # 컬럼 참조\"laureates\").getItem(\"firstname\") == \"Albert\") \n",
    "        & (col(  # 컬럼 참조\"laureates\").getItem(\"surname\") == \"Einstein\")))\n",
    "\n",
    "filtered_df.show(truncate=False)"
   ]
  },
  {
   "cell_type": "code",
   "execution_count": 12,
   "id": "b026953a-67e8-4b22-b8ad-88857b14fa69",
   "metadata": {
    "tags": []
   },
   "outputs": [],
   "source": [
    "spark.stop()  # Spark 세션 종료 - 리소스 정리"
   ]
  },
  {
   "cell_type": "code",
   "execution_count": null,
   "id": "b64d1993-9755-4d03-a2d8-ff6580d7a9b1",
   "metadata": {},
   "outputs": [],
   "source": []
  }
 ],
 "metadata": {
  "kernelspec": {
   "display_name": "Python 3 (ipykernel)",
   "language": "python",
   "name": "python3"
  },
  "language_info": {
   "codemirror_mode": {
    "name": "ipython",
    "version": 3
   },
   "file_extension": ".py",
   "mimetype": "text/x-python",
   "name": "python",
   "nbconvert_exporter": "python",
   "pygments_lexer": "ipython3",
   "version": "3.10.12"
  }
 },
 "nbformat": 4,
 "nbformat_minor": 5
}