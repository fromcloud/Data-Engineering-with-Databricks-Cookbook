{
 "cells": [
  {
   "cell_type": "code",
   "execution_count": 19,
   "id": "1d841128-719a-4d79-b52f-9625d060a7c5",
   "metadata": {},
   "outputs": [],
   "source": [
    "from pyspark.sql import SparkSession  # Spark SQL 작업을 위한 SparkSession 임포트\n",
    "from pyspark.sql.functions import  # Spark SQL 함수들 임포트 col, row_number, lead, lag, count, avg\n",
    "\n",
    "spark = (SparkSession.builder  # SparkSession 빌더 패턴 시작\n",
    "         .appName(\"apply-window-functions\")  # 애플리케이션 이름 설정\n",
    "         .master(\"spark://spark-master:7077\")  # Spark 마스터 URL 설정\n",
    "         .config(\"spark.executor.memory\", \"512m\")  # Spark 설정 옵션\n",
    "         .getOrCreate()  # SparkSession 생성 또는 기존 세션 반환)\n",
    "\n",
    "spark.sparkContext.setLogLevel(\"ERROR\")  # 로그 레벨을 ERROR로 설정"
   ]
  },
  {
   "cell_type": "code",
   "execution_count": 20,
   "id": "4490d08e-4226-43b8-85f9-811cfc3fa627",
   "metadata": {
    "tags": []
   },
   "outputs": [
    {
     "name": "stderr",
     "output_type": "stream",
     "text": [
      "                                                                                \r"
     ]
    }
   ],
   "source": [
    "df = (spark.read\n",
    "      .format(\"csv\")\n",
    "      .option(\"header\", \"true\")  # 첫 번째 행을 헤더로 사용\n",
    "      .option(\"nullValue\", \"null\")\n",
    "      .option(\"dateFormat\",  # 날짜 형식 지정 \"LLLL d, y\")\n",
    "      .load(  # 파일 로드\"../data/netflix_titles.csv\"))"
   ]
  },
  {
   "cell_type": "code",
   "execution_count": 21,
   "id": "690fa25d-33f6-4505-a6eb-9b061a8eb0f2",
   "metadata": {
    "tags": []
   },
   "outputs": [],
   "source": [
    "df = df.filter(  # 데이터 필터링col('country').isNotNull() & col('date_added').isNotNull())"
   ]
  },
  {
   "cell_type": "code",
   "execution_count": 22,
   "id": "18aa9485-5114-4d35-95f9-05c7a5bf02ab",
   "metadata": {
    "tags": []
   },
   "outputs": [],
   "source": [
    "from pyspark.sql.window import Window  # 윈도우 함수를 위한 Window 클래스 임포트\n",
    "window_spec = Window.partitionBy(\"country\").orderBy(  # 정렬\"date_added\")"
   ]
  },
  {
   "cell_type": "code",
   "execution_count": 23,
   "id": "93de1679-e8d3-40d0-83db-ffb3ffc42ac0",
   "metadata": {
    "tags": []
   },
   "outputs": [
    {
     "name": "stderr",
     "output_type": "stream",
     "text": [
      "[Stage 1:>                                                          (0 + 1) / 1]\r"
     ]
    },
    {
     "name": "stdout",
     "output_type": "stream",
     "text": [
      "+--------------------+--------------------+--------------------+----------+\n",
      "|               title|             country|          date_added|row_number|\n",
      "+--------------------+--------------------+--------------------+----------+\n",
      "| Beasts of No Nation|     Ama K. Abebrese|  Kobina Amissah Sam|         1|\n",
      "|Get Him to the Greek|         Aziz Ansari|         Carla Gallo|         1|\n",
      "|      Rhyme & Reason|            Chuck D.|     Desiree Densiti|         1|\n",
      "|            Backfire|       Dominic Costa|        Nick Ferraro|         1|\n",
      "|Hurricane Bianca:...|          Doug Plaut|    Cheyenne Jackson|         1|\n",
      "|Offering to the S...|     Francesc Orella|        Imanol Arias|         1|\n",
      "|        An Easy Girl|  Henri-Noël Tabary\"|              France|         1|\n",
      "| An Imperfect Murder|       James Toback\"|       United States|         1|\n",
      "|    Hurricane Bianca| Justin \"\"Alyssa ...|         Molly Ryman|         1|\n",
      "|             Dayveon|  Lachion Buckingham|       Chasity Moore|         1|\n",
      "|The Legacy of the...|  Leonardo Sbaraglia|     Francesc Orella|         1|\n",
      "| The Next Karate Kid|   Michael Cavalieri|     Walton Goggins\"|         1|\n",
      "|King of Boys: The...| Remilekun \"\"Remi...| Charles  \"\"Charl...|         1|\n",
      "|         It's Bruno!|          Rob Morgan|     Shakira Barrera|         1|\n",
      "|What Would Sophia...|       Sophia Loren\"|       United States|         1|\n",
      "|  Dances with Wolves|     Tantoo Cardinal|   Robert Pastorelli|         1|\n",
      "|       The Challenge|      Theo Campbell\"|       United States|         1|\n",
      "|        King of Boys| Tobechukwu \"\"iLL...|          Toni Tones|         1|\n",
      "|     Eyes of a Thief|   , France, Algeria|       July 30, 2021|         1|\n",
      "|                D.P.|       , South Korea|     August 27, 2021|         1|\n",
      "+--------------------+--------------------+--------------------+----------+\n",
      "only showing top 20 rows\n",
      "\n"
     ]
    },
    {
     "name": "stderr",
     "output_type": "stream",
     "text": [
      "                                                                                \r"
     ]
    }
   ],
   "source": [
    "# Assign row numbers within each partition\n",
    "result = df.withColumn(  # 새 컬럼 추가 또는 기존 컬럼 수정\"row_number\", row_number().over(window_spec))\n",
    "result.select(\"title\",\"country\",\"date_added\",\"row_number\").show()  # DataFrame 내용 출력"
   ]
  },
  {
   "cell_type": "code",
   "execution_count": 24,
   "id": "0dadb255-97bb-4224-a8e3-e2af7726f3c8",
   "metadata": {
    "tags": []
   },
   "outputs": [
    {
     "name": "stdout",
     "output_type": "stream",
     "text": [
      "+--------------------+----------------+-------------------+---------------+--------------+\n",
      "|               title|         country|         date_added|lead_date_added|lag_date_added|\n",
      "+--------------------+----------------+-------------------+---------------+--------------+\n",
      "| Beasts of No Nation| Ama K. Abebrese| Kobina Amissah Sam|           null|          null|\n",
      "|Get Him to the Greek|     Aziz Ansari|        Carla Gallo|           null|          null|\n",
      "|      Rhyme & Reason|        Chuck D.|    Desiree Densiti|           null|          null|\n",
      "+--------------------+----------------+-------------------+---------------+--------------+\n",
      "only showing top 3 rows\n",
      "\n"
     ]
    }
   ],
   "source": [
    "# Add lead column\n",
    "df = df.withColumn(  # 새 컬럼 추가 또는 기존 컬럼 수정\"lead_date_added\", lead(\"date_added\").over(window_spec))\n",
    "# Add lag column\n",
    "df = df.withColumn(  # 새 컬럼 추가 또는 기존 컬럼 수정\"lag_date_added\", lag(\"date_added\").over(window_spec))\n",
    "\n",
    "df.select(  # 컬럼 선택\"title\",\"country\",\"date_added\",\"lead_date_added\",\"lag_date_added\").show(3)"
   ]
  },
  {
   "cell_type": "markdown",
   "id": "0555937b-89eb-460c-8382-99870978d8f5",
   "metadata": {},
   "source": [
    "### Nested Window Functions"
   ]
  },
  {
   "cell_type": "code",
   "execution_count": 25,
   "id": "e3f33696-21fc-4f8d-b62d-52916319e05d",
   "metadata": {
    "tags": []
   },
   "outputs": [],
   "source": [
    "from pyspark.sql.functions import  # Spark SQL 함수들 임포트 sum, lead\n",
    "from pyspark.sql.window import Window  # 윈도우 함수를 위한 Window 클래스 임포트\n",
    "\n",
    "window_spec = Window.partitionBy(\"country\").orderBy(  # 정렬\"release_year\")\n",
    "df = df.withColumn(  # 새 컬럼 추가 또는 기존 컬럼 수정\"running_total\", count(\"show_id\").over(window_spec))\n",
    "df = df.withColumn(  # 새 컬럼 추가 또는 기존 컬럼 수정\"next_running_total\", lead(\"running_total\").over(window_spec))\n",
    "df = df.withColumn(  # 새 컬럼 추가 또는 기존 컬럼 수정\"diff\", df[\"next_running_total\"] - df[\"running_total\"])"
   ]
  },
  {
   "cell_type": "markdown",
   "id": "20a1282f-3374-4d5e-9cab-91fe1b259eb8",
   "metadata": {},
   "source": [
    "### Window Frames"
   ]
  },
  {
   "cell_type": "code",
   "execution_count": 26,
   "id": "eee24c0b-d098-40f1-a2c0-ca1ec49c8b94",
   "metadata": {},
   "outputs": [
    {
     "name": "stderr",
     "output_type": "stream",
     "text": [
      "[Stage 9:>                                                          (0 + 1) / 1]\r"
     ]
    },
    {
     "name": "stdout",
     "output_type": "stream",
     "text": [
      "+---+-----+-----------+\n",
      "| id|value|rolling_avg|\n",
      "+---+-----+-----------+\n",
      "|  1|   10|       10.0|\n",
      "|  2|   15|       12.5|\n",
      "|  3|   20|       15.0|\n",
      "|  4|   25|       20.0|\n",
      "|  5|   30|       25.0|\n",
      "+---+-----+-----------+\n",
      "\n"
     ]
    },
    {
     "name": "stderr",
     "output_type": "stream",
     "text": [
      "                                                                                \r"
     ]
    }
   ],
   "source": [
    "data = [(1, 10), (2, 15), (3, 20), (4, 25), (5, 30)]\n",
    "df = spark.createDataFrame(data, [\"id\", \"value\"])\n",
    "\n",
    "windowSpec = Window.orderBy(  # 정렬\"id\").rowsBetween(-2, 0)\n",
    "df = df.withColumn(  # 새 컬럼 추가 또는 기존 컬럼 수정\"rolling_avg\", avg(df[\"value\"]).over(windowSpec))\n",
    "\n",
    "df.show()  # DataFrame 내용 출력"
   ]
  },
  {
   "cell_type": "code",
   "execution_count": 27,
   "id": "ab0b2436-32fc-4ce3-894c-26e902605baa",
   "metadata": {},
   "outputs": [],
   "source": [
    "spark.stop()  # Spark 세션 종료 - 리소스 정리"
   ]
  },
  {
   "cell_type": "code",
   "execution_count": null,
   "id": "1baa350d-7288-4092-8be8-913e9d455b13",
   "metadata": {},
   "outputs": [],
   "source": []
  }
 ],
 "metadata": {
  "kernelspec": {
   "display_name": "Python 3 (ipykernel)",
   "language": "python",
   "name": "python3"
  },
  "language_info": {
   "codemirror_mode": {
    "name": "ipython",
    "version": 3
   },
   "file_extension": ".py",
   "mimetype": "text/x-python",
   "name": "python",
   "nbconvert_exporter": "python",
   "pygments_lexer": "ipython3",
   "version": "3.10.12"
  }
 },
 "nbformat": 4,
 "nbformat_minor": 5
}