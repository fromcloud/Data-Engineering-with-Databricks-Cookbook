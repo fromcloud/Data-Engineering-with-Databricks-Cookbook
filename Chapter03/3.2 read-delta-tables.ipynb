{
 "cells": [
  {
   "cell_type": "code",
   "execution_count": 1,
   "id": "512fe7c4-37c7-442a-89de-5f57db57f8f1",
   "metadata": {},
   "outputs": [],
   "source": [
    "from delta import  # Delta Lake 라이브러리 임포트 configure_spark_with_delta_pip, DeltaTable\n",
    "from pyspark.sql import SparkSession  # Spark SQL 작업을 위한 SparkSession 임포트"
   ]
  },
  {
   "cell_type": "code",
   "execution_count": 2,
   "id": "c7296ed0-2865-448b-a956-57389a4f67de",
   "metadata": {},
   "outputs": [
    {
     "name": "stdout",
     "output_type": "stream",
     "text": [
      ":: loading settings :: url = jar:file:/usr/local/lib/python3.10/dist-packages/pyspark/jars/ivy-2.5.1.jar!/org/apache/ivy/core/settings/ivysettings.xml\n"
     ]
    },
    {
     "name": "stderr",
     "output_type": "stream",
     "text": [
      "Ivy Default Cache set to: /root/.ivy2/cache\n",
      "The jars for the packages stored in: /root/.ivy2/jars\n",
      "io.delta#delta-core_2.12 added as a dependency\n",
      ":: resolving dependencies :: org.apache.spark#spark-submit-parent-45121930-1d07-4d5b-b169-851d0ab68b4a;1.0\n",
      "\tconfs: [default]\n",
      "\tfound io.delta#delta-core_2.12;2.4.0 in central\n",
      "\tfound io.delta#delta-storage;2.4.0 in central\n",
      "\tfound org.antlr#antlr4-runtime;4.9.3 in central\n",
      ":: resolution report :: resolve 352ms :: artifacts dl 14ms\n",
      "\t:: modules in use:\n",
      "\tio.delta#delta-core_2.12;2.4.0 from central in [default]\n",
      "\tio.delta#delta-storage;2.4.0 from central in [default]\n",
      "\torg.antlr#antlr4-runtime;4.9.3 from central in [default]\n",
      "\t---------------------------------------------------------------------\n",
      "\t|                  |            modules            ||   artifacts   |\n",
      "\t|       conf       | number| search|dwnlded|evicted|| number|dwnlded|\n",
      "\t---------------------------------------------------------------------\n",
      "\t|      default     |   3   |   0   |   0   |   0   ||   3   |   0   |\n",
      "\t---------------------------------------------------------------------\n",
      ":: retrieving :: org.apache.spark#spark-submit-parent-45121930-1d07-4d5b-b169-851d0ab68b4a\n",
      "\tconfs: [default]\n",
      "\t0 artifacts copied, 3 already retrieved (0kB/16ms)\n",
      "24/02/04 17:03:31 WARN NativeCodeLoader: Unable to load native-hadoop library for your platform... using builtin-java classes where applicable\n",
      "Setting default log level to \"WARN\".\n",
      "To adjust logging level use sc.setLogLevel(newLevel). For SparkR, use setLogLevel(newLevel).\n"
     ]
    }
   ],
   "source": [
    "builder = (SparkSession.builder  # SparkSession 빌더 패턴 시작\n",
    "           .appName(\"read-delta-table\")  # 애플리케이션 이름 설정\n",
    "           .master(\"spark://spark-master:7077\")  # Spark 마스터 URL 설정\n",
    "           .config(\"spark.executor.memory\", \"512m\")  # Spark 설정 옵션   \n",
    "           .config(\"spark.sql.extensions\", \"io.delta.sql.DeltaSparkSessionExtension\")  # Spark 설정 옵션\n",
    "           .config(\"spark.sql.catalog.spark_catalog\", \"org.apache.spark.sql.delta.catalog.DeltaCatalog\")  # Spark 설정 옵션)\n",
    "\n",
    "spark = configure_spark_with_delta_pip(builder).getOrCreate()  # SparkSession 생성 또는 기존 세션 반환\n",
    "spark.sparkContext.setLogLevel(\"ERROR\")  # 로그 레벨을 ERROR로 설정"
   ]
  },
  {
   "cell_type": "code",
   "execution_count": 3,
   "id": "e7e2cfd1-80fc-4844-9371-57a68c740aa4",
   "metadata": {},
   "outputs": [],
   "source": [
    "get_ipython().run_line_magic('load_ext', 'sparksql_magic')\n",
    "get_ipython().run_line_magic('config', 'SparkSql.limit=20')"
   ]
  },
  {
   "cell_type": "code",
   "execution_count": 4,
   "id": "a0e26449-e04a-4cf5-a42f-5594943bd3fa",
   "metadata": {
    "tags": []
   },
   "outputs": [
    {
     "name": "stderr",
     "output_type": "stream",
     "text": [
      "                                                                                \r"
     ]
    }
   ],
   "source": [
    "# For PySpark:\n",
    "df = spark.read.format(\"delta\").load(  # 파일 로드\"/opt/workspace/data/delta_lake/netflix_titles\")"
   ]
  },
  {
   "cell_type": "code",
   "execution_count": 5,
   "id": "ac54a48b-0da7-402b-a8e2-25cc0ee6b1a0",
   "metadata": {},
   "outputs": [
    {
     "name": "stdout",
     "output_type": "stream",
     "text": [
      "root\n",
      " |-- show_id: string (nullable = true)\n",
      " |-- type: string (nullable = true)\n",
      " |-- title: string (nullable = true)\n",
      " |-- director: string (nullable = true)\n",
      " |-- cast: string (nullable = true)\n",
      " |-- country: string (nullable = true)\n",
      " |-- date_added: string (nullable = true)\n",
      " |-- release_year: string (nullable = true)\n",
      " |-- rating: string (nullable = true)\n",
      " |-- duration: string (nullable = true)\n",
      " |-- listed_in: string (nullable = true)\n",
      " |-- description: string (nullable = true)\n",
      "\n"
     ]
    }
   ],
   "source": [
    "# 출력 the DataFrame schema\n",
    "df.printSchema()  # DataFrame 스키마 구조 출력"
   ]
  },
  {
   "cell_type": "code",
   "execution_count": 6,
   "id": "d466314a-45f3-4f8e-8bee-492bf86061de",
   "metadata": {},
   "outputs": [
    {
     "name": "stderr",
     "output_type": "stream",
     "text": [
      "[Stage 9:>                                                          (0 + 1) / 1]\r"
     ]
    },
    {
     "name": "stdout",
     "output_type": "stream",
     "text": [
      "+-------+-------+--------------------+---------------+--------------------+-------------+------------------+------------+------+---------+--------------------+--------------------+\n",
      "|show_id|   type|               title|       director|                cast|      country|        date_added|release_year|rating| duration|           listed_in|         description|\n",
      "+-------+-------+--------------------+---------------+--------------------+-------------+------------------+------------+------+---------+--------------------+--------------------+\n",
      "|     s1|  Movie|Dick Johnson Is Dead|Kirsten Johnson|                null|United States|September 25, 2021|        2020| PG-13|   90 min|       Documentaries|As her father nea...|\n",
      "|     s2|TV Show|       Blood & Water|           null|Ama Qamata, Khosi...| South Africa|September 24, 2021|        2021| TV-MA|2 Seasons|International TV ...|After crossing pa...|\n",
      "|     s3|TV Show|           Ganglands|Julien Leclercq|Sami Bouajila, Tr...|         null|September 24, 2021|        2021| TV-MA| 1 Season|Crime TV Shows, I...|To protect his fa...|\n",
      "|     s4|TV Show|Jailbirds New Orl...|           null|                null|         null|September 24, 2021|        2021| TV-MA| 1 Season|Docuseries, Reali...|Feuds, flirtation...|\n",
      "|     s5|TV Show|        Kota Factory|           null|Mayur More, Jiten...|        India|September 24, 2021|        2021| TV-MA|2 Seasons|International TV ...|In a city of coac...|\n",
      "+-------+-------+--------------------+---------------+--------------------+-------------+------------------+------------+------+---------+--------------------+--------------------+\n",
      "only showing top 5 rows\n",
      "\n"
     ]
    },
    {
     "name": "stderr",
     "output_type": "stream",
     "text": [
      "                                                                                \r"
     ]
    }
   ],
   "source": [
    "# 표시 a sample of the data\n",
    "df.show(5)"
   ]
  },
  {
   "cell_type": "code",
   "execution_count": 7,
   "id": "8c4c5723-0ae5-4834-b944-28c4f61b2aaf",
   "metadata": {},
   "outputs": [
    {
     "name": "stderr",
     "output_type": "stream",
     "text": [
      "                                                                                \r"
     ]
    },
    {
     "data": {
      "text/html": [
       "<table><tr style=\"border-bottom: 1px solid\"><td style=\"font-weight: bold\">show_id</td><td style=\"font-weight: bold\">type</td><td style=\"font-weight: bold\">title</td><td style=\"font-weight: bold\">director</td><td style=\"font-weight: bold\">cast</td><td style=\"font-weight: bold\">country</td><td style=\"font-weight: bold\">date_added</td><td style=\"font-weight: bold\">release_year</td><td style=\"font-weight: bold\">rating</td><td style=\"font-weight: bold\">duration</td><td style=\"font-weight: bold\">listed_in</td><td style=\"font-weight: bold\">description</td></tr><tr><td>s1</td><td>Movie</td><td>Dick Johnson Is Dead</td><td>Kirsten Johnson</td><td>null</td><td>United States</td><td>September 25, 2021</td><td>2020</td><td>PG-13</td><td>90 min</td><td>Documentaries</td><td>As her father nears the end of his life, filmmaker Kirsten Johnson stages his death in inventive and comical ways to help them both face the inevitable.</td></tr><tr><td>s2</td><td>TV Show</td><td>Blood &amp; Water</td><td>null</td><td>Ama Qamata, Khosi Ngema, Gail Mabalane, Thabang Molaba, Dillon Windvogel, Natasha Thahane, Arno Greeff, Xolile Tshabalala, Getmore Sithole, Cindy Mahlangu, Ryle De Morny, Greteli Fincham, Sello Maake Ka-Ncube, Odwa Gwanya, Mekaila Mathys, Sandi Schultz, Duane Williams, Shamilla Miller, Patrick Mofokeng</td><td>South Africa</td><td>September 24, 2021</td><td>2021</td><td>TV-MA</td><td>2 Seasons</td><td>International TV Shows, TV Dramas, TV Mysteries</td><td>After crossing paths at a party, a Cape Town teen sets out to prove whether a private-school swimming star is her sister who was abducted at birth.</td></tr><tr><td>s3</td><td>TV Show</td><td>Ganglands</td><td>Julien Leclercq</td><td>Sami Bouajila, Tracy Gotoas, Samuel Jouy, Nabiha Akkari, Sofia Lesaffre, Salim Kechiouche, Noureddine Farihi, Geert Van Rampelberg, Bakary Diombera</td><td>null</td><td>September 24, 2021</td><td>2021</td><td>TV-MA</td><td>1 Season</td><td>Crime TV Shows, International TV Shows, TV Action &amp; Adventure</td><td>To protect his family from a powerful drug lord, skilled thief Mehdi and his expert team of robbers are pulled into a violent and deadly turf war.</td></tr></table>"
      ],
      "text/plain": [
       "<IPython.core.display.HTML object>"
      ]
     },
     "execution_count": 7,
     "metadata": {},
     "output_type": "execute_result"
    }
   ],
   "source": [
    "%%sparksql\n",
    "SELECT * FROM delta.`/opt/workspace/data/delta_lake/netflix_titles` LIMIT 3;"
   ]
  },
  {
   "cell_type": "code",
   "execution_count": 8,
   "id": "47e4bb6b-b34d-492a-85b9-62237707d76a",
   "metadata": {},
   "outputs": [
    {
     "name": "stderr",
     "output_type": "stream",
     "text": [
      "                                                                                \r"
     ]
    },
    {
     "data": {
      "text/html": [
       "<table><tr style=\"border-bottom: 1px solid\"><td style=\"font-weight: bold\">version</td><td style=\"font-weight: bold\">timestamp</td><td style=\"font-weight: bold\">userId</td><td style=\"font-weight: bold\">userName</td><td style=\"font-weight: bold\">operation</td><td style=\"font-weight: bold\">operationParameters</td><td style=\"font-weight: bold\">job</td><td style=\"font-weight: bold\">notebook</td><td style=\"font-weight: bold\">clusterId</td><td style=\"font-weight: bold\">readVersion</td><td style=\"font-weight: bold\">isolationLevel</td><td style=\"font-weight: bold\">isBlindAppend</td><td style=\"font-weight: bold\">operationMetrics</td><td style=\"font-weight: bold\">userMetadata</td><td style=\"font-weight: bold\">engineInfo</td></tr><tr><td>1</td><td>2024-02-04 17:03:13.178000</td><td>null</td><td>null</td><td>CREATE OR REPLACE TABLE AS SELECT</td><td>{&#x27;description&#x27;: None, &#x27;partitionBy&#x27;: &#x27;[]&#x27;, &#x27;properties&#x27;: &#x27;{}&#x27;, &#x27;isManaged&#x27;: &#x27;false&#x27;}</td><td>null</td><td>null</td><td>null</td><td>0</td><td>Serializable</td><td>False</td><td>{&#x27;numOutputRows&#x27;: &#x27;8806&#x27;, &#x27;numOutputBytes&#x27;: &#x27;1960782&#x27;, &#x27;numFiles&#x27;: &#x27;1&#x27;}</td><td>null</td><td>Apache-Spark/3.4.1 Delta-Lake/2.4.0</td></tr><tr><td>0</td><td>2024-02-04 17:03:06.818000</td><td>null</td><td>null</td><td>CREATE OR REPLACE TABLE</td><td>{&#x27;description&#x27;: None, &#x27;partitionBy&#x27;: &#x27;[]&#x27;, &#x27;properties&#x27;: &#x27;{}&#x27;, &#x27;isManaged&#x27;: &#x27;false&#x27;}</td><td>null</td><td>null</td><td>null</td><td>null</td><td>Serializable</td><td>True</td><td>{}</td><td>null</td><td>Apache-Spark/3.4.1 Delta-Lake/2.4.0</td></tr></table>"
      ],
      "text/plain": [
       "<IPython.core.display.HTML object>"
      ]
     },
     "execution_count": 8,
     "metadata": {},
     "output_type": "execute_result"
    }
   ],
   "source": [
    "%%sparksql\n",
    "DESCRIBE HISTORY '/opt/workspace/data/delta_lake/netflix_titles'"
   ]
  },
  {
   "cell_type": "code",
   "execution_count": 9,
   "id": "773e2e84-a7ec-415c-9b1f-2d4c1f226aed",
   "metadata": {},
   "outputs": [
    {
     "name": "stderr",
     "output_type": "stream",
     "text": [
      "                                                                                \r"
     ]
    },
    {
     "data": {
      "text/html": [
       "<table><tr style=\"border-bottom: 1px solid\"></tr></table>"
      ],
      "text/plain": [
       "<IPython.core.display.HTML object>"
      ]
     },
     "execution_count": 9,
     "metadata": {},
     "output_type": "execute_result"
    }
   ],
   "source": [
    "%%sparksql\n",
    "ALTER TABLE delta.`/opt/workspace/data/delta_lake/netflix_titles` SET TBLPROPERTIES (\n",
    "  delta.logRetentionDuration = 'interval 60 days',\n",
    "  delta.deletedFileRetentionDuration = 'interval 14 days'\n",
    ");"
   ]
  },
  {
   "cell_type": "code",
   "execution_count": 10,
   "id": "d10aa98a-ac10-4851-bcb1-08c0b0ed570e",
   "metadata": {},
   "outputs": [],
   "source": [
    "spark.stop()  # Spark 세션 종료 - 리소스 정리"
   ]
  },
  {
   "cell_type": "code",
   "execution_count": null,
   "id": "34cbda29-98e9-4b26-9df8-941f8eb9c5c1",
   "metadata": {},
   "outputs": [],
   "source": []
  }
 ],
 "metadata": {
  "kernelspec": {
   "display_name": "Python 3 (ipykernel)",
   "language": "python",
   "name": "python3"
  },
  "language_info": {
   "codemirror_mode": {
    "name": "ipython",
    "version": 3
   },
   "file_extension": ".py",
   "mimetype": "text/x-python",
   "name": "python",
   "nbconvert_exporter": "python",
   "pygments_lexer": "ipython3",
   "version": "3.10.12"
  }
 },
 "nbformat": 4,
 "nbformat_minor": 5
}