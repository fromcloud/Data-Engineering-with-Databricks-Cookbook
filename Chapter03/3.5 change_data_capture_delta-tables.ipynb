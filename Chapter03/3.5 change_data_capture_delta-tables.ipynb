{
 "cells": [
  {
   "cell_type": "code",
   "execution_count": 1,
   "id": "f53f1d31-7527-4ffc-a5ab-73aa4a52ebfe",
   "metadata": {
    "tags": []
   },
   "outputs": [],
   "source": [
    "from delta import  # Delta Lake 라이브러리 임포트 configure_spark_with_delta_pip, DeltaTable\n",
    "from pyspark.sql import SparkSession  # Spark SQL 작업을 위한 SparkSession 임포트"
   ]
  },
  {
   "cell_type": "code",
   "execution_count": 2,
   "id": "2b211680-15d4-4f8a-863d-e88f041671db",
   "metadata": {
    "tags": []
   },
   "outputs": [
    {
     "name": "stdout",
     "output_type": "stream",
     "text": [
      ":: loading settings :: url = jar:file:/usr/local/lib/python3.10/dist-packages/pyspark/jars/ivy-2.5.1.jar!/org/apache/ivy/core/settings/ivysettings.xml\n"
     ]
    },
    {
     "name": "stderr",
     "output_type": "stream",
     "text": [
      "Ivy Default Cache set to: /root/.ivy2/cache\n",
      "The jars for the packages stored in: /root/.ivy2/jars\n",
      "io.delta#delta-core_2.12 added as a dependency\n",
      ":: resolving dependencies :: org.apache.spark#spark-submit-parent-664c02ec-fd6c-4a3a-932a-b171dfceab60;1.0\n",
      "\tconfs: [default]\n",
      "\tfound io.delta#delta-core_2.12;2.4.0 in central\n",
      "\tfound io.delta#delta-storage;2.4.0 in central\n",
      "\tfound org.antlr#antlr4-runtime;4.9.3 in central\n",
      ":: resolution report :: resolve 280ms :: artifacts dl 11ms\n",
      "\t:: modules in use:\n",
      "\tio.delta#delta-core_2.12;2.4.0 from central in [default]\n",
      "\tio.delta#delta-storage;2.4.0 from central in [default]\n",
      "\torg.antlr#antlr4-runtime;4.9.3 from central in [default]\n",
      "\t---------------------------------------------------------------------\n",
      "\t|                  |            modules            ||   artifacts   |\n",
      "\t|       conf       | number| search|dwnlded|evicted|| number|dwnlded|\n",
      "\t---------------------------------------------------------------------\n",
      "\t|      default     |   3   |   0   |   0   |   0   ||   3   |   0   |\n",
      "\t---------------------------------------------------------------------\n",
      ":: retrieving :: org.apache.spark#spark-submit-parent-664c02ec-fd6c-4a3a-932a-b171dfceab60\n",
      "\tconfs: [default]\n",
      "\t0 artifacts copied, 3 already retrieved (0kB/12ms)\n",
      "24/02/04 17:10:53 WARN NativeCodeLoader: Unable to load native-hadoop library for your platform... using builtin-java classes where applicable\n",
      "Setting default log level to \"WARN\".\n",
      "To adjust logging level use sc.setLogLevel(newLevel). For SparkR, use setLogLevel(newLevel).\n"
     ]
    }
   ],
   "source": [
    "builder = (SparkSession.builder  # SparkSession 빌더 패턴 시작\n",
    "           .appName(\"change-data-feed-delta-table\")  # 애플리케이션 이름 설정\n",
    "           .master(\"spark://spark-master:7077\")  # Spark 마스터 URL 설정\n",
    "           .config(\"spark.executor.memory\", \"512m\")  # Spark 설정 옵션\n",
    "           .config(\"spark.sql.extensions\", \"io.delta.sql.DeltaSparkSessionExtension\")  # Spark 설정 옵션\n",
    "           .config(\"spark.sql.catalog.spark_catalog\", \"org.apache.spark.sql.delta.catalog.DeltaCatalog\")  # Spark 설정 옵션)\n",
    "\n",
    "spark = configure_spark_with_delta_pip(builder).getOrCreate()  # SparkSession 생성 또는 기존 세션 반환\n",
    "spark.sparkContext.setLogLevel(\"ERROR\")  # 로그 레벨을 ERROR로 설정"
   ]
  },
  {
   "cell_type": "code",
   "execution_count": 3,
   "id": "fdaf277c-6331-4415-88f1-2c47771e215f",
   "metadata": {
    "tags": []
   },
   "outputs": [],
   "source": [
    "%load_ext sparksql_magic\n",
    "%config SparkSql.limit=20"
   ]
  },
  {
   "cell_type": "markdown",
   "id": "52dbac75-2aac-449c-a4b6-ffc9df3b8b7c",
   "metadata": {},
   "source": [
    "### Create Bronze Table \n",
    "(as an appendOnly table)"
   ]
  },
  {
   "cell_type": "code",
   "execution_count": 4,
   "id": "72e3de07-6fc4-4816-92e6-61a77cd0c1cd",
   "metadata": {},
   "outputs": [
    {
     "name": "stderr",
     "output_type": "stream",
     "text": [
      "                                                                                \r"
     ]
    },
    {
     "data": {
      "text/html": [
       "<table><tr style=\"border-bottom: 1px solid\"></tr></table>"
      ],
      "text/plain": [
       "<IPython.core.display.HTML object>"
      ]
     },
     "execution_count": 4,
     "metadata": {},
     "output_type": "execute_result"
    }
   ],
   "source": [
    "%%sparksql\n",
    "CREATE OR REPLACE TABLE default.movie_and_show_titles_cdf (\n",
    "    show_id STRING,\n",
    "    type STRING,\n",
    "    title STRING,\n",
    "    director STRING,\n",
    "    cast STRING,\n",
    "    country STRING,\n",
    "    date_added STRING,\n",
    "    release_year STRING,\n",
    "    rating STRING,\n",
    "    duration STRING,\n",
    "    listed_in STRING,\n",
    "    description STRING \n",
    ") USING DELTA  # Delta Lake 테이블 생성 LOCATION '/opt/workspace/data/delta_lake/movie_and_show_titles_cdf'\n",
    "TBLPROPERTIES (delta.enableChangeDataFeed = true, medallionLevel = 'bronze');"
   ]
  },
  {
   "cell_type": "markdown",
   "id": "271edbac-1510-4261-885d-cac34f62de99",
   "metadata": {},
   "source": [
    "#### Initial Load of Bronze Table"
   ]
  },
  {
   "cell_type": "code",
   "execution_count": 5,
   "id": "a0e26449-e04a-4cf5-a42f-5594943bd3fa",
   "metadata": {
    "tags": []
   },
   "outputs": [
    {
     "name": "stderr",
     "output_type": "stream",
     "text": [
      "                                                                                \r"
     ]
    }
   ],
   "source": [
    "# 읽기 CSV file into a DataFrame\n",
    "df = (spark.read\n",
    "      .format(\"csv\")\n",
    "      .option(\"header\", \"true\")  # 첫 번째 행을 헤더로 사용\n",
    "      .load(  # 파일 로드\"../data/netflix_titles.csv\"));\n",
    "df.write.format(\"delta\")  # Delta Lake 형식으로 저장.mode(\"append\").saveAsTable(\"default.movie_and_show_titles_cdf\")"
   ]
  },
  {
   "cell_type": "code",
   "execution_count": 6,
   "id": "04cae71c-98cd-4ee9-bdbb-7a911dd25adc",
   "metadata": {},
   "outputs": [
    {
     "name": "stderr",
     "output_type": "stream",
     "text": [
      "                                                                                \r"
     ]
    },
    {
     "data": {
      "text/html": [
       "<table><tr style=\"border-bottom: 1px solid\"></tr></table>"
      ],
      "text/plain": [
       "<IPython.core.display.HTML object>"
      ]
     },
     "execution_count": 6,
     "metadata": {},
     "output_type": "execute_result"
    }
   ],
   "source": [
    "%%sparksql\n",
    "CREATE OR REPLACE TABLE default.movie_and_show_titles_cleansed (\n",
    "    show_id STRING,\n",
    "    type STRING,\n",
    "    title STRING,\n",
    "    director STRING,\n",
    "    cast STRING,\n",
    "    country STRING,\n",
    "    date_added STRING,\n",
    "    release_year STRING,\n",
    "    rating STRING,\n",
    "    duration STRING,\n",
    "    listed_in STRING,\n",
    "    description STRING \n",
    ") USING DELTA  # Delta Lake 테이블 생성 LOCATION '/opt/workspace/data/delta_lake/movie_and_show_titles_cleansed'\n",
    "TBLPROPERTIES (delta.enableChangeDataFeed = true, medallionLevel = 'silver'\n",
    ", updatedFromTable= 'default.movie_and_show_titles_cdf', updatedFromTableVersion= '-1');"
   ]
  },
  {
   "cell_type": "code",
   "execution_count": 7,
   "id": "80760364-56c3-413a-af74-e651dcd946d2",
   "metadata": {},
   "outputs": [
    {
     "data": {
      "text/plain": [
       "0"
      ]
     },
     "execution_count": 7,
     "metadata": {},
     "output_type": "execute_result"
    }
   ],
   "source": [
    "#get the value of the last Updated Version from the silver table\n",
    "lastUpdateVersion = int(spark.sql(  # SQL 쿼리 실행\"SHOW TBLPROPERTIES default.movie_and_show_titles_cleansed ('updatedFromTableVersion')\").first()[\"value\"])+1\n",
    "lastUpdateVersion"
   ]
  },
  {
   "cell_type": "code",
   "execution_count": 8,
   "id": "c0fa6f11-a182-455d-95ef-153028a8bd1a",
   "metadata": {},
   "outputs": [
    {
     "name": "stderr",
     "output_type": "stream",
     "text": [
      "                                                                                \r"
     ]
    },
    {
     "data": {
      "text/plain": [
       "1"
      ]
     },
     "execution_count": 8,
     "metadata": {},
     "output_type": "execute_result"
    }
   ],
   "source": [
    "#get the value of the last Updated Version from the silver table\n",
    "latestVersion = spark.sql(  # SQL 쿼리 실행\"DESCRIBE HISTORY default.movie_and_show_titles_cdf\").first()[\"version\"]\n",
    "latestVersion"
   ]
  },
  {
   "cell_type": "markdown",
   "id": "dbb54cd8-b990-45ba-9bd7-665c389c8e94",
   "metadata": {},
   "source": [
    "#### Create temp view of chnage to bronze table since last load of silver"
   ]
  },
  {
   "cell_type": "code",
   "execution_count": 9,
   "id": "b5479d48-9003-4b28-ae65-5c8c9733f413",
   "metadata": {},
   "outputs": [
    {
     "data": {
      "text/html": [
       "<table><tr style=\"border-bottom: 1px solid\"></tr></table>"
      ],
      "text/plain": [
       "<IPython.core.display.HTML object>"
      ]
     },
     "execution_count": 9,
     "metadata": {},
     "output_type": "execute_result"
    }
   ],
   "source": [
    "%%sparksql\n",
    "CREATE OR REPLACE TEMPORARY VIEW bronzeTable_latest_version as\n",
    "SELECT * FROM (\n",
    "    SELECT *, \n",
    "        RANK() OVER (\n",
    "        PARTITION BY (lower(  # 소문자로 변환type), lower(  # 소문자로 변환title), lower(  # 소문자로 변환director), date_added) \n",
    "        ORDER BY _commit_version DESC) as rank  \n",
    "    FROM table_changes('default.movie_and_show_titles_cdf',{lastUpdateVersion},{latestVersion})\n",
    "    WHERE type IS NOT NULL AND title IS NOT NULL AND director IS NOT NULL AND  _change_type !='update_preimage'\n",
    ")\n",
    "WHERE rank = 1;"
   ]
  },
  {
   "cell_type": "markdown",
   "id": "001eef27-a336-40c9-aa55-e743609a1ee8",
   "metadata": {},
   "source": [
    "### Merge Change Data into Silver"
   ]
  },
  {
   "cell_type": "code",
   "execution_count": 10,
   "id": "a7d5c230-d49e-43e4-9cb0-20418df4b1bb",
   "metadata": {},
   "outputs": [
    {
     "name": "stderr",
     "output_type": "stream",
     "text": [
      "                                                                                \r"
     ]
    },
    {
     "data": {
      "text/html": [
       "<table><tr style=\"border-bottom: 1px solid\"><td style=\"font-weight: bold\">num_affected_rows</td><td style=\"font-weight: bold\">num_updated_rows</td><td style=\"font-weight: bold\">num_deleted_rows</td><td style=\"font-weight: bold\">num_inserted_rows</td></tr><tr><td>6172</td><td>0</td><td>0</td><td>6172</td></tr></table>"
      ],
      "text/plain": [
       "<IPython.core.display.HTML object>"
      ]
     },
     "execution_count": 10,
     "metadata": {},
     "output_type": "execute_result"
    }
   ],
   "source": [
    "%%sparksql \n",
    "MERGE INTO default.movie_and_show_titles_cleansed t \n",
    "USING bronzeTable_latest_version s \n",
    "ON lower(  # 소문자로 변환t.type) = lower(  # 소문자로 변환s.type)\n",
    "AND lower(  # 소문자로 변환t.title) = lower(  # 소문자로 변환s.title)\n",
    "AND lower(  # 소문자로 변환t.director) = lower(  # 소문자로 변환s.director)\n",
    "AND t.date_added = s.date_added\n",
    "WHEN MATCHED AND s._change_type='update_postimage' OR s._change_type='update_postimage' THEN UPDATE SET *\n",
    "WHEN MATCHED AND s._change_type='delete' THEN DELETE\n",
    "WHEN NOT MATCHED AND s._change_type='insert' THEN INSERT *"
   ]
  },
  {
   "cell_type": "code",
   "execution_count": 11,
   "id": "8a68d6ba-e36d-45b1-bc87-7580edcb1f96",
   "metadata": {},
   "outputs": [
    {
     "name": "stderr",
     "output_type": "stream",
     "text": [
      "                                                                                \r"
     ]
    },
    {
     "data": {
      "text/html": [
       "<table><tr style=\"border-bottom: 1px solid\"></tr></table>"
      ],
      "text/plain": [
       "<IPython.core.display.HTML object>"
      ]
     },
     "execution_count": 11,
     "metadata": {},
     "output_type": "execute_result"
    }
   ],
   "source": [
    "%%sparksql\n",
    "ALTER TABLE default.movie_and_show_titles_cleansed SET TBLPROPERTIES(updatedFromTableVersion = {latestVersion});"
   ]
  },
  {
   "cell_type": "code",
   "execution_count": 12,
   "id": "c4430d01-2e01-4120-99ba-a8c8f0f1787b",
   "metadata": {},
   "outputs": [
    {
     "data": {
      "text/html": [
       "<table><tr style=\"border-bottom: 1px solid\"></tr></table>"
      ],
      "text/plain": [
       "<IPython.core.display.HTML object>"
      ]
     },
     "execution_count": 12,
     "metadata": {},
     "output_type": "execute_result"
    }
   ],
   "source": [
    "%%sparksql\n",
    "DROP VIEW bronzeTable_latest_version"
   ]
  },
  {
   "cell_type": "markdown",
   "id": "40a440a0-c3be-4fb8-95fa-06d2ebb0e7f5",
   "metadata": {},
   "source": [
    "### Update Bronze Table"
   ]
  },
  {
   "cell_type": "code",
   "execution_count": 13,
   "id": "b1f4ca5c-88e4-47e9-869e-02b684ab29e3",
   "metadata": {},
   "outputs": [
    {
     "name": "stderr",
     "output_type": "stream",
     "text": [
      "                                                                                \r"
     ]
    },
    {
     "data": {
      "text/html": [
       "<table><tr style=\"border-bottom: 1px solid\"><td style=\"font-weight: bold\">num_affected_rows</td></tr><tr><td>830</td></tr></table>"
      ],
      "text/plain": [
       "<IPython.core.display.HTML object>"
      ]
     },
     "execution_count": 13,
     "metadata": {},
     "output_type": "execute_result"
    }
   ],
   "source": [
    "%%sparksql\n",
    "DELETE FROM default.movie_and_show_titles_cdf WHERE country is NULL"
   ]
  },
  {
   "cell_type": "code",
   "execution_count": 14,
   "id": "98b82224-562e-4564-bd62-b39307179123",
   "metadata": {},
   "outputs": [
    {
     "name": "stderr",
     "output_type": "stream",
     "text": [
      "                                                                                \r"
     ]
    },
    {
     "data": {
      "text/html": [
       "<table><tr style=\"border-bottom: 1px solid\"><td style=\"font-weight: bold\">num_affected_rows</td></tr><tr><td>2226</td></tr></table>"
      ],
      "text/plain": [
       "<IPython.core.display.HTML object>"
      ]
     },
     "execution_count": 14,
     "metadata": {},
     "output_type": "execute_result"
    }
   ],
   "source": [
    "%%sparksql\n",
    "UPDATE default.movie_and_show_titles_cdf SET director = '' WHERE director is NULL"
   ]
  },
  {
   "cell_type": "markdown",
   "id": "046d1334-058c-4666-b703-4bf0c6913d8a",
   "metadata": {},
   "source": [
    "### Propogate Changes from Bronze to Silver"
   ]
  },
  {
   "cell_type": "code",
   "execution_count": 15,
   "id": "21f6dc2e-321a-4a17-9be9-d6e302957303",
   "metadata": {},
   "outputs": [
    {
     "data": {
      "text/plain": [
       "'1'"
      ]
     },
     "execution_count": 15,
     "metadata": {},
     "output_type": "execute_result"
    }
   ],
   "source": [
    "#get the value of the last Updated Version from the silver table\n",
    "lastUpdateVersion = spark.sql(  # SQL 쿼리 실행\"SHOW TBLPROPERTIES default.movie_and_show_titles_cleansed ('updatedFromTableVersion')\").first()[\"value\"]\n",
    "lastUpdateVersion"
   ]
  },
  {
   "cell_type": "code",
   "execution_count": 16,
   "id": "c5930076-ff2c-451f-bed6-9aeab6e0f9c0",
   "metadata": {},
   "outputs": [
    {
     "data": {
      "text/plain": [
       "3"
      ]
     },
     "execution_count": 16,
     "metadata": {},
     "output_type": "execute_result"
    }
   ],
   "source": [
    "#get the value of the last Updated Version from the silver table\n",
    "latestVersion = spark.sql(  # SQL 쿼리 실행\"DESCRIBE HISTORY default.movie_and_show_titles_cdf\").first()[\"version\"]\n",
    "latestVersion"
   ]
  },
  {
   "cell_type": "code",
   "execution_count": 17,
   "id": "16312f35-34f0-47e8-a021-6cafb15050e6",
   "metadata": {},
   "outputs": [
    {
     "data": {
      "text/html": [
       "<table><tr style=\"border-bottom: 1px solid\"></tr></table>"
      ],
      "text/plain": [
       "<IPython.core.display.HTML object>"
      ]
     },
     "execution_count": 17,
     "metadata": {},
     "output_type": "execute_result"
    }
   ],
   "source": [
    "%%sparksql\n",
    "CREATE OR REPLACE TEMPORARY VIEW bronzeTable_latest_version as\n",
    "SELECT * FROM (\n",
    "    SELECT *, \n",
    "        RANK() OVER (\n",
    "        PARTITION BY (lower(  # 소문자로 변환type), lower(  # 소문자로 변환title), lower(  # 소문자로 변환director), date_added) \n",
    "        ORDER BY _commit_version DESC) as rank  \n",
    "    FROM table_changes('default.movie_and_show_titles_cdf',{lastUpdateVersion},{latestVersion})\n",
    "    WHERE type IS NOT NULL AND title IS NOT NULL AND director IS NOT NULL AND  _change_type !='update_preimage'\n",
    ")\n",
    "WHERE rank = 1;"
   ]
  },
  {
   "cell_type": "code",
   "execution_count": 18,
   "id": "39e2fbda-8e47-4721-aafa-9a1f16e6e5a7",
   "metadata": {},
   "outputs": [
    {
     "data": {
      "text/html": [
       "<table><tr style=\"border-bottom: 1px solid\"><td style=\"font-weight: bold\">_change_type</td><td style=\"font-weight: bold\">count(1)</td></tr><tr><td>update_postimage</td><td>2226</td></tr><tr><td>delete</td><td>422</td></tr><tr><td>insert</td><td>5750</td></tr></table>"
      ],
      "text/plain": [
       "<IPython.core.display.HTML object>"
      ]
     },
     "execution_count": 18,
     "metadata": {},
     "output_type": "execute_result"
    }
   ],
   "source": [
    "%%sparksql\n",
    "SELECT _change_type, COUNT(*) FROM bronzeTable_latest_version GROUP BY _change_type"
   ]
  },
  {
   "cell_type": "code",
   "execution_count": 19,
   "id": "6b45e32d-255d-4447-bb17-1aa58d4861d2",
   "metadata": {},
   "outputs": [
    {
     "name": "stderr",
     "output_type": "stream",
     "text": [
      "                                                                                \r"
     ]
    },
    {
     "data": {
      "text/html": [
       "<table><tr style=\"border-bottom: 1px solid\"><td style=\"font-weight: bold\">num_affected_rows</td><td style=\"font-weight: bold\">num_updated_rows</td><td style=\"font-weight: bold\">num_deleted_rows</td><td style=\"font-weight: bold\">num_inserted_rows</td></tr><tr><td>422</td><td>0</td><td>422</td><td>0</td></tr></table>"
      ],
      "text/plain": [
       "<IPython.core.display.HTML object>"
      ]
     },
     "execution_count": 19,
     "metadata": {},
     "output_type": "execute_result"
    }
   ],
   "source": [
    "%%sparksql \n",
    "MERGE INTO default.movie_and_show_titles_cleansed t \n",
    "USING bronzeTable_latest_version s \n",
    "ON lower(  # 소문자로 변환t.type) = lower(  # 소문자로 변환s.type)\n",
    "AND lower(  # 소문자로 변환t.title) = lower(  # 소문자로 변환s.title)\n",
    "AND lower(  # 소문자로 변환t.director) = lower(  # 소문자로 변환s.director)\n",
    "AND t.date_added = s.date_added\n",
    "WHEN MATCHED AND s._change_type='update_postimage' THEN UPDATE SET *\n",
    "WHEN MATCHED AND s._change_type='delete' THEN DELETE\n",
    "WHEN NOT MATCHED AND s._change_type='insert' THEN INSERT *"
   ]
  },
  {
   "cell_type": "code",
   "execution_count": 20,
   "id": "02b45a74-b14f-4021-9ffb-494d49b8c66f",
   "metadata": {},
   "outputs": [
    {
     "name": "stderr",
     "output_type": "stream",
     "text": [
      "                                                                                \r"
     ]
    },
    {
     "data": {
      "text/html": [
       "<table><tr style=\"border-bottom: 1px solid\"></tr></table>"
      ],
      "text/plain": [
       "<IPython.core.display.HTML object>"
      ]
     },
     "execution_count": 20,
     "metadata": {},
     "output_type": "execute_result"
    }
   ],
   "source": [
    "%%sparksql\n",
    "ALTER TABLE default.movie_and_show_titles_cleansed SET TBLPROPERTIES(updatedFromTableVersion = {latestVersion});"
   ]
  },
  {
   "cell_type": "code",
   "execution_count": 21,
   "id": "8f09faf9-527c-4b78-ab54-7271ff8c1a0d",
   "metadata": {},
   "outputs": [],
   "source": [
    "spark.stop()  # Spark 세션 종료 - 리소스 정리"
   ]
  },
  {
   "cell_type": "code",
   "execution_count": null,
   "id": "e8b432af-b3db-49e2-b518-a73e2170b783",
   "metadata": {},
   "outputs": [],
   "source": []
  }
 ],
 "metadata": {
  "kernelspec": {
   "display_name": "Python 3 (ipykernel)",
   "language": "python",
   "name": "python3"
  },
  "language_info": {
   "codemirror_mode": {
    "name": "ipython",
    "version": 3
   },
   "file_extension": ".py",
   "mimetype": "text/x-python",
   "name": "python",
   "nbconvert_exporter": "python",
   "pygments_lexer": "ipython3",
   "version": "3.10.12"
  }
 },
 "nbformat": 4,
 "nbformat_minor": 5
}