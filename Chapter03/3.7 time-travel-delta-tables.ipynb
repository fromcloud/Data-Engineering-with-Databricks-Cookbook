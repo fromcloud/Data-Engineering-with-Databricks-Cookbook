{
 "cells": [
  {
   "cell_type": "code",
   "execution_count": 1,
   "id": "f53f1d31-7527-4ffc-a5ab-73aa4a52ebfe",
   "metadata": {
    "tags": []
   },
   "outputs": [],
   "source": [
    "from delta import  # Delta Lake 라이브러리 임포트 configure_spark_with_delta_pip, DeltaTable\n",
    "from pyspark.sql import SparkSession  # Spark SQL 작업을 위한 SparkSession 임포트"
   ]
  },
  {
   "cell_type": "code",
   "execution_count": 2,
   "id": "2b211680-15d4-4f8a-863d-e88f041671db",
   "metadata": {
    "tags": []
   },
   "outputs": [
    {
     "name": "stdout",
     "output_type": "stream",
     "text": [
      ":: loading settings :: url = jar:file:/usr/local/lib/python3.10/dist-packages/pyspark/jars/ivy-2.5.1.jar!/org/apache/ivy/core/settings/ivysettings.xml\n"
     ]
    },
    {
     "name": "stderr",
     "output_type": "stream",
     "text": [
      "Ivy Default Cache set to: /root/.ivy2/cache\n",
      "The jars for the packages stored in: /root/.ivy2/jars\n",
      "io.delta#delta-core_2.12 added as a dependency\n",
      ":: resolving dependencies :: org.apache.spark#spark-submit-parent-3d04ed35-4571-422c-b7f0-79443f198116;1.0\n",
      "\tconfs: [default]\n",
      "\tfound io.delta#delta-core_2.12;2.4.0 in central\n",
      "\tfound io.delta#delta-storage;2.4.0 in central\n",
      "\tfound org.antlr#antlr4-runtime;4.9.3 in central\n",
      ":: resolution report :: resolve 325ms :: artifacts dl 11ms\n",
      "\t:: modules in use:\n",
      "\tio.delta#delta-core_2.12;2.4.0 from central in [default]\n",
      "\tio.delta#delta-storage;2.4.0 from central in [default]\n",
      "\torg.antlr#antlr4-runtime;4.9.3 from central in [default]\n",
      "\t---------------------------------------------------------------------\n",
      "\t|                  |            modules            ||   artifacts   |\n",
      "\t|       conf       | number| search|dwnlded|evicted|| number|dwnlded|\n",
      "\t---------------------------------------------------------------------\n",
      "\t|      default     |   3   |   0   |   0   |   0   ||   3   |   0   |\n",
      "\t---------------------------------------------------------------------\n",
      ":: retrieving :: org.apache.spark#spark-submit-parent-3d04ed35-4571-422c-b7f0-79443f198116\n",
      "\tconfs: [default]\n",
      "\t0 artifacts copied, 3 already retrieved (0kB/7ms)\n",
      "24/02/04 17:20:42 WARN NativeCodeLoader: Unable to load native-hadoop library for your platform... using builtin-java classes where applicable\n",
      "Setting default log level to \"WARN\".\n",
      "To adjust logging level use sc.setLogLevel(newLevel). For SparkR, use setLogLevel(newLevel).\n"
     ]
    }
   ],
   "source": [
    "builder = (SparkSession.builder  # SparkSession 빌더 패턴 시작\n",
    "           .appName(\"time-travel-delta-table\")  # 애플리케이션 이름 설정\n",
    "           .master(\"spark://spark-master:7077\")  # Spark 마스터 URL 설정\n",
    "           .config(\"spark.executor.memory\", \"512m\")  # Spark 설정 옵션\n",
    "           .config(\"spark.sql.extensions\", \"io.delta.sql.DeltaSparkSessionExtension\")  # Spark 설정 옵션\n",
    "           .config(\"spark.sql.catalog.spark_catalog\", \"org.apache.spark.sql.delta.catalog.DeltaCatalog\")  # Spark 설정 옵션)\n",
    "\n",
    "spark = configure_spark_with_delta_pip(builder).getOrCreate()  # SparkSession 생성 또는 기존 세션 반환\n",
    "spark.sparkContext.setLogLevel(\"ERROR\")  # 로그 레벨을 ERROR로 설정"
   ]
  },
  {
   "cell_type": "code",
   "execution_count": 3,
   "id": "fdaf277c-6331-4415-88f1-2c47771e215f",
   "metadata": {
    "tags": []
   },
   "outputs": [],
   "source": [
    "%load_ext sparksql_magic\n",
    "%config SparkSql.limit=20"
   ]
  },
  {
   "cell_type": "code",
   "execution_count": 4,
   "id": "2b8fe9e8-6ba7-4bf5-858a-a01aa0a98d2f",
   "metadata": {},
   "outputs": [
    {
     "name": "stderr",
     "output_type": "stream",
     "text": [
      "                                                                                \r"
     ]
    },
    {
     "data": {
      "text/html": [
       "<table><tr style=\"border-bottom: 1px solid\"><td style=\"font-weight: bold\">format</td><td style=\"font-weight: bold\">id</td><td style=\"font-weight: bold\">name</td><td style=\"font-weight: bold\">description</td><td style=\"font-weight: bold\">location</td><td style=\"font-weight: bold\">createdAt</td><td style=\"font-weight: bold\">lastModified</td><td style=\"font-weight: bold\">partitionColumns</td><td style=\"font-weight: bold\">numFiles</td><td style=\"font-weight: bold\">sizeInBytes</td><td style=\"font-weight: bold\">properties</td><td style=\"font-weight: bold\">minReaderVersion</td><td style=\"font-weight: bold\">minWriterVersion</td><td style=\"font-weight: bold\">tableFeatures</td></tr><tr><td>delta</td><td>b9362c59-8f8a-4ced-b9a4-f4d5a4c59767</td><td>null</td><td>null</td><td>file:/opt/workspace/data/delta_lake/netflix_titles</td><td>2024-02-04 17:03:06.775000</td><td>2024-02-04 17:14:08.504000</td><td>[]</td><td>1</td><td>1963749</td><td>{&#x27;delta.deletedFileRetentionDuration&#x27;: &#x27;interval 14 days&#x27;, &#x27;delta.logRetentionDuration&#x27;: &#x27;interval 60 days&#x27;}</td><td>1</td><td>2</td><td>[&#x27;appendOnly&#x27;, &#x27;invariants&#x27;]</td></tr></table>"
      ],
      "text/plain": [
       "<IPython.core.display.HTML object>"
      ]
     },
     "execution_count": 4,
     "metadata": {},
     "output_type": "execute_result"
    }
   ],
   "source": [
    "%%sparksql\n",
    "DESCRIBE DETAIL delta.`/opt/workspace/data/delta_lake/netflix_titles`"
   ]
  },
  {
   "cell_type": "code",
   "execution_count": 5,
   "id": "a0e26449-e04a-4cf5-a42f-5594943bd3fa",
   "metadata": {
    "tags": []
   },
   "outputs": [
    {
     "name": "stderr",
     "output_type": "stream",
     "text": [
      "[Stage 16:>                                                         (0 + 1) / 1]\r"
     ]
    },
    {
     "name": "stdout",
     "output_type": "stream",
     "text": [
      "+-------+-------+--------------------+---------------+--------------------+-------------+------------------+------------+------+---------+--------------------+--------------------+\n",
      "|show_id|   type|               title|       director|                cast|      country|        date_added|release_year|rating| duration|           listed_in|         description|\n",
      "+-------+-------+--------------------+---------------+--------------------+-------------+------------------+------------+------+---------+--------------------+--------------------+\n",
      "|     s1|  Movie|Dick Johnson Is Dead|Kirsten Johnson|                null|United States|September 25, 2021|        2020| PG-13|   90 min|       Documentaries|As her father nea...|\n",
      "|     s2|TV Show|       Blood & Water|           null|Ama Qamata, Khosi...| South Africa|September 24, 2021|        2021| TV-MA|2 Seasons|International TV ...|After crossing pa...|\n",
      "|     s3|TV Show|           Ganglands|Julien Leclercq|Sami Bouajila, Tr...|         null|September 24, 2021|        2021| TV-MA| 1 Season|Crime TV Shows, I...|To protect his fa...|\n",
      "|     s4|TV Show|Jailbirds New Orl...|           null|                null|         null|September 24, 2021|        2021| TV-MA| 1 Season|Docuseries, Reali...|Feuds, flirtation...|\n",
      "|     s5|TV Show|        Kota Factory|           null|Mayur More, Jiten...|        India|September 24, 2021|        2021| TV-MA|2 Seasons|International TV ...|In a city of coac...|\n",
      "+-------+-------+--------------------+---------------+--------------------+-------------+------------------+------------+------+---------+--------------------+--------------------+\n",
      "only showing top 5 rows\n",
      "\n"
     ]
    },
    {
     "name": "stderr",
     "output_type": "stream",
     "text": [
      "                                                                                \r"
     ]
    }
   ],
   "source": [
    "df = spark.read.format(\"delta\").option(\"versionAsOf\", 1).load(  # 파일 로드\"/opt/workspace/data/delta_lake/netflix_titles\")\n",
    "df.show(5)"
   ]
  },
  {
   "cell_type": "code",
   "execution_count": 6,
   "id": "1c7df3ad-58bf-4fcc-a9d1-97e40e536845",
   "metadata": {},
   "outputs": [
    {
     "name": "stderr",
     "output_type": "stream",
     "text": [
      "                                                                                \r"
     ]
    },
    {
     "data": {
      "text/html": [
       "<table><tr style=\"border-bottom: 1px solid\"><td style=\"font-weight: bold\">show_id</td><td style=\"font-weight: bold\">type</td><td style=\"font-weight: bold\">title</td><td style=\"font-weight: bold\">director</td><td style=\"font-weight: bold\">cast</td><td style=\"font-weight: bold\">country</td><td style=\"font-weight: bold\">date_added</td><td style=\"font-weight: bold\">release_year</td><td style=\"font-weight: bold\">rating</td><td style=\"font-weight: bold\">duration</td><td style=\"font-weight: bold\">listed_in</td><td style=\"font-weight: bold\">description</td></tr><tr><td>s1</td><td>Movie</td><td>Dick Johnson Is Dead</td><td>Kirsten Johnson</td><td>null</td><td>United States</td><td>September 25, 2021</td><td>2020</td><td>PG-13</td><td>90 min</td><td>Documentaries</td><td>As her father nears the end of his life, filmmaker Kirsten Johnson stages his death in inventive and comical ways to help them both face the inevitable.</td></tr><tr><td>s2</td><td>TV Show</td><td>Blood &amp; Water</td><td>null</td><td>Ama Qamata, Khosi Ngema, Gail Mabalane, Thabang Molaba, Dillon Windvogel, Natasha Thahane, Arno Greeff, Xolile Tshabalala, Getmore Sithole, Cindy Mahlangu, Ryle De Morny, Greteli Fincham, Sello Maake Ka-Ncube, Odwa Gwanya, Mekaila Mathys, Sandi Schultz, Duane Williams, Shamilla Miller, Patrick Mofokeng</td><td>South Africa</td><td>September 24, 2021</td><td>2021</td><td>TV-MA</td><td>2 Seasons</td><td>International TV Shows, TV Dramas, TV Mysteries</td><td>After crossing paths at a party, a Cape Town teen sets out to prove whether a private-school swimming star is her sister who was abducted at birth.</td></tr><tr><td>s3</td><td>TV Show</td><td>Ganglands</td><td>Julien Leclercq</td><td>Sami Bouajila, Tracy Gotoas, Samuel Jouy, Nabiha Akkari, Sofia Lesaffre, Salim Kechiouche, Noureddine Farihi, Geert Van Rampelberg, Bakary Diombera</td><td>null</td><td>September 24, 2021</td><td>2021</td><td>TV-MA</td><td>1 Season</td><td>Crime TV Shows, International TV Shows, TV Action &amp; Adventure</td><td>To protect his family from a powerful drug lord, skilled thief Mehdi and his expert team of robbers are pulled into a violent and deadly turf war.</td></tr></table>"
      ],
      "text/plain": [
       "<IPython.core.display.HTML object>"
      ]
     },
     "execution_count": 6,
     "metadata": {},
     "output_type": "execute_result"
    }
   ],
   "source": [
    "%%sparksql\n",
    "SELECT * FROM delta.`/opt/workspace/data/delta_lake/netflix_titles` VERSION AS OF 1 LIMIT 3;"
   ]
  },
  {
   "cell_type": "code",
   "execution_count": 7,
   "id": "a393dc01-bb1f-4c59-9ce3-4a39a87e72e4",
   "metadata": {},
   "outputs": [
    {
     "name": "stderr",
     "output_type": "stream",
     "text": [
      "                                                                                \r"
     ]
    },
    {
     "data": {
      "text/plain": [
       "DataFrame[table_size_after_restore: bigint, num_of_files_after_restore: bigint, num_removed_files: bigint, num_restored_files: bigint, removed_files_size: bigint, restored_files_size: bigint]"
      ]
     },
     "execution_count": 7,
     "metadata": {},
     "output_type": "execute_result"
    }
   ],
   "source": [
    "deltaTable = DeltaTable  # Delta 테이블 작업을 위한 클래스.forPath(spark, \"/opt/workspace/data/delta_lake/netflix_titles\")  # path-based tables, or\n",
    "deltaTable.restoreToVersion(3) # restore table to oldest version"
   ]
  },
  {
   "cell_type": "code",
   "execution_count": 8,
   "id": "cf53ff0e-c13b-443f-863f-3a3e90393cb2",
   "metadata": {},
   "outputs": [
    {
     "name": "stderr",
     "output_type": "stream",
     "text": [
      "                                                                                \r"
     ]
    },
    {
     "data": {
      "text/html": [
       "<table><tr style=\"border-bottom: 1px solid\"><td style=\"font-weight: bold\">table_size_after_restore</td><td style=\"font-weight: bold\">num_of_files_after_restore</td><td style=\"font-weight: bold\">num_removed_files</td><td style=\"font-weight: bold\">num_restored_files</td><td style=\"font-weight: bold\">removed_files_size</td><td style=\"font-weight: bold\">restored_files_size</td></tr><tr><td>1963749</td><td>1</td><td>0</td><td>0</td><td>0</td><td>0</td></tr></table>"
      ],
      "text/plain": [
       "<IPython.core.display.HTML object>"
      ]
     },
     "execution_count": 8,
     "metadata": {},
     "output_type": "execute_result"
    }
   ],
   "source": [
    "%%sparksql\n",
    "RESTORE TABLE delta.`/opt/workspace/data/delta_lake/netflix_titles` TO VERSION AS OF 3;"
   ]
  },
  {
   "cell_type": "code",
   "execution_count": 9,
   "id": "54ef54c0-6891-4335-b345-a12eb5ee7434",
   "metadata": {},
   "outputs": [
    {
     "name": "stderr",
     "output_type": "stream",
     "text": [
      "                                                                                \r"
     ]
    },
    {
     "data": {
      "text/html": [
       "<table><tr style=\"border-bottom: 1px solid\"><td style=\"font-weight: bold\">version</td><td style=\"font-weight: bold\">timestamp</td><td style=\"font-weight: bold\">userId</td><td style=\"font-weight: bold\">userName</td><td style=\"font-weight: bold\">operation</td><td style=\"font-weight: bold\">operationParameters</td><td style=\"font-weight: bold\">job</td><td style=\"font-weight: bold\">notebook</td><td style=\"font-weight: bold\">clusterId</td><td style=\"font-weight: bold\">readVersion</td><td style=\"font-weight: bold\">isolationLevel</td><td style=\"font-weight: bold\">isBlindAppend</td><td style=\"font-weight: bold\">operationMetrics</td><td style=\"font-weight: bold\">userMetadata</td><td style=\"font-weight: bold\">engineInfo</td></tr><tr><td>7</td><td>2024-02-04 17:22:01.654000</td><td>null</td><td>null</td><td>RESTORE</td><td>{&#x27;version&#x27;: &#x27;3&#x27;, &#x27;timestamp&#x27;: None}</td><td>null</td><td>null</td><td>null</td><td>6</td><td>Serializable</td><td>False</td><td>{&#x27;removedFilesSize&#x27;: &#x27;0&#x27;, &#x27;tableSizeAfterRestore&#x27;: &#x27;1963749&#x27;, &#x27;numRemovedFiles&#x27;: &#x27;0&#x27;, &#x27;restoredFilesSize&#x27;: &#x27;0&#x27;, &#x27;numOfFilesAfterRestore&#x27;: &#x27;1&#x27;, &#x27;numRestoredFiles&#x27;: &#x27;0&#x27;}</td><td>null</td><td>Apache-Spark/3.4.1 Delta-Lake/2.4.0</td></tr><tr><td>6</td><td>2024-02-04 17:21:43.751000</td><td>null</td><td>null</td><td>RESTORE</td><td>{&#x27;version&#x27;: &#x27;3&#x27;, &#x27;timestamp&#x27;: None}</td><td>null</td><td>null</td><td>null</td><td>5</td><td>Serializable</td><td>False</td><td>{&#x27;removedFilesSize&#x27;: &#x27;1963749&#x27;, &#x27;tableSizeAfterRestore&#x27;: &#x27;1963749&#x27;, &#x27;numRemovedFiles&#x27;: &#x27;1&#x27;, &#x27;restoredFilesSize&#x27;: &#x27;1963749&#x27;, &#x27;numOfFilesAfterRestore&#x27;: &#x27;1&#x27;, &#x27;numRestoredFiles&#x27;: &#x27;1&#x27;}</td><td>null</td><td>Apache-Spark/3.4.1 Delta-Lake/2.4.0</td></tr><tr><td>5</td><td>2024-02-04 17:14:08.504000</td><td>null</td><td>null</td><td>OPTIMIZE</td><td>{&#x27;predicate&#x27;: &#x27;[]&#x27;, &#x27;zOrderBy&#x27;: &#x27;[&quot;country&quot;]&#x27;}</td><td>null</td><td>null</td><td>null</td><td>4</td><td>SnapshotIsolation</td><td>False</td><td>{&#x27;numRemovedBytes&#x27;: &#x27;1963749&#x27;, &#x27;p50FileSize&#x27;: &#x27;1963749&#x27;, &#x27;p25FileSize&#x27;: &#x27;1963749&#x27;, &#x27;numAddedFiles&#x27;: &#x27;1&#x27;, &#x27;minFileSize&#x27;: &#x27;1963749&#x27;, &#x27;p75FileSize&#x27;: &#x27;1963749&#x27;, &#x27;numDeletionVectorsRemoved&#x27;: &#x27;0&#x27;, &#x27;numAddedBytes&#x27;: &#x27;1963749&#x27;, &#x27;maxFileSize&#x27;: &#x27;1963749&#x27;, &#x27;numRemovedFiles&#x27;: &#x27;1&#x27;}</td><td>null</td><td>Apache-Spark/3.4.1 Delta-Lake/2.4.0</td></tr><tr><td>4</td><td>2024-02-04 17:14:01.672000</td><td>null</td><td>null</td><td>OPTIMIZE</td><td>{&#x27;predicate&#x27;: &#x27;[]&#x27;, &#x27;zOrderBy&#x27;: &#x27;[&quot;country&quot;]&#x27;}</td><td>null</td><td>null</td><td>null</td><td>3</td><td>SnapshotIsolation</td><td>False</td><td>{&#x27;numRemovedBytes&#x27;: &#x27;1963749&#x27;, &#x27;p50FileSize&#x27;: &#x27;1963749&#x27;, &#x27;p25FileSize&#x27;: &#x27;1963749&#x27;, &#x27;numAddedFiles&#x27;: &#x27;1&#x27;, &#x27;minFileSize&#x27;: &#x27;1963749&#x27;, &#x27;p75FileSize&#x27;: &#x27;1963749&#x27;, &#x27;numDeletionVectorsRemoved&#x27;: &#x27;0&#x27;, &#x27;numAddedBytes&#x27;: &#x27;1963749&#x27;, &#x27;maxFileSize&#x27;: &#x27;1963749&#x27;, &#x27;numRemovedFiles&#x27;: &#x27;1&#x27;}</td><td>null</td><td>Apache-Spark/3.4.1 Delta-Lake/2.4.0</td></tr><tr><td>3</td><td>2024-02-04 17:05:38.590000</td><td>null</td><td>null</td><td>UPDATE</td><td>{&#x27;predicate&#x27;: &#x27;[&quot;isnull(director#40)&quot;]&#x27;}</td><td>null</td><td>null</td><td>null</td><td>2</td><td>Serializable</td><td>False</td><td>{&#x27;numRemovedBytes&#x27;: &#x27;1960782&#x27;, &#x27;numAddedFiles&#x27;: &#x27;1&#x27;, &#x27;scanTimeMs&#x27;: &#x27;2915&#x27;, &#x27;numCopiedRows&#x27;: &#x27;6172&#x27;, &#x27;executionTimeMs&#x27;: &#x27;5820&#x27;, &#x27;numAddedChangeFiles&#x27;: &#x27;0&#x27;, &#x27;numAddedBytes&#x27;: &#x27;1963749&#x27;, &#x27;numUpdatedRows&#x27;: &#x27;2634&#x27;, &#x27;numRemovedFiles&#x27;: &#x27;1&#x27;, &#x27;rewriteTimeMs&#x27;: &#x27;2899&#x27;}</td><td>null</td><td>Apache-Spark/3.4.1 Delta-Lake/2.4.0</td></tr><tr><td>2</td><td>2024-02-04 17:04:16.904000</td><td>null</td><td>null</td><td>SET TBLPROPERTIES</td><td>{&#x27;properties&#x27;: &#x27;{&quot;delta.logRetentionDuration&quot;:&quot;interval 60 days&quot;,&quot;delta.deletedFileRetentionDuration&quot;:&quot;interval 14 days&quot;}&#x27;}</td><td>null</td><td>null</td><td>null</td><td>1</td><td>Serializable</td><td>True</td><td>{}</td><td>null</td><td>Apache-Spark/3.4.1 Delta-Lake/2.4.0</td></tr><tr><td>1</td><td>2024-02-04 17:03:13.178000</td><td>null</td><td>null</td><td>CREATE OR REPLACE TABLE AS SELECT</td><td>{&#x27;description&#x27;: None, &#x27;partitionBy&#x27;: &#x27;[]&#x27;, &#x27;properties&#x27;: &#x27;{}&#x27;, &#x27;isManaged&#x27;: &#x27;false&#x27;}</td><td>null</td><td>null</td><td>null</td><td>0</td><td>Serializable</td><td>False</td><td>{&#x27;numOutputRows&#x27;: &#x27;8806&#x27;, &#x27;numOutputBytes&#x27;: &#x27;1960782&#x27;, &#x27;numFiles&#x27;: &#x27;1&#x27;}</td><td>null</td><td>Apache-Spark/3.4.1 Delta-Lake/2.4.0</td></tr><tr><td>0</td><td>2024-02-04 17:03:06.818000</td><td>null</td><td>null</td><td>CREATE OR REPLACE TABLE</td><td>{&#x27;description&#x27;: None, &#x27;partitionBy&#x27;: &#x27;[]&#x27;, &#x27;properties&#x27;: &#x27;{}&#x27;, &#x27;isManaged&#x27;: &#x27;false&#x27;}</td><td>null</td><td>null</td><td>null</td><td>null</td><td>Serializable</td><td>True</td><td>{}</td><td>null</td><td>Apache-Spark/3.4.1 Delta-Lake/2.4.0</td></tr></table>"
      ],
      "text/plain": [
       "<IPython.core.display.HTML object>"
      ]
     },
     "execution_count": 9,
     "metadata": {},
     "output_type": "execute_result"
    }
   ],
   "source": [
    "%%sparksql\n",
    "DESCRIBE HISTORY \"/opt/workspace/data/delta_lake/netflix_titles\""
   ]
  },
  {
   "cell_type": "code",
   "execution_count": 10,
   "id": "8f09faf9-527c-4b78-ab54-7271ff8c1a0d",
   "metadata": {},
   "outputs": [],
   "source": [
    "spark.stop()  # Spark 세션 종료 - 리소스 정리"
   ]
  },
  {
   "cell_type": "code",
   "execution_count": null,
   "id": "eb50bf35-6d6d-43b1-bbcd-af170e869f83",
   "metadata": {},
   "outputs": [],
   "source": []
  }
 ],
 "metadata": {
  "kernelspec": {
   "display_name": "Python 3 (ipykernel)",
   "language": "python",
   "name": "python3"
  },
  "language_info": {
   "codemirror_mode": {
    "name": "ipython",
    "version": 3
   },
   "file_extension": ".py",
   "mimetype": "text/x-python",
   "name": "python",
   "nbconvert_exporter": "python",
   "pygments_lexer": "ipython3",
   "version": "3.10.12"
  }
 },
 "nbformat": 4,
 "nbformat_minor": 5
}