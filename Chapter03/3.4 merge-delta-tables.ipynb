{
 "cells": [
  {
   "cell_type": "code",
   "execution_count": 1,
   "id": "f53f1d31-7527-4ffc-a5ab-73aa4a52ebfe",
   "metadata": {
    "tags": []
   },
   "outputs": [],
   "source": [
    "from delta import  # Delta Lake 라이브러리 임포트 configure_spark_with_delta_pip, DeltaTable\n",
    "from pyspark.sql import SparkSession  # Spark SQL 작업을 위한 SparkSession 임포트"
   ]
  },
  {
   "cell_type": "code",
   "execution_count": 2,
   "id": "2b211680-15d4-4f8a-863d-e88f041671db",
   "metadata": {
    "tags": []
   },
   "outputs": [
    {
     "name": "stdout",
     "output_type": "stream",
     "text": [
      ":: loading settings :: url = jar:file:/usr/local/lib/python3.10/dist-packages/pyspark/jars/ivy-2.5.1.jar!/org/apache/ivy/core/settings/ivysettings.xml\n"
     ]
    },
    {
     "name": "stderr",
     "output_type": "stream",
     "text": [
      "Ivy Default Cache set to: /root/.ivy2/cache\n",
      "The jars for the packages stored in: /root/.ivy2/jars\n",
      "io.delta#delta-core_2.12 added as a dependency\n",
      ":: resolving dependencies :: org.apache.spark#spark-submit-parent-182274dc-734e-4791-82a9-05b5a235384b;1.0\n",
      "\tconfs: [default]\n",
      "\tfound io.delta#delta-core_2.12;2.4.0 in central\n",
      "\tfound io.delta#delta-storage;2.4.0 in central\n",
      "\tfound org.antlr#antlr4-runtime;4.9.3 in central\n",
      ":: resolution report :: resolve 335ms :: artifacts dl 13ms\n",
      "\t:: modules in use:\n",
      "\tio.delta#delta-core_2.12;2.4.0 from central in [default]\n",
      "\tio.delta#delta-storage;2.4.0 from central in [default]\n",
      "\torg.antlr#antlr4-runtime;4.9.3 from central in [default]\n",
      "\t---------------------------------------------------------------------\n",
      "\t|                  |            modules            ||   artifacts   |\n",
      "\t|       conf       | number| search|dwnlded|evicted|| number|dwnlded|\n",
      "\t---------------------------------------------------------------------\n",
      "\t|      default     |   3   |   0   |   0   |   0   ||   3   |   0   |\n",
      "\t---------------------------------------------------------------------\n",
      ":: retrieving :: org.apache.spark#spark-submit-parent-182274dc-734e-4791-82a9-05b5a235384b\n",
      "\tconfs: [default]\n",
      "\t0 artifacts copied, 3 already retrieved (0kB/14ms)\n",
      "24/02/04 17:06:33 WARN NativeCodeLoader: Unable to load native-hadoop library for your platform... using builtin-java classes where applicable\n",
      "Setting default log level to \"WARN\".\n",
      "To adjust logging level use sc.setLogLevel(newLevel). For SparkR, use setLogLevel(newLevel).\n"
     ]
    }
   ],
   "source": [
    "builder = (SparkSession.builder  # SparkSession 빌더 패턴 시작\n",
    "           .appName(\"merge-delta-table\")  # 애플리케이션 이름 설정\n",
    "           .master(\"spark://spark-master:7077\")  # Spark 마스터 URL 설정\n",
    "           .config(\"spark.executor.memory\", \"512m\")  # Spark 설정 옵션\n",
    "           .config(\"spark.sql.extensions\", \"io.delta.sql.DeltaSparkSessionExtension\")  # Spark 설정 옵션\n",
    "           .config(\"spark.sql.catalog.spark_catalog\", \"org.apache.spark.sql.delta.catalog.DeltaCatalog\")  # Spark 설정 옵션)\n",
    "\n",
    "spark = configure_spark_with_delta_pip(builder).getOrCreate()  # SparkSession 생성 또는 기존 세션 반환\n",
    "spark.sparkContext.setLogLevel(\"ERROR\")  # 로그 레벨을 ERROR로 설정"
   ]
  },
  {
   "cell_type": "code",
   "execution_count": 3,
   "id": "fdaf277c-6331-4415-88f1-2c47771e215f",
   "metadata": {
    "tags": []
   },
   "outputs": [],
   "source": [
    "%load_ext sparksql_magic\n",
    "%config SparkSql.limit=20"
   ]
  },
  {
   "cell_type": "code",
   "execution_count": 4,
   "id": "0796f1b6-28bd-4a6b-bee2-efdf43f2067f",
   "metadata": {},
   "outputs": [
    {
     "name": "stderr",
     "output_type": "stream",
     "text": [
      "                                                                                \r"
     ]
    },
    {
     "data": {
      "text/html": [
       "<table><tr style=\"border-bottom: 1px solid\"></tr></table>"
      ],
      "text/plain": [
       "<IPython.core.display.HTML object>"
      ]
     },
     "execution_count": 4,
     "metadata": {},
     "output_type": "execute_result"
    }
   ],
   "source": [
    "%%sparksql \n",
    "CREATE OR REPLACE TABLE default.movie_and_show_titles ( \n",
    "    show_id STRING, \n",
    "    type STRING, \n",
    "    title STRING, \n",
    "    director STRING, \n",
    "    cast STRING, \n",
    "    country STRING, \n",
    "    date_added STRING, \n",
    "    release_year STRING, \n",
    "    rating STRING, \n",
    "    duration STRING, \n",
    "    listed_in STRING, \n",
    "    description STRING  \n",
    ") USING DELTA  # Delta Lake 테이블 생성 LOCATION '/opt/workspace/data/delta_lake/movie_and_show_titles'; "
   ]
  },
  {
   "cell_type": "code",
   "execution_count": 5,
   "id": "a0e26449-e04a-4cf5-a42f-5594943bd3fa",
   "metadata": {
    "tags": []
   },
   "outputs": [],
   "source": [
    "# For PySpark:\n",
    "deltaTable_titles = DeltaTable  # Delta 테이블 작업을 위한 클래스.forPath(spark, \"/opt/workspace/data/delta_lake/movie_and_show_titles\")"
   ]
  },
  {
   "cell_type": "code",
   "execution_count": 6,
   "id": "7155a926-8214-47ad-bf6e-74a7521cc8f5",
   "metadata": {},
   "outputs": [
    {
     "name": "stderr",
     "output_type": "stream",
     "text": [
      "[Stage 8:==============================================>          (41 + 1) / 50]\r"
     ]
    },
    {
     "name": "stdout",
     "output_type": "stream",
     "text": [
      "+-------+----+-----+--------+----+-------+----------+------------+------+--------+---------+-----------+\n",
      "|show_id|type|title|director|cast|country|date_added|release_year|rating|duration|listed_in|description|\n",
      "+-------+----+-----+--------+----+-------+----------+------------+------+--------+---------+-----------+\n",
      "+-------+----+-----+--------+----+-------+----------+------------+------+--------+---------+-----------+\n",
      "\n"
     ]
    },
    {
     "name": "stderr",
     "output_type": "stream",
     "text": [
      "                                                                                \r"
     ]
    }
   ],
   "source": [
    "deltaTable_titles.toDF().show(5)"
   ]
  },
  {
   "cell_type": "code",
   "execution_count": 8,
   "id": "8a52db04-0542-4886-8f4c-f1bd7428e0f9",
   "metadata": {},
   "outputs": [
    {
     "name": "stderr",
     "output_type": "stream",
     "text": [
      "                                                                                \r"
     ]
    }
   ],
   "source": [
    "# For PySpark:\n",
    "df_netflix = spark.read.format(\"delta\").load(  # 파일 로드\"/opt/workspace/data/delta_lake/netflix_titles\")\n",
    "df_netflix_deduped = df_netflix.dropDuplicates(  # 중복 데이터 제거[\"type\", \"title\", \"director\", \"date_added\"])"
   ]
  },
  {
   "cell_type": "code",
   "execution_count": 9,
   "id": "0fd2daa9-20ae-4123-8f1c-13b72507ee78",
   "metadata": {},
   "outputs": [
    {
     "name": "stderr",
     "output_type": "stream",
     "text": [
      "                                                                                \r"
     ]
    }
   ],
   "source": [
    "(deltaTable_titles.alias(  # 컬럼 별칭 설정'movie_and_show_titles')\n",
    " .merge(df_netflix_deduped.alias(  # 컬럼 별칭 설정'updates')\n",
    "        ,\"\"\"lower(  # 소문자로 변환movie_and_show_titles.type) = lower(  # 소문자로 변환updates.type)\n",
    "          AND lower(  # 소문자로 변환movie_and_show_titles.title) = lower(  # 소문자로 변환updates.title)\n",
    "          AND lower(  # 소문자로 변환movie_and_show_titles.director) = lower(  # 소문자로 변환updates.director)\n",
    "          AND movie_and_show_titles.date_added = updates.date_added\"\"\")\n",
    " .whenMatchedUpdate(set ={\n",
    "    \"show_id\": \"updates.show_id\",\n",
    "     \"type\": \"updates.type\",\n",
    "     \"title\" : \"updates.title\",\n",
    "     \"director\" : \"updates.director\",\n",
    "     \"cast\" : \"updates.cast\",\n",
    "     \"country\" : \"updates.country\",\n",
    "     \"date_added\" : \"updates.date_added\",\n",
    "     \"release_year\" : \"updates.release_year\",\n",
    "     \"rating\" : \"updates.rating\",\n",
    "     \"duration\" : \"updates.duration\",\n",
    "     \"listed_in\" : \"updates.listed_in\",\n",
    "     \"description\" : \"updates.description\"})\n",
    " .whenNotMatchedInsert(values = {\n",
    "    \"show_id\": \"updates.show_id\",\n",
    "     \"type\": \"updates.type\",\n",
    "     \"title\" : \"updates.title\",\n",
    "     \"director\" : \"updates.director\",\n",
    "     \"cast\" : \"updates.cast\",\n",
    "     \"country\" : \"updates.country\",\n",
    "     \"date_added\" : \"updates.date_added\",\n",
    "     \"release_year\" : \"updates.release_year\",\n",
    "     \"rating\" : \"updates.rating\",\n",
    "     \"duration\" : \"updates.duration\",\n",
    "     \"listed_in\" : \"updates.listed_in\",\n",
    "     \"description\" : \"updates.description\"})\n",
    "  .execute())"
   ]
  },
  {
   "cell_type": "code",
   "execution_count": 10,
   "id": "e548d55e-643e-47db-a3e9-428407d44363",
   "metadata": {},
   "outputs": [
    {
     "name": "stderr",
     "output_type": "stream",
     "text": [
      "                                                                                \r"
     ]
    },
    {
     "data": {
      "text/html": [
       "<table><tr style=\"border-bottom: 1px solid\"><td style=\"font-weight: bold\">version</td><td style=\"font-weight: bold\">timestamp</td><td style=\"font-weight: bold\">userId</td><td style=\"font-weight: bold\">userName</td><td style=\"font-weight: bold\">operation</td><td style=\"font-weight: bold\">operationParameters</td><td style=\"font-weight: bold\">job</td><td style=\"font-weight: bold\">notebook</td><td style=\"font-weight: bold\">clusterId</td><td style=\"font-weight: bold\">readVersion</td><td style=\"font-weight: bold\">isolationLevel</td><td style=\"font-weight: bold\">isBlindAppend</td><td style=\"font-weight: bold\">operationMetrics</td><td style=\"font-weight: bold\">userMetadata</td><td style=\"font-weight: bold\">engineInfo</td></tr><tr><td>1</td><td>2024-02-04 17:08:35.600000</td><td>null</td><td>null</td><td>MERGE</td><td>{&#x27;matchedPredicates&#x27;: &#x27;[{&quot;actionType&quot;:&quot;update&quot;}]&#x27;, &#x27;predicate&#x27;: &#x27;[&quot;(((lower(type#329) = lower(type#553)) AND (lower(title#330) = lower(title#554))) AND ((lower(director#331) = lower(director#555)) AND (date_added#334 = date_added#558)))&quot;]&#x27;, &#x27;notMatchedBySourcePredicates&#x27;: &#x27;[]&#x27;, &#x27;notMatchedPredicates&#x27;: &#x27;[{&quot;actionType&quot;:&quot;insert&quot;}]&#x27;}</td><td>null</td><td>null</td><td>null</td><td>0</td><td>Serializable</td><td>False</td><td>{&#x27;numOutputRows&#x27;: &#x27;8806&#x27;, &#x27;numTargetBytesAdded&#x27;: &#x27;2033266&#x27;, &#x27;numTargetRowsInserted&#x27;: &#x27;8806&#x27;, &#x27;numTargetFilesAdded&#x27;: &#x27;2&#x27;, &#x27;numTargetRowsMatchedDeleted&#x27;: &#x27;0&#x27;, &#x27;numTargetFilesRemoved&#x27;: &#x27;0&#x27;, &#x27;numTargetRowsMatchedUpdated&#x27;: &#x27;0&#x27;, &#x27;executionTimeMs&#x27;: &#x27;12669&#x27;, &#x27;numTargetRowsCopied&#x27;: &#x27;0&#x27;, &#x27;rewriteTimeMs&#x27;: &#x27;2864&#x27;, &#x27;numTargetRowsUpdated&#x27;: &#x27;0&#x27;, &#x27;numTargetRowsDeleted&#x27;: &#x27;0&#x27;, &#x27;scanTimeMs&#x27;: &#x27;2247&#x27;, &#x27;numSourceRows&#x27;: &#x27;8806&#x27;, &#x27;numTargetChangeFilesAdded&#x27;: &#x27;0&#x27;, &#x27;numTargetRowsNotMatchedBySourceUpdated&#x27;: &#x27;0&#x27;, &#x27;numTargetRowsNotMatchedBySourceDeleted&#x27;: &#x27;0&#x27;, &#x27;numTargetBytesRemoved&#x27;: &#x27;0&#x27;}</td><td>null</td><td>Apache-Spark/3.4.1 Delta-Lake/2.4.0</td></tr><tr><td>0</td><td>2024-02-04 17:06:44.364000</td><td>null</td><td>null</td><td>CREATE OR REPLACE TABLE</td><td>{&#x27;description&#x27;: None, &#x27;partitionBy&#x27;: &#x27;[]&#x27;, &#x27;properties&#x27;: &#x27;{}&#x27;, &#x27;isManaged&#x27;: &#x27;false&#x27;}</td><td>null</td><td>null</td><td>null</td><td>null</td><td>Serializable</td><td>True</td><td>{}</td><td>null</td><td>Apache-Spark/3.4.1 Delta-Lake/2.4.0</td></tr></table>"
      ],
      "text/plain": [
       "<IPython.core.display.HTML object>"
      ]
     },
     "execution_count": 10,
     "metadata": {},
     "output_type": "execute_result"
    }
   ],
   "source": [
    "%%sparksql\n",
    "DESCRIBE HISTORY \"/opt/workspace/data/delta_lake/movie_and_show_titles\""
   ]
  },
  {
   "cell_type": "code",
   "execution_count": 11,
   "id": "1b1ea99b-0bcc-4044-929a-0c7078958697",
   "metadata": {},
   "outputs": [],
   "source": [
    "# 읽기 CSV file into a DataFrame\n",
    "df_titles = (spark.read\n",
    "      .format(\"csv\")\n",
    "      .option(\"header\", \"true\")  # 첫 번째 행을 헤더로 사용\n",
    "      .load(  # 파일 로드\"../data/titles.csv\"))"
   ]
  },
  {
   "cell_type": "code",
   "execution_count": 12,
   "id": "641cde6c-39b5-4ff8-ad87-9cc1f5108b35",
   "metadata": {},
   "outputs": [],
   "source": [
    "df_titles_deduped = df_titles.dropDuplicates(  # 중복 데이터 제거[\"type\", \"title\"])"
   ]
  },
  {
   "cell_type": "code",
   "execution_count": 13,
   "id": "1daa60f2-f939-4082-a801-885961c70dd2",
   "metadata": {},
   "outputs": [
    {
     "name": "stdout",
     "output_type": "stream",
     "text": [
      "root\n",
      " |-- id: string (nullable = true)\n",
      " |-- title: string (nullable = true)\n",
      " |-- type: string (nullable = true)\n",
      " |-- description: string (nullable = true)\n",
      " |-- release_year: string (nullable = true)\n",
      " |-- age_certification: string (nullable = true)\n",
      " |-- runtime: string (nullable = true)\n",
      " |-- genres: string (nullable = true)\n",
      " |-- production_countries: string (nullable = true)\n",
      " |-- seasons: string (nullable = true)\n",
      " |-- imdb_id: string (nullable = true)\n",
      " |-- imdb_score: string (nullable = true)\n",
      " |-- imdb_votes: string (nullable = true)\n",
      " |-- tmdb_popularity: string (nullable = true)\n",
      " |-- tmdb_score: string (nullable = true)\n",
      "\n"
     ]
    }
   ],
   "source": [
    "df_titles_deduped.printSchema()  # DataFrame 스키마 구조 출력"
   ]
  },
  {
   "cell_type": "code",
   "execution_count": 14,
   "id": "e36b9ab9-0d56-4b56-9d09-4781b1f88fd7",
   "metadata": {},
   "outputs": [],
   "source": [
    "df_titles_deduped.createOrReplaceTempView(  # 임시 뷰 생성\"titles_deduped\")"
   ]
  },
  {
   "cell_type": "code",
   "execution_count": 15,
   "id": "2c4e9b55-d166-47a3-bec9-e6bd6adc8f65",
   "metadata": {},
   "outputs": [
    {
     "name": "stderr",
     "output_type": "stream",
     "text": [
      "                                                                                \r"
     ]
    }
   ],
   "source": [
    "(deltaTable_titles.alias(  # 컬럼 별칭 설정'movie_and_show_titles')\n",
    " .merge(df_titles_deduped.alias(  # 컬럼 별칭 설정'updates')\n",
    "        ,\"\"\"lower(  # 소문자로 변환movie_and_show_titles.type) = lower(  # 소문자로 변환updates.type)\n",
    "          AND lower(  # 소문자로 변환movie_and_show_titles.title) = lower(  # 소문자로 변환updates.title)\n",
    "          AND movie_and_show_titles.release_year = updates.release_year\"\"\")\n",
    " .whenMatchedUpdate(set ={\n",
    "     \"show_id\" : \"updates.id\",\n",
    "     \"type\" : \"updates.type\",\n",
    "     \"title\" : \"updates.title\",\n",
    "     \"country\" : \"updates.production_countries\",\n",
    "     \"release_year\" : \"updates.release_year\",\n",
    "     \"rating\" : \"updates.age_certification\",\n",
    "     \"duration\" : \"updates.runtime\",\n",
    "     \"listed_in\" : \"updates.genres\",\n",
    "     \"description\" : \"updates.description\"})\n",
    " .whenNotMatchedInsert(values = {\n",
    "     \"show_id\" : \"updates.id\",\n",
    "     \"type\" : \"updates.type\",\n",
    "     \"title\" : \"updates.title\",\n",
    "     \"country\" : \"updates.production_countries\",\n",
    "     \"release_year\" : \"updates.release_year\",\n",
    "     \"rating\" : \"updates.age_certification\",\n",
    "     \"duration\" : \"updates.runtime\",\n",
    "     \"listed_in\" : \"updates.genres\",\n",
    "     \"description\" : \"updates.description\"})\n",
    "  .execute())"
   ]
  },
  {
   "cell_type": "code",
   "execution_count": 16,
   "id": "ba99b8e8-6e3b-44dc-99de-bfebdeef4183",
   "metadata": {},
   "outputs": [
    {
     "name": "stderr",
     "output_type": "stream",
     "text": [
      "                                                                                \r"
     ]
    },
    {
     "data": {
      "text/html": [
       "<table><tr style=\"border-bottom: 1px solid\"><td style=\"font-weight: bold\">num_affected_rows</td><td style=\"font-weight: bold\">num_updated_rows</td><td style=\"font-weight: bold\">num_deleted_rows</td><td style=\"font-weight: bold\">num_inserted_rows</td></tr><tr><td>5899</td><td>5826</td><td>0</td><td>73</td></tr></table>"
      ],
      "text/plain": [
       "<IPython.core.display.HTML object>"
      ]
     },
     "execution_count": 16,
     "metadata": {},
     "output_type": "execute_result"
    }
   ],
   "source": [
    "%%sparksql\n",
    "MERGE INTO default.movie_and_show_titles\n",
    "USING titles_deduped\n",
    "ON lower(  # 소문자로 변환default.movie_and_show_titles.type) = lower(  # 소문자로 변환titles_deduped.type) \n",
    "    AND lower(  # 소문자로 변환default.movie_and_show_titles.title) = lower(  # 소문자로 변환titles_deduped.title) \n",
    "    AND default.movie_and_show_titles.release_year = titles_deduped.release_year\n",
    "WHEN MATCHED THEN\n",
    "  UPDATE SET\n",
    "    show_id = titles_deduped.id,\n",
    "    type = titles_deduped.type,\n",
    "    title = titles_deduped.title,\n",
    "    country = titles_deduped.production_countries,\n",
    "    release_year = titles_deduped.release_year,\n",
    "    rating = titles_deduped.age_certification,\n",
    "    duration = titles_deduped.runtime,\n",
    "    listed_in = titles_deduped.genres,\n",
    "    description = titles_deduped.description\n",
    "WHEN NOT MATCHED\n",
    "  THEN INSERT (\n",
    "    show_id,\n",
    "    type,\n",
    "    title,\n",
    "    country,\n",
    "    release_year,\n",
    "    rating,\n",
    "    duration,\n",
    "    listed_in,\n",
    "    description\n",
    "  )\n",
    "  VALUES (\n",
    "    titles_deduped.id,\n",
    "    titles_deduped.type,\n",
    "    titles_deduped.title,\n",
    "    titles_deduped.production_countries,\n",
    "    titles_deduped.release_year,\n",
    "    titles_deduped.age_certification,\n",
    "    titles_deduped.runtime,\n",
    "    titles_deduped.genres,\n",
    "    titles_deduped.description\n",
    "  )"
   ]
  },
  {
   "cell_type": "code",
   "execution_count": 17,
   "id": "1c7df3ad-58bf-4fcc-a9d1-97e40e536845",
   "metadata": {},
   "outputs": [
    {
     "data": {
      "text/html": [
       "<table><tr style=\"border-bottom: 1px solid\"><td style=\"font-weight: bold\">version</td><td style=\"font-weight: bold\">timestamp</td><td style=\"font-weight: bold\">userId</td><td style=\"font-weight: bold\">userName</td><td style=\"font-weight: bold\">operation</td><td style=\"font-weight: bold\">operationParameters</td><td style=\"font-weight: bold\">job</td><td style=\"font-weight: bold\">notebook</td><td style=\"font-weight: bold\">clusterId</td><td style=\"font-weight: bold\">readVersion</td><td style=\"font-weight: bold\">isolationLevel</td><td style=\"font-weight: bold\">isBlindAppend</td><td style=\"font-weight: bold\">operationMetrics</td><td style=\"font-weight: bold\">userMetadata</td><td style=\"font-weight: bold\">engineInfo</td></tr><tr><td>3</td><td>2024-02-04 17:08:59.187000</td><td>null</td><td>null</td><td>MERGE</td><td>{&#x27;matchedPredicates&#x27;: &#x27;[{&quot;actionType&quot;:&quot;update&quot;}]&#x27;, &#x27;predicate&#x27;: &#x27;[&quot;(((lower(type#3518) = lower(type#2328)) AND (lower(title#3519) = lower(title#2327))) AND (release_year#3524 = release_year#2330))&quot;]&#x27;, &#x27;notMatchedBySourcePredicates&#x27;: &#x27;[]&#x27;, &#x27;notMatchedPredicates&#x27;: &#x27;[{&quot;actionType&quot;:&quot;insert&quot;}]&#x27;}</td><td>null</td><td>null</td><td>null</td><td>2</td><td>Serializable</td><td>False</td><td>{&#x27;numOutputRows&#x27;: &#x27;12557&#x27;, &#x27;numTargetBytesAdded&#x27;: &#x27;2858145&#x27;, &#x27;numTargetRowsInserted&#x27;: &#x27;73&#x27;, &#x27;numTargetFilesAdded&#x27;: &#x27;2&#x27;, &#x27;numTargetRowsMatchedDeleted&#x27;: &#x27;0&#x27;, &#x27;numTargetFilesRemoved&#x27;: &#x27;2&#x27;, &#x27;numTargetRowsMatchedUpdated&#x27;: &#x27;5826&#x27;, &#x27;executionTimeMs&#x27;: &#x27;4850&#x27;, &#x27;numTargetRowsCopied&#x27;: &#x27;6658&#x27;, &#x27;rewriteTimeMs&#x27;: &#x27;2142&#x27;, &#x27;numTargetRowsUpdated&#x27;: &#x27;5826&#x27;, &#x27;numTargetRowsDeleted&#x27;: &#x27;0&#x27;, &#x27;scanTimeMs&#x27;: &#x27;2302&#x27;, &#x27;numSourceRows&#x27;: &#x27;5898&#x27;, &#x27;numTargetChangeFilesAdded&#x27;: &#x27;0&#x27;, &#x27;numTargetRowsNotMatchedBySourceUpdated&#x27;: &#x27;0&#x27;, &#x27;numTargetRowsNotMatchedBySourceDeleted&#x27;: &#x27;0&#x27;, &#x27;numTargetBytesRemoved&#x27;: &#x27;2850609&#x27;}</td><td>null</td><td>Apache-Spark/3.4.1 Delta-Lake/2.4.0</td></tr><tr><td>2</td><td>2024-02-04 17:08:50.217000</td><td>null</td><td>null</td><td>MERGE</td><td>{&#x27;matchedPredicates&#x27;: &#x27;[{&quot;actionType&quot;:&quot;update&quot;}]&#x27;, &#x27;predicate&#x27;: &#x27;[&quot;(((lower(type#329) = lower(type#2328)) AND (lower(title#330) = lower(title#2327))) AND (release_year#335 = release_year#2330))&quot;]&#x27;, &#x27;notMatchedBySourcePredicates&#x27;: &#x27;[]&#x27;, &#x27;notMatchedPredicates&#x27;: &#x27;[{&quot;actionType&quot;:&quot;insert&quot;}]&#x27;}</td><td>null</td><td>null</td><td>null</td><td>1</td><td>Serializable</td><td>False</td><td>{&#x27;numOutputRows&#x27;: &#x27;12484&#x27;, &#x27;numTargetBytesAdded&#x27;: &#x27;2850609&#x27;, &#x27;numTargetRowsInserted&#x27;: &#x27;3678&#x27;, &#x27;numTargetFilesAdded&#x27;: &#x27;2&#x27;, &#x27;numTargetRowsMatchedDeleted&#x27;: &#x27;0&#x27;, &#x27;numTargetFilesRemoved&#x27;: &#x27;2&#x27;, &#x27;numTargetRowsMatchedUpdated&#x27;: &#x27;2221&#x27;, &#x27;executionTimeMs&#x27;: &#x27;8162&#x27;, &#x27;numTargetRowsCopied&#x27;: &#x27;6585&#x27;, &#x27;rewriteTimeMs&#x27;: &#x27;4172&#x27;, &#x27;numTargetRowsUpdated&#x27;: &#x27;2221&#x27;, &#x27;numTargetRowsDeleted&#x27;: &#x27;0&#x27;, &#x27;scanTimeMs&#x27;: &#x27;3259&#x27;, &#x27;numSourceRows&#x27;: &#x27;5898&#x27;, &#x27;numTargetChangeFilesAdded&#x27;: &#x27;0&#x27;, &#x27;numTargetRowsNotMatchedBySourceUpdated&#x27;: &#x27;0&#x27;, &#x27;numTargetRowsNotMatchedBySourceDeleted&#x27;: &#x27;0&#x27;, &#x27;numTargetBytesRemoved&#x27;: &#x27;2033266&#x27;}</td><td>null</td><td>Apache-Spark/3.4.1 Delta-Lake/2.4.0</td></tr><tr><td>1</td><td>2024-02-04 17:08:35.600000</td><td>null</td><td>null</td><td>MERGE</td><td>{&#x27;matchedPredicates&#x27;: &#x27;[{&quot;actionType&quot;:&quot;update&quot;}]&#x27;, &#x27;predicate&#x27;: &#x27;[&quot;(((lower(type#329) = lower(type#553)) AND (lower(title#330) = lower(title#554))) AND ((lower(director#331) = lower(director#555)) AND (date_added#334 = date_added#558)))&quot;]&#x27;, &#x27;notMatchedBySourcePredicates&#x27;: &#x27;[]&#x27;, &#x27;notMatchedPredicates&#x27;: &#x27;[{&quot;actionType&quot;:&quot;insert&quot;}]&#x27;}</td><td>null</td><td>null</td><td>null</td><td>0</td><td>Serializable</td><td>False</td><td>{&#x27;numOutputRows&#x27;: &#x27;8806&#x27;, &#x27;numTargetBytesAdded&#x27;: &#x27;2033266&#x27;, &#x27;numTargetRowsInserted&#x27;: &#x27;8806&#x27;, &#x27;numTargetFilesAdded&#x27;: &#x27;2&#x27;, &#x27;numTargetRowsMatchedDeleted&#x27;: &#x27;0&#x27;, &#x27;numTargetFilesRemoved&#x27;: &#x27;0&#x27;, &#x27;numTargetRowsMatchedUpdated&#x27;: &#x27;0&#x27;, &#x27;executionTimeMs&#x27;: &#x27;12669&#x27;, &#x27;numTargetRowsCopied&#x27;: &#x27;0&#x27;, &#x27;rewriteTimeMs&#x27;: &#x27;2864&#x27;, &#x27;numTargetRowsUpdated&#x27;: &#x27;0&#x27;, &#x27;numTargetRowsDeleted&#x27;: &#x27;0&#x27;, &#x27;scanTimeMs&#x27;: &#x27;2247&#x27;, &#x27;numSourceRows&#x27;: &#x27;8806&#x27;, &#x27;numTargetChangeFilesAdded&#x27;: &#x27;0&#x27;, &#x27;numTargetRowsNotMatchedBySourceUpdated&#x27;: &#x27;0&#x27;, &#x27;numTargetRowsNotMatchedBySourceDeleted&#x27;: &#x27;0&#x27;, &#x27;numTargetBytesRemoved&#x27;: &#x27;0&#x27;}</td><td>null</td><td>Apache-Spark/3.4.1 Delta-Lake/2.4.0</td></tr><tr><td>0</td><td>2024-02-04 17:06:44.364000</td><td>null</td><td>null</td><td>CREATE OR REPLACE TABLE</td><td>{&#x27;description&#x27;: None, &#x27;partitionBy&#x27;: &#x27;[]&#x27;, &#x27;properties&#x27;: &#x27;{}&#x27;, &#x27;isManaged&#x27;: &#x27;false&#x27;}</td><td>null</td><td>null</td><td>null</td><td>null</td><td>Serializable</td><td>True</td><td>{}</td><td>null</td><td>Apache-Spark/3.4.1 Delta-Lake/2.4.0</td></tr></table>"
      ],
      "text/plain": [
       "<IPython.core.display.HTML object>"
      ]
     },
     "execution_count": 17,
     "metadata": {},
     "output_type": "execute_result"
    }
   ],
   "source": [
    "%%sparksql\n",
    "DESCRIBE HISTORY \"/opt/workspace/data/delta_lake/movie_and_show_titles\""
   ]
  },
  {
   "cell_type": "code",
   "execution_count": 18,
   "id": "8f09faf9-527c-4b78-ab54-7271ff8c1a0d",
   "metadata": {},
   "outputs": [],
   "source": [
    "spark.stop()  # Spark 세션 종료 - 리소스 정리"
   ]
  },
  {
   "cell_type": "code",
   "execution_count": null,
   "id": "4e67844d-d886-46ce-9b39-075c4f9b1752",
   "metadata": {},
   "outputs": [],
   "source": []
  }
 ],
 "metadata": {
  "kernelspec": {
   "display_name": "Python 3 (ipykernel)",
   "language": "python",
   "name": "python3"
  },
  "language_info": {
   "codemirror_mode": {
    "name": "ipython",
    "version": 3
   },
   "file_extension": ".py",
   "mimetype": "text/x-python",
   "name": "python",
   "nbconvert_exporter": "python",
   "pygments_lexer": "ipython3",
   "version": "3.10.12"
  }
 },
 "nbformat": 4,
 "nbformat_minor": 5
}