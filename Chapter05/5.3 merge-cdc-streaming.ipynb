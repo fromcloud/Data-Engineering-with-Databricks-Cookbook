{
 "cells": [
  {
   "cell_type": "markdown",
   "id": "1998761e-11ce-4e35-a65f-2795015a1669",
   "metadata": {},
   "source": [
    "Before we start, we need to make sure that we have a Kafka cluster running and a topic that produces some streaming data. For simplicity, we will use a single-node Kafka cluster and a topic named `users`. Open the `5.0 user-gen-kafka.ipynb` notebook and execute the cell. This notebook produces a user record every few seconds and put it on a Kafka topic called `users`. "
   ]
  },
  {
   "cell_type": "code",
   "execution_count": 26,
   "id": "54f45c54-0b95-4fd9-a180-fe3be96ab99d",
   "metadata": {},
   "outputs": [],
   "source": [
    "from delta import  # Delta Lake 라이브러리 임포트 configure_spark_with_delta_pip, DeltaTable\n",
    "from pyspark.sql import SparkSession  # Spark SQL 작업을 위한 SparkSession 임포트\n",
    "from pyspark.sql.functions import  # Spark SQL 함수들 임포트 col, from_json\n",
    "from pyspark.sql.types import  # Spark SQL 데이터 타입 임포트 StructType, StructField, IntegerType, StringType"
   ]
  },
  {
   "cell_type": "code",
   "execution_count": 27,
   "id": "e7850eab-3759-491d-a70a-7a02977db101",
   "metadata": {},
   "outputs": [],
   "source": [
    "builder = (SparkSession.builder  # SparkSession 빌더 패턴 시작\n",
    "           .appName(\"merge-cdc-streaming\")  # 애플리케이션 이름 설정\n",
    "           .master(\"spark://spark-master:7077\")  # Spark 마스터 URL 설정\n",
    "           .config(\"spark.executor.memory\", \"512m\")  # Spark 설정 옵션\n",
    "           .config(\"spark.sql.extensions\", \"io.delta.sql.DeltaSparkSessionExtension\")  # Spark 설정 옵션\n",
    "           .config(\"spark.sql.catalog.spark_catalog\", \"org.apache.spark.sql.delta.catalog.DeltaCatalog\")  # Spark 설정 옵션)\n",
    "\n",
    "spark = configure_spark_with_delta_pip(builder,['org.apache.spark:spark-sql-kafka-0-10_2.12:3.4.1']).getOrCreate()  # SparkSession 생성 또는 기존 세션 반환\n",
    "spark.sparkContext.setLogLevel(\"ERROR\")  # 로그 레벨을 ERROR로 설정"
   ]
  },
  {
   "cell_type": "code",
   "execution_count": 28,
   "id": "bd909d80-b814-4783-80b2-da272d2c79fa",
   "metadata": {},
   "outputs": [
    {
     "name": "stdout",
     "output_type": "stream",
     "text": [
      "The sparksql_magic extension is already loaded. To reload it, use:\n",
      "  %reload_ext sparksql_magic\n"
     ]
    }
   ],
   "source": [
    "get_ipython().run_line_magic('load_ext', 'sparksql_magic')\n",
    "get_ipython().run_line_magic('config', 'SparkSql.limit=20')"
   ]
  },
  {
   "cell_type": "code",
   "execution_count": 29,
   "id": "68da1a17-ffb1-445f-aee6-3f697ac7b3e5",
   "metadata": {},
   "outputs": [
    {
     "name": "stderr",
     "output_type": "stream",
     "text": [
      "                                                                                \r"
     ]
    },
    {
     "data": {
      "text/html": [
       "<table><tr style=\"border-bottom: 1px solid\"></tr></table>"
      ],
      "text/plain": [
       "<IPython.core.display.HTML object>"
      ]
     },
     "execution_count": 29,
     "metadata": {},
     "output_type": "execute_result"
    }
   ],
   "source": [
    "%%sparksql\n",
    "CREATE OR REPLACE TABLE default.users (\n",
    "    id INT,\n",
    "    name STRING,\n",
    "    age INT,\n",
    "    gender STRING,\n",
    "    country STRING \n",
    ") USING DELTA  # Delta Lake 테이블 생성 LOCATION '/opt/workspace/data/delta_lake/merge-cdc-streaming/users';"
   ]
  },
  {
   "cell_type": "code",
   "execution_count": 30,
   "id": "228e8f56-4fd9-497a-947f-8ce968889dc7",
   "metadata": {
    "tags": []
   },
   "outputs": [],
   "source": [
    "df = (spark.readStream  # 스트리밍 데이터 읽기\n",
    "      .format(\"kafka\")\n",
    "      .option(\"kafka.bootstrap.servers\", \"kafka:9092\")\n",
    "      .option(\"subscribe\", \"users\")\n",
    "      .option(\"startingOffsets\", \"earliest\")\n",
    "      .load(  # 파일 로드))"
   ]
  },
  {
   "cell_type": "code",
   "execution_count": 31,
   "id": "a0e26449-e04a-4cf5-a42f-5594943bd3fa",
   "metadata": {
    "tags": []
   },
   "outputs": [],
   "source": [
    "schema = StructType  # 구조체 타입([\n",
    "    StructField  # 구조체 필드('id', IntegerType(), True),\n",
    "    StructField  # 구조체 필드('name', StringType(), True),\n",
    "    StructField  # 구조체 필드('age', IntegerType(), True),\n",
    "    StructField  # 구조체 필드('gender', StringType(), True),\n",
    "    StructField  # 구조체 필드('country', StringType(), True)])\n",
    "\n",
    "df = df.withColumn(  # 새 컬럼 추가 또는 기존 컬럼 수정'value', from_json(col('value').cast(\"STRING\"), schema))"
   ]
  },
  {
   "cell_type": "code",
   "execution_count": 32,
   "id": "f8d3d68c-c3b0-4a8a-91b0-32366f2199fc",
   "metadata": {
    "tags": []
   },
   "outputs": [],
   "source": [
    "df = df.select(  # 컬럼 선택\n",
    "    col(  # 컬럼 참조'value.id').alias('id'),\n",
    "    col(  # 컬럼 참조'value.name').alias('name'),\n",
    "    col(  # 컬럼 참조'value.age').alias('age'),\n",
    "    col(  # 컬럼 참조'value.gender').alias('gender'),\n",
    "    col(  # 컬럼 참조'value.country').alias('country'))"
   ]
  },
  {
   "cell_type": "code",
   "execution_count": 33,
   "id": "ab894c75-f6b9-452b-95cf-10a45270fb82",
   "metadata": {},
   "outputs": [],
   "source": [
    "def upsertToDelta(microBatchDf, batchId):\n",
    "    deltaTable = DeltaTable  # Delta 테이블 작업을 위한 클래스.forPath(spark, \"/opt/workspace/data/delta_lake/merge-cdc-streaming/users\" )\n",
    "    (deltaTable.alias(  # 컬럼 별칭 설정\"dt\")\n",
    "     .merge(source=microBatchDf.alias(  # 컬럼 별칭 설정\"sdf\"),\n",
    "          condition=\"sdf.id = dt.id\")\n",
    "     .whenMatchedUpdate(set={\n",
    "         \"id\": \"sdf.id\",\n",
    "         \"name\": \"sdf.name\",\n",
    "         \"age\": \"sdf.gender\",\n",
    "         \"country\": \"sdf.country\"\n",
    "     })\n",
    "     .whenNotMatchedInsert(values={\n",
    "         \"id\": \"sdf.id\",\n",
    "         \"name\": \"sdf.name\",\n",
    "         \"age\": \"sdf.gender\",\n",
    "         \"country\": \"sdf.country\"\n",
    "     })\n",
    "    .execute())"
   ]
  },
  {
   "cell_type": "code",
   "execution_count": 34,
   "id": "54d78eab-2e32-429b-954e-4140e7cafb60",
   "metadata": {},
   "outputs": [
    {
     "name": "stderr",
     "output_type": "stream",
     "text": [
      "                                                                                \r"
     ]
    }
   ],
   "source": [
    "query = (df.writeStream  # 스트리밍 데이터 쓰기\n",
    "         .format(\"delta\")  # Delta Lake 형식으로 저장\n",
    "         .foreachBatch(upsertToDelta)\n",
    "         .outputMode(  # 스트리밍 출력 모드 설정\"update\")\n",
    "         .option(\"checkpointLocation\", \"/opt/workspace/data/delta_lake/merge-cdc-streaming/users/_checkpoints/\")\n",
    "         .start(\"/opt/workspace/data/delta_lake/merge-cdc-streaming/users\"))"
   ]
  },
  {
   "cell_type": "code",
   "execution_count": 35,
   "id": "db57b70b-7939-4c00-b0ca-3928076f9839",
   "metadata": {},
   "outputs": [
    {
     "name": "stderr",
     "output_type": "stream",
     "text": [
      "                                                                                \r"
     ]
    },
    {
     "data": {
      "text/html": [
       "<table><tr style=\"border-bottom: 1px solid\"><td style=\"font-weight: bold\">version</td><td style=\"font-weight: bold\">timestamp</td><td style=\"font-weight: bold\">userId</td><td style=\"font-weight: bold\">userName</td><td style=\"font-weight: bold\">operation</td><td style=\"font-weight: bold\">operationParameters</td><td style=\"font-weight: bold\">job</td><td style=\"font-weight: bold\">notebook</td><td style=\"font-weight: bold\">clusterId</td><td style=\"font-weight: bold\">readVersion</td><td style=\"font-weight: bold\">isolationLevel</td><td style=\"font-weight: bold\">isBlindAppend</td><td style=\"font-weight: bold\">operationMetrics</td><td style=\"font-weight: bold\">userMetadata</td><td style=\"font-weight: bold\">engineInfo</td></tr><tr><td>7</td><td>2024-02-04 18:39:29.470000</td><td>null</td><td>null</td><td>MERGE</td><td>{&#x27;matchedPredicates&#x27;: &#x27;[{&quot;actionType&quot;:&quot;update&quot;}]&#x27;, &#x27;predicate&#x27;: &#x27;[&quot;(id#1869 = id#5736)&quot;]&#x27;, &#x27;notMatchedBySourcePredicates&#x27;: &#x27;[]&#x27;, &#x27;notMatchedPredicates&#x27;: &#x27;[{&quot;actionType&quot;:&quot;insert&quot;}]&#x27;}</td><td>null</td><td>null</td><td>null</td><td>6</td><td>Serializable</td><td>False</td><td>{&#x27;numOutputRows&#x27;: &#x27;175&#x27;, &#x27;numTargetBytesAdded&#x27;: &#x27;2537&#x27;, &#x27;numTargetRowsInserted&#x27;: &#x27;0&#x27;, &#x27;numTargetFilesAdded&#x27;: &#x27;1&#x27;, &#x27;numTargetRowsMatchedDeleted&#x27;: &#x27;0&#x27;, &#x27;numTargetFilesRemoved&#x27;: &#x27;1&#x27;, &#x27;numTargetRowsMatchedUpdated&#x27;: &#x27;2&#x27;, &#x27;executionTimeMs&#x27;: &#x27;2726&#x27;, &#x27;numTargetRowsCopied&#x27;: &#x27;173&#x27;, &#x27;rewriteTimeMs&#x27;: &#x27;646&#x27;, &#x27;numTargetRowsUpdated&#x27;: &#x27;2&#x27;, &#x27;numTargetRowsDeleted&#x27;: &#x27;0&#x27;, &#x27;scanTimeMs&#x27;: &#x27;2030&#x27;, &#x27;numSourceRows&#x27;: &#x27;1&#x27;, &#x27;numTargetChangeFilesAdded&#x27;: &#x27;0&#x27;, &#x27;numTargetRowsNotMatchedBySourceUpdated&#x27;: &#x27;0&#x27;, &#x27;numTargetRowsNotMatchedBySourceDeleted&#x27;: &#x27;0&#x27;, &#x27;numTargetBytesRemoved&#x27;: &#x27;2537&#x27;}</td><td>null</td><td>Apache-Spark/3.4.1 Delta-Lake/2.4.0</td></tr><tr><td>6</td><td>2024-02-04 18:39:20.134000</td><td>null</td><td>null</td><td>MERGE</td><td>{&#x27;matchedPredicates&#x27;: &#x27;[{&quot;actionType&quot;:&quot;update&quot;}]&#x27;, &#x27;predicate&#x27;: &#x27;[&quot;(id#1869 = id#4971)&quot;]&#x27;, &#x27;notMatchedBySourcePredicates&#x27;: &#x27;[]&#x27;, &#x27;notMatchedPredicates&#x27;: &#x27;[{&quot;actionType&quot;:&quot;insert&quot;}]&#x27;}</td><td>null</td><td>null</td><td>null</td><td>5</td><td>Serializable</td><td>False</td><td>{&#x27;numOutputRows&#x27;: &#x27;175&#x27;, &#x27;numTargetBytesAdded&#x27;: &#x27;2537&#x27;, &#x27;numTargetRowsInserted&#x27;: &#x27;0&#x27;, &#x27;numTargetFilesAdded&#x27;: &#x27;1&#x27;, &#x27;numTargetRowsMatchedDeleted&#x27;: &#x27;0&#x27;, &#x27;numTargetFilesRemoved&#x27;: &#x27;1&#x27;, &#x27;numTargetRowsMatchedUpdated&#x27;: &#x27;1&#x27;, &#x27;executionTimeMs&#x27;: &#x27;2531&#x27;, &#x27;numTargetRowsCopied&#x27;: &#x27;174&#x27;, &#x27;rewriteTimeMs&#x27;: &#x27;549&#x27;, &#x27;numTargetRowsUpdated&#x27;: &#x27;1&#x27;, &#x27;numTargetRowsDeleted&#x27;: &#x27;0&#x27;, &#x27;scanTimeMs&#x27;: &#x27;1949&#x27;, &#x27;numSourceRows&#x27;: &#x27;1&#x27;, &#x27;numTargetChangeFilesAdded&#x27;: &#x27;0&#x27;, &#x27;numTargetRowsNotMatchedBySourceUpdated&#x27;: &#x27;0&#x27;, &#x27;numTargetRowsNotMatchedBySourceDeleted&#x27;: &#x27;0&#x27;, &#x27;numTargetBytesRemoved&#x27;: &#x27;2541&#x27;}</td><td>null</td><td>Apache-Spark/3.4.1 Delta-Lake/2.4.0</td></tr><tr><td>5</td><td>2024-02-04 18:39:08.867000</td><td>null</td><td>null</td><td>MERGE</td><td>{&#x27;matchedPredicates&#x27;: &#x27;[{&quot;actionType&quot;:&quot;update&quot;}]&#x27;, &#x27;predicate&#x27;: &#x27;[&quot;(id#1869 = id#4206)&quot;]&#x27;, &#x27;notMatchedBySourcePredicates&#x27;: &#x27;[]&#x27;, &#x27;notMatchedPredicates&#x27;: &#x27;[{&quot;actionType&quot;:&quot;insert&quot;}]&#x27;}</td><td>null</td><td>null</td><td>null</td><td>4</td><td>Serializable</td><td>False</td><td>{&#x27;numOutputRows&#x27;: &#x27;175&#x27;, &#x27;numTargetBytesAdded&#x27;: &#x27;2541&#x27;, &#x27;numTargetRowsInserted&#x27;: &#x27;0&#x27;, &#x27;numTargetFilesAdded&#x27;: &#x27;1&#x27;, &#x27;numTargetRowsMatchedDeleted&#x27;: &#x27;0&#x27;, &#x27;numTargetFilesRemoved&#x27;: &#x27;1&#x27;, &#x27;numTargetRowsMatchedUpdated&#x27;: &#x27;2&#x27;, &#x27;executionTimeMs&#x27;: &#x27;2153&#x27;, &#x27;numTargetRowsCopied&#x27;: &#x27;173&#x27;, &#x27;rewriteTimeMs&#x27;: &#x27;546&#x27;, &#x27;numTargetRowsUpdated&#x27;: &#x27;2&#x27;, &#x27;numTargetRowsDeleted&#x27;: &#x27;0&#x27;, &#x27;scanTimeMs&#x27;: &#x27;1579&#x27;, &#x27;numSourceRows&#x27;: &#x27;1&#x27;, &#x27;numTargetChangeFilesAdded&#x27;: &#x27;0&#x27;, &#x27;numTargetRowsNotMatchedBySourceUpdated&#x27;: &#x27;0&#x27;, &#x27;numTargetRowsNotMatchedBySourceDeleted&#x27;: &#x27;0&#x27;, &#x27;numTargetBytesRemoved&#x27;: &#x27;2544&#x27;}</td><td>null</td><td>Apache-Spark/3.4.1 Delta-Lake/2.4.0</td></tr><tr><td>4</td><td>2024-02-04 18:38:59.384000</td><td>null</td><td>null</td><td>MERGE</td><td>{&#x27;matchedPredicates&#x27;: &#x27;[{&quot;actionType&quot;:&quot;update&quot;}]&#x27;, &#x27;predicate&#x27;: &#x27;[&quot;(id#1869 = id#3441)&quot;]&#x27;, &#x27;notMatchedBySourcePredicates&#x27;: &#x27;[]&#x27;, &#x27;notMatchedPredicates&#x27;: &#x27;[{&quot;actionType&quot;:&quot;insert&quot;}]&#x27;}</td><td>null</td><td>null</td><td>null</td><td>3</td><td>Serializable</td><td>False</td><td>{&#x27;numOutputRows&#x27;: &#x27;175&#x27;, &#x27;numTargetBytesAdded&#x27;: &#x27;2544&#x27;, &#x27;numTargetRowsInserted&#x27;: &#x27;0&#x27;, &#x27;numTargetFilesAdded&#x27;: &#x27;1&#x27;, &#x27;numTargetRowsMatchedDeleted&#x27;: &#x27;0&#x27;, &#x27;numTargetFilesRemoved&#x27;: &#x27;1&#x27;, &#x27;numTargetRowsMatchedUpdated&#x27;: &#x27;2&#x27;, &#x27;executionTimeMs&#x27;: &#x27;2485&#x27;, &#x27;numTargetRowsCopied&#x27;: &#x27;173&#x27;, &#x27;rewriteTimeMs&#x27;: &#x27;844&#x27;, &#x27;numTargetRowsUpdated&#x27;: &#x27;2&#x27;, &#x27;numTargetRowsDeleted&#x27;: &#x27;0&#x27;, &#x27;scanTimeMs&#x27;: &#x27;1620&#x27;, &#x27;numSourceRows&#x27;: &#x27;1&#x27;, &#x27;numTargetChangeFilesAdded&#x27;: &#x27;0&#x27;, &#x27;numTargetRowsNotMatchedBySourceUpdated&#x27;: &#x27;0&#x27;, &#x27;numTargetRowsNotMatchedBySourceDeleted&#x27;: &#x27;0&#x27;, &#x27;numTargetBytesRemoved&#x27;: &#x27;2551&#x27;}</td><td>null</td><td>Apache-Spark/3.4.1 Delta-Lake/2.4.0</td></tr><tr><td>3</td><td>2024-02-04 18:38:53.107000</td><td>null</td><td>null</td><td>MERGE</td><td>{&#x27;matchedPredicates&#x27;: &#x27;[{&quot;actionType&quot;:&quot;update&quot;}]&#x27;, &#x27;predicate&#x27;: &#x27;[&quot;(id#1869 = id#2676)&quot;]&#x27;, &#x27;notMatchedBySourcePredicates&#x27;: &#x27;[]&#x27;, &#x27;notMatchedPredicates&#x27;: &#x27;[{&quot;actionType&quot;:&quot;insert&quot;}]&#x27;}</td><td>null</td><td>null</td><td>null</td><td>2</td><td>Serializable</td><td>False</td><td>{&#x27;numOutputRows&#x27;: &#x27;175&#x27;, &#x27;numTargetBytesAdded&#x27;: &#x27;2551&#x27;, &#x27;numTargetRowsInserted&#x27;: &#x27;1&#x27;, &#x27;numTargetFilesAdded&#x27;: &#x27;1&#x27;, &#x27;numTargetRowsMatchedDeleted&#x27;: &#x27;0&#x27;, &#x27;numTargetFilesRemoved&#x27;: &#x27;1&#x27;, &#x27;numTargetRowsMatchedUpdated&#x27;: &#x27;8&#x27;, &#x27;executionTimeMs&#x27;: &#x27;6020&#x27;, &#x27;numTargetRowsCopied&#x27;: &#x27;166&#x27;, &#x27;rewriteTimeMs&#x27;: &#x27;1980&#x27;, &#x27;numTargetRowsUpdated&#x27;: &#x27;8&#x27;, &#x27;numTargetRowsDeleted&#x27;: &#x27;0&#x27;, &#x27;scanTimeMs&#x27;: &#x27;4015&#x27;, &#x27;numSourceRows&#x27;: &#x27;5&#x27;, &#x27;numTargetChangeFilesAdded&#x27;: &#x27;0&#x27;, &#x27;numTargetRowsNotMatchedBySourceUpdated&#x27;: &#x27;0&#x27;, &#x27;numTargetRowsNotMatchedBySourceDeleted&#x27;: &#x27;0&#x27;, &#x27;numTargetBytesRemoved&#x27;: &#x27;2544&#x27;}</td><td>null</td><td>Apache-Spark/3.4.1 Delta-Lake/2.4.0</td></tr><tr><td>2</td><td>2024-02-04 18:38:42.222000</td><td>null</td><td>null</td><td>MERGE</td><td>{&#x27;matchedPredicates&#x27;: &#x27;[{&quot;actionType&quot;:&quot;update&quot;}]&#x27;, &#x27;predicate&#x27;: &#x27;[&quot;(id#1869 = id#1899)&quot;]&#x27;, &#x27;notMatchedBySourcePredicates&#x27;: &#x27;[]&#x27;, &#x27;notMatchedPredicates&#x27;: &#x27;[{&quot;actionType&quot;:&quot;insert&quot;}]&#x27;}</td><td>null</td><td>null</td><td>null</td><td>1</td><td>Serializable</td><td>False</td><td>{&#x27;numOutputRows&#x27;: &#x27;174&#x27;, &#x27;numTargetBytesAdded&#x27;: &#x27;2544&#x27;, &#x27;numTargetRowsInserted&#x27;: &#x27;174&#x27;, &#x27;numTargetFilesAdded&#x27;: &#x27;1&#x27;, &#x27;numTargetRowsMatchedDeleted&#x27;: &#x27;0&#x27;, &#x27;numTargetFilesRemoved&#x27;: &#x27;0&#x27;, &#x27;numTargetRowsMatchedUpdated&#x27;: &#x27;0&#x27;, &#x27;executionTimeMs&#x27;: &#x27;6415&#x27;, &#x27;numTargetRowsCopied&#x27;: &#x27;0&#x27;, &#x27;rewriteTimeMs&#x27;: &#x27;2397&#x27;, &#x27;numTargetRowsUpdated&#x27;: &#x27;0&#x27;, &#x27;numTargetRowsDeleted&#x27;: &#x27;0&#x27;, &#x27;scanTimeMs&#x27;: &#x27;3944&#x27;, &#x27;numSourceRows&#x27;: &#x27;174&#x27;, &#x27;numTargetChangeFilesAdded&#x27;: &#x27;0&#x27;, &#x27;numTargetRowsNotMatchedBySourceUpdated&#x27;: &#x27;0&#x27;, &#x27;numTargetRowsNotMatchedBySourceDeleted&#x27;: &#x27;0&#x27;, &#x27;numTargetBytesRemoved&#x27;: &#x27;0&#x27;}</td><td>null</td><td>Apache-Spark/3.4.1 Delta-Lake/2.4.0</td></tr><tr><td>1</td><td>2024-02-04 18:38:29.574000</td><td>null</td><td>null</td><td>CREATE OR REPLACE TABLE</td><td>{&#x27;description&#x27;: None, &#x27;partitionBy&#x27;: &#x27;[]&#x27;, &#x27;properties&#x27;: &#x27;{}&#x27;, &#x27;isManaged&#x27;: &#x27;false&#x27;}</td><td>null</td><td>null</td><td>null</td><td>0</td><td>Serializable</td><td>False</td><td>{}</td><td>null</td><td>Apache-Spark/3.4.1 Delta-Lake/2.4.0</td></tr><tr><td>0</td><td>2024-02-04 18:37:41.889000</td><td>null</td><td>null</td><td>CREATE OR REPLACE TABLE</td><td>{&#x27;description&#x27;: None, &#x27;partitionBy&#x27;: &#x27;[]&#x27;, &#x27;properties&#x27;: &#x27;{}&#x27;, &#x27;isManaged&#x27;: &#x27;false&#x27;}</td><td>null</td><td>null</td><td>null</td><td>null</td><td>Serializable</td><td>True</td><td>{}</td><td>null</td><td>Apache-Spark/3.4.1 Delta-Lake/2.4.0</td></tr></table>"
      ],
      "text/plain": [
       "<IPython.core.display.HTML object>"
      ]
     },
     "execution_count": 35,
     "metadata": {},
     "output_type": "execute_result"
    },
    {
     "name": "stderr",
     "output_type": "stream",
     "text": [
      "                                                                                \r"
     ]
    }
   ],
   "source": [
    "%%sparksql\n",
    "DESCRIBE HISTORY delta.`/opt/workspace/data/delta_lake/merge-cdc-streaming/users`;"
   ]
  },
  {
   "cell_type": "code",
   "execution_count": 36,
   "id": "4851e696-46cf-4371-aa44-afda5e110cff",
   "metadata": {},
   "outputs": [],
   "source": [
    "query.stop()"
   ]
  },
  {
   "cell_type": "code",
   "execution_count": 37,
   "id": "49bcfa1b-1401-4af6-a031-c5e17e4ad8a3",
   "metadata": {},
   "outputs": [],
   "source": [
    "spark.stop()  # Spark 세션 종료 - 리소스 정리 "
   ]
  },
  {
   "cell_type": "code",
   "execution_count": null,
   "id": "6c486c6c-b090-42c0-af4c-59ad3a22364b",
   "metadata": {},
   "outputs": [],
   "source": []
  }
 ],
 "metadata": {
  "kernelspec": {
   "display_name": "Python 3 (ipykernel)",
   "language": "python",
   "name": "python3"
  },
  "language_info": {
   "codemirror_mode": {
    "name": "ipython",
    "version": 3
   },
   "file_extension": ".py",
   "mimetype": "text/x-python",
   "name": "python",
   "nbconvert_exporter": "python",
   "pygments_lexer": "ipython3",
   "version": "3.10.12"
  }
 },
 "nbformat": 4,
 "nbformat_minor": 5
}