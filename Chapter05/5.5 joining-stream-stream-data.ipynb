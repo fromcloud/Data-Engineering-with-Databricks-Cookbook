{
 "cells": [
  {
   "cell_type": "markdown",
   "id": "e8200486-7b3d-425b-bd78-583507a0ced7",
   "metadata": {},
   "source": [
    "Before we start, we need to make sure that we have a Kafka cluster running and a topic that produces some streaming data. For simplicity, we will use a single-node Kafka cluster and a topic named `users`. Open the `5.0 user-gen-kafka.ipynb` notebook and execute the cell. This notebook produces a user record every few seconds and put it on a Kafka topic called `users`. "
   ]
  },
  {
   "cell_type": "markdown",
   "id": "53da627e-8426-4207-adee-2888d9507113",
   "metadata": {},
   "source": [
    "Before we start, we need to make sure that we have a Kafka cluster running and a topic that produces some streaming data. For simplicity, we will use a single-node Kafka cluster and a topic named orders. Open the `5.0 orders-gen-kafka.ipynb` notebook and execute the cell. This notebook simulates streaming data of online orders, which contains the order ID, the product ID, the quantity, and the timestamp. "
   ]
  },
  {
   "cell_type": "code",
   "execution_count": 5,
   "id": "54f45c54-0b95-4fd9-a180-fe3be96ab99d",
   "metadata": {},
   "outputs": [],
   "source": [
    "from delta import  # Delta Lake 라이브러리 임포트 configure_spark_with_delta_pip, DeltaTable\n",
    "from pyspark.sql import SparkSession  # Spark SQL 작업을 위한 SparkSession 임포트\n",
    "from pyspark.sql.functions import  # Spark SQL 함수들 임포트 col, from_json, to_timestamp\n",
    "from pyspark.sql.types import  # Spark SQL 데이터 타입 임포트 StructType, StructField, IntegerType, StringType"
   ]
  },
  {
   "cell_type": "code",
   "execution_count": 2,
   "id": "e7850eab-3759-491d-a70a-7a02977db101",
   "metadata": {},
   "outputs": [
    {
     "name": "stdout",
     "output_type": "stream",
     "text": [
      ":: loading settings :: url = jar:file:/usr/local/lib/python3.10/dist-packages/pyspark/jars/ivy-2.5.1.jar!/org/apache/ivy/core/settings/ivysettings.xml\n"
     ]
    },
    {
     "name": "stderr",
     "output_type": "stream",
     "text": [
      "Ivy Default Cache set to: /root/.ivy2/cache\n",
      "The jars for the packages stored in: /root/.ivy2/jars\n",
      "io.delta#delta-core_2.12 added as a dependency\n",
      "org.apache.spark#spark-sql-kafka-0-10_2.12 added as a dependency\n",
      ":: resolving dependencies :: org.apache.spark#spark-submit-parent-f519bab7-d574-4e11-8739-ca44f32b8983;1.0\n",
      "\tconfs: [default]\n",
      "\tfound io.delta#delta-core_2.12;2.4.0 in central\n",
      "\tfound io.delta#delta-storage;2.4.0 in central\n",
      "\tfound org.antlr#antlr4-runtime;4.9.3 in central\n",
      "\tfound org.apache.spark#spark-sql-kafka-0-10_2.12;3.4.1 in central\n",
      "\tfound org.apache.spark#spark-token-provider-kafka-0-10_2.12;3.4.1 in central\n",
      "\tfound org.apache.kafka#kafka-clients;3.3.2 in central\n",
      "\tfound org.lz4#lz4-java;1.8.0 in central\n",
      "\tfound org.xerial.snappy#snappy-java;1.1.10.1 in central\n",
      "\tfound org.slf4j#slf4j-api;2.0.6 in central\n",
      "\tfound org.apache.hadoop#hadoop-client-runtime;3.3.4 in central\n",
      "\tfound org.apache.hadoop#hadoop-client-api;3.3.4 in central\n",
      "\tfound commons-logging#commons-logging;1.1.3 in central\n",
      "\tfound com.google.code.findbugs#jsr305;3.0.0 in central\n",
      "\tfound org.apache.commons#commons-pool2;2.11.1 in central\n",
      ":: resolution report :: resolve 1770ms :: artifacts dl 67ms\n",
      "\t:: modules in use:\n",
      "\tcom.google.code.findbugs#jsr305;3.0.0 from central in [default]\n",
      "\tcommons-logging#commons-logging;1.1.3 from central in [default]\n",
      "\tio.delta#delta-core_2.12;2.4.0 from central in [default]\n",
      "\tio.delta#delta-storage;2.4.0 from central in [default]\n",
      "\torg.antlr#antlr4-runtime;4.9.3 from central in [default]\n",
      "\torg.apache.commons#commons-pool2;2.11.1 from central in [default]\n",
      "\torg.apache.hadoop#hadoop-client-api;3.3.4 from central in [default]\n",
      "\torg.apache.hadoop#hadoop-client-runtime;3.3.4 from central in [default]\n",
      "\torg.apache.kafka#kafka-clients;3.3.2 from central in [default]\n",
      "\torg.apache.spark#spark-sql-kafka-0-10_2.12;3.4.1 from central in [default]\n",
      "\torg.apache.spark#spark-token-provider-kafka-0-10_2.12;3.4.1 from central in [default]\n",
      "\torg.lz4#lz4-java;1.8.0 from central in [default]\n",
      "\torg.slf4j#slf4j-api;2.0.6 from central in [default]\n",
      "\torg.xerial.snappy#snappy-java;1.1.10.1 from central in [default]\n",
      "\t---------------------------------------------------------------------\n",
      "\t|                  |            modules            ||   artifacts   |\n",
      "\t|       conf       | number| search|dwnlded|evicted|| number|dwnlded|\n",
      "\t---------------------------------------------------------------------\n",
      "\t|      default     |   14  |   0   |   0   |   0   ||   14  |   0   |\n",
      "\t---------------------------------------------------------------------\n",
      ":: retrieving :: org.apache.spark#spark-submit-parent-f519bab7-d574-4e11-8739-ca44f32b8983\n",
      "\tconfs: [default]\n",
      "\t0 artifacts copied, 14 already retrieved (0kB/57ms)\n",
      "24/02/04 18:46:21 WARN NativeCodeLoader: Unable to load native-hadoop library for your platform... using builtin-java classes where applicable\n",
      "Setting default log level to \"WARN\".\n",
      "To adjust logging level use sc.setLogLevel(newLevel). For SparkR, use setLogLevel(newLevel).\n"
     ]
    }
   ],
   "source": [
    "builder = (SparkSession.builder  # SparkSession 빌더 패턴 시작\n",
    "           .appName(\"joining-stream-stream-data\")  # 애플리케이션 이름 설정\n",
    "           .master(\"spark://spark-master:7077\")  # Spark 마스터 URL 설정\n",
    "           .config(\"spark.executor.memory\", \"512m\")  # Spark 설정 옵션\n",
    "           .config(\"spark.sql.extensions\", \"io.delta.sql.DeltaSparkSessionExtension\")  # Spark 설정 옵션\n",
    "           .config(\"spark.sql.catalog.spark_catalog\", \"org.apache.spark.sql.delta.catalog.DeltaCatalog\")  # Spark 설정 옵션)\n",
    "\n",
    "spark = configure_spark_with_delta_pip(builder,['org.apache.spark:spark-sql-kafka-0-10_2.12:3.4.1']).getOrCreate()  # SparkSession 생성 또는 기존 세션 반환\n",
    "spark.sparkContext.setLogLevel(\"ERROR\")  # 로그 레벨을 ERROR로 설정"
   ]
  },
  {
   "cell_type": "code",
   "execution_count": 3,
   "id": "d2da5eae-9a78-4bd6-8d4c-6bd0236db0e2",
   "metadata": {},
   "outputs": [],
   "source": [
    "get_ipython().run_line_magic('load_ext', 'sparksql_magic')\n",
    "get_ipython().run_line_magic('config', 'SparkSql.limit=20')"
   ]
  },
  {
   "cell_type": "code",
   "execution_count": 6,
   "id": "d3995bde-3fff-4e0b-b922-45b5395a3d65",
   "metadata": {},
   "outputs": [],
   "source": [
    "schema = StructType  # 구조체 타입([\n",
    "    StructField  # 구조체 필드('id', IntegerType(), True),\n",
    "    StructField  # 구조체 필드('name', StringType(), True),\n",
    "    StructField  # 구조체 필드('age', IntegerType(), True),\n",
    "    StructField  # 구조체 필드('gender', StringType(), True),\n",
    "    StructField  # 구조체 필드('country', StringType(), True),\n",
    "    StructField  # 구조체 필드('timestamp', StringType(), True)])\n",
    "\n",
    "users_df = (spark.readStream  # 스트리밍 데이터 읽기\n",
    "      .format(\"kafka\")\n",
    "      .option(\"kafka.bootstrap.servers\", \"kafka:9092\")\n",
    "      .option(\"subscribe\", \"users\")\n",
    "      .option(\"startingOffsets\", \"latest\")\n",
    "      .load(  # 파일 로드)\n",
    "      .withColumn(  # 새 컬럼 추가 또는 기존 컬럼 수정'value', from_json(col('value').cast(\"STRING\"), schema)))\n",
    "\n",
    "users_df = users_df.select(  # 컬럼 선택\n",
    "    col(  # 컬럼 참조'value.id').alias('id'),\n",
    "    col(  # 컬럼 참조'value.name').alias('name'),\n",
    "    col(  # 컬럼 참조'value.age').alias('age'),\n",
    "    col(  # 컬럼 참조'value.gender').alias('gender'),\n",
    "    col(  # 컬럼 참조'value.country').alias('country'),\n",
    "    to_timestamp(col(  # 컬럼 참조'value.timestamp'), \"MM/dd/yyyy, HH:mm:ss\").alias('timestamp'))"
   ]
  },
  {
   "cell_type": "code",
   "execution_count": 7,
   "id": "fb94abae-072e-4fb9-a369-e0b761bfeee7",
   "metadata": {},
   "outputs": [],
   "source": [
    "schema = StructType  # 구조체 타입([\n",
    "    StructField  # 구조체 필드('user_id', IntegerType(), True),\n",
    "    StructField  # 구조체 필드('event_type', StringType(), True),\n",
    "    StructField  # 구조체 필드('event_time', StringType(), True),\n",
    "    StructField  # 구조체 필드('processing_time', StringType(), True)])\n",
    "\n",
    "events_df = (spark.readStream  # 스트리밍 데이터 읽기\n",
    "      .format(\"kafka\")\n",
    "      .option(\"kafka.bootstrap.servers\", \"kafka:9092\")\n",
    "      .option(\"subscribe\", \"events\")\n",
    "      .option(\"startingOffsets\", \"latest\")\n",
    "      .load(  # 파일 로드)\n",
    "      .withColumn(  # 새 컬럼 추가 또는 기존 컬럼 수정'value', from_json(col('value').cast(\"STRING\"), schema)))\n",
    "\n",
    "events_df = (events_df\n",
    "      .select(  # 컬럼 선택\n",
    "          col(  # 컬럼 참조'value.user_id').alias('user_id'),\n",
    "          col(  # 컬럼 참조'value.event_type').alias('event_type'),\n",
    "          col(  # 컬럼 참조'value.event_time').alias('event_time'),\n",
    "          col(  # 컬럼 참조'value.processing_time').alias('processing_time'))\n",
    "      .withColumn(  # 새 컬럼 추가 또는 기존 컬럼 수정\"event_time\", to_timestamp(col(\"event_time\"), \"MM/dd/yyyy, HH:mm:ss\" ))\n",
    "      .withColumn(  # 새 컬럼 추가 또는 기존 컬럼 수정\"processing_time\", to_timestamp(col(\"processing_time\"), \"MM/dd/yyyy, HH:mm:ss\")))"
   ]
  },
  {
   "cell_type": "code",
   "execution_count": 8,
   "id": "f8d3d68c-c3b0-4a8a-91b0-32366f2199fc",
   "metadata": {
    "tags": []
   },
   "outputs": [],
   "source": [
    "# Join the two streaming DataFrames on user\n",
    "join_df = (events_df\n",
    "           .join(  # 데이터프레임 조인\n",
    "               users_df.withWatermark(\"timestamp\", \"10 minutes\"), # Define watermark for users stream\n",
    "               events_df.user_id == users_df.id, # Join condition\n",
    "               \"inner  # 내부 조인\")# Join type\n",
    "           .withWatermark(\"event_time\", \"1 minutes\") # Define watermark for orders stream\n",
    "           .drop(  # 컬럼 삭제users_df.id))\n",
    " "
   ]
  },
  {
   "cell_type": "code",
   "execution_count": 9,
   "id": "3b834c0f-d657-4c13-82f2-e636395bdba3",
   "metadata": {},
   "outputs": [
    {
     "name": "stderr",
     "output_type": "stream",
     "text": [
      "[Stage 2:>                                                        (0 + 2) / 200]\r"
     ]
    }
   ],
   "source": [
    "query = (join_df.writeStream  # 스트리밍 데이터 쓰기\n",
    "   .format(\"delta\")  # Delta Lake 형식으로 저장\n",
    "   .outputMode(  # 스트리밍 출력 모드 설정\"append\")\n",
    "         .option(\"failOnDataLoss\", \"true\")\n",
    "   .option(\"checkpointLocation\", \"/opt/workspace/data/delta_lake/joining-stream-stream/user_events/_checkpoints/\")\n",
    "   .start(\"/opt/workspace/data/delta_lake/joining-stream-stream/user_events\"))"
   ]
  },
  {
   "cell_type": "code",
   "execution_count": 13,
   "id": "3e1a12ef-5d48-40b1-9187-af13e46ca359",
   "metadata": {},
   "outputs": [
    {
     "name": "stderr",
     "output_type": "stream",
     "text": [
      "                                                                                \r"
     ]
    },
    {
     "data": {
      "text/html": [
       "<table><tr style=\"border-bottom: 1px solid\"><td style=\"font-weight: bold\">event_type</td><td style=\"font-weight: bold\">gender</td><td style=\"font-weight: bold\">country</td><td style=\"font-weight: bold\">count(user_id)</td></tr></table>"
      ],
      "text/plain": [
       "<IPython.core.display.HTML object>"
      ]
     },
     "execution_count": 13,
     "metadata": {},
     "output_type": "execute_result"
    },
    {
     "name": "stderr",
     "output_type": "stream",
     "text": [
      "[Stage 55:======>                                                (23 + 2) / 200]\r"
     ]
    }
   ],
   "source": [
    "%%sparksql\n",
    "SELECT event_type, gender, country,count(user_id) \n",
    "FROM delta.`/opt/workspace/data/delta_lake/joining-stream-stream/user_events` \n",
    "GROUP BY ALL;"
   ]
  },
  {
   "cell_type": "code",
   "execution_count": 16,
   "id": "4851e696-46cf-4371-aa44-afda5e110cff",
   "metadata": {},
   "outputs": [],
   "source": [
    "query.stop()"
   ]
  },
  {
   "cell_type": "code",
   "execution_count": 17,
   "id": "49bcfa1b-1401-4af6-a031-c5e17e4ad8a3",
   "metadata": {},
   "outputs": [],
   "source": [
    "spark.stop()  # Spark 세션 종료 - 리소스 정리 "
   ]
  },
  {
   "cell_type": "code",
   "execution_count": null,
   "id": "6779dfbf-4561-475a-997f-f951b6418093",
   "metadata": {},
   "outputs": [],
   "source": []
  }
 ],
 "metadata": {
  "kernelspec": {
   "display_name": "Python 3 (ipykernel)",
   "language": "python",
   "name": "python3"
  },
  "language_info": {
   "codemirror_mode": {
    "name": "ipython",
    "version": 3
   },
   "file_extension": ".py",
   "mimetype": "text/x-python",
   "name": "python",
   "nbconvert_exporter": "python",
   "pygments_lexer": "ipython3",
   "version": "3.10.12"
  }
 },
 "nbformat": 4,
 "nbformat_minor": 5
}