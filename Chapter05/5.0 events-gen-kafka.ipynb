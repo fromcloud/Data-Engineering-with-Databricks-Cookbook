{
 "cells": [
  {
   "cell_type": "code",
   "execution_count": 1,
   "id": "8393e835-14fb-4aa3-833f-d60aa5464018",
   "metadata": {},
   "outputs": [
    {
     "name": "stdout",
     "output_type": "stream",
     "text": [
      "{'user_id': 47, 'event_type': 'purchase', 'event_time': '08/26/2023, 12:15:57', 'processing_time': '08/26/2023, 12:16:13'}\n",
      "{'user_id': 44, 'event_type': 'click', 'event_time': '08/26/2023, 12:16:14', 'processing_time': '08/26/2023, 12:16:24'}\n",
      "{'user_id': 63, 'event_type': 'click', 'event_time': '08/26/2023, 12:16:21', 'processing_time': '08/26/2023, 12:16:34'}\n",
      "{'user_id': 68, 'event_type': 'purchase', 'event_time': '08/26/2023, 12:16:32', 'processing_time': '08/26/2023, 12:16:44'}\n",
      "{'user_id': 89, 'event_type': 'click', 'event_time': '08/26/2023, 12:16:32', 'processing_time': '08/26/2023, 12:16:54'}\n",
      "{'user_id': 15, 'event_type': 'view', 'event_time': '08/26/2023, 12:16:55', 'processing_time': '08/26/2023, 12:17:04'}\n",
      "{'user_id': 94, 'event_type': 'view', 'event_time': '08/26/2023, 12:16:54', 'processing_time': '08/26/2023, 12:17:14'}\n",
      "{'user_id': 45, 'event_type': 'view', 'event_time': '08/26/2023, 12:17:23', 'processing_time': '08/26/2023, 12:17:24'}\n",
      "{'user_id': 17, 'event_type': 'purchase', 'event_time': '08/26/2023, 12:17:23', 'processing_time': '08/26/2023, 12:17:34'}\n",
      "{'user_id': 48, 'event_type': 'share', 'event_time': '08/26/2023, 12:17:36', 'processing_time': '08/26/2023, 12:17:44'}\n",
      "{'user_id': 86, 'event_type': 'purchase', 'event_time': '08/26/2023, 12:17:48', 'processing_time': '08/26/2023, 12:17:54'}\n",
      "{'user_id': 92, 'event_type': 'like', 'event_time': '08/26/2023, 12:18:01', 'processing_time': '08/26/2023, 12:18:04'}\n",
      "{'user_id': 50, 'event_type': 'purchase', 'event_time': '08/26/2023, 12:18:12', 'processing_time': '08/26/2023, 12:18:14'}\n",
      "{'user_id': 94, 'event_type': 'share', 'event_time': '08/26/2023, 12:18:22', 'processing_time': '08/26/2023, 12:18:24'}\n",
      "{'user_id': 84, 'event_type': 'purchase', 'event_time': '08/26/2023, 12:18:30', 'processing_time': '08/26/2023, 12:18:34'}\n",
      "{'user_id': 54, 'event_type': 'click', 'event_time': '08/26/2023, 12:18:34', 'processing_time': '08/26/2023, 12:18:44'}\n",
      "{'user_id': 24, 'event_type': 'share', 'event_time': '08/26/2023, 12:18:41', 'processing_time': '08/26/2023, 12:18:54'}\n",
      "{'user_id': 92, 'event_type': 'share', 'event_time': '08/26/2023, 12:19:00', 'processing_time': '08/26/2023, 12:19:04'}\n",
      "{'user_id': 66, 'event_type': 'click', 'event_time': '08/26/2023, 12:18:55', 'processing_time': '08/26/2023, 12:19:14'}\n",
      "{'user_id': 72, 'event_type': 'view', 'event_time': '08/26/2023, 12:19:17', 'processing_time': '08/26/2023, 12:19:24'}\n",
      "{'user_id': 67, 'event_type': 'click', 'event_time': '08/26/2023, 12:19:23', 'processing_time': '08/26/2023, 12:19:34'}\n",
      "{'user_id': 80, 'event_type': 'purchase', 'event_time': '08/26/2023, 12:19:38', 'processing_time': '08/26/2023, 12:19:44'}\n",
      "{'user_id': 61, 'event_type': 'share', 'event_time': '08/26/2023, 12:19:39', 'processing_time': '08/26/2023, 12:19:54'}\n",
      "{'user_id': 54, 'event_type': 'purchase', 'event_time': '08/26/2023, 12:20:00', 'processing_time': '08/26/2023, 12:20:04'}\n",
      "{'user_id': 57, 'event_type': 'view', 'event_time': '08/26/2023, 12:20:13', 'processing_time': '08/26/2023, 12:20:14'}\n",
      "{'user_id': 21, 'event_type': 'like', 'event_time': '08/26/2023, 12:20:20', 'processing_time': '08/26/2023, 12:20:24'}\n",
      "{'user_id': 55, 'event_type': 'like', 'event_time': '08/26/2023, 12:20:21', 'processing_time': '08/26/2023, 12:20:34'}\n",
      "{'user_id': 55, 'event_type': 'purchase', 'event_time': '08/26/2023, 12:20:37', 'processing_time': '08/26/2023, 12:20:44'}\n",
      "{'user_id': 83, 'event_type': 'purchase', 'event_time': '08/26/2023, 12:20:51', 'processing_time': '08/26/2023, 12:20:54'}\n",
      "{'user_id': 46, 'event_type': 'share', 'event_time': '08/26/2023, 12:20:44', 'processing_time': '08/26/2023, 12:21:04'}\n",
      "{'user_id': 38, 'event_type': 'click', 'event_time': '08/26/2023, 12:21:09', 'processing_time': '08/26/2023, 12:21:14'}\n",
      "{'user_id': 84, 'event_type': 'like', 'event_time': '08/26/2023, 12:21:17', 'processing_time': '08/26/2023, 12:21:24'}\n",
      "{'user_id': 63, 'event_type': 'purchase', 'event_time': '08/26/2023, 12:21:10', 'processing_time': '08/26/2023, 12:21:34'}\n"
     ]
    },
    {
     "ename": "KeyboardInterrupt",
     "evalue": "",
     "output_type": "error",
     "traceback": [
      "\u001b[0;31m---------------------------------------------------------------------------\u001b[0m",
      "\u001b[0;31mKeyboardInterrupt\u001b[0m                         Traceback (most recent call last)",
      "Cell \u001b[0;32mIn[1], line 40\u001b[0m\n\u001b[1;32m     37\u001b[0m \u001b[38;5;66;03m# Send the event to the Kafka topic\u001b[39;00m\n\u001b[1;32m     39\u001b[0m producer\u001b[38;5;241m.\u001b[39msend(topic, value\u001b[38;5;241m=\u001b[39mjson\u001b[38;5;241m.\u001b[39mdumps(event)\u001b[38;5;241m.\u001b[39mencode(\u001b[38;5;124m'\u001b[39m\u001b[38;5;124mutf-8\u001b[39m\u001b[38;5;124m'\u001b[39m))\n\u001b[0;32m---> 40\u001b[0m \u001b[43mtime\u001b[49m\u001b[38;5;241;43m.\u001b[39;49m\u001b[43msleep\u001b[49m\u001b[43m(\u001b[49m\u001b[38;5;241;43m10\u001b[39;49m\u001b[43m)\u001b[49m\n",
      "\u001b[0;31mKeyboardInterrupt\u001b[0m: "
     ]
    }
   ],
   "source": [
    "# Import the required modules\n",
    "import random\n",
    "import json\n",
    "from kafka import KafkaProducer\n",
    "import time\n",
    "\n",
    "# using datetime module\n",
    "import datetime;\n",
    "\n",
    "# Define the bootstrap servers and the topic name\n",
    "bootstrap_servers = \"kafka:9092\"\n",
    "topic = \"events\"\n",
    "\n",
    "# 생성 a Kafka producer with JSON value serializer\n",
    "producer = KafkaProducer(bootstrap_servers=bootstrap_servers)\n",
    "\n",
    "# Define a function to generate random event data\n",
    "def generate_event():\n",
    "  # Generate a random user id from 1 to 100\n",
    "  current_time = time.time()\n",
    "  user_id = random.randint(1, 100)\n",
    "  # Generate a random event type from a list of options\n",
    "  event_type = random.choice([\"click\", \"view\", \"purchase\", \"like\", \"share\"])\n",
    "  # Generate a random event time from 0 to 9999\n",
    "  event_time = datetime.datetime.fromtimestamp(current_time- abs(random.normalvariate(0, 10))).strftime(\"%m/%d/%Y, %H:%M:%S\")\n",
    "  # Generate a random event time from 0 to 9999\n",
    "  processing_time =datetime.datetime.fromtimestamp(current_time).strftime(\"%m/%d/%Y, %H:%M:%S\")\n",
    "  # Return a dictionary with the event data\n",
    "  return {\"user_id\": user_id, \"event_type\": event_type, \"event_time\": event_time, \"processing_time\": processing_time}\n",
    "\n",
    "# Loop to generate and send events\n",
    "while True:\n",
    "  # Generate a random event\n",
    "  event = generate_event()\n",
    "  # 출력 the event to the console\n",
    "  print(event)\n",
    "  # Send the event to the Kafka topic\n",
    "    \n",
    "  producer.send(topic, value=json.dumps(event).encode('utf-8'))\n",
    "  time.sleep(10)\n"
   ]
  },
  {
   "cell_type": "markdown",
   "id": "87081f46-4053-4df2-b262-aec86df50970",
   "metadata": {
    "jp-MarkdownHeadingCollapsed": true
   },
   "source": [
    "### "
   ]
  }
 ],
 "metadata": {
  "kernelspec": {
   "display_name": "Python 3 (ipykernel)",
   "language": "python",
   "name": "python3"
  },
  "language_info": {
   "codemirror_mode": {
    "name": "ipython",
    "version": 3
   },
   "file_extension": ".py",
   "mimetype": "text/x-python",
   "name": "python",
   "nbconvert_exporter": "python",
   "pygments_lexer": "ipython3",
   "version": "3.10.12"
  }
 },
 "nbformat": 4,
 "nbformat_minor": 5
}