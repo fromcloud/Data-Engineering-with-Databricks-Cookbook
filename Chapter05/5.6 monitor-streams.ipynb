{
 "cells": [
  {
   "cell_type": "markdown",
   "id": "f41c0646-5c85-408c-ac71-5dfdcdb06ea8",
   "metadata": {},
   "source": [
    "Before we start, we need to make sure that we have a Kafka cluster running and a topic that produces some streaming data. For simplicity, we will use a single-node Kafka cluster and a topic named `users`. Open the `5.0 user-gen-kafka.ipynb` notebook and execute the cell. This notebook produces a user record every few seconds and put it on a Kafka topic called `users`. "
   ]
  },
  {
   "cell_type": "code",
   "execution_count": 1,
   "id": "54f45c54-0b95-4fd9-a180-fe3be96ab99d",
   "metadata": {},
   "outputs": [],
   "source": [
    "from delta import  # Delta Lake 라이브러리 임포트 configure_spark_with_delta_pip, DeltaTable\n",
    "from pyspark.sql import SparkSession  # Spark SQL 작업을 위한 SparkSession 임포트\n",
    "from pyspark.sql.functions import  # Spark SQL 함수들 임포트 col, from_json,to_timestamp\n",
    "from pyspark.sql.types import  # Spark SQL 데이터 타입 임포트 StructType, StructField, IntegerType, StringType"
   ]
  },
  {
   "cell_type": "code",
   "execution_count": 2,
   "id": "e7850eab-3759-491d-a70a-7a02977db101",
   "metadata": {},
   "outputs": [
    {
     "name": "stdout",
     "output_type": "stream",
     "text": [
      ":: loading settings :: url = jar:file:/usr/local/lib/python3.10/dist-packages/pyspark/jars/ivy-2.5.1.jar!/org/apache/ivy/core/settings/ivysettings.xml\n"
     ]
    },
    {
     "name": "stderr",
     "output_type": "stream",
     "text": [
      "Ivy Default Cache set to: /root/.ivy2/cache\n",
      "The jars for the packages stored in: /root/.ivy2/jars\n",
      "io.delta#delta-core_2.12 added as a dependency\n",
      "org.apache.spark#spark-sql-kafka-0-10_2.12 added as a dependency\n",
      ":: resolving dependencies :: org.apache.spark#spark-submit-parent-eb1864be-ea03-415c-8fb0-b08b2cd19aee;1.0\n",
      "\tconfs: [default]\n",
      "\tfound io.delta#delta-core_2.12;2.4.0 in central\n",
      "\tfound io.delta#delta-storage;2.4.0 in central\n",
      "\tfound org.antlr#antlr4-runtime;4.9.3 in central\n",
      "\tfound org.apache.spark#spark-sql-kafka-0-10_2.12;3.4.1 in central\n",
      "\tfound org.apache.spark#spark-token-provider-kafka-0-10_2.12;3.4.1 in central\n",
      "\tfound org.apache.kafka#kafka-clients;3.3.2 in central\n",
      "\tfound org.lz4#lz4-java;1.8.0 in central\n",
      "\tfound org.xerial.snappy#snappy-java;1.1.10.1 in central\n",
      "\tfound org.slf4j#slf4j-api;2.0.6 in central\n",
      "\tfound org.apache.hadoop#hadoop-client-runtime;3.3.4 in central\n",
      "\tfound org.apache.hadoop#hadoop-client-api;3.3.4 in central\n",
      "\tfound commons-logging#commons-logging;1.1.3 in central\n",
      "\tfound com.google.code.findbugs#jsr305;3.0.0 in central\n",
      "\tfound org.apache.commons#commons-pool2;2.11.1 in central\n",
      ":: resolution report :: resolve 899ms :: artifacts dl 30ms\n",
      "\t:: modules in use:\n",
      "\tcom.google.code.findbugs#jsr305;3.0.0 from central in [default]\n",
      "\tcommons-logging#commons-logging;1.1.3 from central in [default]\n",
      "\tio.delta#delta-core_2.12;2.4.0 from central in [default]\n",
      "\tio.delta#delta-storage;2.4.0 from central in [default]\n",
      "\torg.antlr#antlr4-runtime;4.9.3 from central in [default]\n",
      "\torg.apache.commons#commons-pool2;2.11.1 from central in [default]\n",
      "\torg.apache.hadoop#hadoop-client-api;3.3.4 from central in [default]\n",
      "\torg.apache.hadoop#hadoop-client-runtime;3.3.4 from central in [default]\n",
      "\torg.apache.kafka#kafka-clients;3.3.2 from central in [default]\n",
      "\torg.apache.spark#spark-sql-kafka-0-10_2.12;3.4.1 from central in [default]\n",
      "\torg.apache.spark#spark-token-provider-kafka-0-10_2.12;3.4.1 from central in [default]\n",
      "\torg.lz4#lz4-java;1.8.0 from central in [default]\n",
      "\torg.slf4j#slf4j-api;2.0.6 from central in [default]\n",
      "\torg.xerial.snappy#snappy-java;1.1.10.1 from central in [default]\n",
      "\t---------------------------------------------------------------------\n",
      "\t|                  |            modules            ||   artifacts   |\n",
      "\t|       conf       | number| search|dwnlded|evicted|| number|dwnlded|\n",
      "\t---------------------------------------------------------------------\n",
      "\t|      default     |   14  |   0   |   0   |   0   ||   14  |   0   |\n",
      "\t---------------------------------------------------------------------\n",
      ":: retrieving :: org.apache.spark#spark-submit-parent-eb1864be-ea03-415c-8fb0-b08b2cd19aee\n",
      "\tconfs: [default]\n",
      "\t0 artifacts copied, 14 already retrieved (0kB/20ms)\n",
      "24/02/04 18:54:42 WARN NativeCodeLoader: Unable to load native-hadoop library for your platform... using builtin-java classes where applicable\n",
      "Setting default log level to \"WARN\".\n",
      "To adjust logging level use sc.setLogLevel(newLevel). For SparkR, use setLogLevel(newLevel).\n"
     ]
    }
   ],
   "source": [
    "builder = (SparkSession.builder  # SparkSession 빌더 패턴 시작\n",
    "           .appName(\"monitor-stream\")  # 애플리케이션 이름 설정\n",
    "           .master(\"spark://spark-master:7077\")  # Spark 마스터 URL 설정\n",
    "           .config(\"spark.executor.memory\", \"512m\")  # Spark 설정 옵션\n",
    "           .config(\"spark.sql.extensions\", \"io.delta.sql.DeltaSparkSessionExtension\")  # Spark 설정 옵션\n",
    "           .config(\"spark.sql.catalog.spark_catalog\", \"org.apache.spark.sql.delta.catalog.DeltaCatalog\")  # Spark 설정 옵션)\n",
    "\n",
    "spark = configure_spark_with_delta_pip(builder,['org.apache.spark:spark-sql-kafka-0-10_2.12:3.4.1']).getOrCreate()  # SparkSession 생성 또는 기존 세션 반환\n",
    "spark.sparkContext.setLogLevel(\"ERROR\")  # 로그 레벨을 ERROR로 설정"
   ]
  },
  {
   "cell_type": "code",
   "execution_count": 3,
   "id": "d2da5eae-9a78-4bd6-8d4c-6bd0236db0e2",
   "metadata": {},
   "outputs": [],
   "source": [
    "get_ipython().run_line_magic('load_ext', 'sparksql_magic')\n",
    "get_ipython().run_line_magic('config', 'SparkSql.limit=20')"
   ]
  },
  {
   "cell_type": "code",
   "execution_count": 4,
   "id": "d3995bde-3fff-4e0b-b922-45b5395a3d65",
   "metadata": {},
   "outputs": [],
   "source": [
    "schema = StructType  # 구조체 타입([\n",
    "    StructField  # 구조체 필드('id', IntegerType(), True),\n",
    "    StructField  # 구조체 필드('name', StringType(), True),\n",
    "    StructField  # 구조체 필드('age', IntegerType(), True),\n",
    "    StructField  # 구조체 필드('gender', StringType(), True),\n",
    "    StructField  # 구조체 필드('country', StringType(), True),\n",
    "    StructField  # 구조체 필드('timestamp', StringType(), True)])\n",
    "\n",
    "users_df = (spark.readStream  # 스트리밍 데이터 읽기\n",
    "      .format(\"kafka\")\n",
    "      .option(\"kafka.bootstrap.servers\", \"kafka:9092\")\n",
    "      .option(\"subscribe\", \"users\")\n",
    "      .option(\"startingOffsets\", \"latest\")\n",
    "      .load(  # 파일 로드)\n",
    "      .withColumn(  # 새 컬럼 추가 또는 기존 컬럼 수정'value', from_json(col('value').cast(\"STRING\"), schema)))\n",
    "\n",
    "users_df = users_df.select(  # 컬럼 선택\n",
    "    col(  # 컬럼 참조'value.id').alias('id'),\n",
    "    col(  # 컬럼 참조'value.name').alias('name'),\n",
    "    col(  # 컬럼 참조'value.age').alias('age'),\n",
    "    col(  # 컬럼 참조'value.gender').alias('gender'),\n",
    "    col(  # 컬럼 참조'value.country').alias('country'),\n",
    "    to_timestamp(col(  # 컬럼 참조'value.timestamp'), \"MM/dd/yyyy, HH:mm:ss\").alias('timestamp'))"
   ]
  },
  {
   "cell_type": "code",
   "execution_count": 5,
   "id": "f8d3d68c-c3b0-4a8a-91b0-32366f2199fc",
   "metadata": {
    "tags": []
   },
   "outputs": [],
   "source": [
    "query = (users_df.writeStream  # 스트리밍 데이터 쓰기\n",
    "   .format(\"delta\")  # Delta Lake 형식으로 저장\n",
    "   .queryName(\"user-kafka-stream\")\n",
    "   .outputMode(  # 스트리밍 출력 모드 설정\"append\")\n",
    "   .option(\"checkpointLocation\", \"/opt/workspace/data/delta_lake/monitor-streams/users/_checkpoints/\")\n",
    "   .start(\"/opt/workspace/data/delta_lake/monitor-streams/users\"))"
   ]
  },
  {
   "cell_type": "code",
   "execution_count": 6,
   "id": "df5154d0-20f6-45c4-8d34-152c1df8b926",
   "metadata": {},
   "outputs": [
    {
     "data": {
      "text/plain": [
       "{'message': 'Processing new data',\n",
       " 'isDataAvailable': True,\n",
       " 'isTriggerActive': True}"
      ]
     },
     "execution_count": 6,
     "metadata": {},
     "output_type": "execute_result"
    },
    {
     "name": "stderr",
     "output_type": "stream",
     "text": [
      "[Stage 0:>                                                          (0 + 1) / 1]\r"
     ]
    }
   ],
   "source": [
    "query.status"
   ]
  },
  {
   "cell_type": "code",
   "execution_count": 9,
   "id": "8363888d-6eb8-4bb5-9a70-9576a664f557",
   "metadata": {},
   "outputs": [
    {
     "data": {
      "text/plain": [
       "[{'id': 'f7837694-913d-4b90-ac7b-0ffc6f67747a',\n",
       "  'runId': '5e1a5dcf-e297-48a2-b70f-a3bbe04815d2',\n",
       "  'name': 'user-kafka-stream',\n",
       "  'timestamp': '2024-02-04T18:54:54.132Z',\n",
       "  'batchId': 0,\n",
       "  'numInputRows': 0,\n",
       "  'inputRowsPerSecond': 0.0,\n",
       "  'processedRowsPerSecond': 0.0,\n",
       "  'durationMs': {'addBatch': 20207,\n",
       "   'commitOffsets': 86,\n",
       "   'getBatch': 27,\n",
       "   'latestOffset': 2290,\n",
       "   'queryPlanning': 536,\n",
       "   'triggerExecution': 23274,\n",
       "   'walCommit': 94},\n",
       "  'stateOperators': [],\n",
       "  'sources': [{'description': 'KafkaV2[Subscribe[users]]',\n",
       "    'startOffset': None,\n",
       "    'endOffset': {'users': {'0': 275}},\n",
       "    'latestOffset': {'users': {'0': 275}},\n",
       "    'numInputRows': 0,\n",
       "    'inputRowsPerSecond': 0.0,\n",
       "    'processedRowsPerSecond': 0.0,\n",
       "    'metrics': {'avgOffsetsBehindLatest': '0.0',\n",
       "     'maxOffsetsBehindLatest': '0',\n",
       "     'minOffsetsBehindLatest': '0'}}],\n",
       "  'sink': {'description': 'DeltaSink[/opt/workspace/data/delta_lake/monitor-streams/users]',\n",
       "   'numOutputRows': -1}}]"
      ]
     },
     "execution_count": 9,
     "metadata": {},
     "output_type": "execute_result"
    },
    {
     "name": "stderr",
     "output_type": "stream",
     "text": [
      "[Stage 8:==============================================>          (41 + 2) / 50]\r"
     ]
    }
   ],
   "source": [
    "query.recentProgress"
   ]
  },
  {
   "cell_type": "code",
   "execution_count": 10,
   "id": "bcb9b8af-81b9-4536-a444-0cf9b26f623d",
   "metadata": {},
   "outputs": [
    {
     "name": "stderr",
     "output_type": "stream",
     "text": [
      "                                                                                \r"
     ]
    },
    {
     "name": "stdout",
     "output_type": "stream",
     "text": [
      "Query made progress: {\n",
      "  \"id\" : \"f7837694-913d-4b90-ac7b-0ffc6f67747a\",\n",
      "  \"runId\" : \"5e1a5dcf-e297-48a2-b70f-a3bbe04815d2\",\n",
      "  \"name\" : \"user-kafka-stream\",\n",
      "  \"timestamp\" : \"2024-02-04T18:55:17.447Z\",\n",
      "  \"batchId\" : 1,\n",
      "  \"numInputRows\" : 2,\n",
      "  \"inputRowsPerSecond\" : 0.08578168561012224,\n",
      "  \"processedRowsPerSecond\" : 0.2604166666666667,\n",
      "  \"durationMs\" : {\n",
      "    \"addBatch\" : 7489,\n",
      "    \"commitOffsets\" : 65,\n",
      "    \"getBatch\" : 0,\n",
      "    \"latestOffset\" : 13,\n",
      "    \"queryPlanning\" : 30,\n",
      "    \"triggerExecution\" : 7680,\n",
      "    \"walCommit\" : 78\n",
      "  },\n",
      "  \"stateOperators\" : [ ],\n",
      "  \"sources\" : [ {\n",
      "    \"description\" : \"KafkaV2[Subscribe[users]]\",\n",
      "    \"startOffset\" : {\n",
      "      \"users\" : {\n",
      "        \"0\" : 275\n",
      "      }\n",
      "    },\n",
      "    \"endOffset\" : {\n",
      "      \"users\" : {\n",
      "        \"0\" : 277\n",
      "      }\n",
      "    },\n",
      "    \"latestOffset\" : {\n",
      "      \"users\" : {\n",
      "        \"0\" : 277\n",
      "      }\n",
      "    },\n",
      "    \"numInputRows\" : 2,\n",
      "    \"inputRowsPerSecond\" : 0.08578168561012224,\n",
      "    \"processedRowsPerSecond\" : 0.2604166666666667,\n",
      "    \"metrics\" : {\n",
      "      \"avgOffsetsBehindLatest\" : \"0.0\",\n",
      "      \"maxOffsetsBehindLatest\" : \"0\",\n",
      "      \"minOffsetsBehindLatest\" : \"0\"\n",
      "    }\n",
      "  } ],\n",
      "  \"sink\" : {\n",
      "    \"description\" : \"DeltaSink[/opt/workspace/data/delta_lake/monitor-streams/users]\",\n",
      "    \"numOutputRows\" : -1\n",
      "  }\n",
      "}\n",
      "Query with id f7837694-913d-4b90-ac7b-0ffc6f67747a terminated normally\n"
     ]
    }
   ],
   "source": [
    "from pyspark.sql.streaming import StreamingQueryListener\n",
    "\n",
    "# Define a custom listener class\n",
    "class MyListener(StreamingQueryListener):\n",
    "\n",
    "    # Override the onQueryStarted method\n",
    "    def onQueryStarted(self, event):\n",
    "        # 출력 the query name and id when it starts\n",
    "        print(f\"'{event.name}' [{event.id}] got started!\")\n",
    "\n",
    "    # Override the onQueryProgress method\n",
    "    def onQueryProgress(self, event):\n",
    "        # 출력 the input rate and processing rate when it progresses\n",
    "        print(f\"Query made progress: \" + str(event.progress))\n",
    "\n",
    "    # Override the onQueryTerminated method\n",
    "    def onQueryTerminated(self, event):\n",
    "        # 출력 the exception message when it terminates\n",
    "        if event.exception:\n",
    "            print(f\"Query with id {event.id} terminated with exception: {event}\")\n",
    "        else:\n",
    "            print(f\"Query with id {event.id} terminated normally\")\n",
    "\n",
    "# 생성 an instance of the listener class\n",
    "listener = MyListener()\n",
    "\n",
    "# Register the listener with spark.streams\n",
    "spark.streams.addListener(listener)"
   ]
  },
  {
   "cell_type": "code",
   "execution_count": 13,
   "id": "4851e696-46cf-4371-aa44-afda5e110cff",
   "metadata": {},
   "outputs": [],
   "source": [
    "query.stop()"
   ]
  },
  {
   "cell_type": "code",
   "execution_count": 14,
   "id": "49bcfa1b-1401-4af6-a031-c5e17e4ad8a3",
   "metadata": {},
   "outputs": [],
   "source": [
    "spark.stop()  # Spark 세션 종료 - 리소스 정리 "
   ]
  },
  {
   "cell_type": "code",
   "execution_count": null,
   "id": "7868bb3d-05b3-45b3-9f59-55986d7d3a06",
   "metadata": {},
   "outputs": [],
   "source": []
  }
 ],
 "metadata": {
  "kernelspec": {
   "display_name": "Python 3 (ipykernel)",
   "language": "python",
   "name": "python3"
  },
  "language_info": {
   "codemirror_mode": {
    "name": "ipython",
    "version": 3
   },
   "file_extension": ".py",
   "mimetype": "text/x-python",
   "name": "python",
   "nbconvert_exporter": "python",
   "pygments_lexer": "ipython3",
   "version": "3.10.12"
  }
 },
 "nbformat": 4,
 "nbformat_minor": 5
}