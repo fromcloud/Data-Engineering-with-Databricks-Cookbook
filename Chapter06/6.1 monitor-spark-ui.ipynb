{
 "cells": [
  {
   "cell_type": "code",
   "execution_count": 1,
   "id": "6bfbe105-2fd1-43f1-95e9-525d85226a13",
   "metadata": {},
   "outputs": [
    {
     "name": "stderr",
     "output_type": "stream",
     "text": [
      "Setting default log level to \"WARN\".\n",
      "To adjust logging level use sc.setLogLevel(newLevel). For SparkR, use setLogLevel(newLevel).\n",
      "23/09/03 11:00:25 WARN NativeCodeLoader: Unable to load native-hadoop library for your platform... using builtin-java classes where applicable\n"
     ]
    }
   ],
   "source": [
    "from pyspark.sql import SparkSession  # Spark SQL 작업을 위한 SparkSession 임포트\n",
    "\n",
    "# 생성 a new SparkSession\n",
    "spark = (SparkSession\n",
    "         .builder\n",
    "         .appName(\"monitor-spark-ui\")  # 애플리케이션 이름 설정\n",
    "         .master(\"spark://spark-master:7077\")  # Spark 마스터 URL 설정\n",
    "         .config(\"spark.executor.memory\", \"512m\")  # Spark 설정 옵션\n",
    "         .getOrCreate()  # SparkSession 생성 또는 기존 세션 반환)\n",
    "\n",
    "# Set log level to ERROR\n",
    "spark.sparkContext.setLogLevel(\"ERROR\")  # 로그 레벨을 ERROR로 설정"
   ]
  },
  {
   "cell_type": "code",
   "execution_count": 2,
   "id": "d348a886-776d-42db-936c-0d7339969642",
   "metadata": {},
   "outputs": [],
   "source": [
    "from pyspark.sql.types import  # Spark SQL 데이터 타입 임포트 StructType, StructField, StringType, IntegerType, DateType\n",
    "\n",
    "# Define a Schema\n",
    "schema = StructType  # 구조체 타입([\n",
    "    StructField  # 구조체 필드(\"show_id\", StringType(), True),\n",
    "    StructField  # 구조체 필드(\"type\", StringType(), True),\n",
    "    StructField  # 구조체 필드(\"title\", StringType(), True),\n",
    "    StructField  # 구조체 필드(\"director\", StringType(), True),\n",
    "    StructField  # 구조체 필드(\"cast\", StringType(), True),\n",
    "    StructField  # 구조체 필드(\"country\", StringType(), True),\n",
    "    StructField  # 구조체 필드(\"date_added\", DateType(), True),\n",
    "    StructField  # 구조체 필드(\"release_year\", IntegerType(), True),\n",
    "    StructField  # 구조체 필드(\"rating\", StringType(), True),\n",
    "    StructField  # 구조체 필드(\"duration\", StringType(), True),\n",
    "    StructField  # 구조체 필드(\"listed_in\", StringType(), True),\n",
    "    StructField  # 구조체 필드(\"description\", StringType(), True)])\n"
   ]
  },
  {
   "cell_type": "code",
   "execution_count": 3,
   "id": "8670a1c7-4876-4870-8a8c-aedb67ee703e",
   "metadata": {},
   "outputs": [],
   "source": [
    "# 읽기 CSV file into a DataFrame\n",
    "df = (spark.read.format(\"csv\")  # CSV 형식으로 데이터 읽기\n",
    "      .option(\"header\", \"true\")  # 첫 번째 행을 헤더로 사용\n",
    "      .schema(schema)\n",
    "      .load(  # 파일 로드\"../data/netflix_titles.csv\"))"
   ]
  },
  {
   "cell_type": "code",
   "execution_count": 4,
   "id": "0d196aa1-1af0-4100-9fee-17ad1edff93c",
   "metadata": {},
   "outputs": [],
   "source": [
    "# 필터링 rows where release_year ge is greater than 2020\n",
    "df = df.filter(  # 데이터 필터링df.release_year > 2020)"
   ]
  },
  {
   "cell_type": "code",
   "execution_count": 5,
   "id": "cf6e81ec-736f-4955-b953-a9210cf55112",
   "metadata": {},
   "outputs": [],
   "source": [
    "# 그룹화 by country and count\n",
    "df = df.groupBy(  # 그룹화\"country\").count()"
   ]
  },
  {
   "cell_type": "code",
   "execution_count": 6,
   "id": "831d1ff5-cd30-47ba-91ee-d4e664c67917",
   "metadata": {},
   "outputs": [
    {
     "name": "stderr",
     "output_type": "stream",
     "text": [
      "[Stage 0:>                                                          (0 + 1) / 1]\r"
     ]
    },
    {
     "name": "stdout",
     "output_type": "stream",
     "text": [
      "+--------------------+-----+\n",
      "|             country|count|\n",
      "+--------------------+-----+\n",
      "|India, United Kin...|    1|\n",
      "|France, United St...|    3|\n",
      "|              Sweden|    3|\n",
      "|              Turkey|    5|\n",
      "|China, United Sta...|    1|\n",
      "|             Germany|    5|\n",
      "|              Jordan|    1|\n",
      "|              France|    7|\n",
      "|    Uruguay, Germany|    1|\n",
      "|United States, India|    1|\n",
      "|Belgium, United K...|    1|\n",
      "|                null|  208|\n",
      "|           Argentina|    2|\n",
      "|Mexico, United St...|    1|\n",
      "|             Belgium|    2|\n",
      "|               India|   31|\n",
      "|       United States|  137|\n",
      "|               China|    4|\n",
      "|United States, Cz...|    1|\n",
      "|United States, Japan|    2|\n",
      "+--------------------+-----+\n",
      "only showing top 20 rows\n",
      "\n"
     ]
    },
    {
     "name": "stderr",
     "output_type": "stream",
     "text": [
      "                                                                                \r"
     ]
    }
   ],
   "source": [
    "# 표시 the result\n",
    "df.show()  # DataFrame 내용 출력"
   ]
  },
  {
   "cell_type": "code",
   "execution_count": null,
   "id": "030c5f42-391f-4b5f-93ff-efa79ae4bf36",
   "metadata": {},
   "outputs": [],
   "source": []
  }
 ],
 "metadata": {
  "kernelspec": {
   "display_name": "Python 3 (ipykernel)",
   "language": "python",
   "name": "python3"
  },
  "language_info": {
   "codemirror_mode": {
    "name": "ipython",
    "version": 3
   },
   "file_extension": ".py",
   "mimetype": "text/x-python",
   "name": "python",
   "nbconvert_exporter": "python",
   "pygments_lexer": "ipython3",
   "version": "3.10.12"
  }
 },
 "nbformat": 4,
 "nbformat_minor": 5
}