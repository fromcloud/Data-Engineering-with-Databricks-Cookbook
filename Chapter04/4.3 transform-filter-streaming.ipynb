{
 "cells": [
  {
   "cell_type": "markdown",
   "id": "bec7ae4a-af46-4145-945e-2562fa656e24",
   "metadata": {},
   "source": [
    "Before we start, we need to make sure that we have a Kafka cluster running and a topic that produces some streaming data. For simplicity, we will use a single-node Kafka cluster and a topic named `users`. Open the `4.0 user-gen-kafka.ipynb` notebook and execute the cell. This notebook produces a user record every few seconds and put it on a Kafka topic called users. "
   ]
  },
  {
   "cell_type": "code",
   "execution_count": 11,
   "id": "fbec53d8-dd6c-4454-9e9c-8f3063c051f3",
   "metadata": {},
   "outputs": [],
   "source": [
    "from delta import  # Delta Lake 라이브러리 임포트 configure_spark_with_delta_pip\n",
    "from pyspark.sql import SparkSession  # Spark SQL 작업을 위한 SparkSession 임포트\n",
    "from pyspark.sql.functions import  # Spark SQL 함수들 임포트 col, from_json, avg\n",
    "from pyspark.sql.types import  # Spark SQL 데이터 타입 임포트 StructType, StructField, IntegerType, StringType"
   ]
  },
  {
   "cell_type": "code",
   "execution_count": 12,
   "id": "e7850eab-3759-491d-a70a-7a02977db101",
   "metadata": {},
   "outputs": [],
   "source": [
    "builder = (SparkSession.builder  # SparkSession 빌더 패턴 시작\n",
    "           .appName(\"transform-filter-streaming\")  # 애플리케이션 이름 설정\n",
    "           .master(\"spark://spark-master:7077\")  # Spark 마스터 URL 설정\n",
    "           .config(\"spark.executor.memory\", \"512m\")  # Spark 설정 옵션\n",
    "           .config(\"spark.sql.extensions\", \"io.delta.sql.DeltaSparkSessionExtension\")  # Spark 설정 옵션\n",
    "           .config(\"spark.sql.catalog.spark_catalog\", \"org.apache.spark.sql.delta.catalog.DeltaCatalog\")  # Spark 설정 옵션)\n",
    "\n",
    "spark = configure_spark_with_delta_pip(builder,['org.apache.spark:spark-sql-kafka-0-10_2.12:3.4.1']).getOrCreate()  # SparkSession 생성 또는 기존 세션 반환\n",
    "spark.sparkContext.setLogLevel(\"ERROR\")  # 로그 레벨을 ERROR로 설정"
   ]
  },
  {
   "cell_type": "code",
   "execution_count": 13,
   "id": "228e8f56-4fd9-497a-947f-8ce968889dc7",
   "metadata": {
    "tags": []
   },
   "outputs": [],
   "source": [
    "df = (spark.readStream  # 스트리밍 데이터 읽기\n",
    "      .format(\"kafka\")\n",
    "      .option(\"kafka.bootstrap.servers\", \"kafka:9092\")\n",
    "      .option(\"subscribe\", \"users\")\n",
    "      .option(\"startingOffsets\", \"earliest\")\n",
    "      .load(  # 파일 로드))"
   ]
  },
  {
   "cell_type": "code",
   "execution_count": 14,
   "id": "a0e26449-e04a-4cf5-a42f-5594943bd3fa",
   "metadata": {
    "tags": []
   },
   "outputs": [],
   "source": [
    "schema = StructType  # 구조체 타입([\n",
    "    StructField  # 구조체 필드('id', IntegerType(), True),\n",
    "    StructField  # 구조체 필드('name', StringType(), True),\n",
    "    StructField  # 구조체 필드('age', IntegerType(), True),\n",
    "    StructField  # 구조체 필드('gender', StringType(), True),\n",
    "    StructField  # 구조체 필드('country', StringType(), True)])\n",
    "\n",
    "df = df.withColumn(  # 새 컬럼 추가 또는 기존 컬럼 수정'value', from_json(col('value').cast(\"STRING\"), schema))"
   ]
  },
  {
   "cell_type": "code",
   "execution_count": 15,
   "id": "f8d3d68c-c3b0-4a8a-91b0-32366f2199fc",
   "metadata": {
    "tags": []
   },
   "outputs": [],
   "source": [
    "df = df.select(  # 컬럼 선택\n",
    "    col(  # 컬럼 참조'value.id').alias('id'),\n",
    "    col(  # 컬럼 참조'value.name').alias('name'),\n",
    "    col(  # 컬럼 참조'value.age').alias('age'),\n",
    "    col(  # 컬럼 참조'value.gender').alias('gender'),\n",
    "    col(  # 컬럼 참조'value.country').alias('country'))"
   ]
  },
  {
   "cell_type": "code",
   "execution_count": 16,
   "id": "5c447d82-f3f3-4b78-98b9-cb8e1e79512c",
   "metadata": {
    "tags": []
   },
   "outputs": [],
   "source": [
    "df = (df.select(  # 컬럼 선택'age','country', 'gender').filter(\"age >= 21\").groupBy('country', 'gender').agg(avg('age').alias('avg_age')))"
   ]
  },
  {
   "cell_type": "code",
   "execution_count": 17,
   "id": "718de3b6-5fcd-46cb-b3ce-e8492a382e21",
   "metadata": {},
   "outputs": [
    {
     "name": "stderr",
     "output_type": "stream",
     "text": [
      "                                                                                \r"
     ]
    },
    {
     "name": "stdout",
     "output_type": "stream",
     "text": [
      "-------------------------------------------\n",
      "Batch: 0\n",
      "-------------------------------------------\n",
      "+---------+------+------------------+\n",
      "|  country|gender|           avg_age|\n",
      "+---------+------+------------------+\n",
      "|   Brazil|     F|              31.5|\n",
      "|   Brazil|     M|              34.0|\n",
      "|      USA|     F|              59.5|\n",
      "|Australia|     F|              43.0|\n",
      "|   Canada|     M|              43.0|\n",
      "|       UK|     M|              22.5|\n",
      "|      USA|     M|              50.0|\n",
      "|    India|     M|             44.25|\n",
      "|    China|     M|41.333333333333336|\n",
      "|    China|     F| 41.42857142857143|\n",
      "|   Canada|     F|              31.5|\n",
      "|Australia|     M|              32.0|\n",
      "|    India|     F|50.666666666666664|\n",
      "|       UK|     F|             34.25|\n",
      "+---------+------+------------------+\n",
      "\n"
     ]
    },
    {
     "name": "stderr",
     "output_type": "stream",
     "text": [
      "                                                                                \r"
     ]
    },
    {
     "name": "stdout",
     "output_type": "stream",
     "text": [
      "-------------------------------------------\n",
      "Batch: 1\n",
      "-------------------------------------------\n",
      "+---------+------+------------------+\n",
      "|  country|gender|           avg_age|\n",
      "+---------+------+------------------+\n",
      "|   Brazil|     F|              31.5|\n",
      "|   Brazil|     M|              34.0|\n",
      "|      USA|     F|              59.5|\n",
      "|Australia|     F|              43.0|\n",
      "|   Canada|     M|              43.0|\n",
      "|       UK|     M|              22.5|\n",
      "|      USA|     M|              50.0|\n",
      "|    India|     M|              45.0|\n",
      "|    China|     M|41.333333333333336|\n",
      "|    China|     F| 41.42857142857143|\n",
      "|   Canada|     F|              31.5|\n",
      "|Australia|     M|              32.0|\n",
      "|    India|     F|50.666666666666664|\n",
      "|       UK|     F|             34.25|\n",
      "+---------+------+------------------+\n",
      "\n"
     ]
    },
    {
     "name": "stderr",
     "output_type": "stream",
     "text": [
      "                                                                                \r"
     ]
    },
    {
     "name": "stdout",
     "output_type": "stream",
     "text": [
      "-------------------------------------------\n",
      "Batch: 2\n",
      "-------------------------------------------\n",
      "+---------+------+------------------+\n",
      "|  country|gender|           avg_age|\n",
      "+---------+------+------------------+\n",
      "|   Brazil|     F|              31.5|\n",
      "|   Brazil|     M|              34.0|\n",
      "|      USA|     F|              59.5|\n",
      "|Australia|     F|              40.0|\n",
      "|   Canada|     M|              43.0|\n",
      "|       UK|     M|              22.5|\n",
      "|      USA|     M|              50.0|\n",
      "|    India|     M|              45.0|\n",
      "|    China|     M|41.333333333333336|\n",
      "|    China|     F| 41.42857142857143|\n",
      "|   Canada|     F|              31.5|\n",
      "|Australia|     M|              32.0|\n",
      "|    India|     F|50.666666666666664|\n",
      "|       UK|     F|             34.25|\n",
      "+---------+------+------------------+\n",
      "\n"
     ]
    },
    {
     "name": "stderr",
     "output_type": "stream",
     "text": [
      "                                                                                \r"
     ]
    },
    {
     "name": "stdout",
     "output_type": "stream",
     "text": [
      "-------------------------------------------\n",
      "Batch: 3\n",
      "-------------------------------------------\n",
      "+---------+------+------------------+\n",
      "|  country|gender|           avg_age|\n",
      "+---------+------+------------------+\n",
      "|   Brazil|     F|              31.5|\n",
      "|   Brazil|     M|              34.0|\n",
      "|      USA|     F|60.666666666666664|\n",
      "|Australia|     F|              40.0|\n",
      "|   Canada|     M|              43.0|\n",
      "|       UK|     M|              22.5|\n",
      "|      USA|     M|              50.0|\n",
      "|    India|     M|              45.0|\n",
      "|    China|     M|41.333333333333336|\n",
      "|    China|     F| 41.42857142857143|\n",
      "|   Canada|     F|              31.5|\n",
      "|Australia|     M|              32.0|\n",
      "|    India|     F|50.666666666666664|\n",
      "|       UK|     F|             34.25|\n",
      "+---------+------+------------------+\n",
      "\n"
     ]
    },
    {
     "name": "stderr",
     "output_type": "stream",
     "text": [
      "                                                                                \r"
     ]
    },
    {
     "name": "stdout",
     "output_type": "stream",
     "text": [
      "-------------------------------------------\n",
      "Batch: 4\n",
      "-------------------------------------------\n",
      "+---------+------+------------------+\n",
      "|  country|gender|           avg_age|\n",
      "+---------+------+------------------+\n",
      "|   Brazil|     F|              31.5|\n",
      "|   Brazil|     M|              34.0|\n",
      "|      USA|     F|60.666666666666664|\n",
      "|Australia|     F|              36.6|\n",
      "|   Canada|     M|              43.0|\n",
      "|       UK|     M|              22.5|\n",
      "|      USA|     M|              50.0|\n",
      "|    India|     M|              45.0|\n",
      "|    China|     M|41.333333333333336|\n",
      "|    China|     F| 41.42857142857143|\n",
      "|   Canada|     F|              31.5|\n",
      "|Australia|     M|              32.0|\n",
      "|    India|     F|50.666666666666664|\n",
      "|       UK|     F|             34.25|\n",
      "+---------+------+------------------+\n",
      "\n"
     ]
    },
    {
     "name": "stderr",
     "output_type": "stream",
     "text": [
      "                                                                                \r"
     ]
    },
    {
     "name": "stdout",
     "output_type": "stream",
     "text": [
      "-------------------------------------------\n",
      "Batch: 5\n",
      "-------------------------------------------\n",
      "+---------+------+------------------+\n",
      "|  country|gender|           avg_age|\n",
      "+---------+------+------------------+\n",
      "|   Brazil|     F|              31.5|\n",
      "|   Brazil|     M|              34.0|\n",
      "|      USA|     F|60.666666666666664|\n",
      "|Australia|     F|              36.6|\n",
      "|   Canada|     M|              43.0|\n",
      "|       UK|     M|              22.5|\n",
      "|      USA|     M|              50.0|\n",
      "|    India|     M|45.666666666666664|\n",
      "|    China|     M|41.333333333333336|\n",
      "|    China|     F| 41.42857142857143|\n",
      "|   Canada|     F|              31.5|\n",
      "|Australia|     M|              32.0|\n",
      "|    India|     F|50.666666666666664|\n",
      "|       UK|     F|             34.25|\n",
      "+---------+------+------------------+\n",
      "\n"
     ]
    },
    {
     "name": "stderr",
     "output_type": "stream",
     "text": [
      "                                                                                \r"
     ]
    },
    {
     "name": "stdout",
     "output_type": "stream",
     "text": [
      "-------------------------------------------\n",
      "Batch: 6\n",
      "-------------------------------------------\n",
      "+---------+------+------------------+\n",
      "|  country|gender|           avg_age|\n",
      "+---------+------+------------------+\n",
      "|   Brazil|     F|38.666666666666664|\n",
      "|   Brazil|     M|              34.0|\n",
      "|      USA|     F|60.666666666666664|\n",
      "|Australia|     F|              36.6|\n",
      "|   Canada|     M|              43.0|\n",
      "|       UK|     M|              22.5|\n",
      "|      USA|     M|              50.0|\n",
      "|    India|     M|45.666666666666664|\n",
      "|    China|     M|41.333333333333336|\n",
      "|    China|     F| 41.42857142857143|\n",
      "|   Canada|     F|              31.5|\n",
      "|Australia|     M|              32.0|\n",
      "|    India|     F|50.666666666666664|\n",
      "|       UK|     F|             34.25|\n",
      "+---------+------+------------------+\n",
      "\n"
     ]
    },
    {
     "name": "stderr",
     "output_type": "stream",
     "text": [
      "                                                                                \r"
     ]
    },
    {
     "name": "stdout",
     "output_type": "stream",
     "text": [
      "-------------------------------------------\n",
      "Batch: 7\n",
      "-------------------------------------------\n",
      "+---------+------+------------------+\n",
      "|  country|gender|           avg_age|\n",
      "+---------+------+------------------+\n",
      "|   Brazil|     F|38.666666666666664|\n",
      "|   Brazil|     M|              34.0|\n",
      "|      USA|     F|60.666666666666664|\n",
      "|Australia|     F|              36.6|\n",
      "|   Canada|     M|              43.0|\n",
      "|       UK|     M|              22.5|\n",
      "|      USA|     M|             50.75|\n",
      "|    India|     M|45.666666666666664|\n",
      "|    China|     M|41.333333333333336|\n",
      "|    China|     F| 41.42857142857143|\n",
      "|   Canada|     F|              31.5|\n",
      "|Australia|     M|              32.0|\n",
      "|    India|     F|50.666666666666664|\n",
      "|       UK|     F|             34.25|\n",
      "+---------+------+------------------+\n",
      "\n"
     ]
    },
    {
     "name": "stderr",
     "output_type": "stream",
     "text": [
      "                                                                                \r"
     ]
    },
    {
     "name": "stdout",
     "output_type": "stream",
     "text": [
      "-------------------------------------------\n",
      "Batch: 8\n",
      "-------------------------------------------\n",
      "+---------+------+------------------+\n",
      "|  country|gender|           avg_age|\n",
      "+---------+------+------------------+\n",
      "|   Brazil|     F|38.666666666666664|\n",
      "|   Brazil|     M|              34.0|\n",
      "|      USA|     F|60.666666666666664|\n",
      "|Australia|     F|              36.6|\n",
      "|   Canada|     M|              43.0|\n",
      "|       UK|     M|              22.5|\n",
      "|      USA|     M|             50.75|\n",
      "|    India|     M|45.666666666666664|\n",
      "|    China|     M|41.333333333333336|\n",
      "|    China|     F| 41.42857142857143|\n",
      "|   Canada|     F|              31.5|\n",
      "|Australia|     M|              28.5|\n",
      "|    India|     F|50.666666666666664|\n",
      "|       UK|     F|             34.25|\n",
      "+---------+------+------------------+\n",
      "\n"
     ]
    },
    {
     "name": "stderr",
     "output_type": "stream",
     "text": [
      "                                                                                \r"
     ]
    },
    {
     "name": "stdout",
     "output_type": "stream",
     "text": [
      "-------------------------------------------\n",
      "Batch: 9\n",
      "-------------------------------------------\n",
      "+---------+------+------------------+\n",
      "|  country|gender|           avg_age|\n",
      "+---------+------+------------------+\n",
      "|   Brazil|     F|38.666666666666664|\n",
      "|   Brazil|     M|              34.0|\n",
      "|      USA|     F|60.666666666666664|\n",
      "|Australia|     F|              36.6|\n",
      "|   Canada|     M|              43.0|\n",
      "|       UK|     M|              22.5|\n",
      "|      USA|     M|             50.75|\n",
      "|    India|     M|45.666666666666664|\n",
      "|    China|     M|41.333333333333336|\n",
      "|    China|     F| 41.42857142857143|\n",
      "|   Canada|     F|              31.5|\n",
      "|Australia|     M|              28.5|\n",
      "|    India|     F|50.666666666666664|\n",
      "|       UK|     F|              32.6|\n",
      "+---------+------+------------------+\n",
      "\n"
     ]
    },
    {
     "name": "stderr",
     "output_type": "stream",
     "text": [
      "[Stage 21:====>                                                  (16 + 2) / 200]\r"
     ]
    }
   ],
   "source": [
    "query = (df.writeStream  # 스트리밍 데이터 쓰기\n",
    "    .outputMode(  # 스트리밍 출력 모드 설정'complete')\n",
    "    .format('console')\n",
    "    .start()  # 스트리밍 시작)"
   ]
  },
  {
   "cell_type": "code",
   "execution_count": 18,
   "id": "0b2e8c82-b7d3-494e-acae-cd952ae0af63",
   "metadata": {},
   "outputs": [
    {
     "name": "stderr",
     "output_type": "stream",
     "text": [
      "24/02/04 17:54:32 ERROR WriteToDataSourceV2Exec: Data source write support MicroBatchWrite[epoch: 10, writer: ConsoleWriter[numRows=20, truncate=true]] is aborting.\n",
      "24/02/04 17:54:32 ERROR WriteToDataSourceV2Exec: Data source write support MicroBatchWrite[epoch: 10, writer: ConsoleWriter[numRows=20, truncate=true]] aborted.\n",
      "[Stage 21:=====>                                                 (20 + 2) / 200]\r"
     ]
    }
   ],
   "source": [
    "query.stop()"
   ]
  },
  {
   "cell_type": "code",
   "execution_count": 20,
   "id": "49bcfa1b-1401-4af6-a031-c5e17e4ad8a3",
   "metadata": {},
   "outputs": [],
   "source": [
    "spark.stop()  # Spark 세션 종료 - 리소스 정리 "
   ]
  },
  {
   "cell_type": "code",
   "execution_count": null,
   "id": "3a8ece79-b61e-41c2-ac32-2c26771c68ce",
   "metadata": {},
   "outputs": [],
   "source": []
  }
 ],
 "metadata": {
  "kernelspec": {
   "display_name": "Python 3 (ipykernel)",
   "language": "python",
   "name": "python3"
  },
  "language_info": {
   "codemirror_mode": {
    "name": "ipython",
    "version": 3
   },
   "file_extension": ".py",
   "mimetype": "text/x-python",
   "name": "python",
   "nbconvert_exporter": "python",
   "pygments_lexer": "ipython3",
   "version": "3.10.12"
  }
 },
 "nbformat": 4,
 "nbformat_minor": 5
}