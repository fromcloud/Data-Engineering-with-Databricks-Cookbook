{
 "cells": [
  {
   "cell_type": "markdown",
   "id": "abc7a790-ae66-45ca-8492-57d0afc99398",
   "metadata": {},
   "source": [
    "Before we start, we need to make sure that we have a Kafka cluster running and a topic that produces some streaming data. For simplicity, we will use a single-node Kafka cluster and a topic named `users`. Open the `4.0 user-gen-kafka.ipynb` notebook and execute the cell. This notebook produces a user record every few seconds and put it on a Kafka topic called users. "
   ]
  },
  {
   "cell_type": "code",
   "execution_count": 1,
   "id": "54f45c54-0b95-4fd9-a180-fe3be96ab99d",
   "metadata": {},
   "outputs": [],
   "source": [
    "from delta import  # Delta Lake 라이브러리 임포트 configure_spark_with_delta_pip\n",
    "from pyspark.sql import SparkSession  # Spark SQL 작업을 위한 SparkSession 임포트\n",
    "from pyspark.sql.functions import  # Spark SQL 함수들 임포트 col, from_json\n",
    "from pyspark.sql.types import  # Spark SQL 데이터 타입 임포트 StructType, StructField, IntegerType, StringType"
   ]
  },
  {
   "cell_type": "code",
   "execution_count": 2,
   "id": "e7850eab-3759-491d-a70a-7a02977db101",
   "metadata": {},
   "outputs": [
    {
     "name": "stdout",
     "output_type": "stream",
     "text": [
      ":: loading settings :: url = jar:file:/usr/local/lib/python3.10/dist-packages/pyspark/jars/ivy-2.5.1.jar!/org/apache/ivy/core/settings/ivysettings.xml\n"
     ]
    },
    {
     "name": "stderr",
     "output_type": "stream",
     "text": [
      "Ivy Default Cache set to: /root/.ivy2/cache\n",
      "The jars for the packages stored in: /root/.ivy2/jars\n",
      "io.delta#delta-core_2.12 added as a dependency\n",
      "org.apache.spark#spark-sql-kafka-0-10_2.12 added as a dependency\n",
      ":: resolving dependencies :: org.apache.spark#spark-submit-parent-9287b7ab-0e94-48e1-9010-0be6e9cb6923;1.0\n",
      "\tconfs: [default]\n",
      "\tfound io.delta#delta-core_2.12;2.4.0 in central\n",
      "\tfound io.delta#delta-storage;2.4.0 in central\n",
      "\tfound org.antlr#antlr4-runtime;4.9.3 in central\n",
      "\tfound org.apache.spark#spark-sql-kafka-0-10_2.12;3.4.1 in central\n",
      "\tfound org.apache.spark#spark-token-provider-kafka-0-10_2.12;3.4.1 in central\n",
      "\tfound org.apache.kafka#kafka-clients;3.3.2 in central\n",
      "\tfound org.lz4#lz4-java;1.8.0 in central\n",
      "\tfound org.xerial.snappy#snappy-java;1.1.10.1 in central\n",
      "\tfound org.slf4j#slf4j-api;2.0.6 in central\n",
      "\tfound org.apache.hadoop#hadoop-client-runtime;3.3.4 in central\n",
      "\tfound org.apache.hadoop#hadoop-client-api;3.3.4 in central\n",
      "\tfound commons-logging#commons-logging;1.1.3 in central\n",
      "\tfound com.google.code.findbugs#jsr305;3.0.0 in central\n",
      "\tfound org.apache.commons#commons-pool2;2.11.1 in central\n",
      ":: resolution report :: resolve 1093ms :: artifacts dl 31ms\n",
      "\t:: modules in use:\n",
      "\tcom.google.code.findbugs#jsr305;3.0.0 from central in [default]\n",
      "\tcommons-logging#commons-logging;1.1.3 from central in [default]\n",
      "\tio.delta#delta-core_2.12;2.4.0 from central in [default]\n",
      "\tio.delta#delta-storage;2.4.0 from central in [default]\n",
      "\torg.antlr#antlr4-runtime;4.9.3 from central in [default]\n",
      "\torg.apache.commons#commons-pool2;2.11.1 from central in [default]\n",
      "\torg.apache.hadoop#hadoop-client-api;3.3.4 from central in [default]\n",
      "\torg.apache.hadoop#hadoop-client-runtime;3.3.4 from central in [default]\n",
      "\torg.apache.kafka#kafka-clients;3.3.2 from central in [default]\n",
      "\torg.apache.spark#spark-sql-kafka-0-10_2.12;3.4.1 from central in [default]\n",
      "\torg.apache.spark#spark-token-provider-kafka-0-10_2.12;3.4.1 from central in [default]\n",
      "\torg.lz4#lz4-java;1.8.0 from central in [default]\n",
      "\torg.slf4j#slf4j-api;2.0.6 from central in [default]\n",
      "\torg.xerial.snappy#snappy-java;1.1.10.1 from central in [default]\n",
      "\t---------------------------------------------------------------------\n",
      "\t|                  |            modules            ||   artifacts   |\n",
      "\t|       conf       | number| search|dwnlded|evicted|| number|dwnlded|\n",
      "\t---------------------------------------------------------------------\n",
      "\t|      default     |   14  |   0   |   0   |   0   ||   14  |   0   |\n",
      "\t---------------------------------------------------------------------\n",
      ":: retrieving :: org.apache.spark#spark-submit-parent-9287b7ab-0e94-48e1-9010-0be6e9cb6923\n",
      "\tconfs: [default]\n",
      "\t0 artifacts copied, 14 already retrieved (0kB/25ms)\n",
      "24/02/04 18:02:47 WARN NativeCodeLoader: Unable to load native-hadoop library for your platform... using builtin-java classes where applicable\n",
      "Setting default log level to \"WARN\".\n",
      "To adjust logging level use sc.setLogLevel(newLevel). For SparkR, use setLogLevel(newLevel).\n"
     ]
    }
   ],
   "source": [
    "builder = (SparkSession.builder  # SparkSession 빌더 패턴 시작\n",
    "           .appName(\"config-triggers\")  # 애플리케이션 이름 설정\n",
    "           .master(\"spark://spark-master:7077\")  # Spark 마스터 URL 설정\n",
    "           .config(\"spark.executor.memory\", \"512m\")  # Spark 설정 옵션\n",
    "           .config(\"spark.sql.extensions\", \"io.delta.sql.DeltaSparkSessionExtension\")  # Spark 설정 옵션\n",
    "           .config(\"spark.sql.catalog.spark_catalog\", \"org.apache.spark.sql.delta.catalog.DeltaCatalog\")  # Spark 설정 옵션)\n",
    "\n",
    "spark = configure_spark_with_delta_pip(builder,['org.apache.spark:spark-sql-kafka-0-10_2.12:3.4.1']).getOrCreate()  # SparkSession 생성 또는 기존 세션 반환\n",
    "spark.sparkContext.setLogLevel(\"ERROR\")  # 로그 레벨을 ERROR로 설정"
   ]
  },
  {
   "cell_type": "code",
   "execution_count": 3,
   "id": "bd909d80-b814-4783-80b2-da272d2c79fa",
   "metadata": {},
   "outputs": [],
   "source": [
    "get_ipython().run_line_magic('load_ext', 'sparksql_magic')\n",
    "get_ipython().run_line_magic('config', 'SparkSql.limit=20')"
   ]
  },
  {
   "cell_type": "code",
   "execution_count": 4,
   "id": "228e8f56-4fd9-497a-947f-8ce968889dc7",
   "metadata": {
    "tags": []
   },
   "outputs": [],
   "source": [
    "df = (spark.readStream  # 스트리밍 데이터 읽기\n",
    "      .format(\"kafka\")\n",
    "      .option(\"kafka.bootstrap.servers\", \"kafka:9092\")\n",
    "      .option(\"subscribe\", \"users\")\n",
    "      .option(\"startingOffsets\", \"earliest\")\n",
    "      .load(  # 파일 로드))"
   ]
  },
  {
   "cell_type": "code",
   "execution_count": 5,
   "id": "a0e26449-e04a-4cf5-a42f-5594943bd3fa",
   "metadata": {
    "tags": []
   },
   "outputs": [],
   "source": [
    "schema = StructType  # 구조체 타입([\n",
    "    StructField  # 구조체 필드('id', IntegerType(), True),\n",
    "    StructField  # 구조체 필드('name', StringType(), True),\n",
    "    StructField  # 구조체 필드('age', IntegerType(), True),\n",
    "    StructField  # 구조체 필드('gender', StringType(), True),\n",
    "    StructField  # 구조체 필드('country', StringType(), True)])\n",
    "\n",
    "df = df.withColumn(  # 새 컬럼 추가 또는 기존 컬럼 수정'value', from_json(col('value').cast(\"STRING\"), schema))"
   ]
  },
  {
   "cell_type": "code",
   "execution_count": 6,
   "id": "f8d3d68c-c3b0-4a8a-91b0-32366f2199fc",
   "metadata": {
    "tags": []
   },
   "outputs": [],
   "source": [
    "df = df.select(  # 컬럼 선택\n",
    "    col(  # 컬럼 참조'value.id').alias('id'),\n",
    "    col(  # 컬럼 참조'value.name').alias('name'),\n",
    "    col(  # 컬럼 참조'value.age').alias('age'),\n",
    "    col(  # 컬럼 참조'value.gender').alias('gender'),\n",
    "    col(  # 컬럼 참조'value.country').alias('country'))"
   ]
  },
  {
   "cell_type": "code",
   "execution_count": 7,
   "id": "54d78eab-2e32-429b-954e-4140e7cafb60",
   "metadata": {},
   "outputs": [
    {
     "name": "stderr",
     "output_type": "stream",
     "text": [
      "                                                                                \r"
     ]
    },
    {
     "name": "stdout",
     "output_type": "stream",
     "text": [
      "-------------------------------------------\n",
      "Batch: 0\n",
      "-------------------------------------------\n",
      "+---+------+---+------+---------+\n",
      "| id|  name|age|gender|  country|\n",
      "+---+------+---+------+---------+\n",
      "| 23|user13| 25|     F|    China|\n",
      "| 64|user35| 60|     F|      USA|\n",
      "| 20|user81| 41|     F|   Canada|\n",
      "| 55|user18| 35|     M|    India|\n",
      "| 63|user23| 41|     F|   Brazil|\n",
      "| 78|user74| 59|     F|      USA|\n",
      "| 84|user34| 18|     F|       UK|\n",
      "| 56|user64| 32|     M|    China|\n",
      "| 85|user13| 61|     M|      USA|\n",
      "| 44|user86| 44|     F|    India|\n",
      "|  5|user48| 32|     M|Australia|\n",
      "| 50|user73| 60|     F|Australia|\n",
      "|  7|user93| 38|     F|    China|\n",
      "| 20|user45| 45|     M|   Canada|\n",
      "| 57|user22| 43|     F|    China|\n",
      "| 71|user13| 27|     F|    China|\n",
      "| 92|user39| 20|     F|   Brazil|\n",
      "| 53|user21| 64|     F|    India|\n",
      "| 47| user2| 21|     M|       UK|\n",
      "| 88|user86| 44|     M|    India|\n",
      "+---+------+---+------+---------+\n",
      "only showing top 20 rows\n",
      "\n"
     ]
    },
    {
     "name": "stderr",
     "output_type": "stream",
     "text": [
      "                                                                                \r"
     ]
    },
    {
     "name": "stdout",
     "output_type": "stream",
     "text": [
      "-------------------------------------------\n",
      "Batch: 1\n",
      "-------------------------------------------\n",
      "+---+------+---+------+---------+\n",
      "| id|  name|age|gender|  country|\n",
      "+---+------+---+------+---------+\n",
      "| 59|user79| 65|     M|Australia|\n",
      "+---+------+---+------+---------+\n",
      "\n"
     ]
    },
    {
     "name": "stderr",
     "output_type": "stream",
     "text": [
      "                                                                                \r"
     ]
    },
    {
     "name": "stdout",
     "output_type": "stream",
     "text": [
      "-------------------------------------------\n",
      "Batch: 2\n",
      "-------------------------------------------\n",
      "+---+------+---+------+-------+\n",
      "| id|  name|age|gender|country|\n",
      "+---+------+---+------+-------+\n",
      "| 76|user41| 50|     M|    USA|\n",
      "+---+------+---+------+-------+\n",
      "\n"
     ]
    }
   ],
   "source": [
    "query = (df.writeStream  # 스트리밍 데이터 쓰기\n",
    "   .format(\"console\")\n",
    "   .outputMode(  # 스트리밍 출력 모드 설정\"append\")\n",
    "   .start()  # 스트리밍 시작)"
   ]
  },
  {
   "cell_type": "code",
   "execution_count": 8,
   "id": "bbdd7547-1607-4aa8-9e44-9e82f7356ef4",
   "metadata": {},
   "outputs": [],
   "source": [
    "query.stop()"
   ]
  },
  {
   "cell_type": "code",
   "execution_count": 9,
   "id": "cd1c2d93-a975-482b-b3f7-7692abafe3d4",
   "metadata": {},
   "outputs": [
    {
     "name": "stderr",
     "output_type": "stream",
     "text": [
      "                                                                                \r"
     ]
    },
    {
     "name": "stdout",
     "output_type": "stream",
     "text": [
      "-------------------------------------------\n",
      "Batch: 0\n",
      "-------------------------------------------\n",
      "+---+------+---+------+---------+\n",
      "| id|  name|age|gender|  country|\n",
      "+---+------+---+------+---------+\n",
      "| 23|user13| 25|     F|    China|\n",
      "| 64|user35| 60|     F|      USA|\n",
      "| 20|user81| 41|     F|   Canada|\n",
      "| 55|user18| 35|     M|    India|\n",
      "| 63|user23| 41|     F|   Brazil|\n",
      "| 78|user74| 59|     F|      USA|\n",
      "| 84|user34| 18|     F|       UK|\n",
      "| 56|user64| 32|     M|    China|\n",
      "| 85|user13| 61|     M|      USA|\n",
      "| 44|user86| 44|     F|    India|\n",
      "|  5|user48| 32|     M|Australia|\n",
      "| 50|user73| 60|     F|Australia|\n",
      "|  7|user93| 38|     F|    China|\n",
      "| 20|user45| 45|     M|   Canada|\n",
      "| 57|user22| 43|     F|    China|\n",
      "| 71|user13| 27|     F|    China|\n",
      "| 92|user39| 20|     F|   Brazil|\n",
      "| 53|user21| 64|     F|    India|\n",
      "| 47| user2| 21|     M|       UK|\n",
      "| 88|user86| 44|     M|    India|\n",
      "+---+------+---+------+---------+\n",
      "only showing top 20 rows\n",
      "\n"
     ]
    },
    {
     "name": "stderr",
     "output_type": "stream",
     "text": [
      "                                                                                \r"
     ]
    },
    {
     "name": "stdout",
     "output_type": "stream",
     "text": [
      "-------------------------------------------\n",
      "Batch: 1\n",
      "-------------------------------------------\n",
      "+---+------+---+------+---------+\n",
      "| id|  name|age|gender|  country|\n",
      "+---+------+---+------+---------+\n",
      "| 18|user11| 57|     F|Australia|\n",
      "| 51|user70| 56|     F|    India|\n",
      "| 69|user15| 22|     F|   Canada|\n",
      "+---+------+---+------+---------+\n",
      "\n"
     ]
    }
   ],
   "source": [
    "query = (df.writeStream  # 스트리밍 데이터 쓰기\n",
    "   .format(\"console\")\n",
    "   .outputMode(  # 스트리밍 출력 모드 설정\"append\")\n",
    "   .trigger(  # 스트리밍 트리거 설정processingTime='30 seconds')\n",
    "   .start()  # 스트리밍 시작)"
   ]
  },
  {
   "cell_type": "code",
   "execution_count": 10,
   "id": "4851e696-46cf-4371-aa44-afda5e110cff",
   "metadata": {},
   "outputs": [],
   "source": [
    "query.stop()"
   ]
  },
  {
   "cell_type": "code",
   "execution_count": 11,
   "id": "e7bf97e1-7701-4a28-a587-b828e38ddeec",
   "metadata": {},
   "outputs": [
    {
     "name": "stderr",
     "output_type": "stream",
     "text": [
      "                                                                                \r"
     ]
    },
    {
     "name": "stdout",
     "output_type": "stream",
     "text": [
      "-------------------------------------------\n",
      "Batch: 0\n",
      "-------------------------------------------\n",
      "+---+------+---+------+---------+\n",
      "| id|  name|age|gender|  country|\n",
      "+---+------+---+------+---------+\n",
      "| 23|user13| 25|     F|    China|\n",
      "| 64|user35| 60|     F|      USA|\n",
      "| 20|user81| 41|     F|   Canada|\n",
      "| 55|user18| 35|     M|    India|\n",
      "| 63|user23| 41|     F|   Brazil|\n",
      "| 78|user74| 59|     F|      USA|\n",
      "| 84|user34| 18|     F|       UK|\n",
      "| 56|user64| 32|     M|    China|\n",
      "| 85|user13| 61|     M|      USA|\n",
      "| 44|user86| 44|     F|    India|\n",
      "|  5|user48| 32|     M|Australia|\n",
      "| 50|user73| 60|     F|Australia|\n",
      "|  7|user93| 38|     F|    China|\n",
      "| 20|user45| 45|     M|   Canada|\n",
      "| 57|user22| 43|     F|    China|\n",
      "| 71|user13| 27|     F|    China|\n",
      "| 92|user39| 20|     F|   Brazil|\n",
      "| 53|user21| 64|     F|    India|\n",
      "| 47| user2| 21|     M|       UK|\n",
      "| 88|user86| 44|     M|    India|\n",
      "+---+------+---+------+---------+\n",
      "only showing top 20 rows\n",
      "\n"
     ]
    }
   ],
   "source": [
    "query = (df.writeStream  # 스트리밍 데이터 쓰기\n",
    "   .format(\"console\")\n",
    "   .outputMode(  # 스트리밍 출력 모드 설정\"append\")\n",
    "   .trigger(  # 스트리밍 트리거 설정once=True)\n",
    "   .start()  # 스트리밍 시작)"
   ]
  },
  {
   "cell_type": "code",
   "execution_count": 12,
   "id": "49bcfa1b-1401-4af6-a031-c5e17e4ad8a3",
   "metadata": {},
   "outputs": [],
   "source": [
    "query.stop() "
   ]
  },
  {
   "cell_type": "code",
   "execution_count": 13,
   "id": "6779dfbf-4561-475a-997f-f951b6418093",
   "metadata": {},
   "outputs": [],
   "source": [
    "spark.stop()  # Spark 세션 종료 - 리소스 정리 "
   ]
  },
  {
   "cell_type": "code",
   "execution_count": null,
   "id": "975b456e-10aa-4ca6-8b66-fa7102963546",
   "metadata": {},
   "outputs": [],
   "source": []
  }
 ],
 "metadata": {
  "kernelspec": {
   "display_name": "Python 3 (ipykernel)",
   "language": "python",
   "name": "python3"
  },
  "language_info": {
   "codemirror_mode": {
    "name": "ipython",
    "version": 3
   },
   "file_extension": ".py",
   "mimetype": "text/x-python",
   "name": "python",
   "nbconvert_exporter": "python",
   "pygments_lexer": "ipython3",
   "version": "3.10.12"
  }
 },
 "nbformat": 4,
 "nbformat_minor": 5
}