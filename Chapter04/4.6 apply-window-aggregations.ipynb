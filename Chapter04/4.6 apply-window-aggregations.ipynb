{
 "cells": [
  {
   "cell_type": "markdown",
   "id": "f978aecc-e41b-4371-a763-ba07c37e07f1",
   "metadata": {},
   "source": [
    "Before we start, we need to make sure that we have a Kafka cluster running and a topic that produces some streaming data. For simplicity, we will use a single-node Kafka cluster and a topic named `events`. Open the `4.0 events-gen-kafka.ipynb` notebook and execute the cell. This notebook produces an event record every second and put it on a Kafka topic called `events`. "
   ]
  },
  {
   "cell_type": "code",
   "execution_count": 14,
   "id": "54f45c54-0b95-4fd9-a180-fe3be96ab99d",
   "metadata": {},
   "outputs": [],
   "source": [
    "from delta import  # Delta Lake 라이브러리 임포트 configure_spark_with_delta_pip\n",
    "from pyspark.sql import SparkSession  # Spark SQL 작업을 위한 SparkSession 임포트\n",
    "from pyspark.sql.functions import  # Spark SQL 함수들 임포트 col, from_json, window, count, to_timestamp\n",
    "from pyspark.sql.types import  # Spark SQL 데이터 타입 임포트 StructType, StructField, IntegerType, StringType"
   ]
  },
  {
   "cell_type": "code",
   "execution_count": 15,
   "id": "e7850eab-3759-491d-a70a-7a02977db101",
   "metadata": {},
   "outputs": [],
   "source": [
    "builder = (SparkSession.builder  # SparkSession 빌더 패턴 시작\n",
    "           .appName(\"apply-window-aggregations\")  # 애플리케이션 이름 설정\n",
    "           .master(\"spark://spark-master:7077\")  # Spark 마스터 URL 설정\n",
    "           .config(\"spark.executor.memory\", \"512m\")  # Spark 설정 옵션\n",
    "           .config(\"spark.sql.extensions\", \"io.delta.sql.DeltaSparkSessionExtension\")  # Spark 설정 옵션\n",
    "           .config(\"spark.sql.catalog.spark_catalog\", \"org.apache.spark.sql.delta.catalog.DeltaCatalog\")  # Spark 설정 옵션)\n",
    "\n",
    "spark = configure_spark_with_delta_pip(builder,['org.apache.spark:spark-sql-kafka-0-10_2.12:3.4.1']).getOrCreate()  # SparkSession 생성 또는 기존 세션 반환\n",
    "spark.sparkContext.setLogLevel(\"ERROR\")  # 로그 레벨을 ERROR로 설정"
   ]
  },
  {
   "cell_type": "code",
   "execution_count": 16,
   "id": "228e8f56-4fd9-497a-947f-8ce968889dc7",
   "metadata": {
    "tags": []
   },
   "outputs": [],
   "source": [
    "df = (spark.readStream  # 스트리밍 데이터 읽기\n",
    "      .format(\"kafka\")\n",
    "      .option(\"kafka.bootstrap.servers\", \"kafka:9092\")\n",
    "      .option(\"subscribe\", \"events\")\n",
    "      .option(\"startingOffsets\", \"earliest\")\n",
    "      .load(  # 파일 로드))"
   ]
  },
  {
   "cell_type": "code",
   "execution_count": 17,
   "id": "a0e26449-e04a-4cf5-a42f-5594943bd3fa",
   "metadata": {
    "tags": []
   },
   "outputs": [],
   "source": [
    "schema = StructType  # 구조체 타입([\n",
    "    StructField  # 구조체 필드('user_id', IntegerType(), True),\n",
    "    StructField  # 구조체 필드('event_type', StringType(), True),\n",
    "    StructField  # 구조체 필드('event_time', StringType(), True),\n",
    "    StructField  # 구조체 필드('processing_time', StringType(), True)])\n",
    "\n",
    "df = df.withColumn(  # 새 컬럼 추가 또는 기존 컬럼 수정'value', from_json(col('value').cast(\"STRING\"), schema))"
   ]
  },
  {
   "cell_type": "code",
   "execution_count": 18,
   "id": "f8d3d68c-c3b0-4a8a-91b0-32366f2199fc",
   "metadata": {
    "tags": []
   },
   "outputs": [],
   "source": [
    "df = (df\n",
    "      .select(  # 컬럼 선택\n",
    "          col(  # 컬럼 참조'value.user_id').alias('user_id'),\n",
    "          col(  # 컬럼 참조'value.event_type').alias('event_type'),\n",
    "          col(  # 컬럼 참조'value.event_time').alias('event_time'),\n",
    "          col(  # 컬럼 참조'value.processing_time').alias('processing_time'))\n",
    "      .withColumn(  # 새 컬럼 추가 또는 기존 컬럼 수정\"event_time\"\n",
    "        , to_timestamp(col(  # 컬럼 참조\"event_time\")\n",
    "        , \"MM/dd/yyyy, HH:mm:ss\" ))\n",
    "      .withColumn(  # 새 컬럼 추가 또는 기존 컬럼 수정\"processing_time\"\n",
    "        , to_timestamp(col(  # 컬럼 참조\"processing_time\")\n",
    "        , \"MM/dd/yyyy, HH:mm:ss\")))"
   ]
  },
  {
   "cell_type": "code",
   "execution_count": 19,
   "id": "b9adbc2f-92f7-4450-8dc0-511b2351e67b",
   "metadata": {},
   "outputs": [],
   "source": [
    "df = (df.groupBy(  # 그룹화\n",
    "    window(col(  # 컬럼 참조\"event_time\"), \"60 minute\", \"60 minute\")\n",
    "    , col(  # 컬럼 참조\"event_type\"))\n",
    "      .agg(count(col(  # 컬럼 참조\"user_id\")).alias(\"NumberOfUsers\")))"
   ]
  },
  {
   "cell_type": "code",
   "execution_count": 20,
   "id": "3b834c0f-d657-4c13-82f2-e636395bdba3",
   "metadata": {},
   "outputs": [
    {
     "name": "stderr",
     "output_type": "stream",
     "text": [
      "                                                                                \r"
     ]
    },
    {
     "name": "stdout",
     "output_type": "stream",
     "text": [
      "-------------------------------------------\n",
      "Batch: 0\n",
      "-------------------------------------------\n",
      "+------------------------------------------+----------+-------------+\n",
      "|window                                    |event_type|NumberOfUsers|\n",
      "+------------------------------------------+----------+-------------+\n",
      "|{2024-02-04 18:00:00, 2024-02-04 19:00:00}|view      |4            |\n",
      "|{2024-02-04 18:00:00, 2024-02-04 19:00:00}|click     |5            |\n",
      "|{2024-02-04 18:00:00, 2024-02-04 19:00:00}|purchase  |4            |\n",
      "|{2024-02-04 18:00:00, 2024-02-04 19:00:00}|like      |8            |\n",
      "|{2024-02-04 18:00:00, 2024-02-04 19:00:00}|share     |2            |\n",
      "+------------------------------------------+----------+-------------+\n",
      "\n"
     ]
    },
    {
     "name": "stderr",
     "output_type": "stream",
     "text": [
      "                                                                                \r"
     ]
    },
    {
     "name": "stdout",
     "output_type": "stream",
     "text": [
      "-------------------------------------------\n",
      "Batch: 1\n",
      "-------------------------------------------\n",
      "+------------------------------------------+----------+-------------+\n",
      "|window                                    |event_type|NumberOfUsers|\n",
      "+------------------------------------------+----------+-------------+\n",
      "|{2024-02-04 18:00:00, 2024-02-04 19:00:00}|view      |4            |\n",
      "|{2024-02-04 18:00:00, 2024-02-04 19:00:00}|click     |5            |\n",
      "|{2024-02-04 18:00:00, 2024-02-04 19:00:00}|purchase  |5            |\n",
      "|{2024-02-04 18:00:00, 2024-02-04 19:00:00}|like      |8            |\n",
      "|{2024-02-04 18:00:00, 2024-02-04 19:00:00}|share     |3            |\n",
      "+------------------------------------------+----------+-------------+\n",
      "\n"
     ]
    },
    {
     "name": "stderr",
     "output_type": "stream",
     "text": [
      "[Stage 4:>                                                          (0 + 1) / 1]\r"
     ]
    }
   ],
   "source": [
    "query = (df.writeStream  # 스트리밍 데이터 쓰기\n",
    "    .outputMode(  # 스트리밍 출력 모드 설정'complete')\n",
    "    .format('console')\n",
    "    .option(\"truncate\", False)\n",
    "    .start()  # 스트리밍 시작)"
   ]
  },
  {
   "cell_type": "code",
   "execution_count": 21,
   "id": "4851e696-46cf-4371-aa44-afda5e110cff",
   "metadata": {},
   "outputs": [
    {
     "name": "stderr",
     "output_type": "stream",
     "text": [
      "24/02/04 18:15:30 ERROR WriteToDataSourceV2Exec: Data source write support MicroBatchWrite[epoch: 2, writer: ConsoleWriter[numRows=20, truncate=false]] is aborting.\n",
      "24/02/04 18:15:30 ERROR WriteToDataSourceV2Exec: Data source write support MicroBatchWrite[epoch: 2, writer: ConsoleWriter[numRows=20, truncate=false]] aborted.\n"
     ]
    }
   ],
   "source": [
    "query.stop()"
   ]
  },
  {
   "cell_type": "code",
   "execution_count": 22,
   "id": "6ef3bb48-13ab-4ebd-8b32-2c3a796c8a98",
   "metadata": {},
   "outputs": [
    {
     "name": "stderr",
     "output_type": "stream",
     "text": [
      "                                                                                \r"
     ]
    },
    {
     "name": "stdout",
     "output_type": "stream",
     "text": [
      "-------------------------------------------\n",
      "Batch: 0\n",
      "-------------------------------------------\n",
      "+------------------------------------------+----------+-------------+\n",
      "|window                                    |event_type|NumberOfUsers|\n",
      "+------------------------------------------+----------+-------------+\n",
      "|{2024-02-04 18:00:00, 2024-02-04 19:00:00}|view      |4            |\n",
      "|{2024-02-04 18:00:00, 2024-02-04 19:00:00}|click     |5            |\n",
      "|{2024-02-04 18:00:00, 2024-02-04 19:00:00}|purchase  |5            |\n",
      "|{2024-02-04 18:00:00, 2024-02-04 19:00:00}|like      |8            |\n",
      "|{2024-02-04 18:00:00, 2024-02-04 19:00:00}|share     |4            |\n",
      "+------------------------------------------+----------+-------------+\n",
      "\n"
     ]
    },
    {
     "name": "stderr",
     "output_type": "stream",
     "text": [
      "                                                                                \r"
     ]
    },
    {
     "name": "stdout",
     "output_type": "stream",
     "text": [
      "-------------------------------------------\n",
      "Batch: 1\n",
      "-------------------------------------------\n",
      "+------------------------------------------+----------+-------------+\n",
      "|window                                    |event_type|NumberOfUsers|\n",
      "+------------------------------------------+----------+-------------+\n",
      "|{2024-02-04 18:00:00, 2024-02-04 19:00:00}|like      |9            |\n",
      "+------------------------------------------+----------+-------------+\n",
      "\n"
     ]
    },
    {
     "name": "stderr",
     "output_type": "stream",
     "text": [
      "[Stage 11:============>                                          (46 + 2) / 200]\r"
     ]
    }
   ],
   "source": [
    "# Update output mode \n",
    "query = (df.writeStream  # 스트리밍 데이터 쓰기.outputMode(\"update\") \n",
    "    .format(\"console\") \n",
    "    .option(\"truncate\", False) \n",
    "    .start()  # 스트리밍 시작)"
   ]
  },
  {
   "cell_type": "code",
   "execution_count": 25,
   "id": "15706c48-d936-4739-a0b7-56aaa4062065",
   "metadata": {},
   "outputs": [],
   "source": [
    "# # Append output mode \n",
    "# query = (df.writeStream  # 스트리밍 데이터 쓰기.outputMode(\"append\") \n",
    "#     .format(\"console\") \n",
    "#     .option(\"truncate\", False) \n",
    "#     .start()  # 스트리밍 시작)"
   ]
  },
  {
   "cell_type": "code",
   "execution_count": 26,
   "id": "67a4f071-2aa7-4595-a476-12a6e6b3adee",
   "metadata": {},
   "outputs": [],
   "source": [
    "query.stop()"
   ]
  },
  {
   "cell_type": "code",
   "execution_count": 27,
   "id": "49bcfa1b-1401-4af6-a031-c5e17e4ad8a3",
   "metadata": {},
   "outputs": [],
   "source": [
    "spark.stop()  # Spark 세션 종료 - 리소스 정리 "
   ]
  },
  {
   "cell_type": "code",
   "execution_count": null,
   "id": "6779dfbf-4561-475a-997f-f951b6418093",
   "metadata": {},
   "outputs": [],
   "source": []
  }
 ],
 "metadata": {
  "kernelspec": {
   "display_name": "Python 3 (ipykernel)",
   "language": "python",
   "name": "python3"
  },
  "language_info": {
   "codemirror_mode": {
    "name": "ipython",
    "version": 3
   },
   "file_extension": ".py",
   "mimetype": "text/x-python",
   "name": "python",
   "nbconvert_exporter": "python",
   "pygments_lexer": "ipython3",
   "version": "3.10.12"
  }
 },
 "nbformat": 4,
 "nbformat_minor": 5
}