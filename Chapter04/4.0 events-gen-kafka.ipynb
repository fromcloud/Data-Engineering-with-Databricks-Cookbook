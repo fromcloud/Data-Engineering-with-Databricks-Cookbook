{
 "cells": [
  {
   "cell_type": "code",
   "execution_count": 2,
   "id": "8393e835-14fb-4aa3-833f-d60aa5464018",
   "metadata": {},
   "outputs": [
    {
     "name": "stdout",
     "output_type": "stream",
     "text": [
      "{'user_id': 94, 'event_type': 'click', 'event_time': '02/04/2024, 18:14:31', 'processing_time': '02/04/2024, 18:14:47'}\n",
      "{'user_id': 71, 'event_type': 'like', 'event_time': '02/04/2024, 18:14:55', 'processing_time': '02/04/2024, 18:14:57'}\n",
      "{'user_id': 75, 'event_type': 'share', 'event_time': '02/04/2024, 18:15:04', 'processing_time': '02/04/2024, 18:15:07'}\n",
      "{'user_id': 85, 'event_type': 'purchase', 'event_time': '02/04/2024, 18:14:55', 'processing_time': '02/04/2024, 18:15:17'}\n",
      "{'user_id': 87, 'event_type': 'share', 'event_time': '02/04/2024, 18:15:07', 'processing_time': '02/04/2024, 18:15:27'}\n",
      "{'user_id': 16, 'event_type': 'like', 'event_time': '02/04/2024, 18:15:24', 'processing_time': '02/04/2024, 18:15:37'}\n",
      "{'user_id': 2, 'event_type': 'purchase', 'event_time': '02/04/2024, 18:15:44', 'processing_time': '02/04/2024, 18:15:47'}\n",
      "{'user_id': 19, 'event_type': 'share', 'event_time': '02/04/2024, 18:15:51', 'processing_time': '02/04/2024, 18:15:57'}\n",
      "{'user_id': 82, 'event_type': 'view', 'event_time': '02/04/2024, 18:16:01', 'processing_time': '02/04/2024, 18:16:07'}\n",
      "{'user_id': 1, 'event_type': 'like', 'event_time': '02/04/2024, 18:16:06', 'processing_time': '02/04/2024, 18:16:17'}\n",
      "{'user_id': 45, 'event_type': 'view', 'event_time': '02/04/2024, 18:16:17', 'processing_time': '02/04/2024, 18:16:27'}\n",
      "{'user_id': 57, 'event_type': 'click', 'event_time': '02/04/2024, 18:16:24', 'processing_time': '02/04/2024, 18:16:37'}\n",
      "{'user_id': 13, 'event_type': 'click', 'event_time': '02/04/2024, 18:16:37', 'processing_time': '02/04/2024, 18:16:47'}\n",
      "{'user_id': 96, 'event_type': 'click', 'event_time': '02/04/2024, 18:16:56', 'processing_time': '02/04/2024, 18:16:57'}\n"
     ]
    },
    {
     "ename": "KeyboardInterrupt",
     "evalue": "",
     "output_type": "error",
     "traceback": [
      "\u001b[0;31m---------------------------------------------------------------------------\u001b[0m",
      "\u001b[0;31mKeyboardInterrupt\u001b[0m                         Traceback (most recent call last)",
      "Cell \u001b[0;32mIn[2], line 40\u001b[0m\n\u001b[1;32m     37\u001b[0m \u001b[38;5;66;03m# Send the event to the Kafka topic\u001b[39;00m\n\u001b[1;32m     39\u001b[0m producer\u001b[38;5;241m.\u001b[39msend(topic, value\u001b[38;5;241m=\u001b[39mjson\u001b[38;5;241m.\u001b[39mdumps(event)\u001b[38;5;241m.\u001b[39mencode(\u001b[38;5;124m'\u001b[39m\u001b[38;5;124mutf-8\u001b[39m\u001b[38;5;124m'\u001b[39m))\n\u001b[0;32m---> 40\u001b[0m \u001b[43mtime\u001b[49m\u001b[38;5;241;43m.\u001b[39;49m\u001b[43msleep\u001b[49m\u001b[43m(\u001b[49m\u001b[38;5;241;43m10\u001b[39;49m\u001b[43m)\u001b[49m\n",
      "\u001b[0;31mKeyboardInterrupt\u001b[0m: "
     ]
    }
   ],
   "source": [
    "# Import the required modules\n",
    "import random\n",
    "import json\n",
    "from kafka import KafkaProducer\n",
    "import time\n",
    "\n",
    "# using datetime module\n",
    "import datetime;\n",
    "\n",
    "# Define the bootstrap servers and the topic name\n",
    "bootstrap_servers = \"kafka:9092\"\n",
    "topic = \"events\"\n",
    "\n",
    "# 생성 a Kafka producer with JSON value serializer\n",
    "producer = KafkaProducer(bootstrap_servers=bootstrap_servers)\n",
    "\n",
    "# Define a function to generate random event data\n",
    "def generate_event():\n",
    "  # Generate a random user id from 1 to 100\n",
    "  current_time = time.time()\n",
    "  user_id = random.randint(1, 100)\n",
    "  # Generate a random event type from a list of options\n",
    "  event_type = random.choice([\"click\", \"view\", \"purchase\", \"like\", \"share\"])\n",
    "  # Generate a random event time from 0 to 9999\n",
    "  event_time = datetime.datetime.fromtimestamp(current_time- abs(random.normalvariate(0, 10))).strftime(\"%m/%d/%Y, %H:%M:%S\")\n",
    "  # Generate a random event time from 0 to 9999\n",
    "  processing_time =datetime.datetime.fromtimestamp(current_time).strftime(\"%m/%d/%Y, %H:%M:%S\")\n",
    "  # Return a dictionary with the event data\n",
    "  return {\"user_id\": user_id, \"event_type\": event_type, \"event_time\": event_time, \"processing_time\": processing_time}\n",
    "\n",
    "# Loop to generate and send events\n",
    "while True:\n",
    "  # Generate a random event\n",
    "  event = generate_event()\n",
    "  # 출력 the event to the console\n",
    "  print(event)\n",
    "  # Send the event to the Kafka topic\n",
    "    \n",
    "  producer.send(topic, value=json.dumps(event).encode('utf-8'))\n",
    "  time.sleep(10)\n"
   ]
  },
  {
   "cell_type": "markdown",
   "id": "87081f46-4053-4df2-b262-aec86df50970",
   "metadata": {
    "jp-MarkdownHeadingCollapsed": true
   },
   "source": [
    "### "
   ]
  }
 ],
 "metadata": {
  "kernelspec": {
   "display_name": "Python 3 (ipykernel)",
   "language": "python",
   "name": "python3"
  },
  "language_info": {
   "codemirror_mode": {
    "name": "ipython",
    "version": 3
   },
   "file_extension": ".py",
   "mimetype": "text/x-python",
   "name": "python",
   "nbconvert_exporter": "python",
   "pygments_lexer": "ipython3",
   "version": "3.10.12"
  }
 },
 "nbformat": 4,
 "nbformat_minor": 5
}