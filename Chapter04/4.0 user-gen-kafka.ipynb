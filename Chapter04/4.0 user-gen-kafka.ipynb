{
 "cells": [
  {
   "cell_type": "code",
   "execution_count": null,
   "id": "8393e835-14fb-4aa3-833f-d60aa5464018",
   "metadata": {},
   "outputs": [
    {
     "name": "stdout",
     "output_type": "stream",
     "text": [
      "{'id': 46, 'name': 'user87', 'age': 56, 'gender': 'F', 'country': 'India', 'timestamp': '02/04/2024, 17:57:37'}\n",
      "{'id': 43, 'name': 'user54', 'age': 45, 'gender': 'F', 'country': 'Brazil', 'timestamp': '02/04/2024, 17:57:47'}\n",
      "{'id': 64, 'name': 'user43', 'age': 49, 'gender': 'M', 'country': 'Brazil', 'timestamp': '02/04/2024, 17:57:57'}\n",
      "{'id': 60, 'name': 'user8', 'age': 48, 'gender': 'F', 'country': 'USA', 'timestamp': '02/04/2024, 17:58:07'}\n",
      "{'id': 12, 'name': 'user41', 'age': 29, 'gender': 'F', 'country': 'Canada', 'timestamp': '02/04/2024, 17:58:17'}\n",
      "{'id': 12, 'name': 'user78', 'age': 28, 'gender': 'F', 'country': 'China', 'timestamp': '02/04/2024, 17:58:27'}\n",
      "{'id': 63, 'name': 'user39', 'age': 57, 'gender': 'M', 'country': 'Australia', 'timestamp': '02/04/2024, 17:58:37'}\n",
      "{'id': 32, 'name': 'user23', 'age': 54, 'gender': 'M', 'country': 'China', 'timestamp': '02/04/2024, 17:58:47'}\n",
      "{'id': 32, 'name': 'user53', 'age': 19, 'gender': 'M', 'country': 'USA', 'timestamp': '02/04/2024, 17:58:57'}\n",
      "{'id': 58, 'name': 'user52', 'age': 48, 'gender': 'F', 'country': 'India', 'timestamp': '02/04/2024, 17:59:07'}\n",
      "{'id': 65, 'name': 'user65', 'age': 44, 'gender': 'F', 'country': 'Australia', 'timestamp': '02/04/2024, 17:59:17'}\n",
      "{'id': 60, 'name': 'user20', 'age': 33, 'gender': 'F', 'country': 'USA', 'timestamp': '02/04/2024, 17:59:27'}\n",
      "{'id': 71, 'name': 'user61', 'age': 26, 'gender': 'F', 'country': 'Canada', 'timestamp': '02/04/2024, 17:59:37'}\n",
      "{'id': 69, 'name': 'user74', 'age': 28, 'gender': 'F', 'country': 'India', 'timestamp': '02/04/2024, 17:59:47'}\n",
      "{'id': 85, 'name': 'user29', 'age': 56, 'gender': 'F', 'country': 'Brazil', 'timestamp': '02/04/2024, 17:59:57'}\n",
      "{'id': 90, 'name': 'user18', 'age': 29, 'gender': 'F', 'country': 'UK', 'timestamp': '02/04/2024, 18:00:07'}\n",
      "{'id': 52, 'name': 'user15', 'age': 36, 'gender': 'M', 'country': 'UK', 'timestamp': '02/04/2024, 18:00:17'}\n",
      "{'id': 60, 'name': 'user59', 'age': 41, 'gender': 'F', 'country': 'Australia', 'timestamp': '02/04/2024, 18:00:27'}\n",
      "{'id': 99, 'name': 'user19', 'age': 18, 'gender': 'M', 'country': 'Canada', 'timestamp': '02/04/2024, 18:00:37'}\n",
      "{'id': 95, 'name': 'user62', 'age': 63, 'gender': 'M', 'country': 'USA', 'timestamp': '02/04/2024, 18:00:47'}\n",
      "{'id': 9, 'name': 'user14', 'age': 46, 'gender': 'F', 'country': 'Canada', 'timestamp': '02/04/2024, 18:00:57'}\n",
      "{'id': 79, 'name': 'user90', 'age': 22, 'gender': 'M', 'country': 'India', 'timestamp': '02/04/2024, 18:01:07'}\n",
      "{'id': 8, 'name': 'user54', 'age': 25, 'gender': 'M', 'country': 'India', 'timestamp': '02/04/2024, 18:01:17'}\n",
      "{'id': 18, 'name': 'user44', 'age': 25, 'gender': 'F', 'country': 'China', 'timestamp': '02/04/2024, 18:01:27'}\n",
      "{'id': 64, 'name': 'user92', 'age': 63, 'gender': 'F', 'country': 'Australia', 'timestamp': '02/04/2024, 18:01:37'}\n",
      "{'id': 13, 'name': 'user9', 'age': 60, 'gender': 'M', 'country': 'Canada', 'timestamp': '02/04/2024, 18:01:47'}\n",
      "{'id': 63, 'name': 'user91', 'age': 45, 'gender': 'M', 'country': 'China', 'timestamp': '02/04/2024, 18:01:57'}\n",
      "{'id': 29, 'name': 'user34', 'age': 61, 'gender': 'F', 'country': 'UK', 'timestamp': '02/04/2024, 18:02:07'}\n",
      "{'id': 48, 'name': 'user93', 'age': 58, 'gender': 'M', 'country': 'Canada', 'timestamp': '02/04/2024, 18:02:17'}\n",
      "{'id': 26, 'name': 'user9', 'age': 57, 'gender': 'M', 'country': 'India', 'timestamp': '02/04/2024, 18:02:27'}\n",
      "{'id': 97, 'name': 'user94', 'age': 44, 'gender': 'F', 'country': 'Brazil', 'timestamp': '02/04/2024, 18:02:37'}\n",
      "{'id': 86, 'name': 'user68', 'age': 44, 'gender': 'F', 'country': 'UK', 'timestamp': '02/04/2024, 18:02:47'}\n",
      "{'id': 47, 'name': 'user45', 'age': 20, 'gender': 'M', 'country': 'Canada', 'timestamp': '02/04/2024, 18:02:57'}\n",
      "{'id': 41, 'name': 'user59', 'age': 47, 'gender': 'M', 'country': 'Canada', 'timestamp': '02/04/2024, 18:03:07'}\n",
      "{'id': 59, 'name': 'user79', 'age': 65, 'gender': 'M', 'country': 'Australia', 'timestamp': '02/04/2024, 18:03:17'}\n",
      "{'id': 76, 'name': 'user41', 'age': 50, 'gender': 'M', 'country': 'USA', 'timestamp': '02/04/2024, 18:03:27'}\n",
      "{'id': 18, 'name': 'user11', 'age': 57, 'gender': 'F', 'country': 'Australia', 'timestamp': '02/04/2024, 18:03:37'}\n",
      "{'id': 51, 'name': 'user70', 'age': 56, 'gender': 'F', 'country': 'India', 'timestamp': '02/04/2024, 18:03:47'}\n",
      "{'id': 69, 'name': 'user15', 'age': 22, 'gender': 'F', 'country': 'Canada', 'timestamp': '02/04/2024, 18:03:57'}\n",
      "{'id': 13, 'name': 'user83', 'age': 51, 'gender': 'F', 'country': 'Brazil', 'timestamp': '02/04/2024, 18:04:07'}\n",
      "{'id': 84, 'name': 'user75', 'age': 53, 'gender': 'M', 'country': 'USA', 'timestamp': '02/04/2024, 18:04:17'}\n",
      "{'id': 34, 'name': 'user79', 'age': 30, 'gender': 'F', 'country': 'Canada', 'timestamp': '02/04/2024, 18:04:27'}\n",
      "{'id': 45, 'name': 'user25', 'age': 20, 'gender': 'M', 'country': 'Brazil', 'timestamp': '02/04/2024, 18:04:37'}\n",
      "{'id': 34, 'name': 'user95', 'age': 50, 'gender': 'M', 'country': 'China', 'timestamp': '02/04/2024, 18:04:47'}\n",
      "{'id': 46, 'name': 'user52', 'age': 54, 'gender': 'M', 'country': 'UK', 'timestamp': '02/04/2024, 18:04:57'}\n",
      "{'id': 46, 'name': 'user68', 'age': 51, 'gender': 'M', 'country': 'India', 'timestamp': '02/04/2024, 18:05:07'}\n"
     ]
    }
   ],
   "source": [
    "import json\n",
    "import random\n",
    "import time\n",
    "from kafka import KafkaProducer\n",
    "# using datetime module\n",
    "import datetime;\n",
    "\n",
    "producer = KafkaProducer(bootstrap_servers='kafka:9092')\n",
    "countries = ['USA', 'UK', 'India', 'China', 'Brazil', 'Canada', 'Australia']\n",
    "genders = ['M', 'F']\n",
    "\n",
    "while True:\n",
    "    current_time = time.time()\n",
    "    message = {\n",
    "        'id': random.randint(1, 100),\n",
    "        'name': f'user{random.randint(1, 100)}',\n",
    "        'age': random.randint(18, 65),\n",
    "        'gender': random.choice(genders),\n",
    "        'country': random.choice(countries),\n",
    "        'timestamp':datetime.datetime.fromtimestamp(current_time).strftime(\"%m/%d/%Y, %H:%M:%S\")\n",
    "    }\n",
    "    producer.send('users', value=json.dumps(message).encode('utf-8'))\n",
    "    print(message)\n",
    "    time.sleep(10)"
   ]
  },
  {
   "cell_type": "markdown",
   "id": "87081f46-4053-4df2-b262-aec86df50970",
   "metadata": {
    "jp-MarkdownHeadingCollapsed": true
   },
   "source": [
    "### "
   ]
  }
 ],
 "metadata": {
  "kernelspec": {
   "display_name": "Python 3 (ipykernel)",
   "language": "python",
   "name": "python3"
  },
  "language_info": {
   "codemirror_mode": {
    "name": "ipython",
    "version": 3
   },
   "file_extension": ".py",
   "mimetype": "text/x-python",
   "name": "python",
   "nbconvert_exporter": "python",
   "pygments_lexer": "ipython3",
   "version": "3.10.12"
  }
 },
 "nbformat": 4,
 "nbformat_minor": 5
}