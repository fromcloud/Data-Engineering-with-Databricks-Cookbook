{
 "cells": [
  {
   "cell_type": "markdown",
   "id": "d303e34b-0ebf-4f24-b1cb-be39cea040b9",
   "metadata": {},
   "source": [
    "### Reading parquet data with an inferred schema"
   ]
  },
  {
   "cell_type": "code",
   "execution_count": 1,
   "id": "f6e19347",
   "metadata": {
    "tags": []
   },
   "outputs": [
    {
     "name": "stderr",
     "output_type": "stream",
     "text": [
      "Setting default log level to \"WARN\".\n",
      "To adjust logging level use sc.setLogLevel(newLevel). For SparkR, use setLogLevel(newLevel).\n"
     ]
    },
    {
     "name": "stdout",
     "output_type": "stream",
     "text": [
      "23/05/19 11:52:27 WARN NativeCodeLoader: Unable to load native-hadoop library for your platform... using builtin-java classes where applicable\n"
     ]
    }
   ],
   "source": [
    "from pyspark.sql import SparkSession  # Spark SQL 작업을 위한 SparkSession 임포트\n",
    "from pyspark.sql.functions import  # Spark SQL 함수들 임포트 *\n",
    "\n",
    "spark = (SparkSession.builder  # SparkSession 빌더 패턴 시작\n",
    "         .appName(\"nested-dataframe\")  # 애플리케이션 이름 설정\n",
    "         .master(\"spark://spark-master:7077\")  # Spark 마스터 URL 설정\n",
    "         .config(\"spark.executor.memory\", \"512m\")  # Spark 설정 옵션\n",
    "         .getOrCreate()  # SparkSession 생성 또는 기존 세션 반환)\n",
    "\n",
    "spark.sparkContext.setLogLevel(\"ERROR\")  # 로그 레벨을 ERROR로 설정"
   ]
  },
  {
   "cell_type": "code",
   "execution_count": 7,
   "id": "df98ff82-9a19-4744-94ca-0d1e2050c7e4",
   "metadata": {
    "tags": []
   },
   "outputs": [
    {
     "name": "stderr",
     "output_type": "stream",
     "text": [
      "                                                                                \r"
     ]
    }
   ],
   "source": [
    "df = (spark.read.format(\"json\")  # JSON 형식으로 데이터 읽기\n",
    "      .option(\"multiLine\", \"true\")  # 여러 줄 JSON 처리\n",
    "      .load(  # 파일 로드\"../data/Stanford Question Answering Dataset.json\"))"
   ]
  },
  {
   "cell_type": "code",
   "execution_count": 8,
   "id": "02607022-94ef-4145-b491-92a60bd15905",
   "metadata": {
    "tags": []
   },
   "outputs": [
    {
     "name": "stdout",
     "output_type": "stream",
     "text": [
      "root\n",
      " |-- paragraphs: array (nullable = true)\n",
      " |    |-- element: struct (containsNull = true)\n",
      " |    |    |-- context: string (nullable = true)\n",
      " |    |    |-- qas: array (nullable = true)\n",
      " |    |    |    |-- element: struct (containsNull = true)\n",
      " |    |    |    |    |-- answers: array (nullable = true)\n",
      " |    |    |    |    |    |-- element: struct (containsNull = true)\n",
      " |    |    |    |    |    |    |-- answer_start: long (nullable = true)\n",
      " |    |    |    |    |    |    |-- text: string (nullable = true)\n",
      " |    |    |    |    |-- id: string (nullable = true)\n",
      " |    |    |    |    |-- question: string (nullable = true)\n",
      " |-- title: string (nullable = true)\n",
      "\n"
     ]
    }
   ],
   "source": [
    "df.printSchema()  # DataFrame 스키마 구조 출력"
   ]
  },
  {
   "cell_type": "code",
   "execution_count": 9,
   "id": "d16ab84a-3304-4a05-94da-fa43bf7b4171",
   "metadata": {
    "tags": []
   },
   "outputs": [
    {
     "name": "stderr",
     "output_type": "stream",
     "text": [
      "[Stage 2:>                                                          (0 + 1) / 1]\r"
     ]
    },
    {
     "name": "stdout",
     "output_type": "stream",
     "text": [
      "+-------------+--------------------+--------------------+\n",
      "|        title|             context|           questions|\n",
      "+-------------+--------------------+--------------------+\n",
      "|Super_Bowl_50|Super Bowl 50 was...|{[{177, Denver Br...|\n",
      "|Super_Bowl_50|Super Bowl 50 was...|{[{249, Carolina ...|\n",
      "|Super_Bowl_50|Super Bowl 50 was...|{[{403, Santa Cla...|\n",
      "|Super_Bowl_50|Super Bowl 50 was...|{[{177, Denver Br...|\n",
      "|Super_Bowl_50|Super Bowl 50 was...|{[{488, gold}, {4...|\n",
      "|Super_Bowl_50|Super Bowl 50 was...|{[{487, \"golden a...|\n",
      "|Super_Bowl_50|Super Bowl 50 was...|{[{334, February ...|\n",
      "|Super_Bowl_50|Super Bowl 50 was...|{[{133, American ...|\n",
      "|Super_Bowl_50|Super Bowl 50 was...|{[{487, \"golden a...|\n",
      "|Super_Bowl_50|Super Bowl 50 was...|{[{133, American ...|\n",
      "|Super_Bowl_50|Super Bowl 50 was...|{[{334, February ...|\n",
      "|Super_Bowl_50|Super Bowl 50 was...|{[{177, Denver Br...|\n",
      "|Super_Bowl_50|Super Bowl 50 was...|{[{355, Levi's St...|\n",
      "|Super_Bowl_50|Super Bowl 50 was...|{[{403, Santa Cla...|\n",
      "|Super_Bowl_50|Super Bowl 50 was...|{[{693, Super Bow...|\n",
      "|Super_Bowl_50|Super Bowl 50 was...|{[{116, 2015}, {1...|\n",
      "|Super_Bowl_50|Super Bowl 50 was...|{[{116, 2015}, {3...|\n",
      "|Super_Bowl_50|Super Bowl 50 was...|{[{403, Santa Cla...|\n",
      "|Super_Bowl_50|Super Bowl 50 was...|{[{355, Levi's St...|\n",
      "|Super_Bowl_50|Super Bowl 50 was...|{[{267, 24–10}, {...|\n",
      "+-------------+--------------------+--------------------+\n",
      "only showing top 20 rows\n",
      "\n"
     ]
    },
    {
     "name": "stderr",
     "output_type": "stream",
     "text": [
      "                                                                                \r"
     ]
    }
   ],
   "source": [
    "df_exploded = (\n",
    "    df.select(  # 컬럼 선택\"title\"\n",
    "              , explode(  # 배열을 개별 행으로 분해\"paragraphs\").alias(\"paragraphs\"))\n",
    "    .select(  # 컬럼 선택\"title\"\n",
    "            ,col(  # 컬럼 참조\"paragraphs.context\").alias (\"context\")\n",
    "            ,explode(  # 배열을 개별 행으로 분해col(\"paragraphs.qas\")).alias(\"questions\")))\n",
    "\n",
    "df_exploded.show()  # DataFrame 내용 출력"
   ]
  },
  {
   "cell_type": "code",
   "execution_count": 12,
   "id": "980ad97d-3ccd-47ec-b6b8-daacd4646442",
   "metadata": {
    "tags": []
   },
   "outputs": [
    {
     "name": "stdout",
     "output_type": "stream",
     "text": [
      "+-------------+--------------------+--------------------+--------------------+--------------------+\n",
      "|        title|             context|         question_id|       question_text|             answers|\n",
      "+-------------+--------------------+--------------------+--------------------+--------------------+\n",
      "|Super_Bowl_50|Super Bowl 50 was...|56be4db0acb800140...|Which NFL team re...|[{177, Denver Bro...|\n",
      "|Super_Bowl_50|Super Bowl 50 was...|56be4db0acb800140...|Which NFL team re...|[{249, Carolina P...|\n",
      "|Super_Bowl_50|Super Bowl 50 was...|56be4db0acb800140...|Where did Super B...|[{403, Santa Clar...|\n",
      "|Super_Bowl_50|Super Bowl 50 was...|56be4db0acb800140...|Which NFL team wo...|[{177, Denver Bro...|\n",
      "|Super_Bowl_50|Super Bowl 50 was...|56be4db0acb800140...|What color was us...|[{488, gold}, {52...|\n",
      "|Super_Bowl_50|Super Bowl 50 was...|56be8e613aeaaa140...|What was the them...|[{487, \"golden an...|\n",
      "|Super_Bowl_50|Super Bowl 50 was...|56be8e613aeaaa140...|What day was the ...|[{334, February 7...|\n",
      "|Super_Bowl_50|Super Bowl 50 was...|56be8e613aeaaa140...|What is the AFC s...|[{133, American F...|\n",
      "|Super_Bowl_50|Super Bowl 50 was...|56bea9923aeaaa140...|What was the them...|[{487, \"golden an...|\n",
      "|Super_Bowl_50|Super Bowl 50 was...|56bea9923aeaaa140...|What does AFC sta...|[{133, American F...|\n",
      "|Super_Bowl_50|Super Bowl 50 was...|56bea9923aeaaa140...|What day was the ...|[{334, February 7...|\n",
      "|Super_Bowl_50|Super Bowl 50 was...|56beace93aeaaa140...|Who won Super Bow...|[{177, Denver Bro...|\n",
      "|Super_Bowl_50|Super Bowl 50 was...|56beace93aeaaa140...|What venue did Su...|[{355, Levi's Sta...|\n",
      "|Super_Bowl_50|Super Bowl 50 was...|56beace93aeaaa140...|What city did Sup...|[{403, Santa Clara}]|\n",
      "|Super_Bowl_50|Super Bowl 50 was...|56beace93aeaaa140...|If Roman numerals...|[{693, Super Bowl...|\n",
      "|Super_Bowl_50|Super Bowl 50 was...|56beace93aeaaa140...|Super Bowl 50 dec...|[{116, 2015}, {11...|\n",
      "|Super_Bowl_50|Super Bowl 50 was...|56bf10f43aeaaa140...|What year did the...|[{116, 2015}, {34...|\n",
      "|Super_Bowl_50|Super Bowl 50 was...|56bf10f43aeaaa140...|What city did Sup...|[{403, Santa Clara}]|\n",
      "|Super_Bowl_50|Super Bowl 50 was...|56bf10f43aeaaa140...|What stadium did ...|[{355, Levi's Sta...|\n",
      "|Super_Bowl_50|Super Bowl 50 was...|56bf10f43aeaaa140...|What was the fina...|      [{267, 24–10}]|\n",
      "+-------------+--------------------+--------------------+--------------------+--------------------+\n",
      "only showing top 20 rows\n",
      "\n"
     ]
    }
   ],
   "source": [
    "df_array_distinct = (\n",
    "    df_exploded.select(  # 컬럼 선택\"title\",\"context\"\n",
    "                       ,col(  # 컬럼 참조\"questions.id\").alias(\"question_id\")\n",
    "                       ,col(  # 컬럼 참조\"questions.question\").alias(\"question_text\")\n",
    "                       ,array_distinct(\"questions.answers\").alias(  # 컬럼 별칭 설정\"answers\")))\n",
    "\n",
    "df_array_distinct.show()  # DataFrame 내용 출력"
   ]
  },
  {
   "cell_type": "code",
   "execution_count": 13,
   "id": "b5028d72-b3a5-47dc-b968-0af3beda0518",
   "metadata": {
    "tags": []
   },
   "outputs": [
    {
     "name": "stdout",
     "output_type": "stream",
     "text": [
      "+-------------+--------------------+--------------------+--------------------+\n",
      "|        title|             context|       question_text|     answers[0].text|\n",
      "+-------------+--------------------+--------------------+--------------------+\n",
      "|Super_Bowl_50|Super Bowl 50 was...|Which NFL team re...|      Denver Broncos|\n",
      "|Super_Bowl_50|Super Bowl 50 was...|Which NFL team re...|   Carolina Panthers|\n",
      "|Super_Bowl_50|Super Bowl 50 was...|Where did Super B...|Santa Clara, Cali...|\n",
      "|Super_Bowl_50|Super Bowl 50 was...|Which NFL team wo...|      Denver Broncos|\n",
      "|Super_Bowl_50|Super Bowl 50 was...|What color was us...|                gold|\n",
      "|Super_Bowl_50|Super Bowl 50 was...|What was the them...|\"golden anniversary\"|\n",
      "|Super_Bowl_50|Super Bowl 50 was...|What day was the ...|    February 7, 2016|\n",
      "|Super_Bowl_50|Super Bowl 50 was...|What is the AFC s...|American Football...|\n",
      "|Super_Bowl_50|Super Bowl 50 was...|What was the them...|\"golden anniversary\"|\n",
      "|Super_Bowl_50|Super Bowl 50 was...|What does AFC sta...|American Football...|\n",
      "|Super_Bowl_50|Super Bowl 50 was...|What day was the ...|    February 7, 2016|\n",
      "|Super_Bowl_50|Super Bowl 50 was...|Who won Super Bow...|      Denver Broncos|\n",
      "|Super_Bowl_50|Super Bowl 50 was...|What venue did Su...|      Levi's Stadium|\n",
      "|Super_Bowl_50|Super Bowl 50 was...|What city did Sup...|         Santa Clara|\n",
      "|Super_Bowl_50|Super Bowl 50 was...|If Roman numerals...|        Super Bowl L|\n",
      "|Super_Bowl_50|Super Bowl 50 was...|Super Bowl 50 dec...|                2015|\n",
      "|Super_Bowl_50|Super Bowl 50 was...|What year did the...|                2015|\n",
      "|Super_Bowl_50|Super Bowl 50 was...|What city did Sup...|         Santa Clara|\n",
      "|Super_Bowl_50|Super Bowl 50 was...|What stadium did ...|      Levi's Stadium|\n",
      "|Super_Bowl_50|Super Bowl 50 was...|What was the fina...|               24–10|\n",
      "+-------------+--------------------+--------------------+--------------------+\n",
      "only showing top 20 rows\n",
      "\n"
     ]
    }
   ],
   "source": [
    "(df_array_distinct\n",
    " .select(  # 컬럼 선택\"title\",\"context\",\"question_text\"\n",
    "         ,col(  # 컬럼 참조\"answers\").getItem(0).getField(\"text\"))\n",
    " .show()  # DataFrame 내용 출력)"
   ]
  },
  {
   "cell_type": "markdown",
   "id": "3ef452b5-7908-42a4-93b1-846f06dbdecc",
   "metadata": {},
   "source": [
    "### Large number of rows with explode "
   ]
  },
  {
   "cell_type": "code",
   "execution_count": 14,
   "id": "1590c20d-ccfb-476b-ba32-b46390669863",
   "metadata": {
    "tags": []
   },
   "outputs": [
    {
     "name": "stdout",
     "output_type": "stream",
     "text": [
      "+-------------+--------------------+--------------------+--------------------+\n",
      "|        title|             context|       question_text|              answer|\n",
      "+-------------+--------------------+--------------------+--------------------+\n",
      "|Super_Bowl_50|Super Bowl 50 was...|Which NFL team re...|      Denver Broncos|\n",
      "|Super_Bowl_50|Super Bowl 50 was...|Which NFL team re...|   Carolina Panthers|\n",
      "|Super_Bowl_50|Super Bowl 50 was...|Where did Super B...|Santa Clara, Cali...|\n",
      "|Super_Bowl_50|Super Bowl 50 was...|Which NFL team wo...|      Denver Broncos|\n",
      "|Super_Bowl_50|Super Bowl 50 was...|What color was us...|                gold|\n",
      "|Super_Bowl_50|Super Bowl 50 was...|What was the them...|\"golden anniversary\"|\n",
      "|Super_Bowl_50|Super Bowl 50 was...|What day was the ...|    February 7, 2016|\n",
      "|Super_Bowl_50|Super Bowl 50 was...|What is the AFC s...|American Football...|\n",
      "|Super_Bowl_50|Super Bowl 50 was...|What was the them...|\"golden anniversary\"|\n",
      "|Super_Bowl_50|Super Bowl 50 was...|What does AFC sta...|American Football...|\n",
      "|Super_Bowl_50|Super Bowl 50 was...|What day was the ...|    February 7, 2016|\n",
      "|Super_Bowl_50|Super Bowl 50 was...|Who won Super Bow...|      Denver Broncos|\n",
      "|Super_Bowl_50|Super Bowl 50 was...|What venue did Su...|      Levi's Stadium|\n",
      "|Super_Bowl_50|Super Bowl 50 was...|What city did Sup...|         Santa Clara|\n",
      "|Super_Bowl_50|Super Bowl 50 was...|If Roman numerals...|        Super Bowl L|\n",
      "|Super_Bowl_50|Super Bowl 50 was...|Super Bowl 50 dec...|                2015|\n",
      "|Super_Bowl_50|Super Bowl 50 was...|What year did the...|                2015|\n",
      "|Super_Bowl_50|Super Bowl 50 was...|What city did Sup...|         Santa Clara|\n",
      "|Super_Bowl_50|Super Bowl 50 was...|What stadium did ...|      Levi's Stadium|\n",
      "|Super_Bowl_50|Super Bowl 50 was...|What was the fina...|               24–10|\n",
      "+-------------+--------------------+--------------------+--------------------+\n",
      "only showing top 20 rows\n",
      "\n"
     ]
    }
   ],
   "source": [
    "(df_array_distinct\n",
    " .select(  # 컬럼 선택\"title\",\"context\",\"question_text\"\n",
    "         , col(  # 컬럼 참조\"answers\").getItem(0).getField(\"text\").alias('answer'))\n",
    " .show()  # DataFrame 내용 출력)"
   ]
  },
  {
   "cell_type": "markdown",
   "id": "7a634a2c-a958-4d06-a323-2440a3d5d2de",
   "metadata": {},
   "source": [
    "### Nested data with null values "
   ]
  },
  {
   "cell_type": "code",
   "execution_count": 15,
   "id": "1dc6d2e4-b640-4b2d-95ca-c12c18000949",
   "metadata": {
    "tags": []
   },
   "outputs": [
    {
     "name": "stdout",
     "output_type": "stream",
     "text": [
      "+-------------+--------------------+--------------------+--------------------+--------------------+\n",
      "|        title|             context|         question_id|       question_text|             answers|\n",
      "+-------------+--------------------+--------------------+--------------------+--------------------+\n",
      "|Super_Bowl_50|Super Bowl 50 was...|56be4db0acb800140...|Which NFL team re...|[{177, Denver Bro...|\n",
      "|Super_Bowl_50|Super Bowl 50 was...|56be4db0acb800140...|Which NFL team re...|[{249, Carolina P...|\n",
      "|Super_Bowl_50|Super Bowl 50 was...|56be4db0acb800140...|Where did Super B...|[{403, Santa Clar...|\n",
      "|Super_Bowl_50|Super Bowl 50 was...|56be4db0acb800140...|Which NFL team wo...|[{177, Denver Bro...|\n",
      "|Super_Bowl_50|Super Bowl 50 was...|56be4db0acb800140...|What color was us...|[{488, gold}, {52...|\n",
      "|Super_Bowl_50|Super Bowl 50 was...|56be8e613aeaaa140...|What was the them...|[{487, \"golden an...|\n",
      "|Super_Bowl_50|Super Bowl 50 was...|56be8e613aeaaa140...|What day was the ...|[{334, February 7...|\n",
      "|Super_Bowl_50|Super Bowl 50 was...|56be8e613aeaaa140...|What is the AFC s...|[{133, American F...|\n",
      "|Super_Bowl_50|Super Bowl 50 was...|56bea9923aeaaa140...|What was the them...|[{487, \"golden an...|\n",
      "|Super_Bowl_50|Super Bowl 50 was...|56bea9923aeaaa140...|What does AFC sta...|[{133, American F...|\n",
      "|Super_Bowl_50|Super Bowl 50 was...|56bea9923aeaaa140...|What day was the ...|[{334, February 7...|\n",
      "|Super_Bowl_50|Super Bowl 50 was...|56beace93aeaaa140...|Who won Super Bow...|[{177, Denver Bro...|\n",
      "|Super_Bowl_50|Super Bowl 50 was...|56beace93aeaaa140...|What venue did Su...|[{355, Levi's Sta...|\n",
      "|Super_Bowl_50|Super Bowl 50 was...|56beace93aeaaa140...|What city did Sup...|[{403, Santa Clara}]|\n",
      "|Super_Bowl_50|Super Bowl 50 was...|56beace93aeaaa140...|If Roman numerals...|[{693, Super Bowl...|\n",
      "|Super_Bowl_50|Super Bowl 50 was...|56beace93aeaaa140...|Super Bowl 50 dec...|[{116, 2015}, {11...|\n",
      "|Super_Bowl_50|Super Bowl 50 was...|56bf10f43aeaaa140...|What year did the...|[{116, 2015}, {34...|\n",
      "|Super_Bowl_50|Super Bowl 50 was...|56bf10f43aeaaa140...|What city did Sup...|[{403, Santa Clara}]|\n",
      "|Super_Bowl_50|Super Bowl 50 was...|56bf10f43aeaaa140...|What stadium did ...|[{355, Levi's Sta...|\n",
      "|Super_Bowl_50|Super Bowl 50 was...|56bf10f43aeaaa140...|What was the fina...|      [{267, 24–10}]|\n",
      "+-------------+--------------------+--------------------+--------------------+--------------------+\n",
      "only showing top 20 rows\n",
      "\n"
     ]
    },
    {
     "name": "stderr",
     "output_type": "stream",
     "text": [
      "                                                                                \r"
     ]
    }
   ],
   "source": [
    "(df_array_distinct\n",
    " .filter(  # 데이터 필터링col(\"answers\").getItem(0).getField(\"text\").isNotNull())\n",
    " .show()  # DataFrame 내용 출력)"
   ]
  },
  {
   "cell_type": "markdown",
   "id": "b5d647c9-6f31-4c25-a8f6-f954f31bd080",
   "metadata": {},
   "source": [
    "### `array_contains()`"
   ]
  },
  {
   "cell_type": "code",
   "execution_count": 16,
   "id": "b22ddffa-88fb-46d6-a419-af1d665f64b1",
   "metadata": {
    "tags": []
   },
   "outputs": [
    {
     "name": "stderr",
     "output_type": "stream",
     "text": [
      "[Stage 10:>                                                         (0 + 1) / 1]\r"
     ]
    },
    {
     "name": "stdout",
     "output_type": "stream",
     "text": [
      "+------------------------+--------------+\n",
      "|fruits                  |contains_apple|\n",
      "+------------------------+--------------+\n",
      "|[apple, orange, banana] |true          |\n",
      "|[grape, kiwi, melon]    |false         |\n",
      "|[pear, apple, pineapple]|true          |\n",
      "+------------------------+--------------+\n",
      "\n"
     ]
    },
    {
     "name": "stderr",
     "output_type": "stream",
     "text": [
      "                                                                                \r"
     ]
    }
   ],
   "source": [
    "from pyspark.sql.functions import  # Spark SQL 함수들 임포트 array_contains\n",
    "\n",
    "df = spark.createDataFrame(\n",
    "    [([\"apple\", \"orange\", \"banana\"],)\n",
    "     ,([\"grape\", \"kiwi\", \"melon\"],)\n",
    "     ,([\"pear\", \"apple\", \"pineapple\"],)]\n",
    "    ,[\"fruits\"])\n",
    "\n",
    "(df.select(  # 컬럼 선택\"fruits\"\n",
    "           , array_contains(\"fruits\", \"apple\")\n",
    "           .alias(  # 컬럼 별칭 설정\"contains_apple\"))\n",
    " .show(truncate=False))\n"
   ]
  },
  {
   "cell_type": "markdown",
   "id": "21ab4e8a-1088-4d44-9d5c-74640fda0600",
   "metadata": {},
   "source": [
    "### `map_keys()` and `map_values()`"
   ]
  },
  {
   "cell_type": "code",
   "execution_count": 17,
   "id": "fd87da6a-50d1-41f1-82d7-0d0fe45d0043",
   "metadata": {
    "tags": []
   },
   "outputs": [
    {
     "name": "stdout",
     "output_type": "stream",
     "text": [
      "+----------------------------------------------------------+\n",
      "|user_info                                                 |\n",
      "+----------------------------------------------------------+\n",
      "|{name -> Alice, email -> alice@example.com, age -> 28}    |\n",
      "|{name -> Bob, email -> bob@example.com, age -> 35}        |\n",
      "|{name -> Charlie, email -> charlie@example.com, age -> 42}|\n",
      "+----------------------------------------------------------+\n",
      "\n"
     ]
    }
   ],
   "source": [
    "data = [\n",
    "    {\"user_info\": {\"name\": \"Alice\", \"age\": 28, \"email\": \"alice@example.com\"}},\n",
    "    {\"user_info\": {\"name\": \"Bob\", \"age\": 35, \"email\": \"bob@example.com\"}},\n",
    "    {\"user_info\": {\"name\": \"Charlie\", \"age\": 42, \"email\": \"charlie@example.com\"}}\n",
    "]\n",
    "\n",
    "df = spark.createDataFrame(data)\n",
    "df.show(truncate=False)\n"
   ]
  },
  {
   "cell_type": "code",
   "execution_count": 19,
   "id": "67058bc3-825e-49d1-9331-244129b8b30d",
   "metadata": {
    "tags": []
   },
   "outputs": [
    {
     "name": "stdout",
     "output_type": "stream",
     "text": [
      "+----------------------------------------------------------+------------------+----------------------------------+\n",
      "|user_info                                                 |user_info_keys    |user_info_values                  |\n",
      "+----------------------------------------------------------+------------------+----------------------------------+\n",
      "|{name -> Alice, email -> alice@example.com, age -> 28}    |[name, email, age]|[Alice, alice@example.com, 28]    |\n",
      "|{name -> Bob, email -> bob@example.com, age -> 35}        |[name, email, age]|[Bob, bob@example.com, 35]        |\n",
      "|{name -> Charlie, email -> charlie@example.com, age -> 42}|[name, email, age]|[Charlie, charlie@example.com, 42]|\n",
      "+----------------------------------------------------------+------------------+----------------------------------+\n",
      "\n"
     ]
    }
   ],
   "source": [
    "(df\n",
    " .select(  # 컬럼 선택\"user_info\"\n",
    "         , map_keys(\"user_info\").alias(  # 컬럼 별칭 설정\"user_info_keys\") \n",
    "         , map_values(\"user_info\").alias(  # 컬럼 별칭 설정\"user_info_values\"))\n",
    " .show(truncate=False))"
   ]
  },
  {
   "cell_type": "markdown",
   "id": "459a77e4-be3f-4625-bca8-2237524407c2",
   "metadata": {},
   "source": [
    "### `explode_outer()`"
   ]
  },
  {
   "cell_type": "code",
   "execution_count": 7,
   "id": "610efffc-0eec-476d-b892-a27456271fdc",
   "metadata": {
    "tags": []
   },
   "outputs": [
    {
     "name": "stdout",
     "output_type": "stream",
     "text": [
      "+-----+\n",
      "|word |\n",
      "+-----+\n",
      "|hello|\n",
      "|world|\n",
      "|foo  |\n",
      "|bar  |\n",
      "|baz  |\n",
      "|null |\n",
      "+-----+\n",
      "\n"
     ]
    }
   ],
   "source": [
    "data = [\n",
    "    {\"words\": [\"hello\", \"world\"]},\n",
    "    {\"words\": [\"foo\", \"bar\", \"baz\"]},\n",
    "    {\"words\": None}\n",
    "]\n",
    "\n",
    "df = spark.createDataFrame(data)\n",
    "\n",
    "(df.select(  # 컬럼 선택explode_outer(\"words\").alias(\"word\"))\n",
    " .show(truncate=False))"
   ]
  },
  {
   "cell_type": "markdown",
   "id": "426892dc-8fca-495c-9b08-29ee6a87d277",
   "metadata": {},
   "source": [
    "### `posexplode()`"
   ]
  },
  {
   "cell_type": "code",
   "execution_count": 8,
   "id": "939b4b5d-7b53-4fd9-b664-29f407e0916b",
   "metadata": {
    "tags": []
   },
   "outputs": [
    {
     "name": "stdout",
     "output_type": "stream",
     "text": [
      "+---+-----+\n",
      "|pos|word |\n",
      "+---+-----+\n",
      "|0  |hello|\n",
      "|1  |world|\n",
      "|0  |foo  |\n",
      "|1  |bar  |\n",
      "|2  |baz  |\n",
      "+---+-----+\n",
      "\n"
     ]
    }
   ],
   "source": [
    "data = [\n",
    "    {\"words\": [\"hello\", \"world\"]},\n",
    "    {\"words\": [\"foo\", \"bar\", \"baz\"]},\n",
    "    {\"words\": None}\n",
    "]\n",
    "\n",
    "df = spark.createDataFrame(data)\n",
    "\n",
    "df.selectExpr(\"posexplode(  # 배열을 개별 행으로 분해words) as (pos, word)\").show(truncate=False)"
   ]
  },
  {
   "cell_type": "code",
   "execution_count": 20,
   "id": "b231a07b-c93e-4733-b1ea-b5fc2707ee8b",
   "metadata": {
    "tags": []
   },
   "outputs": [],
   "source": [
    "spark.stop()  # Spark 세션 종료 - 리소스 정리"
   ]
  },
  {
   "cell_type": "code",
   "execution_count": null,
   "id": "46d9c480-89cc-4a6c-8d09-e1b42ddf78aa",
   "metadata": {},
   "outputs": [],
   "source": []
  }
 ],
 "metadata": {
  "kernelspec": {
   "display_name": "Python 3 (ipykernel)",
   "language": "python",
   "name": "python3"
  },
  "language_info": {
   "codemirror_mode": {
    "name": "ipython",
    "version": 3
   },
   "file_extension": ".py",
   "mimetype": "text/x-python",
   "name": "python",
   "nbconvert_exporter": "python",
   "pygments_lexer": "ipython3",
   "version": "3.10.12"
  },
  "vscode": {
   "interpreter": {
    "hash": "916dbcbb3f70747c44a77c7bcd40155683ae19c65e1c03b4aa3499c5328201f1"
   }
  }
 },
 "nbformat": 4,
 "nbformat_minor": 5
}