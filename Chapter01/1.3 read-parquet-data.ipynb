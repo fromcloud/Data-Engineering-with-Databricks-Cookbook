{
 "cells": [
  {
   "cell_type": "markdown",
   "id": "d303e34b-0ebf-4f24-b1cb-be39cea040b9",
   "metadata": {},
   "source": [
    "### Reading parquet data with an inferred schema"
   ]
  },
  {
   "cell_type": "code",
   "execution_count": 6,
   "id": "f6e19347",
   "metadata": {
    "tags": []
   },
   "outputs": [],
   "source": [
    "from pyspark.sql import SparkSession  # Spark SQL 작업을 위한 SparkSession 임포트\n",
    "\n",
    "spark = (SparkSession.builder  # SparkSession 빌더 패턴 시작\n",
    "         .appName(\"read-parquet-data\")  # 애플리케이션 이름 설정\n",
    "         .master(\"spark://spark-master:7077\")  # Spark 마스터 URL 설정\n",
    "         .config(\"spark.executor.memory\", \"512m\")  # Spark 설정 옵션\n",
    "         .getOrCreate()  # SparkSession 생성 또는 기존 세션 반환)\n",
    "\n",
    "spark.sparkContext.setLogLevel(\"ERROR\")  # 로그 레벨을 ERROR로 설정"
   ]
  },
  {
   "cell_type": "code",
   "execution_count": 8,
   "id": "df98ff82-9a19-4744-94ca-0d1e2050c7e4",
   "metadata": {
    "tags": []
   },
   "outputs": [
    {
     "name": "stderr",
     "output_type": "stream",
     "text": [
      "                                                                                \r"
     ]
    }
   ],
   "source": [
    "# 읽기 parquet file into a DataFrame\n",
    "df = (spark.read.format(\"parquet\")  # Parquet 형식으로 데이터 읽기\n",
    "      .load(  # 파일 로드\"../data/recipes.parquet\"))"
   ]
  },
  {
   "cell_type": "code",
   "execution_count": 9,
   "id": "02607022-94ef-4145-b491-92a60bd15905",
   "metadata": {
    "tags": []
   },
   "outputs": [
    {
     "name": "stdout",
     "output_type": "stream",
     "text": [
      "root\n",
      " |-- RecipeId: double (nullable = true)\n",
      " |-- Name: string (nullable = true)\n",
      " |-- AuthorId: integer (nullable = true)\n",
      " |-- AuthorName: string (nullable = true)\n",
      " |-- CookTime: string (nullable = true)\n",
      " |-- PrepTime: string (nullable = true)\n",
      " |-- TotalTime: string (nullable = true)\n",
      " |-- Description: string (nullable = true)\n",
      " |-- RecipeCategory: string (nullable = true)\n",
      " |-- Keywords: array (nullable = true)\n",
      " |    |-- element: string (containsNull = true)\n",
      " |-- RecipeIngredientQuantities: array (nullable = true)\n",
      " |    |-- element: string (containsNull = true)\n",
      " |-- RecipeIngredientParts: array (nullable = true)\n",
      " |    |-- element: string (containsNull = true)\n",
      " |-- AggregatedRating: double (nullable = true)\n",
      " |-- ReviewCount: integer (nullable = true)\n",
      " |-- Calories: double (nullable = true)\n",
      " |-- FatContent: double (nullable = true)\n",
      " |-- SaturatedFatContent: double (nullable = true)\n",
      " |-- CholesterolContent: double (nullable = true)\n",
      " |-- SodiumContent: double (nullable = true)\n",
      " |-- CarbohydrateContent: double (nullable = true)\n",
      " |-- FiberContent: double (nullable = true)\n",
      " |-- SugarContent: double (nullable = true)\n",
      " |-- ProteinContent: double (nullable = true)\n",
      " |-- RecipeServings: integer (nullable = true)\n",
      " |-- RecipeYield: string (nullable = true)\n",
      " |-- RecipeInstructions: array (nullable = true)\n",
      " |    |-- element: string (containsNull = true)\n",
      " |-- Images: array (nullable = true)\n",
      " |    |-- element: string (containsNull = true)\n",
      " |-- DatePublished: date (nullable = true)\n",
      "\n"
     ]
    }
   ],
   "source": [
    "df.printSchema()  # DataFrame 스키마 구조 출력"
   ]
  },
  {
   "cell_type": "code",
   "execution_count": 10,
   "id": "e653265c-a151-4917-82ab-ccf8df808fcd",
   "metadata": {
    "tags": []
   },
   "outputs": [
    {
     "name": "stderr",
     "output_type": "stream",
     "text": [
      "                                                                                \r"
     ]
    },
    {
     "name": "stdout",
     "output_type": "stream",
     "text": [
      "+--------+--------------------+----------+------------+--------+--------+---------+--------------------+--------------+--------------------+--------------------------+---------------------+----------------+-----------+--------+----------+-------------------+------------------+-------------+-------------------+------------+------------+--------------+--------------+-----------+--------------------+--------------------+-------------+\n",
      "|RecipeId|                Name|  AuthorId|  AuthorName|CookTime|PrepTime|TotalTime|         Description|RecipeCategory|            Keywords|RecipeIngredientQuantities|RecipeIngredientParts|AggregatedRating|ReviewCount|Calories|FatContent|SaturatedFatContent|CholesterolContent|SodiumContent|CarbohydrateContent|FiberContent|SugarContent|ProteinContent|RecipeServings|RecipeYield|  RecipeInstructions|              Images|DatePublished|\n",
      "+--------+--------------------+----------+------------+--------+--------+---------+--------------------+--------------+--------------------+--------------------------+---------------------+----------------+-----------+--------+----------+-------------------+------------------+-------------+-------------------+------------+------------+--------------+--------------+-----------+--------------------+--------------------+-------------+\n",
      "|540530.0|Asian Ginger and ...|2002766352|winosity.app|   PT15M|   PT35M|    PT50M|This is a great e...|         Asian|         [< 60 Mins]|      [16, 2, 1⁄2, 1, 1...| [salmon fillets, ...|            null|       null|   234.0|       9.6|                1.6|              51.6|        841.2|               11.3|         1.1|         7.0|          25.4|             4|       null|[Preheat the oven...|                  []|   2020-06-26|\n",
      "|540531.0| Awesome Carrot Cake|2002766352|winosity.app|   PT35M|   PT10M|    PT45M|A wonderfully moi...|       Dessert|[Spring, Summer, ...|      [3, 2, 2, 1, 1 1⁄...| [all-purpose flou...|            null|       null|  1072.5|      58.4|                8.2|             124.0|       1017.3|              128.4|         3.2|        77.3|          11.3|             6|       null|[Preheat oven to ...|                  []|   2020-06-26|\n",
      "|540532.0|Bacon Wrapped Shr...|2002766352|winosity.app|   PT12M|   PT15M|    PT27M|This bacon wrappe...|        Cheese|[Very Low Carbs, ...|          [24, 6, 2, 4, 8]| [shrimp, bacon, f...|            null|       null|   202.3|      13.9|                5.6|             135.0|        827.6|                2.5|         0.6|         0.8|          16.4|             8|       null|[Preheat oven to ...|                  []|   2020-06-26|\n",
      "|540533.0|Baked Cheese in R...|2002766352|winosity.app|   PT15M|    PT5M|    PT20M|Historically spea...|       African|[Spring, Summer, ...|      [8, 1⁄2, 1, 1, 4,...| [butter, parmesan...|            null|       null|   211.4|      15.2|                9.2|              40.3|        628.8|               11.8|         0.7|         1.0|           7.2|             8|       null|[Mix all the ingr...|                  []|   2020-06-26|\n",
      "|540534.0|Cheesy Baked Oyst...|2002766352|winosity.app|   PT10M|   PT10M|    PT20M|Baked oysters are...|  Lunch/Snacks|[Spring, Summer, ...|      [16, 5, 1⁄4, 1⁄4,...| [ricotta cheese, ...|            null|       null|   446.2|      28.5|               12.3|             157.3|        663.4|               13.3|         0.5|         0.3|          32.8|             4|       null|[Cut bacon into s...|                  []|   2020-06-26|\n",
      "|540535.0|Delicious Blue Ch...|2001004241|   CLUBFOODY|   PT14M|   PT20M|    PT34M|Incredibly flavor...|        Summer|   [< 60 Mins, Easy]|      [1 1⁄2, 3, 1⁄2, 1...| [lean ground beef...|            null|       null|   453.3|      21.6|                8.3|             114.6|        369.2|               22.8|         1.3|         3.3|          39.0|             4|       null|[In a large bowl,...|[https://img.sndi...|   2020-06-26|\n",
      "|540536.0|    Baked White Fish|2002766352|winosity.app|   PT15M|    PT5M|    PT20M|This is an herbac...|     < 30 Mins|              [null]|      [12, 1, 1, 1, 1, ...| [cod fish fillets...|            null|       null|   350.8|      20.0|                8.5|             104.2|        465.5|                9.3|         3.6|         1.2|          35.2|             2|       null|[Preheat the oven...|                  []|   2020-06-26|\n",
      "|540537.0|Beef Roast in Pin...|2002766352|winosity.app| PT3H15M|   PT30M|  PT3H45M|Beef chuck is an ...|          Meat|[Very Low Carbs, ...|      [3, 1⁄2, 1, 1, 1⁄...| [shallot, olive o...|            null|       null|   510.5|      26.6|               10.9|             164.9|       1461.9|               11.2|         0.3|         0.1|          50.8|             6|       null|[Preheat the oven...|                  []|   2020-06-26|\n",
      "|540538.0|     Berry Sarabande|2002766352|winosity.app|   PT15M|    PT5M|    PT20M|A berry sarabande...|       African|[Summer, Winter, ...|      [4, 1, 4, 1, 1, 4...| [unflavored gelat...|            null|       null|   529.0|      44.1|               27.4|             163.0|         54.0|               30.6|         0.3|        26.4|           5.6|             8|       null|[Chill whipping c...|                  []|   2020-06-26|\n",
      "|540539.0|Winter Fruit Chutney|    520830|  Bren in LR|   PT30M|   PT30M|     PT1H|This cinnamon and...|     < 60 Mins|              [null]|      [1⁄2, 1 1⁄2, 1⁄3,...| [orange, dry whit...|            null|       null|   385.4|       0.7|                0.1|               0.0|         12.0|               78.5|         7.6|        64.0|           2.0|          null|     3 cups|[Using small shar...|                  []|   2020-06-26|\n",
      "|540540.0|Wild Salmon With ...|    520830|  Bren in LR|   PT20M|   PT15M|    PT35M|From Cooking Ligh...|Very Low Carbs|   [< 60 Mins, Easy]|      [3, 1⁄3, 1, 1⁄2, ...| [olive oil, shall...|            null|       null|   770.9|      46.6|               17.9|             223.5|        355.9|               13.4|         1.0|         4.6|          67.4|             4|       null|[Heat 1 tablespoo...|                  []|   2020-06-26|\n",
      "|540541.0|Lightened Zucchin...|    520830|  Bren in LR|    PT1H|   PT20M|  PT1H20M|Make and share th...|  Quick Breads|[Breads, Low Chol...|      [2, 3, 1 3⁄4, 1, ...| [zucchini, all-pu...|            null|       null|   152.1|       3.2|                0.4|               0.0|        166.6|               28.7|         0.7|        15.0|           2.3|            24|       null|[Preheat oven to ...|                  []|   2020-06-26|\n",
      "|540542.0|Reese&rsquo;s Pea...|    109030|    Linajjac|   PT10M|   PT10M|    PT20M|This was so fun. ...|     Beverages|         [< 30 Mins]|      [4, 1, 2, 1, 2, 1...| [vodka, vodka, milk]|            null|       null|   885.7|      12.1|                5.0|              10.4|        183.9|               27.3|         1.4|        18.2|           5.5|             1|  1 Martini|[Add the Reese's ...|[https://img.sndi...|   2020-06-26|\n",
      "|540543.0|Chilaquiles El Ra...|    520830|  Bren in LR|    PT9H|   PT15M|  PT9H15M|Make and share th...|     Breakfast|              [null]|      [8, 1, 1, 1, 8, 1...| [eggs, milk, cott...|            null|       null|   324.7|      18.6|                9.4|             230.5|        497.3|               16.6|         1.9|         3.0|          22.9|             8|       null|[Whisk eggs and m...|                  []|   2020-06-26|\n",
      "|540544.0|Wild Berry-Oatmea...|    520830|  Bren in LR|   PT30M|   PT15M|    PT45M|Make and share th...|  Quick Breads| [Breads, < 60 Mins]|      [1, 1, 1, 1⁄4, 3,...| [old fashioned oa...|            null|       null|   266.7|      11.5|                6.4|              47.3|        306.7|               37.5|         1.5|        19.2|           4.7|            12|       null|[Heat oven to 350...|                  []|   2020-06-26|\n",
      "|540545.0|Cooking Light Chi...|    520830|  Bren in LR|   PT30M|   PT40M|  PT1H10M|From March 2003. ...|       Poultry|[Meat, Low Choles...|      [1, 1, 2⁄3, 1, 3⁄...| [butter, onion, c...|            null|       null|   817.7|      27.7|               12.9|             130.5|       1112.1|               75.1|         5.3|         6.1|          63.3|             6|       null|[Preheat oven to ...|                  []|   2020-06-26|\n",
      "|540546.0|Cooking Light Hea...|    520830|  Bren in LR|   PT15M|   PT15M|    PT30M|A contribution by...|  Quick Breads|[Breads, < 30 Min...|      [1, 1, 1, 1, 1, 1...| [water, baking so...|            null|       null|   100.0|       0.6|                0.1|               0.0|        132.3|               23.8|         2.0|         8.4|           2.2|          null| 20 muffins|[Combine cereal a...|                  []|   2020-06-26|\n",
      "|540547.0|Four-Cheese Veget...|    520830|  Bren in LR|   PT35M|   PT30M|   PT1H5M|Make and share th...|     Vegetable|   [< 4 Hours, Easy]|      [1, 2, 2, 1 1⁄2, ...| [spinach, zucchin...|            null|       null|   240.0|      10.4|                5.7|              34.4|        521.7|               17.7|         2.2|         8.5|          19.6|             9|       null|[Press spinach be...|                  []|   2020-06-26|\n",
      "|540548.0|Prosciutto-Wrappe...|    520830|  Bren in LR|   PT20M|   PT20M|    PT40M|From March 2000 C...|        Grains|         [< 60 Mins]|      [2, 1, 3, 2, 1⁄2,...| [Bourbon, maple s...|            null|       null|   314.6|       2.1|                0.3|             211.7|       1312.2|               39.4|         2.1|        10.7|          27.7|             4|       null|[For Shrimp:  Pre...|                  []|   2020-06-26|\n",
      "|540549.0|Cooking Light Str...|    520830|  Bren in LR|   PT50M|   PT30M|  PT1H20M|Make and share th...|    Cheesecake|[Dessert, For Lar...|      [1⁄4, 1, 2, 1, 2,...| [amaretti cookie ...|            null|       null|   245.3|      14.1|                7.4|              71.2|        320.8|               20.6|         0.6|        19.1|           9.9|            14|       null|[Coat the bottom ...|                  []|   2020-06-26|\n",
      "+--------+--------------------+----------+------------+--------+--------+---------+--------------------+--------------+--------------------+--------------------------+---------------------+----------------+-----------+--------+----------+-------------------+------------------+-------------+-------------------+------------+------------+--------------+--------------+-----------+--------------------+--------------------+-------------+\n",
      "only showing top 20 rows\n",
      "\n"
     ]
    }
   ],
   "source": [
    "# 출력 contents of DataFrame\n",
    "df.show()  # DataFrame 내용 출력\n",
    "\n",
    "# Alternatively\n",
    "\n",
    "# df.show(50)  # 출력 first 50 rows\n",
    "# df.show(10, truncate=False)  # 출력 first 10 rows without truncation"
   ]
  },
  {
   "cell_type": "markdown",
   "id": "d1c95ddc-0ea4-49f6-a89b-987caa5ba894",
   "metadata": {},
   "source": [
    "### Reading partitioned data"
   ]
  },
  {
   "cell_type": "code",
   "execution_count": 11,
   "id": "3814ddd9-ec00-4b9d-abc9-d1b0b0c9f47e",
   "metadata": {
    "tags": []
   },
   "outputs": [
    {
     "name": "stderr",
     "output_type": "stream",
     "text": [
      "                                                                                \r"
     ]
    }
   ],
   "source": [
    "df_partitioned = (spark.read.format(\"parquet\")  # Parquet 형식으로 데이터 읽기\n",
    "                  .load(  # 파일 로드\"../data/partitioned_recipes\"))"
   ]
  },
  {
   "cell_type": "code",
   "execution_count": 12,
   "id": "03f1e624-0840-47c0-b18d-6ba7ca676973",
   "metadata": {
    "tags": []
   },
   "outputs": [
    {
     "name": "stdout",
     "output_type": "stream",
     "text": [
      "root\n",
      " |-- RecipeId: double (nullable = true)\n",
      " |-- Name: string (nullable = true)\n",
      " |-- AuthorId: integer (nullable = true)\n",
      " |-- AuthorName: string (nullable = true)\n",
      " |-- CookTime: string (nullable = true)\n",
      " |-- PrepTime: string (nullable = true)\n",
      " |-- TotalTime: string (nullable = true)\n",
      " |-- Description: string (nullable = true)\n",
      " |-- RecipeCategory: string (nullable = true)\n",
      " |-- Keywords: array (nullable = true)\n",
      " |    |-- element: string (containsNull = true)\n",
      " |-- RecipeIngredientQuantities: array (nullable = true)\n",
      " |    |-- element: string (containsNull = true)\n",
      " |-- RecipeIngredientParts: array (nullable = true)\n",
      " |    |-- element: string (containsNull = true)\n",
      " |-- AggregatedRating: double (nullable = true)\n",
      " |-- ReviewCount: integer (nullable = true)\n",
      " |-- Calories: double (nullable = true)\n",
      " |-- FatContent: double (nullable = true)\n",
      " |-- SaturatedFatContent: double (nullable = true)\n",
      " |-- CholesterolContent: double (nullable = true)\n",
      " |-- SodiumContent: double (nullable = true)\n",
      " |-- CarbohydrateContent: double (nullable = true)\n",
      " |-- FiberContent: double (nullable = true)\n",
      " |-- SugarContent: double (nullable = true)\n",
      " |-- ProteinContent: double (nullable = true)\n",
      " |-- RecipeServings: integer (nullable = true)\n",
      " |-- RecipeYield: string (nullable = true)\n",
      " |-- RecipeInstructions: array (nullable = true)\n",
      " |    |-- element: string (containsNull = true)\n",
      " |-- Images: array (nullable = true)\n",
      " |    |-- element: string (containsNull = true)\n",
      " |-- DatePublished: date (nullable = true)\n",
      "\n"
     ]
    }
   ],
   "source": [
    "df_partitioned.printSchema()  # DataFrame 스키마 구조 출력"
   ]
  },
  {
   "cell_type": "code",
   "execution_count": 13,
   "id": "82809ab8-2866-41d8-af69-237d4156eac3",
   "metadata": {
    "tags": []
   },
   "outputs": [],
   "source": [
    "df_partitioned = (spark.read.format(\"parquet\")  # Parquet 형식으로 데이터 읽기\n",
    "                  .load(  # 파일 로드\"../data/partitioned_recipes/DatePublished=2020-01*\"))"
   ]
  },
  {
   "cell_type": "code",
   "execution_count": 14,
   "id": "9547e376-200b-4e3a-8b49-e177c899cb92",
   "metadata": {
    "tags": []
   },
   "outputs": [
    {
     "name": "stdout",
     "output_type": "stream",
     "text": [
      "root\n",
      " |-- RecipeId: double (nullable = true)\n",
      " |-- Name: string (nullable = true)\n",
      " |-- AuthorId: integer (nullable = true)\n",
      " |-- AuthorName: string (nullable = true)\n",
      " |-- CookTime: string (nullable = true)\n",
      " |-- PrepTime: string (nullable = true)\n",
      " |-- TotalTime: string (nullable = true)\n",
      " |-- Description: string (nullable = true)\n",
      " |-- RecipeCategory: string (nullable = true)\n",
      " |-- Keywords: array (nullable = true)\n",
      " |    |-- element: string (containsNull = true)\n",
      " |-- RecipeIngredientQuantities: array (nullable = true)\n",
      " |    |-- element: string (containsNull = true)\n",
      " |-- RecipeIngredientParts: array (nullable = true)\n",
      " |    |-- element: string (containsNull = true)\n",
      " |-- AggregatedRating: double (nullable = true)\n",
      " |-- ReviewCount: integer (nullable = true)\n",
      " |-- Calories: double (nullable = true)\n",
      " |-- FatContent: double (nullable = true)\n",
      " |-- SaturatedFatContent: double (nullable = true)\n",
      " |-- CholesterolContent: double (nullable = true)\n",
      " |-- SodiumContent: double (nullable = true)\n",
      " |-- CarbohydrateContent: double (nullable = true)\n",
      " |-- FiberContent: double (nullable = true)\n",
      " |-- SugarContent: double (nullable = true)\n",
      " |-- ProteinContent: double (nullable = true)\n",
      " |-- RecipeServings: integer (nullable = true)\n",
      " |-- RecipeYield: string (nullable = true)\n",
      " |-- RecipeInstructions: array (nullable = true)\n",
      " |    |-- element: string (containsNull = true)\n",
      " |-- Images: array (nullable = true)\n",
      " |    |-- element: string (containsNull = true)\n",
      "\n"
     ]
    }
   ],
   "source": [
    "df_partitioned.printSchema()  # DataFrame 스키마 구조 출력"
   ]
  },
  {
   "cell_type": "markdown",
   "id": "17f3c362-5eb9-4a93-aa15-4f45bfca7c2c",
   "metadata": {},
   "source": [
    "### Schema Merging"
   ]
  },
  {
   "cell_type": "code",
   "execution_count": 15,
   "id": "4a718d31-ba61-427a-a87b-51c574b3305b",
   "metadata": {
    "tags": []
   },
   "outputs": [
    {
     "name": "stderr",
     "output_type": "stream",
     "text": [
      "                                                                                \r"
     ]
    }
   ],
   "source": [
    "df_merged_schema = (spark.read.format(\"parquet\")  # Parquet 형식으로 데이터 읽기\n",
    "                    .option(\"mergeSchema\", \"true\")\n",
    "                    .load(  # 파일 로드\"../data/partitioned_recipes\"))"
   ]
  },
  {
   "cell_type": "code",
   "execution_count": 16,
   "id": "dfe404ff-302d-4943-834b-be0841a0537a",
   "metadata": {
    "tags": []
   },
   "outputs": [
    {
     "name": "stdout",
     "output_type": "stream",
     "text": [
      "root\n",
      " |-- RecipeId: double (nullable = true)\n",
      " |-- Name: string (nullable = true)\n",
      " |-- AuthorId: integer (nullable = true)\n",
      " |-- AuthorName: string (nullable = true)\n",
      " |-- CookTime: string (nullable = true)\n",
      " |-- PrepTime: string (nullable = true)\n",
      " |-- TotalTime: string (nullable = true)\n",
      " |-- Description: string (nullable = true)\n",
      " |-- RecipeCategory: string (nullable = true)\n",
      " |-- Keywords: array (nullable = true)\n",
      " |    |-- element: string (containsNull = true)\n",
      " |-- RecipeIngredientQuantities: array (nullable = true)\n",
      " |    |-- element: string (containsNull = true)\n",
      " |-- RecipeIngredientParts: array (nullable = true)\n",
      " |    |-- element: string (containsNull = true)\n",
      " |-- AggregatedRating: double (nullable = true)\n",
      " |-- ReviewCount: integer (nullable = true)\n",
      " |-- Calories: double (nullable = true)\n",
      " |-- FatContent: double (nullable = true)\n",
      " |-- SaturatedFatContent: double (nullable = true)\n",
      " |-- CholesterolContent: double (nullable = true)\n",
      " |-- SodiumContent: double (nullable = true)\n",
      " |-- CarbohydrateContent: double (nullable = true)\n",
      " |-- FiberContent: double (nullable = true)\n",
      " |-- SugarContent: double (nullable = true)\n",
      " |-- ProteinContent: double (nullable = true)\n",
      " |-- RecipeServings: integer (nullable = true)\n",
      " |-- RecipeYield: string (nullable = true)\n",
      " |-- RecipeInstructions: array (nullable = true)\n",
      " |    |-- element: string (containsNull = true)\n",
      " |-- Images: array (nullable = true)\n",
      " |    |-- element: string (containsNull = true)\n",
      " |-- DatePublished: date (nullable = true)\n",
      "\n"
     ]
    }
   ],
   "source": [
    "df_merged_schema.printSchema()  # DataFrame 스키마 구조 출력"
   ]
  },
  {
   "cell_type": "code",
   "execution_count": 17,
   "id": "f601a371-a28f-433b-ba00-0dd8088a6f69",
   "metadata": {},
   "outputs": [],
   "source": [
    "# Stop the Spark Session\n",
    "spark.stop()  # Spark 세션 종료 - 리소스 정리"
   ]
  },
  {
   "cell_type": "code",
   "execution_count": null,
   "id": "9469da3b-3117-4cc5-85fa-30d5ee8d3cc0",
   "metadata": {},
   "outputs": [],
   "source": []
  }
 ],
 "metadata": {
  "kernelspec": {
   "display_name": "Python 3 (ipykernel)",
   "language": "python",
   "name": "python3"
  },
  "language_info": {
   "codemirror_mode": {
    "name": "ipython",
    "version": 3
   },
   "file_extension": ".py",
   "mimetype": "text/x-python",
   "name": "python",
   "nbconvert_exporter": "python",
   "pygments_lexer": "ipython3",
   "version": "3.10.12"
  },
  "vscode": {
   "interpreter": {
    "hash": "916dbcbb3f70747c44a77c7bcd40155683ae19c65e1c03b4aa3499c5328201f1"
   }
  }
 },
 "nbformat": 4,
 "nbformat_minor": 5
}