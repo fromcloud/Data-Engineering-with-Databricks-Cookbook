{
 "cells": [
  {
   "cell_type": "code",
   "execution_count": 1,
   "id": "f6e19347",
   "metadata": {
    "tags": []
   },
   "outputs": [
    {
     "name": "stderr",
     "output_type": "stream",
     "text": [
      "Setting default log level to \"WARN\".\n",
      "To adjust logging level use sc.setLogLevel(newLevel). For SparkR, use setLogLevel(newLevel).\n"
     ]
    },
    {
     "name": "stdout",
     "output_type": "stream",
     "text": [
      "23/05/19 12:19:40 WARN NativeCodeLoader: Unable to load native-hadoop library for your platform... using builtin-java classes where applicable\n"
     ]
    }
   ],
   "source": [
    "from pyspark.sql import SparkSession  # Spark SQL 작업을 위한 SparkSession 임포트\n",
    "\n",
    "spark = (SparkSession.builder  # SparkSession 빌더 패턴 시작\n",
    "         .appName(\"write-data\")  # 애플리케이션 이름 설정\n",
    "         .master(\"spark://spark-master:7077\")  # Spark 마스터 URL 설정\n",
    "         .config(\"spark.executor.memory\", \"512m\")  # Spark 설정 옵션\n",
    "         .getOrCreate()  # SparkSession 생성 또는 기존 세션 반환)\n",
    "\n",
    "spark.sparkContext.setLogLevel(\"ERROR\")  # 로그 레벨을 ERROR로 설정"
   ]
  },
  {
   "cell_type": "code",
   "execution_count": 3,
   "id": "b20b7da2-b027-478b-aa5a-377277fd12f9",
   "metadata": {
    "tags": []
   },
   "outputs": [
    {
     "name": "stderr",
     "output_type": "stream",
     "text": [
      "                                                                                \r"
     ]
    }
   ],
   "source": [
    "from pyspark.sql.types import  # Spark SQL 데이터 타입 임포트 StructType, StructField, StringType, IntegerType, DateType\n",
    "\n",
    "df = (spark.read.format(\"csv\")  # CSV 형식으로 데이터 읽기\n",
    "      .option(\"header\", \"true\")  # 첫 번째 행을 헤더로 사용\n",
    "      .option(\"nullValue\", \"null\")\n",
    "      .option(\"dateFormat\",  # 날짜 형식 지정 \"LLLL d, y\")\n",
    "      .load(  # 파일 로드\"../data/netflix_titles.csv\"))"
   ]
  },
  {
   "cell_type": "code",
   "execution_count": 7,
   "id": "e653265c-a151-4917-82ab-ccf8df808fcd",
   "metadata": {
    "tags": []
   },
   "outputs": [
    {
     "name": "stderr",
     "output_type": "stream",
     "text": [
      "                                                                                \r"
     ]
    }
   ],
   "source": [
    "(df.write.format(\"csv\")\n",
    " .option(\"header\", \"true\")  # 첫 번째 행을 헤더로 사용 \n",
    " .mode(\"overwrite\")  # 기존 데이터 덮어쓰기\n",
    " .option(\"delimiter\", \",\")\n",
    " .save(\"../data/data_lake/netflix_csv_data\"))"
   ]
  },
  {
   "cell_type": "code",
   "execution_count": 8,
   "id": "353d95f3-0f85-4802-b8b1-7ae6ef4250f3",
   "metadata": {
    "tags": []
   },
   "outputs": [
    {
     "name": "stderr",
     "output_type": "stream",
     "text": [
      "                                                                                \r"
     ]
    }
   ],
   "source": [
    "(df.write.format(\"json\") \n",
    " .mode(\"overwrite\")  # 기존 데이터 덮어쓰기 \n",
    " .save(\"../data/data_lake/netflix_json_data\"))"
   ]
  },
  {
   "cell_type": "code",
   "execution_count": 9,
   "id": "2d409bc4-41ec-4c60-a5e9-36cec7bc7354",
   "metadata": {
    "tags": []
   },
   "outputs": [
    {
     "name": "stderr",
     "output_type": "stream",
     "text": [
      "                                                                                \r"
     ]
    }
   ],
   "source": [
    "(df.write.format(\"parquet\") \n",
    " .mode(\"overwrite\")  # 기존 데이터 덮어쓰기 \n",
    " .save(\"../data/data_lake/netflix_parquet_data\"))"
   ]
  },
  {
   "cell_type": "markdown",
   "id": "5ab23f75-9f3d-4f61-ae7c-88894fc1c89d",
   "metadata": {},
   "source": [
    "### Write Compressed Data"
   ]
  },
  {
   "cell_type": "code",
   "execution_count": 12,
   "id": "8c15d6d9-da07-4f51-a26e-d1e37c935505",
   "metadata": {
    "tags": []
   },
   "outputs": [
    {
     "name": "stderr",
     "output_type": "stream",
     "text": [
      "                                                                                \r"
     ]
    }
   ],
   "source": [
    "(df.write\n",
    " .format(\"csv\")\n",
    " .mode(\"overwrite\")  # 기존 데이터 덮어쓰기 \n",
    " .option(\"header\", \"true\")  # 첫 번째 행을 헤더로 사용\n",
    " .option(\"delimiter\", \",\")\n",
    " .option(\"codec\", \"org.apache.hadoop.io.compress.GzipCodec\")\n",
    " .save(\"../data/data_lake/netflix_csv_data.gz\"))"
   ]
  },
  {
   "cell_type": "markdown",
   "id": "3fda5914-2979-4064-a0ad-58e8e63515de",
   "metadata": {},
   "source": [
    "### Specify the Number of Partitions"
   ]
  },
  {
   "cell_type": "code",
   "execution_count": 14,
   "id": "1d842078-d65b-4337-829a-d282a9705ebe",
   "metadata": {
    "tags": []
   },
   "outputs": [
    {
     "name": "stderr",
     "output_type": "stream",
     "text": [
      "                                                                                \r"
     ]
    }
   ],
   "source": [
    "(df.repartition(  # 파티션 재분배4) \n",
    " .write.format(\"csv\") \n",
    " .mode(\"overwrite\")  # 기존 데이터 덮어쓰기 \n",
    " .option(\"header\", \"true\")  # 첫 번째 행을 헤더로 사용 \n",
    " .option(\"delimiter\", \",\") \n",
    " .save(\"../data/data_lake/netflix_csv_data_4_part\")) "
   ]
  },
  {
   "cell_type": "markdown",
   "id": "a81d1655-d1f2-433b-be5c-21d793b92cb4",
   "metadata": {},
   "source": [
    "### Use `coalesce()` to Reduce number fo Partitions"
   ]
  },
  {
   "cell_type": "code",
   "execution_count": 15,
   "id": "6f3b93ee-33cc-48df-9869-d825c85e9c4f",
   "metadata": {
    "tags": []
   },
   "outputs": [
    {
     "name": "stderr",
     "output_type": "stream",
     "text": [
      "                                                                                \r"
     ]
    }
   ],
   "source": [
    "(df.coalesce(  # 파티션 수 줄이기1)\n",
    " .write.format(\"csv\")\n",
    " .mode(\"overwrite\")  # 기존 데이터 덮어쓰기 \n",
    " .option(\"header\", \"true\")  # 첫 번째 행을 헤더로 사용\n",
    " .option(\"delimiter\", \",\")\n",
    " .save(\"../data/data_lake/netflix_csv_data_whole\"))"
   ]
  },
  {
   "cell_type": "markdown",
   "id": "5c472365-efe7-4e0c-83fe-5cd6cf0fd16c",
   "metadata": {},
   "source": [
    "### Use `partitionBy()` to write partitions based on a column"
   ]
  },
  {
   "cell_type": "code",
   "execution_count": 16,
   "id": "dc9cc49d-4f32-47ee-80f9-3a723aabcc90",
   "metadata": {
    "tags": []
   },
   "outputs": [
    {
     "name": "stderr",
     "output_type": "stream",
     "text": [
      "                                                                                \r"
     ]
    }
   ],
   "source": [
    "# partition the CSV data by the 'release_year' column\n",
    "(df.write.format('csv')\n",
    " .option(\"header\", \"true\")  # 첫 번째 행을 헤더로 사용\n",
    " .option('delimiter', ',')\n",
    " .mode(\"overwrite\")  # 기존 데이터 덮어쓰기\n",
    " .partitionBy('release_year')\n",
    " .save(\"../data/data_lake/netflix_csv_data_partitioned\"))"
   ]
  },
  {
   "cell_type": "code",
   "execution_count": 17,
   "id": "a4e7e70c-23e8-468e-81c9-7f57640aa511",
   "metadata": {
    "tags": []
   },
   "outputs": [],
   "source": [
    "spark.stop()  # Spark 세션 종료 - 리소스 정리"
   ]
  }
 ],
 "metadata": {
  "kernelspec": {
   "display_name": "Python 3 (ipykernel)",
   "language": "python",
   "name": "python3"
  },
  "language_info": {
   "codemirror_mode": {
    "name": "ipython",
    "version": 3
   },
   "file_extension": ".py",
   "mimetype": "text/x-python",
   "name": "python",
   "nbconvert_exporter": "python",
   "pygments_lexer": "ipython3",
   "version": "3.10.6"
  },
  "vscode": {
   "interpreter": {
    "hash": "916dbcbb3f70747c44a77c7bcd40155683ae19c65e1c03b4aa3499c5328201f1"
   }
  }
 },
 "nbformat": 4,
 "nbformat_minor": 5
}