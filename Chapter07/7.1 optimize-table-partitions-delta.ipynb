{
 "cells": [
  {
   "cell_type": "code",
   "execution_count": 54,
   "id": "c3f5911a-7f4a-41c9-a148-751959b470de",
   "metadata": {},
   "outputs": [],
   "source": [
    "from delta import  # Delta Lake 라이브러리 임포트 *\n",
    "from pyspark.sql import SparkSession  # Spark SQL 작업을 위한 SparkSession 임포트\n",
    "from pyspark.sql.functions import  # Spark SQL 함수들 임포트 *\n",
    "from pyspark.sql.types import  # Spark SQL 데이터 타입 임포트 *\n",
    "import timeit"
   ]
  },
  {
   "cell_type": "code",
   "execution_count": 3,
   "id": "f706cf9c-d6be-40dc-807f-76c6a48900be",
   "metadata": {},
   "outputs": [
    {
     "name": "stdout",
     "output_type": "stream",
     "text": [
      ":: loading settings :: url = jar:file:/usr/local/lib/python3.10/dist-packages/pyspark/jars/ivy-2.5.1.jar!/org/apache/ivy/core/settings/ivysettings.xml\n"
     ]
    },
    {
     "name": "stderr",
     "output_type": "stream",
     "text": [
      "Ivy Default Cache set to: /root/.ivy2/cache\n",
      "The jars for the packages stored in: /root/.ivy2/jars\n",
      "io.delta#delta-core_2.12 added as a dependency\n",
      ":: resolving dependencies :: org.apache.spark#spark-submit-parent-a4ea6b6e-1365-4798-a1ed-32d6667a2ddd;1.0\n",
      "\tconfs: [default]\n",
      "\tfound io.delta#delta-core_2.12;2.4.0 in central\n",
      "\tfound io.delta#delta-storage;2.4.0 in central\n",
      "\tfound org.antlr#antlr4-runtime;4.9.3 in central\n",
      ":: resolution report :: resolve 310ms :: artifacts dl 22ms\n",
      "\t:: modules in use:\n",
      "\tio.delta#delta-core_2.12;2.4.0 from central in [default]\n",
      "\tio.delta#delta-storage;2.4.0 from central in [default]\n",
      "\torg.antlr#antlr4-runtime;4.9.3 from central in [default]\n",
      "\t---------------------------------------------------------------------\n",
      "\t|                  |            modules            ||   artifacts   |\n",
      "\t|       conf       | number| search|dwnlded|evicted|| number|dwnlded|\n",
      "\t---------------------------------------------------------------------\n",
      "\t|      default     |   3   |   0   |   0   |   0   ||   3   |   0   |\n",
      "\t---------------------------------------------------------------------\n",
      ":: retrieving :: org.apache.spark#spark-submit-parent-a4ea6b6e-1365-4798-a1ed-32d6667a2ddd\n",
      "\tconfs: [default]\n",
      "\t0 artifacts copied, 3 already retrieved (0kB/12ms)\n",
      "23/09/30 11:09:50 WARN NativeCodeLoader: Unable to load native-hadoop library for your platform... using builtin-java classes where applicable\n",
      "Setting default log level to \"WARN\".\n",
      "To adjust logging level use sc.setLogLevel(newLevel). For SparkR, use setLogLevel(newLevel).\n"
     ]
    }
   ],
   "source": [
    "builder = (SparkSession.builder  # SparkSession 빌더 패턴 시작\n",
    "           .appName(\"optimize-table-partitions-delta\")  # 애플리케이션 이름 설정\n",
    "           .master(\"spark://spark-master:7077\")  # Spark 마스터 URL 설정\n",
    "           .config(\"spark.executor.memory\", \"512m\")  # Spark 설정 옵션\n",
    "           .config(\"spark.sql.extensions\", \"io.delta.sql.DeltaSparkSessionExtension\")  # Spark 설정 옵션\n",
    "           .config(\"spark.sql.catalog.spark_catalog\", \"org.apache.spark.sql.delta.catalog.DeltaCatalog\")  # Spark 설정 옵션)\n",
    "\n",
    "spark = configure_spark_with_delta_pip(builder).getOrCreate()  # SparkSession 생성 또는 기존 세션 반환\n",
    "spark.sparkContext.setLogLevel(\"ERROR\")  # 로그 레벨을 ERROR로 설정"
   ]
  },
  {
   "cell_type": "code",
   "execution_count": 12,
   "id": "ab37d345-5095-46cd-97de-cd4de27d3860",
   "metadata": {},
   "outputs": [],
   "source": [
    "%load_ext sparksql_magic\n",
    "%config SparkSql.limit=20"
   ]
  },
  {
   "cell_type": "code",
   "execution_count": 45,
   "id": "f5a48419-bef3-4853-bbce-b9a49fd4ec69",
   "metadata": {},
   "outputs": [
    {
     "name": "stdout",
     "output_type": "stream",
     "text": [
      "+---+------+------+------------+\n",
      "| id|salary|gender|country_code|\n",
      "+---+------+------+------------+\n",
      "|  0|  3100|     M|          US|\n",
      "|  1|  4300|     M|          CN|\n",
      "|  2|  3000|     M|          IN|\n",
      "|  3|  4500|     F|          US|\n",
      "|  4|  5900|     F|          RU|\n",
      "+---+------+------+------------+\n",
      "only showing top 5 rows\n",
      "\n"
     ]
    }
   ],
   "source": [
    "# 생성 some sample data frames\n",
    "# A large data frame with 1 million rows\n",
    "large_df = (spark.range(0, 1000000)\n",
    "            .withColumn(  # 새 컬럼 추가 또는 기존 컬럼 수정\"salary\", 100*(rand() * 100).cast(\"int\"))\n",
    "            .withColumn(  # 새 컬럼 추가 또는 기존 컬럼 수정\"gender\", when((rand() * 2).cast(\"int\") == 0, \"M\").otherwise(\"F\"))\n",
    "            .withColumn(  # 새 컬럼 추가 또는 기존 컬럼 수정\"country_code\", \n",
    "                        when(  # 조건문 시작(rand() * 4).cast(\"int\") == 0, \"US\")\n",
    "                        .when(  # 조건문 시작(rand() * 4).cast(\"int\") == 1, \"CN\")\n",
    "                        .when(  # 조건문 시작(rand() * 4).cast(\"int\") == 2, \"IN\")\n",
    "                        .when(  # 조건문 시작(rand() * 4).cast(\"int\") == 3, \"BR\")\n",
    "                        .otherwise(  # 기본값 설정'RU')))\n",
    "large_df.show(5)"
   ]
  },
  {
   "cell_type": "code",
   "execution_count": 47,
   "id": "a32adc9f-c70d-4dec-93ac-aab9dba52f27",
   "metadata": {},
   "outputs": [
    {
     "name": "stderr",
     "output_type": "stream",
     "text": [
      "                                                                                \r"
     ]
    }
   ],
   "source": [
    "(large_df.write\n",
    " .format(\"delta\")  # Delta Lake 형식으로 저장\n",
    " .mode(\"overwrite\")  # 기존 데이터 덮어쓰기\n",
    " .save(\"../data/tmp/large_delta\"))"
   ]
  },
  {
   "cell_type": "code",
   "execution_count": 48,
   "id": "6a07c122-03e1-42b1-96f3-3446bdc3079a",
   "metadata": {},
   "outputs": [
    {
     "name": "stderr",
     "output_type": "stream",
     "text": [
      "                                                                                \r"
     ]
    }
   ],
   "source": [
    "(large_df.write\n",
    " .format(\"delta\")  # Delta Lake 형식으로 저장\n",
    " .mode(\"overwrite\")  # 기존 데이터 덮어쓰기\n",
    " .partitionBy(\"country_code\")\n",
    " .option(\"overwriteSchema\", \"true\")\n",
    " .save(\"../data/tmp/large_delta_partitioned\"))"
   ]
  },
  {
   "cell_type": "code",
   "execution_count": 55,
   "id": "31e36375-6c0e-470d-9295-3a70f5645e66",
   "metadata": {},
   "outputs": [
    {
     "name": "stderr",
     "output_type": "stream",
     "text": [
      "                                                                                \r"
     ]
    },
    {
     "name": "stdout",
     "output_type": "stream",
     "text": [
      "+------------+------+---------+\n",
      "|country_code|gender|employees|\n",
      "+------------+------+---------+\n",
      "|          RU|     F|   158374|\n",
      "|          RU|     M|   158085|\n",
      "|          US|     M|   124924|\n",
      "|          US|     F|   124921|\n",
      "|          CN|     F|    94448|\n",
      "|          CN|     M|    93464|\n",
      "|          IN|     F|    70416|\n",
      "|          IN|     M|    70189|\n",
      "|          BR|     F|    52726|\n",
      "|          BR|     M|    52453|\n",
      "+------------+------+---------+\n",
      "\n",
      "Non-partitioned query time: 1.8541588850002881 seconds\n"
     ]
    }
   ],
   "source": [
    "non_partitioned_query = \"spark.sql(\\\"SELECT country_code,gender, COUNT(*) AS employees FROM delta.`/opt/workspace/data/tmp/large_delta` GROUP BY ALL ORDER BY employees DESC\\\").show()  # DataFrame 내용 출력\"\n",
    "non_partitioned_time = timeit.timeit(non_partitioned_query, number=1, globals=globals())\n",
    "print(f\"Non-partitioned query time: {non_partitioned_time} seconds\")"
   ]
  },
  {
   "cell_type": "code",
   "execution_count": 56,
   "id": "27843ff2-2214-4a5f-8e1f-187538b8f5c7",
   "metadata": {},
   "outputs": [
    {
     "name": "stdout",
     "output_type": "stream",
     "text": [
      "+------------+------+---------+\n",
      "|country_code|gender|employees|\n",
      "+------------+------+---------+\n",
      "|          RU|     F|   158374|\n",
      "|          RU|     M|   158085|\n",
      "|          US|     M|   124924|\n",
      "|          US|     F|   124921|\n",
      "|          CN|     F|    94448|\n",
      "|          CN|     M|    93464|\n",
      "|          IN|     F|    70416|\n",
      "|          IN|     M|    70189|\n",
      "|          BR|     F|    52726|\n",
      "|          BR|     M|    52453|\n",
      "+------------+------+---------+\n",
      "\n",
      "Partitioned query time: 0.9437477390001732 seconds\n"
     ]
    }
   ],
   "source": [
    "partitioned_query = \"spark.sql(\\\"SELECT country_code,gender, COUNT(*) AS employees FROM delta.`/opt/workspace/data/tmp/large_delta_partitioned` GROUP BY ALL ORDER BY employees DESC\\\").show()  # DataFrame 내용 출력\"\n",
    "partitioned_time = timeit.timeit(partitioned_query, number=1, globals=globals())\n",
    "print(f\"Partitioned query time: {partitioned_time} seconds\")\n"
   ]
  },
  {
   "cell_type": "code",
   "execution_count": 57,
   "id": "d9ed8894-8451-484f-96c4-61d0c2a0b66b",
   "metadata": {},
   "outputs": [],
   "source": [
    "spark.stop()  # Spark 세션 종료 - 리소스 정리"
   ]
  },
  {
   "cell_type": "code",
   "execution_count": null,
   "id": "7d4498a8-94d1-42af-a563-539be6266ddc",
   "metadata": {},
   "outputs": [],
   "source": []
  }
 ],
 "metadata": {
  "kernelspec": {
   "display_name": "Python 3 (ipykernel)",
   "language": "python",
   "name": "python3"
  },
  "language_info": {
   "codemirror_mode": {
    "name": "ipython",
    "version": 3
   },
   "file_extension": ".py",
   "mimetype": "text/x-python",
   "name": "python",
   "nbconvert_exporter": "python",
   "pygments_lexer": "ipython3",
   "version": "3.10.12"
  }
 },
 "nbformat": 4,
 "nbformat_minor": 5
}