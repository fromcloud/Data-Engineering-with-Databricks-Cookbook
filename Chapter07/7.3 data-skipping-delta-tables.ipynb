{
 "cells": [
  {
   "cell_type": "code",
   "execution_count": 3,
   "id": "c3f5911a-7f4a-41c9-a148-751959b470de",
   "metadata": {},
   "outputs": [],
   "source": [
    "from delta import  # Delta Lake 라이브러리 임포트 *\n",
    "from pyspark.sql import SparkSession  # Spark SQL 작업을 위한 SparkSession 임포트\n",
    "from pyspark.sql.functions import  # Spark SQL 함수들 임포트 *\n",
    "from pyspark.sql.types import  # Spark SQL 데이터 타입 임포트 *"
   ]
  },
  {
   "cell_type": "code",
   "execution_count": 4,
   "id": "f706cf9c-d6be-40dc-807f-76c6a48900be",
   "metadata": {},
   "outputs": [],
   "source": [
    "builder = (SparkSession.builder  # SparkSession 빌더 패턴 시작\n",
    "           .appName(\"data-skipping-delta-table\")  # 애플리케이션 이름 설정\n",
    "           .master(\"spark://spark-master:7077\")  # Spark 마스터 URL 설정\n",
    "           .config(\"spark.executor.memory\", \"512m\")  # Spark 설정 옵션\n",
    "           .config(\"spark.sql.extensions\", \"io.delta.sql.DeltaSparkSessionExtension\")  # Spark 설정 옵션\n",
    "           .config(\"spark.sql.catalog.spark_catalog\", \"org.apache.spark.sql.delta.catalog.DeltaCatalog\")  # Spark 설정 옵션)\n",
    "\n",
    "spark = configure_spark_with_delta_pip(builder).getOrCreate()  # SparkSession 생성 또는 기존 세션 반환\n",
    "spark.sparkContext.setLogLevel(\"ERROR\")  # 로그 레벨을 ERROR로 설정"
   ]
  },
  {
   "cell_type": "code",
   "execution_count": 5,
   "id": "ab37d345-5095-46cd-97de-cd4de27d3860",
   "metadata": {},
   "outputs": [],
   "source": [
    "%load_ext sparksql_magic\n",
    "%config SparkSql.limit=20"
   ]
  },
  {
   "cell_type": "code",
   "execution_count": 6,
   "id": "b17d7e14-8a63-450f-8f30-98b5ccacec31",
   "metadata": {},
   "outputs": [
    {
     "name": "stderr",
     "output_type": "stream",
     "text": [
      "[Stage 0:>                                                          (0 + 1) / 1]\r"
     ]
    },
    {
     "name": "stdout",
     "output_type": "stream",
     "text": [
      "+---+------+------+------------+\n",
      "| id|salary|gender|country_code|\n",
      "+---+------+------+------------+\n",
      "|  0|  4400|     M|          IN|\n",
      "|  1|  3100|     M|          US|\n",
      "|  2|  4700|     F|          US|\n",
      "|  3|  2600|     M|          BR|\n",
      "|  4|  8400|     F|          RU|\n",
      "+---+------+------+------------+\n",
      "only showing top 5 rows\n",
      "\n"
     ]
    },
    {
     "name": "stderr",
     "output_type": "stream",
     "text": [
      "                                                                                \r"
     ]
    }
   ],
   "source": [
    "# 생성 some sample data frames\n",
    "# A large data frame with 1 million rows\n",
    "df = (spark.range(0, 1000000)\n",
    "            .withColumn(  # 새 컬럼 추가 또는 기존 컬럼 수정\"salary\", 100*(rand() * 100).cast(\"int\"))\n",
    "            .withColumn(  # 새 컬럼 추가 또는 기존 컬럼 수정\"gender\", when((rand() * 2).cast(\"int\") == 0, \"M\").otherwise(\"F\"))\n",
    "            .withColumn(  # 새 컬럼 추가 또는 기존 컬럼 수정\"country_code\", \n",
    "                        when(  # 조건문 시작(rand() * 4).cast(\"int\") == 0, \"US\")\n",
    "                        .when(  # 조건문 시작(rand() * 4).cast(\"int\") == 1, \"CN\")\n",
    "                        .when(  # 조건문 시작(rand() * 4).cast(\"int\") == 2, \"IN\")\n",
    "                        .when(  # 조건문 시작(rand() * 4).cast(\"int\") == 3, \"BR\")\n",
    "                        .otherwise(  # 기본값 설정'RU')))\n",
    "df.show(5)"
   ]
  },
  {
   "cell_type": "code",
   "execution_count": 7,
   "id": "3bc7107a-aa6f-4832-b2d2-406ae378a3f6",
   "metadata": {},
   "outputs": [
    {
     "name": "stderr",
     "output_type": "stream",
     "text": [
      "                                                                                \r"
     ]
    }
   ],
   "source": [
    "(df.write\n",
    " .format(\"delta\")  # Delta Lake 형식으로 저장\n",
    " .mode(\"overwrite\")  # 기존 데이터 덮어쓰기\n",
    " .save(\"../data/tmp/employee_salary\"))"
   ]
  },
  {
   "cell_type": "code",
   "execution_count": 8,
   "id": "35d3cd5e-ce19-4b7e-a828-96f9f8ef6dce",
   "metadata": {},
   "outputs": [
    {
     "name": "stderr",
     "output_type": "stream",
     "text": [
      "                                                                                \r"
     ]
    }
   ],
   "source": [
    "df = (spark.range(0, 1000)\n",
    "            .withColumn(  # 새 컬럼 추가 또는 기존 컬럼 수정\"salary\", 100*(rand() * 100).cast(\"int\"))\n",
    "            .withColumn(  # 새 컬럼 추가 또는 기존 컬럼 수정\"gender\", when((rand() * 2).cast(\"int\") == 0, \"M\").otherwise(\"F\"))\n",
    "            .withColumn(  # 새 컬럼 추가 또는 기존 컬럼 수정\"country_code\", \n",
    "                        when(  # 조건문 시작(rand() * 4).cast(\"int\") == 0, \"US\")\n",
    "                        .when(  # 조건문 시작(rand() * 4).cast(\"int\") == 1, \"CN\")\n",
    "                        .when(  # 조건문 시작(rand() * 4).cast(\"int\") == 2, \"IN\")\n",
    "                        .when(  # 조건문 시작(rand() * 4).cast(\"int\") == 3, \"BR\")\n",
    "                        .otherwise(  # 기본값 설정'RU')))\n",
    "(df.write\n",
    " .format(\"delta\")  # Delta Lake 형식으로 저장\n",
    " .mode(\"append\")  # 기존 데이터에 추가\n",
    " .save(\"../data/tmp/employee_salary\"))"
   ]
  },
  {
   "cell_type": "code",
   "execution_count": 14,
   "id": "a32adc9f-c70d-4dec-93ac-aab9dba52f27",
   "metadata": {},
   "outputs": [
    {
     "name": "stderr",
     "output_type": "stream",
     "text": [
      "                                                                                \r"
     ]
    },
    {
     "data": {
      "text/html": [
       "<table><tr style=\"border-bottom: 1px solid\"><td style=\"font-weight: bold\">version</td><td style=\"font-weight: bold\">timestamp</td><td style=\"font-weight: bold\">userId</td><td style=\"font-weight: bold\">userName</td><td style=\"font-weight: bold\">operation</td><td style=\"font-weight: bold\">operationParameters</td><td style=\"font-weight: bold\">job</td><td style=\"font-weight: bold\">notebook</td><td style=\"font-weight: bold\">clusterId</td><td style=\"font-weight: bold\">readVersion</td><td style=\"font-weight: bold\">isolationLevel</td><td style=\"font-weight: bold\">isBlindAppend</td><td style=\"font-weight: bold\">operationMetrics</td><td style=\"font-weight: bold\">userMetadata</td><td style=\"font-weight: bold\">engineInfo</td></tr><tr><td>1</td><td>2023-09-30 15:03:18.364000</td><td>null</td><td>null</td><td>WRITE</td><td>{&#x27;mode&#x27;: &#x27;Append&#x27;, &#x27;partitionBy&#x27;: &#x27;[]&#x27;}</td><td>null</td><td>null</td><td>null</td><td>0</td><td>Serializable</td><td>True</td><td>{&#x27;numOutputRows&#x27;: &#x27;1000&#x27;, &#x27;numOutputBytes&#x27;: &#x27;9597&#x27;, &#x27;numFiles&#x27;: &#x27;2&#x27;}</td><td>null</td><td>Apache-Spark/3.4.1 Delta-Lake/2.4.0</td></tr><tr><td>0</td><td>2023-09-30 15:01:47.380000</td><td>null</td><td>null</td><td>WRITE</td><td>{&#x27;mode&#x27;: &#x27;Overwrite&#x27;, &#x27;partitionBy&#x27;: &#x27;[]&#x27;}</td><td>null</td><td>null</td><td>null</td><td>null</td><td>Serializable</td><td>False</td><td>{&#x27;numOutputRows&#x27;: &#x27;1000000&#x27;, &#x27;numOutputBytes&#x27;: &#x27;5402017&#x27;, &#x27;numFiles&#x27;: &#x27;2&#x27;}</td><td>null</td><td>Apache-Spark/3.4.1 Delta-Lake/2.4.0</td></tr></table>"
      ],
      "text/plain": [
       "<IPython.core.display.HTML object>"
      ]
     },
     "execution_count": 14,
     "metadata": {},
     "output_type": "execute_result"
    }
   ],
   "source": [
    "%%sparksql\n",
    "DESCRIBE HISTORY delta.`/opt/workspace/data/tmp/employee_salary`"
   ]
  },
  {
   "cell_type": "code",
   "execution_count": 15,
   "id": "c102f2b0-8a3f-4348-bc86-23531533414d",
   "metadata": {},
   "outputs": [
    {
     "name": "stderr",
     "output_type": "stream",
     "text": [
      "                                                                                \r"
     ]
    },
    {
     "data": {
      "text/html": [
       "<table><tr style=\"border-bottom: 1px solid\"><td style=\"font-weight: bold\">path</td><td style=\"font-weight: bold\">metrics</td></tr><tr><td>file:/opt/workspace/data/tmp/employee_salary</td><td>Row(numFilesAdded=1, numFilesRemoved=4, filesAdded=Row(min=5406862, max=5406862, avg=5406862.0, totalFiles=1, totalSize=5406862), filesRemoved=Row(min=4431, max=2701371, avg=1352903.5, totalFiles=4, totalSize=5411614), partitionsOptimized=1, zOrderStats=None, numBatches=1, totalConsideredFiles=4, totalFilesSkipped=0, preserveInsertionOrder=False, numFilesSkippedToReduceWriteAmplification=0, numBytesSkippedToReduceWriteAmplification=0, startTimeMs=1696086587316, endTimeMs=0, totalClusterParallelism=2, totalScheduledTasks=0, autoCompactParallelismStats=None, deletionVectorStats=None, numTableColumns=4, numTableColumnsWithStats=4)</td></tr></table>"
      ],
      "text/plain": [
       "<IPython.core.display.HTML object>"
      ]
     },
     "execution_count": 15,
     "metadata": {},
     "output_type": "execute_result"
    }
   ],
   "source": [
    "%%sparksql\n",
    "OPTIMIZE delta.`/opt/workspace/data/tmp/employee_salary`"
   ]
  },
  {
   "cell_type": "code",
   "execution_count": 18,
   "id": "8d33aa7f-5453-4e75-b42c-607f4e15f2a2",
   "metadata": {},
   "outputs": [],
   "source": [
    "spark.conf.set(  # Spark 설정 변경\"spark.databricks.delta.retentionDurationCheck.enabled\", \"false\")"
   ]
  },
  {
   "cell_type": "code",
   "execution_count": 19,
   "id": "99d1aa41-0749-43ae-bdc6-b0d7a9603714",
   "metadata": {},
   "outputs": [
    {
     "name": "stderr",
     "output_type": "stream",
     "text": [
      "[Stage 109:===============================================>       (43 + 2) / 50]\r"
     ]
    },
    {
     "name": "stdout",
     "output_type": "stream",
     "text": [
      "Deleted 4 files and directories in a total of 1 directories.\n"
     ]
    },
    {
     "name": "stderr",
     "output_type": "stream",
     "text": [
      "                                                                                \r"
     ]
    },
    {
     "data": {
      "text/html": [
       "<table><tr style=\"border-bottom: 1px solid\"><td style=\"font-weight: bold\">path</td></tr><tr><td>file:/opt/workspace/data/tmp/employee_salary</td></tr></table>"
      ],
      "text/plain": [
       "<IPython.core.display.HTML object>"
      ]
     },
     "execution_count": 19,
     "metadata": {},
     "output_type": "execute_result"
    }
   ],
   "source": [
    "%%sparksql\n",
    "VACUUM delta.`/opt/workspace/data/tmp/employee_salary` RETAIN 0 HOURS"
   ]
  },
  {
   "cell_type": "code",
   "execution_count": 22,
   "id": "186e4d79-c608-4482-bf94-111cfef6d514",
   "metadata": {},
   "outputs": [],
   "source": [
    "spark.stop()  # Spark 세션 종료 - 리소스 정리"
   ]
  },
  {
   "cell_type": "code",
   "execution_count": null,
   "id": "7d4498a8-94d1-42af-a563-539be6266ddc",
   "metadata": {},
   "outputs": [],
   "source": []
  }
 ],
 "metadata": {
  "kernelspec": {
   "display_name": "Python 3 (ipykernel)",
   "language": "python",
   "name": "python3"
  },
  "language_info": {
   "codemirror_mode": {
    "name": "ipython",
    "version": 3
   },
   "file_extension": ".py",
   "mimetype": "text/x-python",
   "name": "python",
   "nbconvert_exporter": "python",
   "pygments_lexer": "ipython3",
   "version": "3.10.12"
  }
 },
 "nbformat": 4,
 "nbformat_minor": 5
}