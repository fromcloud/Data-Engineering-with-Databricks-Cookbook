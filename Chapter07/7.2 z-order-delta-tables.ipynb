{
 "cells": [
  {
   "cell_type": "code",
   "execution_count": 27,
   "id": "c3f5911a-7f4a-41c9-a148-751959b470de",
   "metadata": {},
   "outputs": [],
   "source": [
    "from delta import  # Delta Lake 라이브러리 임포트 *\n",
    "from pyspark.sql import SparkSession  # Spark SQL 작업을 위한 SparkSession 임포트\n",
    "from pyspark.sql.functions import  # Spark SQL 함수들 임포트 *\n",
    "from pyspark.sql.types import  # Spark SQL 데이터 타입 임포트 *\n",
    "import timeit"
   ]
  },
  {
   "cell_type": "code",
   "execution_count": 2,
   "id": "f706cf9c-d6be-40dc-807f-76c6a48900be",
   "metadata": {},
   "outputs": [
    {
     "name": "stdout",
     "output_type": "stream",
     "text": [
      ":: loading settings :: url = jar:file:/usr/local/lib/python3.10/dist-packages/pyspark/jars/ivy-2.5.1.jar!/org/apache/ivy/core/settings/ivysettings.xml\n"
     ]
    },
    {
     "name": "stderr",
     "output_type": "stream",
     "text": [
      "Ivy Default Cache set to: /root/.ivy2/cache\n",
      "The jars for the packages stored in: /root/.ivy2/jars\n",
      "io.delta#delta-core_2.12 added as a dependency\n",
      ":: resolving dependencies :: org.apache.spark#spark-submit-parent-233a37d2-006e-4ab2-a07f-581a415f3f6f;1.0\n",
      "\tconfs: [default]\n",
      "\tfound io.delta#delta-core_2.12;2.4.0 in central\n",
      "\tfound io.delta#delta-storage;2.4.0 in central\n",
      "\tfound org.antlr#antlr4-runtime;4.9.3 in central\n",
      ":: resolution report :: resolve 296ms :: artifacts dl 11ms\n",
      "\t:: modules in use:\n",
      "\tio.delta#delta-core_2.12;2.4.0 from central in [default]\n",
      "\tio.delta#delta-storage;2.4.0 from central in [default]\n",
      "\torg.antlr#antlr4-runtime;4.9.3 from central in [default]\n",
      "\t---------------------------------------------------------------------\n",
      "\t|                  |            modules            ||   artifacts   |\n",
      "\t|       conf       | number| search|dwnlded|evicted|| number|dwnlded|\n",
      "\t---------------------------------------------------------------------\n",
      "\t|      default     |   3   |   0   |   0   |   0   ||   3   |   0   |\n",
      "\t---------------------------------------------------------------------\n",
      ":: retrieving :: org.apache.spark#spark-submit-parent-233a37d2-006e-4ab2-a07f-581a415f3f6f\n",
      "\tconfs: [default]\n",
      "\t0 artifacts copied, 3 already retrieved (0kB/9ms)\n",
      "23/09/30 12:45:19 WARN NativeCodeLoader: Unable to load native-hadoop library for your platform... using builtin-java classes where applicable\n",
      "Setting default log level to \"WARN\".\n",
      "To adjust logging level use sc.setLogLevel(newLevel). For SparkR, use setLogLevel(newLevel).\n"
     ]
    }
   ],
   "source": [
    "builder = (SparkSession.builder  # SparkSession 빌더 패턴 시작\n",
    "           .appName(\"z-order-delta-table\")  # 애플리케이션 이름 설정\n",
    "           .master(\"spark://spark-master:7077\")  # Spark 마스터 URL 설정\n",
    "           .config(\"spark.executor.memory\", \"512m\")  # Spark 설정 옵션\n",
    "           .config(\"spark.sql.extensions\", \"io.delta.sql.DeltaSparkSessionExtension\")  # Spark 설정 옵션\n",
    "           .config(\"spark.sql.catalog.spark_catalog\", \"org.apache.spark.sql.delta.catalog.DeltaCatalog\")  # Spark 설정 옵션)\n",
    "\n",
    "spark = configure_spark_with_delta_pip(builder).getOrCreate()  # SparkSession 생성 또는 기존 세션 반환\n",
    "spark.sparkContext.setLogLevel(\"ERROR\")  # 로그 레벨을 ERROR로 설정"
   ]
  },
  {
   "cell_type": "code",
   "execution_count": 24,
   "id": "ab37d345-5095-46cd-97de-cd4de27d3860",
   "metadata": {},
   "outputs": [
    {
     "name": "stdout",
     "output_type": "stream",
     "text": [
      "The sparksql_magic extension is already loaded. To reload it, use:\n",
      "  %reload_ext sparksql_magic\n"
     ]
    }
   ],
   "source": [
    "%load_ext sparksql_magic\n",
    "%config SparkSql.limit=20"
   ]
  },
  {
   "cell_type": "code",
   "execution_count": 5,
   "id": "b17d7e14-8a63-450f-8f30-98b5ccacec31",
   "metadata": {},
   "outputs": [
    {
     "name": "stderr",
     "output_type": "stream",
     "text": [
      "                                                                                \r"
     ]
    }
   ],
   "source": [
    "# 읽기 the CSV file into a Spark DataFrame\n",
    "df = (spark.read\n",
    "      .format(\"csv\")\n",
    "      .option(\"header\", \"true\")  # 첫 번째 행을 헤더로 사용\n",
    "      .option(\"inferSchema\", \"true\")  # 스키마 자동 추론\n",
    "      .load(  # 파일 로드\"../data/Online_Retail.csv\"))\n",
    "\n",
    "# 쓰기 the DataFrame into a Delta table\n",
    "(df.write\n",
    " .format(\"delta\")  # Delta Lake 형식으로 저장\n",
    " .mode(\"overwrite\")  # 기존 데이터 덮어쓰기\n",
    " .save(\"../data/delta_lake/online_retail\"))"
   ]
  },
  {
   "cell_type": "code",
   "execution_count": 31,
   "id": "3bc7107a-aa6f-4832-b2d2-406ae378a3f6",
   "metadata": {},
   "outputs": [
    {
     "name": "stderr",
     "output_type": "stream",
     "text": [
      "[Stage 27:=============================>                            (1 + 1) / 2]\r"
     ]
    },
    {
     "name": "stdout",
     "output_type": "stream",
     "text": [
      "+---------+----------+-------------+\n",
      "|StockCode|CustomerID|TotalQuantity|\n",
      "+---------+----------+-------------+\n",
      "|    22637|     15311|           15|\n",
      "|    22141|     17920|            4|\n",
      "|    22242|     17920|            5|\n",
      "|    21257|     14849|            8|\n",
      "|    21670|     17841|           85|\n",
      "|   85123A|     15235|           12|\n",
      "|    21042|     13715|            3|\n",
      "|    22752|     12471|           11|\n",
      "|    22726|     13418|           72|\n",
      "|   85099B|     14388|           70|\n",
      "|    22094|     18041|           12|\n",
      "|    21211|     16916|            1|\n",
      "|    22335|     14449|           15|\n",
      "|    84347|     15061|         1200|\n",
      "|    20752|     15574|            1|\n",
      "|    22593|     16546|         -144|\n",
      "|    71477|     13295|           -1|\n",
      "|   85014B|     18239|            3|\n",
      "|    21916|     15093|           24|\n",
      "|    79321|     12841|           33|\n",
      "+---------+----------+-------------+\n",
      "only showing top 20 rows\n",
      "\n",
      "Time taken for original table: 5.887500449000072 seconds\n"
     ]
    },
    {
     "name": "stderr",
     "output_type": "stream",
     "text": [
      "                                                                                \r"
     ]
    }
   ],
   "source": [
    "# Query the original table\n",
    "query = \"spark.sql(\\\"SELECT StockCode, CustomerID, SUM(Quantity) AS TotalQuantity FROM delta.`/opt/workspace/data/delta_lake/online_retail` GROUP BY StockCode, CustomerID\\\").show()  # DataFrame 내용 출력\"\n",
    "query_time = timeit.timeit(query, number=1, globals=globals())\n",
    "print(f\"Time taken for original table: {query_time} seconds\")"
   ]
  },
  {
   "cell_type": "code",
   "execution_count": 35,
   "id": "35d3cd5e-ce19-4b7e-a828-96f9f8ef6dce",
   "metadata": {},
   "outputs": [
    {
     "name": "stderr",
     "output_type": "stream",
     "text": [
      "                                                                                \r"
     ]
    },
    {
     "data": {
      "text/plain": [
       "DataFrame[path: string, metrics: struct<numFilesAdded:bigint,numFilesRemoved:bigint,filesAdded:struct<min:bigint,max:bigint,avg:double,totalFiles:bigint,totalSize:bigint>,filesRemoved:struct<min:bigint,max:bigint,avg:double,totalFiles:bigint,totalSize:bigint>,partitionsOptimized:bigint,zOrderStats:struct<strategyName:string,inputCubeFiles:struct<num:bigint,size:bigint>,inputOtherFiles:struct<num:bigint,size:bigint>,inputNumCubes:bigint,mergedFiles:struct<num:bigint,size:bigint>,numOutputCubes:bigint,mergedNumCubes:bigint>,numBatches:bigint,totalConsideredFiles:bigint,totalFilesSkipped:bigint,preserveInsertionOrder:boolean,numFilesSkippedToReduceWriteAmplification:bigint,numBytesSkippedToReduceWriteAmplification:bigint,startTimeMs:bigint,endTimeMs:bigint,totalClusterParallelism:bigint,totalScheduledTasks:bigint,autoCompactParallelismStats:struct<maxClusterActiveParallelism:bigint,minClusterActiveParallelism:bigint,maxSessionActiveParallelism:bigint,minSessionActiveParallelism:bigint>,deletionVectorStats:struct<numDeletionVectorsRemoved:bigint,numDeletionVectorRowsRemoved:bigint>,numTableColumns:bigint,numTableColumnsWithStats:bigint>]"
      ]
     },
     "execution_count": 35,
     "metadata": {},
     "output_type": "execute_result"
    }
   ],
   "source": [
    "# Get the DeltaTable  # Delta 테이블 작업을 위한 클래스 object for the online_retail table\n",
    "deltaTable = DeltaTable  # Delta 테이블 작업을 위한 클래스.forPath(spark, \"/opt/workspace/data/delta_lake/online_retail\")\n",
    "\n",
    "# Optimize the table with Z-Ordering on StockCode and CustomerID\n",
    "deltaTable.optimize().executeZOrderBy(\"StockCode\", \"CustomerID\")"
   ]
  },
  {
   "cell_type": "code",
   "execution_count": 37,
   "id": "a32adc9f-c70d-4dec-93ac-aab9dba52f27",
   "metadata": {},
   "outputs": [
    {
     "name": "stdout",
     "output_type": "stream",
     "text": [
      "+---------+----------+-------------+\n",
      "|StockCode|CustomerID|TotalQuantity|\n",
      "+---------+----------+-------------+\n",
      "|    22637|     15311|           15|\n",
      "|    22141|     17920|            4|\n",
      "|    22242|     17920|            5|\n",
      "|    21257|     14849|            8|\n",
      "|    21670|     17841|           85|\n",
      "|   85123A|     15235|           12|\n",
      "|    21042|     13715|            3|\n",
      "|    22752|     12471|           11|\n",
      "|    22726|     13418|           72|\n",
      "|   85099B|     14388|           70|\n",
      "|    22094|     18041|           12|\n",
      "|    21211|     16916|            1|\n",
      "|    22335|     14449|           15|\n",
      "|    84347|     15061|         1200|\n",
      "|    20752|     15574|            1|\n",
      "|    22593|     16546|         -144|\n",
      "|    71477|     13295|           -1|\n",
      "|   85014B|     18239|            3|\n",
      "|    21916|     15093|           24|\n",
      "|    79321|     12841|           33|\n",
      "+---------+----------+-------------+\n",
      "only showing top 20 rows\n",
      "\n",
      "Time taken for z-ordered table: 1.648877622999862 seconds\n"
     ]
    },
    {
     "name": "stderr",
     "output_type": "stream",
     "text": [
      "                                                                                \r"
     ]
    }
   ],
   "source": [
    "# Query the Z-Ordered table\n",
    "query = \"spark.sql(\\\"SELECT StockCode, CustomerID, SUM(Quantity) AS TotalQuantity FROM delta.`/opt/workspace/data/delta_lake/online_retail` GROUP BY StockCode, CustomerID\\\").show()  # DataFrame 내용 출력\"\n",
    "query_time = timeit.timeit(query, number=1, globals=globals())\n",
    "print(f\"Time taken for z-ordered table: {query_time} seconds\")"
   ]
  },
  {
   "cell_type": "code",
   "execution_count": 38,
   "id": "d9ed8894-8451-484f-96c4-61d0c2a0b66b",
   "metadata": {},
   "outputs": [],
   "source": [
    "spark.stop()  # Spark 세션 종료 - 리소스 정리"
   ]
  },
  {
   "cell_type": "code",
   "execution_count": null,
   "id": "7d4498a8-94d1-42af-a563-539be6266ddc",
   "metadata": {},
   "outputs": [],
   "source": []
  }
 ],
 "metadata": {
  "kernelspec": {
   "display_name": "Python 3 (ipykernel)",
   "language": "python",
   "name": "python3"
  },
  "language_info": {
   "codemirror_mode": {
    "name": "ipython",
    "version": 3
   },
   "file_extension": ".py",
   "mimetype": "text/x-python",
   "name": "python",
   "nbconvert_exporter": "python",
   "pygments_lexer": "ipython3",
   "version": "3.10.12"
  }
 },
 "nbformat": 4,
 "nbformat_minor": 5
}